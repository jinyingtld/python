{
  "nbformat": 4,
  "nbformat_minor": 0,
  "metadata": {
    "colab": {
      "name": "AI6103_tutorial.ipynb",
      "provenance": [],
      "authorship_tag": "ABX9TyNCTq/azaE7Rwrm5rQ2G7G6",
      "include_colab_link": true
    },
    "kernelspec": {
      "name": "python3",
      "display_name": "Python 3"
    },
    "language_info": {
      "name": "python"
    }
  },
  "cells": [
    {
      "cell_type": "markdown",
      "metadata": {
        "id": "view-in-github",
        "colab_type": "text"
      },
      "source": [
        "<a href=\"https://colab.research.google.com/github/jinyingtld/python/blob/main/AI6103_tutorial.ipynb\" target=\"_parent\"><img src=\"https://colab.research.google.com/assets/colab-badge.svg\" alt=\"Open In Colab\"/></a>"
      ]
    },
    {
      "cell_type": "code",
      "source": [
        "from google.colab import drive \n",
        "drive.mount('/content/drive')\n",
        "\n",
        "import os\n",
        "\n",
        "os.chdir(r'/content/drive/MyDrive/NTU_Course/AI6103/Python Examples/Logistic Regression Colab/')"
      ],
      "metadata": {
        "colab": {
          "base_uri": "https://localhost:8080/"
        },
        "id": "r6uer8jUHgGo",
        "outputId": "57cb1d2f-cdf8-4094-824f-e8fedb18dc16"
      },
      "execution_count": 2,
      "outputs": [
        {
          "output_type": "stream",
          "name": "stdout",
          "text": [
            "Mounted at /content/drive\n"
          ]
        }
      ]
    },
    {
      "cell_type": "code",
      "execution_count": 17,
      "metadata": {
        "id": "MUBs5tV1GXJu"
      },
      "outputs": [],
      "source": [
        "# uci.py\n",
        "\n",
        "import numpy as np\n",
        "import pandas as pd\n",
        "\n",
        "def iris():\n",
        "    path = 'datasets/iris.csv'\n",
        "    names = ['sepal_length', 'sepal_width', 'petal_length', 'petal_width', 'label']\n",
        "    df = pd.read_csv(path, names=names,index_col=False)\n",
        "    df = df.replace(['Iris-setosa', 'Iris-versicolor', 'Iris-virginica'],[0,1,2]).values\n",
        "    x = df[:, :4].astype(np.float16)\n",
        "    y = df[:, 4].astype(np.uint8)\n",
        "\n",
        "    return x, y\n",
        "\n",
        "def adult():\n",
        "    path = 'datasets/adult.csv'\n",
        "    names = ['age', 'workclass', 'fnlwgt', 'education', 'education-num', 'marital-status', 'occupation', 'relationship',\n",
        "             'race', 'sex', 'capital-gain', 'capital-loss', 'hours-per-week', 'native-country', 'label']\n",
        "    df = pd.read_csv(path, names=names, index_col=False)\n",
        "    df = df.applymap(lambda x: x.strip() if type(x) is str else x)\n",
        "\n",
        "    for col in df:\n",
        "        if df[col].dtype == 'object':\n",
        "            df = df[df[col] != '?']\n",
        "\n",
        "    replace = [\n",
        "        ['Private', 'Self-emp-not-inc', 'Self-emp-inc', 'Federal-gov', 'Local-gov', 'State-gov', 'Without-pay',\n",
        "         'Never-worked'],\n",
        "        ['Bachelors', 'Some-college', '11th', 'HS-grad', 'Prof-school', 'Assoc-acdm', 'Assoc-voc', '9th', '7th-8th',\n",
        "         '12th', 'Masters', '1st-4th', '10th', 'Doctorate', '5th-6th', 'Preschool'],\n",
        "        ['Married-civ-spouse', 'Divorced', 'Never-married', 'Separated', 'Widowed', 'Married-spouse-absent',\n",
        "         'Married-AF-spouse'],\n",
        "        ['Tech-support', 'Craft-repair', 'Other-service', 'Sales', 'Exec-managerial', 'Prof-specialty',\n",
        "         'Handlers-cleaners', 'Machine-op-inspct', 'Adm-clerical', 'Farming-fishing', 'Transport-moving',\n",
        "         'Priv-house-serv', 'Protective-serv', 'Armed-Forces'],\n",
        "        ['Wife', 'Own-child', 'Husband', 'Not-in-family', 'Other-relative', 'Unmarried'],\n",
        "        ['White', 'Asian-Pac-Islander', 'Amer-Indian-Eskimo', 'Other', 'Black'],\n",
        "        ['Female', 'Male'],\n",
        "        ['United-States', 'Cambodia', 'England', 'Puerto-Rico', 'Canada', 'Germany', 'Outlying-US(Guam-USVI-etc)',\n",
        "         'India', 'Japan', 'Greece', 'South', 'China', 'Cuba', 'Iran', 'Honduras', 'Philippines', 'Italy', 'Poland',\n",
        "         'Jamaica', 'Vietnam', 'Mexico', 'Portugal', 'Ireland', 'France', 'Dominican-Republic', 'Laos', 'Ecuador',\n",
        "         'Taiwan', 'Haiti', 'Columbia', 'Hungary', 'Guatemala', 'Nicaragua', 'Scotland', 'Thailand', 'Yugoslavia',\n",
        "         'El-Salvador', 'Trinadad&Tobago', 'Peru', 'Hong', 'Holand-Netherlands'],\n",
        "        ['>50K', '<=50K']\n",
        "    ]\n",
        "\n",
        "    for row in replace:\n",
        "        df = df.replace(row, range(len(row)))\n",
        "    \n",
        "    df = df.values\n",
        "    x = df[:, :14].astype(np.uint32)\n",
        "    y = df[:, 14].astype(np.uint8)\n",
        "\n",
        "    return x, y\n",
        "\n",
        "def wine():\n",
        "    path = 'datasets/wine.csv'\n",
        "    names = ['label', 'Alcohol', 'Malic acid', 'Ash', 'Alcalinity of ash', 'Magnesium', 'Total phenols', 'Flavanoids',\n",
        "             'Nonflavanoid phenols', 'Proanthocyanins', 'Color intensity', 'Hue', 'OD280/OD315 of diluted wines',\n",
        "             'Proline']\n",
        "    df = pd.read_csv(path, names=names, index_col=False).values\n",
        "    x = df[:, 1:].astype(np.float16)\n",
        "    y = df[:, 0].astype(np.uint8)\n",
        "\n",
        "    return x, y\n",
        "\n",
        "def car_eval():\n",
        "    path = 'datasets/car_eval.csv'\n",
        "    names = ['buying', 'maint', 'doors', 'persons', 'lug_boot', 'safety', 'label']\n",
        "    df = pd.read_csv(path, names=names, index_col=False)\n",
        "    replace = [\n",
        "        ['low', 'med', 'high', 'vhigh'],\n",
        "        ['small', 'med', 'big'],\n",
        "        ['low', 'med', 'high'],\n",
        "        ['unacc', 'acc', 'good', 'vgood']\n",
        "    ]\n",
        "\n",
        "    for row in replace:\n",
        "        df = df.replace(row, range(len(row)))\n",
        "\n",
        "    df = df.replace({'doors': {'5more': 5}, 'persons': {'more': 6}})\n",
        "    df.doors = df.doors.apply(lambda x: int(x) - 2)\n",
        "    df.persons = df.persons.apply(lambda x: (int(x) // 2) - 1)\n",
        "    df = df.values.astype(np.uint8)\n",
        "    X = df[:, :6]\n",
        "    y = df[:, 6]\n",
        "\n",
        "    return X, y\n"
      ]
    },
    {
      "cell_type": "code",
      "source": [
        "# iris()\n",
        "# adult()\n",
        "# wine()\n",
        "# car_eval()"
      ],
      "metadata": {
        "id": "A07sjEcNG_4m"
      },
      "execution_count": 19,
      "outputs": []
    },
    {
      "cell_type": "code",
      "source": [
        ""
      ],
      "metadata": {
        "id": "7cveyqcHJxcM"
      },
      "execution_count": null,
      "outputs": []
    }
  ]
}