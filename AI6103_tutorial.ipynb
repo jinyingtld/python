{
  "nbformat": 4,
  "nbformat_minor": 0,
  "metadata": {
    "colab": {
      "name": "AI6103_tutorial.ipynb",
      "provenance": [],
      "collapsed_sections": [],
      "authorship_tag": "ABX9TyPZimbZYHXNq57YBYn5n/Qm",
      "include_colab_link": true
    },
    "kernelspec": {
      "name": "python3",
      "display_name": "Python 3"
    },
    "language_info": {
      "name": "python"
    }
  },
  "cells": [
    {
      "cell_type": "markdown",
      "metadata": {
        "id": "view-in-github",
        "colab_type": "text"
      },
      "source": [
        "<a href=\"https://colab.research.google.com/github/jinyingtld/python/blob/main/AI6103_tutorial.ipynb\" target=\"_parent\"><img src=\"https://colab.research.google.com/assets/colab-badge.svg\" alt=\"Open In Colab\"/></a>"
      ]
    },
    {
      "cell_type": "markdown",
      "source": [
        "# Pythong Programming \n",
        "\n",
        "* Pythong is a dynamic-typed language \n",
        "\n",
        "    - No static type-checking\n",
        "\n",
        "    - Flexible,succinct,though less efficient and error-prone\n",
        "\n",
        "* Pythong has many numerical libraries \n",
        "\n",
        "    - They call highly efficient C/C++ libraries behind the curtain\n",
        "\n",
        "    - LAPACK,BLAS,etc.\n",
        "\n",
        "* Great support for deep learning\n",
        "\n",
        "    - PyTorch,Tensorflow,Jax,Peddle,etc\n"
      ],
      "metadata": {
        "id": "ogJuXS1endkf"
      }
    },
    {
      "cell_type": "markdown",
      "source": [
        "# Basic of a Programming Language\n",
        "* Basic syntax\n",
        "* Data types\n",
        "* Control structure\n",
        "* Exceptions\n",
        "* Threads\n",
        "* Performance"
      ],
      "metadata": {
        "id": "R9Qf9pL-nBBU"
      }
    },
    {
      "cell_type": "markdown",
      "source": [
        "# Basic Syntax\n",
        "\n",
        "* Indentation and colon mark code blocks\n",
        "* Space-based indentations and tab-based are different!\n",
        "* can be super hard to debug!\n",
        "```\n",
        "sum = 0 \n",
        "for i in range(10):\n",
        "    sum += i\n",
        "print(sum)\n",
        "\n",
        "  sum is printed only once!\n",
        "sum = 0 \n",
        "for i in range(10):\n",
        "    sum += i + i**2 + \\\\\n",
        "    i**3\n",
        "print(sum)\n",
        "\n",
        "```"
      ],
      "metadata": {
        "id": "F12A4-tNpRqQ"
      }
    },
    {
      "cell_type": "markdown",
      "source": [
        "# Basic Syntax\n",
        "* The return character marks end of line \n",
        "* To continue the same line of code, use the line continuation character \n",
        "\\'\\\\'\n",
        "* \\# is the beginning of a comment \n"
      ],
      "metadata": {
        "id": "HaKKGL8dt19B"
      }
    },
    {
      "cell_type": "markdown",
      "source": [
        "# Data Type \n",
        "* Integers have no limits on their value."
      ],
      "metadata": {
        "id": "ZsZkJVsPuctI"
      }
    },
    {
      "cell_type": "code",
      "execution_count": null,
      "metadata": {
        "colab": {
          "base_uri": "https://localhost:8080/"
        },
        "id": "C515xEWnmmQM",
        "outputId": "12a68303-e611-4e7c-806b-8916604bf7cc"
      },
      "outputs": [
        {
          "output_type": "execute_result",
          "data": {
            "text/plain": [
              "5541850949295918202405081540365965792972852977172558529301284205616899716558079354764343027580371566264227284283224328943216544902369965718411424586846692304538296607765149546800063770431101584710632766457476187127432980846740321915053107552729325604081860560805554161801453359513633683648277839933837013364541319950089537137346381263775423227192683614308120490424451247427541517608408025625601"
            ]
          },
          "metadata": {},
          "execution_count": 2
        }
      ],
      "source": [
        "num = 17 ** 320\n",
        "num"
      ]
    },
    {
      "cell_type": "markdown",
      "source": [
        "# Data Type\n",
        "* Integers have no limits on their value.\n",
        "* Floating point numbers, however, do have limits\n",
        "* 64-bit max approx $1.8 * 10^{308}$\n",
        "* 32-bit max approx $3.4 * 10^{38}$\n",
        "* 16-bit max approx $65,504$\n",
        "\n",
        "***Danger of overflow and underflow during mixed precision training***\n",
        "\n",
        "GPU - 32 bit"
      ],
      "metadata": {
        "id": "eBFmFcrhuwVd"
      }
    },
    {
      "cell_type": "markdown",
      "source": [
        "* Linked lists are first-class citizens"
      ],
      "metadata": {
        "id": "YDPxjRDJv6t1"
      }
    },
    {
      "cell_type": "code",
      "source": [
        "nl = list()\n",
        "nl.append(3)\n",
        "nl.append(\"hello\")\n",
        "nl.append(8.1)\n",
        "nl\n",
        "# [3, 'hello', 8.1]\n",
        "\n",
        "nl = []\n",
        "nl = [3,0.2]\n",
        "nl\n",
        "# [3, 0.2]"
      ],
      "metadata": {
        "colab": {
          "base_uri": "https://localhost:8080/"
        },
        "id": "q9Z7HucKv-UA",
        "outputId": "8f895d53-80a9-4443-d22c-93310f4b9f9b"
      },
      "execution_count": null,
      "outputs": [
        {
          "output_type": "execute_result",
          "data": {
            "text/plain": [
              "[3, 0.2]"
            ]
          },
          "metadata": {},
          "execution_count": 6
        }
      ]
    },
    {
      "cell_type": "markdown",
      "source": [
        "* Objects are not encapsulated.\n",
        "* Pythong does not have the private keyword.\n",
        "* Based on convention, anything that starts with two underscores are private."
      ],
      "metadata": {
        "id": "RIAokcahwTcf"
      }
    },
    {
      "cell_type": "code",
      "source": [
        "class Robot(object):\n",
        "    def __init__(self):\n",
        "        self.a = 123\n",
        "        self._b = 223\n",
        "        self.__c = 323\n",
        "    \n",
        "obj = Robot()\n",
        "print(obj.a)\n",
        "print(obj._b)\n",
        "# print(obj.__c)\n",
        "# 123\n",
        "# 223\n",
        "# ---------------------------------------------------------------------------\n",
        "# AttributeError                            Traceback (most recent call last)\n",
        "# <ipython-input-9-c06c18ac550e> in <module>()\n",
        "#       8 print(obj.a)\n",
        "#       9 print(obj._b)\n",
        "# ---> 10 print(obj.__c)\n",
        "\n",
        "# AttributeError: 'Robot' object has no attribute '__c'\n",
        "\n",
        "print(obj.__dict__['_Robot__c'])\n",
        "# 323\n",
        "obj.__dict__ # does allow for hacks\n",
        "# {'_Robot__c': 323, '_b': 223, 'a': 123}\n"
      ],
      "metadata": {
        "colab": {
          "base_uri": "https://localhost:8080/"
        },
        "id": "a5pIpfJdwg2d",
        "outputId": "49779a45-2d2a-424e-d070-7e0271236304"
      },
      "execution_count": null,
      "outputs": [
        {
          "output_type": "stream",
          "name": "stdout",
          "text": [
            "123\n",
            "223\n",
            "323\n"
          ]
        },
        {
          "output_type": "execute_result",
          "data": {
            "text/plain": [
              "{'_Robot__c': 323, '_b': 223, 'a': 123}"
            ]
          },
          "metadata": {},
          "execution_count": 11
        }
      ]
    },
    {
      "cell_type": "markdown",
      "source": [
        "# Functions \n",
        "* Pythong has some aspects of a functional language\n",
        "    - You can assign a functional to a variable"
      ],
      "metadata": {
        "id": "0uiOU-tTxjGQ"
      }
    },
    {
      "cell_type": "code",
      "source": [
        "def addone(x):\n",
        "    return x+1\n",
        "\n",
        "def addtwo(x):\n",
        "    return x+2\n",
        "\n",
        "f = addone\n",
        "print(f(1)) # result is 2\n",
        "f = addtwo\n",
        "print(f(1)) # result is 3"
      ],
      "metadata": {
        "colab": {
          "base_uri": "https://localhost:8080/"
        },
        "id": "pLGPtWUsxuDf",
        "outputId": "9b4be1f2-322c-4a6b-f20e-f86ce5495751"
      },
      "execution_count": null,
      "outputs": [
        {
          "output_type": "stream",
          "name": "stdout",
          "text": [
            "2\n",
            "3\n"
          ]
        }
      ]
    },
    {
      "cell_type": "markdown",
      "source": [
        "# Functions \n",
        "* Pythong has some aspects of a functional language\n",
        "    - You can assign a functional to a variable\n",
        "    - Python provides higher-order functions like Lisp\n",
        "        - map(),filter(),reduce(),etc."
      ],
      "metadata": {
        "id": "l3nDFWH2yGzo"
      }
    },
    {
      "cell_type": "code",
      "source": [
        "import functools \n",
        "def add_one_more(x,y):\n",
        "    return x+y+1\n",
        "\n",
        "f = functools.partial(add_one_more,1)\n",
        "# this creates a partial function whose first argument is known but the second is not. \n",
        "print(f(2)) # result is 1+2+2=4\n"
      ],
      "metadata": {
        "colab": {
          "base_uri": "https://localhost:8080/"
        },
        "id": "RCKacvaRyXIq",
        "outputId": "9f46e692-c128-4bfd-a773-257b19809c42"
      },
      "execution_count": null,
      "outputs": [
        {
          "output_type": "stream",
          "name": "stdout",
          "text": [
            "4\n"
          ]
        }
      ]
    },
    {
      "cell_type": "code",
      "source": [
        "def add_one(x):\n",
        "    return x+1\n",
        "l1 = [1,2,3,4]\n",
        "l2 = list(map(add_one,l1))\n",
        "print(l2)\n",
        "l3 = [add_one(x) for x in l1]\n",
        "\n",
        "# thw two results are the same but many prefer the second style"
      ],
      "metadata": {
        "colab": {
          "base_uri": "https://localhost:8080/"
        },
        "id": "wCnAZHs9zNFH",
        "outputId": "e552dca8-5714-4983-cbf3-53e0014eb094"
      },
      "execution_count": null,
      "outputs": [
        {
          "output_type": "stream",
          "name": "stdout",
          "text": [
            "[2, 3, 4, 5]\n"
          ]
        }
      ]
    },
    {
      "cell_type": "markdown",
      "source": [
        "# Multi-threading \n",
        "* You can create multiple threads in Python but they don't work as you expect.\n",
        "* The Global Interpreter Lock (GIL) ensures that only one thread is executing at a time.\n",
        "* It is created as a simple fix for thread safety. \n",
        "* Multi-threading leads to well-known problems of race conditions and dead locks\n",
        "* Python chose a simple solution: get rid of multi-threading\n",
        "* Today, there is just too much path dependency to do anything about it.\n",
        "\n",
        "# Multi-processing \n",
        "* We can circumvent the GIL by using the multiprocessing package of Python. \n",
        "* A process has more overhead than a thread.\n",
        "* All multi-threading problems, like race conditions and deadlocks,still need to be handled by the programmer.\n",
        "* Those problems are inherent to any memory-sharing programs running in parallel. \n",
        "* Don't over-simplify problems.\n",
        "\n",
        "# Pferformance \n",
        "\n",
        "# Numpy \n",
        "\n",
        "# Other Useful Pythong Packages\n",
        "* MatPlotlib\n",
        "    - A library for drawing diagrams in Python \n",
        "    - Visualization of any data.\n",
        "    - Extremely customizable, if slightly steeper learning curve than Excel\n",
        "\n",
        "* Scipy \n",
        "    - Scientific computing.\n",
        "        \n",
        "        Complementary to Numpy \n",
        "* Tensorboard\n",
        "    - Visualization for the training of neural networks\n",
        "\n",
        "# Package Managerment \n",
        "* The purpose of package management is to avoid version conflicts \n",
        "* Pip + virtualenv \n",
        "    - Does not achieve complete isolation between virtual environments\n",
        "* Conda\n",
        "    - Strong isolation\n",
        "    - Provides an online repo of packages\n",
        "    - Highly recommended \n",
        "\n",
        "# Numpy Arrays\n",
        "* A central data structure in Numpy for vectors, matrices, and tensors.\n",
        "* All data in one array have to be the same type.\n",
        "* More on data types: https://numpy.org/doc/stable/reference/arrays.dtypes.html\n"
      ],
      "metadata": {
        "id": "BRt1Uj1jzmyR"
      }
    }
  ]
}