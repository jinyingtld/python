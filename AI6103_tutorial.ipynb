{
  "nbformat": 4,
  "nbformat_minor": 0,
  "metadata": {
    "colab": {
      "name": "AI6103_tutorial.ipynb",
      "provenance": [],
      "collapsed_sections": [],
      "authorship_tag": "ABX9TyO9wN/cvi4sHLS2Ocvn3EeX",
      "include_colab_link": true
    },
    "kernelspec": {
      "name": "python3",
      "display_name": "Python 3"
    },
    "language_info": {
      "name": "python"
    }
  },
  "cells": [
    {
      "cell_type": "markdown",
      "metadata": {
        "id": "view-in-github",
        "colab_type": "text"
      },
      "source": [
        "<a href=\"https://colab.research.google.com/github/jinyingtld/python/blob/main/AI6103_tutorial.ipynb\" target=\"_parent\"><img src=\"https://colab.research.google.com/assets/colab-badge.svg\" alt=\"Open In Colab\"/></a>"
      ]
    },
    {
      "cell_type": "markdown",
      "source": [
        "# Pythong Programming \n",
        "\n",
        "* Pythong is a dynamic-typed language \n",
        "\n",
        "    - No static type-checking\n",
        "\n",
        "    - Flexible,succinct,though less efficient and error-prone\n",
        "\n",
        "* Pythong has many numerical libraries \n",
        "\n",
        "    - They call highly efficient C/C++ libraries behind the curtain\n",
        "\n",
        "    - LAPACK,BLAS,etc.\n",
        "\n",
        "* Great support for deep learning\n",
        "\n",
        "    - PyTorch,Tensorflow,Jax,Peddle,etc\n"
      ],
      "metadata": {
        "id": "ogJuXS1endkf"
      }
    },
    {
      "cell_type": "markdown",
      "source": [
        "# Basic of a Programming Language\n",
        "* Basic syntax\n",
        "* Data types\n",
        "* Control structure\n",
        "* Exceptions\n",
        "* Threads\n",
        "* Performance"
      ],
      "metadata": {
        "id": "R9Qf9pL-nBBU"
      }
    },
    {
      "cell_type": "markdown",
      "source": [
        "# Basic Syntax\n",
        "\n",
        "* Indentation and colon mark code blocks\n",
        "* Space-based indentations and tab-based are different!\n",
        "* can be super hard to debug!\n",
        "```\n",
        "sum = 0 \n",
        "for i in range(10):\n",
        "    sum += i\n",
        "print(sum)\n",
        "\n",
        "  sum is printed only once!\n",
        "sum = 0 \n",
        "for i in range(10):\n",
        "    sum += i + i**2 + \\\\\n",
        "    i**3\n",
        "print(sum)\n",
        "\n",
        "```"
      ],
      "metadata": {
        "id": "F12A4-tNpRqQ"
      }
    },
    {
      "cell_type": "markdown",
      "source": [
        "# Basic Syntax\n",
        "* The return character marks end of line \n",
        "* To continue the same line of code, use the line continuation character \n",
        "\\'\\\\'\n",
        "* \\# is the beginning of a comment \n"
      ],
      "metadata": {
        "id": "HaKKGL8dt19B"
      }
    },
    {
      "cell_type": "markdown",
      "source": [
        "# Data Type \n",
        "* Integers have no limits on their value."
      ],
      "metadata": {
        "id": "ZsZkJVsPuctI"
      }
    },
    {
      "cell_type": "code",
      "execution_count": null,
      "metadata": {
        "colab": {
          "base_uri": "https://localhost:8080/"
        },
        "id": "C515xEWnmmQM",
        "outputId": "12a68303-e611-4e7c-806b-8916604bf7cc"
      },
      "outputs": [
        {
          "output_type": "execute_result",
          "data": {
            "text/plain": [
              "5541850949295918202405081540365965792972852977172558529301284205616899716558079354764343027580371566264227284283224328943216544902369965718411424586846692304538296607765149546800063770431101584710632766457476187127432980846740321915053107552729325604081860560805554161801453359513633683648277839933837013364541319950089537137346381263775423227192683614308120490424451247427541517608408025625601"
            ]
          },
          "metadata": {},
          "execution_count": 2
        }
      ],
      "source": [
        "num = 17 ** 320\n",
        "num"
      ]
    },
    {
      "cell_type": "markdown",
      "source": [
        "# Data Type\n",
        "* Integers have no limits on their value.\n",
        "* Floating point numbers, however, do have limits\n",
        "* 64-bit max approx $1.8 * 10^{308}$\n",
        "* 32-bit max approx $3.4 * 10^{38}$\n",
        "* 16-bit max approx $65,504$\n",
        "\n",
        "***Danger of overflow and underflow during mixed precision training***\n",
        "\n",
        "GPU - 32 bit"
      ],
      "metadata": {
        "id": "eBFmFcrhuwVd"
      }
    },
    {
      "cell_type": "markdown",
      "source": [
        "* Linked lists are first-class citizens"
      ],
      "metadata": {
        "id": "YDPxjRDJv6t1"
      }
    },
    {
      "cell_type": "code",
      "source": [
        "nl = list()\n",
        "nl.append(3)\n",
        "nl.append(\"hello\")\n",
        "nl.append(8.1)\n",
        "nl\n",
        "# [3, 'hello', 8.1]\n",
        "\n",
        "nl = []\n",
        "nl = [3,0.2]\n",
        "nl\n",
        "# [3, 0.2]"
      ],
      "metadata": {
        "colab": {
          "base_uri": "https://localhost:8080/"
        },
        "id": "q9Z7HucKv-UA",
        "outputId": "8f895d53-80a9-4443-d22c-93310f4b9f9b"
      },
      "execution_count": null,
      "outputs": [
        {
          "output_type": "execute_result",
          "data": {
            "text/plain": [
              "[3, 0.2]"
            ]
          },
          "metadata": {},
          "execution_count": 6
        }
      ]
    },
    {
      "cell_type": "markdown",
      "source": [
        "* Objects are not encapsulated.\n",
        "* Pythong does not have the private keyword.\n",
        "* Based on convention, anything that starts with two underscores are private."
      ],
      "metadata": {
        "id": "RIAokcahwTcf"
      }
    },
    {
      "cell_type": "code",
      "source": [
        "class Robot(object):\n",
        "    def __init__(self):\n",
        "        self.a = 123\n",
        "        self._b = 223\n",
        "        self.__c = 323\n",
        "    \n",
        "obj = Robot()\n",
        "print(obj.a)\n",
        "print(obj._b)\n",
        "# print(obj.__c)\n",
        "# 123\n",
        "# 223\n",
        "# ---------------------------------------------------------------------------\n",
        "# AttributeError                            Traceback (most recent call last)\n",
        "# <ipython-input-9-c06c18ac550e> in <module>()\n",
        "#       8 print(obj.a)\n",
        "#       9 print(obj._b)\n",
        "# ---> 10 print(obj.__c)\n",
        "\n",
        "# AttributeError: 'Robot' object has no attribute '__c'\n",
        "\n",
        "print(obj.__dict__['_Robot__c'])\n",
        "# 323\n",
        "obj.__dict__ # does allow for hacks\n",
        "# {'_Robot__c': 323, '_b': 223, 'a': 123}\n"
      ],
      "metadata": {
        "colab": {
          "base_uri": "https://localhost:8080/"
        },
        "id": "a5pIpfJdwg2d",
        "outputId": "49779a45-2d2a-424e-d070-7e0271236304"
      },
      "execution_count": null,
      "outputs": [
        {
          "output_type": "stream",
          "name": "stdout",
          "text": [
            "123\n",
            "223\n",
            "323\n"
          ]
        },
        {
          "output_type": "execute_result",
          "data": {
            "text/plain": [
              "{'_Robot__c': 323, '_b': 223, 'a': 123}"
            ]
          },
          "metadata": {},
          "execution_count": 11
        }
      ]
    },
    {
      "cell_type": "markdown",
      "source": [
        "# Functions \n",
        "* Pythong has some aspects of a functional language\n",
        "    - You can assign a functional to a variable"
      ],
      "metadata": {
        "id": "0uiOU-tTxjGQ"
      }
    },
    {
      "cell_type": "code",
      "source": [
        "def addone(x):\n",
        "    return x+1\n",
        "\n",
        "def addtwo(x):\n",
        "    return x+2\n",
        "\n",
        "f = addone\n",
        "print(f(1)) # result is 2\n",
        "f = addtwo\n",
        "print(f(1)) # result is 3"
      ],
      "metadata": {
        "colab": {
          "base_uri": "https://localhost:8080/"
        },
        "id": "pLGPtWUsxuDf",
        "outputId": "9b4be1f2-322c-4a6b-f20e-f86ce5495751"
      },
      "execution_count": null,
      "outputs": [
        {
          "output_type": "stream",
          "name": "stdout",
          "text": [
            "2\n",
            "3\n"
          ]
        }
      ]
    },
    {
      "cell_type": "markdown",
      "source": [
        "# Functions \n",
        "* Pythong has some aspects of a functional language\n",
        "    - You can assign a functional to a variable\n",
        "    - Python provides higher-order functions like Lisp\n",
        "        - map(),filter(),reduce(),etc."
      ],
      "metadata": {
        "id": "l3nDFWH2yGzo"
      }
    },
    {
      "cell_type": "code",
      "source": [
        "import functools \n",
        "def add_one_more(x,y):\n",
        "    return x+y+1\n",
        "\n",
        "f = functools.partial(add_one_more,1)\n",
        "# this creates a partial function whose first argument is known but the second is not. \n",
        "print(f(2)) # result is 1+2+2=4\n"
      ],
      "metadata": {
        "colab": {
          "base_uri": "https://localhost:8080/"
        },
        "id": "RCKacvaRyXIq",
        "outputId": "9f46e692-c128-4bfd-a773-257b19809c42"
      },
      "execution_count": null,
      "outputs": [
        {
          "output_type": "stream",
          "name": "stdout",
          "text": [
            "4\n"
          ]
        }
      ]
    },
    {
      "cell_type": "code",
      "source": [
        "def add_one(x):\n",
        "    return x+1\n",
        "l1 = [1,2,3,4]\n",
        "l2 = list(map(add_one,l1))\n",
        "print(l2)\n",
        "l3 = [add_one(x) for x in l1]\n",
        "\n",
        "# thw two results are the same but many prefer the second style"
      ],
      "metadata": {
        "colab": {
          "base_uri": "https://localhost:8080/"
        },
        "id": "wCnAZHs9zNFH",
        "outputId": "e552dca8-5714-4983-cbf3-53e0014eb094"
      },
      "execution_count": null,
      "outputs": [
        {
          "output_type": "stream",
          "name": "stdout",
          "text": [
            "[2, 3, 4, 5]\n"
          ]
        }
      ]
    },
    {
      "cell_type": "markdown",
      "source": [
        "# Multi-threading \n",
        "* You can create multiple threads in Python but they don't work as you expect.\n",
        "* The Global Interpreter Lock (GIL) ensures that only one thread is executing at a time.\n",
        "* It is created as a simple fix for thread safety. \n",
        "* Multi-threading leads to well-known problems of race conditions and dead locks\n",
        "* Python chose a simple solution: get rid of multi-threading\n",
        "* Today, there is just too much path dependency to do anything about it.\n",
        "\n",
        "# Multi-processing \n",
        "* We can circumvent the GIL by using the multiprocessing package of Python. \n",
        "* A process has more overhead than a thread.\n",
        "* All multi-threading problems, like race conditions and deadlocks,still need to be handled by the programmer.\n",
        "* Those problems are inherent to any memory-sharing programs running in parallel. \n",
        "* Don't over-simplify problems.\n",
        "\n",
        "# Pferformance \n",
        "\n",
        "# Numpy \n",
        "\n",
        "# Other Useful Pythong Packages\n",
        "* MatPlotlib\n",
        "    - A library for drawing diagrams in Python \n",
        "    - Visualization of any data.\n",
        "    - Extremely customizable, if slightly steeper learning curve than Excel\n",
        "\n",
        "* Scipy \n",
        "    - Scientific computing.\n",
        "        \n",
        "        Complementary to Numpy \n",
        "* Tensorboard\n",
        "    - Visualization for the training of neural networks\n",
        "\n",
        "# Package Managerment \n",
        "* The purpose of package management is to avoid version conflicts \n",
        "* Pip + virtualenv \n",
        "    - Does not achieve complete isolation between virtual environments\n",
        "* Conda\n",
        "    - Strong isolation\n",
        "    - Provides an online repo of packages\n",
        "    - Highly recommended \n",
        "\n",
        "# Numpy Arrays\n",
        "* A central data structure in Numpy for vectors, matrices, and tensors.\n",
        "* All data in one array have to be the same type.\n",
        "* More on data types: https://numpy.org/doc/stable/reference/arrays.dtypes.html\n"
      ],
      "metadata": {
        "id": "BRt1Uj1jzmyR"
      }
    },
    {
      "cell_type": "markdown",
      "source": [
        "# Creation of Arrays"
      ],
      "metadata": {
        "id": "UkVHdXJgH4Vn"
      }
    },
    {
      "cell_type": "code",
      "source": [
        "import numpy as np \n",
        "def print_np_details(arr, name):\n",
        "    print('array', name)\n",
        "    print(arr)\n",
        "    print('python type= ', arr.astype)\n",
        "    print(\"numpy data type= \", arr.dtype)\n",
        "    print(\"shape = \", arr.shape)\n"
      ],
      "metadata": {
        "id": "4-dGGdeoH1q3"
      },
      "execution_count": 1,
      "outputs": []
    },
    {
      "cell_type": "code",
      "source": [
        "# import numpy as np \n",
        "a1D = np.array([1, 2, 3, 4]) # this creates a numpy.ndarray object from a Python list\n",
        "print_np_details(a1D, \"a1D\")"
      ],
      "metadata": {
        "id": "dLjG9hc_JFyB",
        "outputId": "4c9dc67e-7310-4e04-cb07-ed9332601a0c",
        "colab": {
          "base_uri": "https://localhost:8080/"
        }
      },
      "execution_count": 3,
      "outputs": [
        {
          "output_type": "stream",
          "name": "stdout",
          "text": [
            "array a1D\n",
            "[1 2 3 4]\n",
            "python type=  <built-in method astype of numpy.ndarray object at 0x7fe06a871f30>\n",
            "numpy data type=  int64\n",
            "shape =  (4,)\n"
          ]
        }
      ]
    },
    {
      "cell_type": "code",
      "source": [
        "# this creates a 2d array \n",
        "a2D = np.array([[1, 2, 3, 4], [5, 6, 7, 8]])\n",
        "print_np_details(a2D, \"a2D\")"
      ],
      "metadata": {
        "id": "x5Wz5vaYJ647",
        "outputId": "005253e1-e41f-4e76-8f5e-83c4b1249666",
        "colab": {
          "base_uri": "https://localhost:8080/"
        }
      },
      "execution_count": 5,
      "outputs": [
        {
          "output_type": "stream",
          "name": "stdout",
          "text": [
            "array a2D\n",
            "[[1 2 3 4]\n",
            " [5 6 7 8]]\n",
            "python type=  <built-in method astype of numpy.ndarray object at 0x7fe06a80e760>\n",
            "numpy data type=  int64\n",
            "shape =  (2, 4)\n"
          ]
        }
      ]
    },
    {
      "cell_type": "code",
      "source": [
        "# specify the type of the array\n",
        "a = np.array([127, 128, 129], dtype=np.int8)\n",
        "# 8-bit integer represents value from -128 to 127\n",
        "print_np_details(a, \"a\")"
      ],
      "metadata": {
        "id": "AM7T8SoVKLYV",
        "outputId": "3dd68f81-b58f-4a16-f5b6-32bc8ee27951",
        "colab": {
          "base_uri": "https://localhost:8080/"
        }
      },
      "execution_count": 6,
      "outputs": [
        {
          "output_type": "stream",
          "name": "stdout",
          "text": [
            "array a\n",
            "[ 127 -128 -127]\n",
            "python type=  <built-in method astype of numpy.ndarray object at 0x7fe06a778d00>\n",
            "numpy data type=  int8\n",
            "shape =  (3,)\n"
          ]
        }
      ]
    },
    {
      "cell_type": "code",
      "source": [
        "# setting the data type to unsigned int \n",
        "a = np.array([127, 128, 129, 256], dtype=np.uint8)\n",
        "# 8-bit unsigned integer represents value from 0 to 255\n",
        "print_np_details(a, \"a\")"
      ],
      "metadata": {
        "id": "eg_SuQGKKhXg",
        "outputId": "8edc3c29-bb82-4836-cb80-5a87c8a6c07c",
        "colab": {
          "base_uri": "https://localhost:8080/"
        }
      },
      "execution_count": 7,
      "outputs": [
        {
          "output_type": "stream",
          "name": "stdout",
          "text": [
            "array a\n",
            "[127 128 129   0]\n",
            "python type=  <built-in method astype of numpy.ndarray object at 0x7fe06a81e850>\n",
            "numpy data type=  uint8\n",
            "shape =  (4,)\n"
          ]
        }
      ]
    },
    {
      "cell_type": "code",
      "source": [
        "# setting the data type to 16-bit int \n",
        "a = np.array([127, 128, 129, 255], dtype=np.int16)\n",
        "print_np_details(a, \"a\")\n",
        "\n",
        "#setting the data type to 32-bit float\n",
        "b = np.array([127, 128, 129, 255], dtype=np.float32) \n",
        "print_np_details(b, \"b\")"
      ],
      "metadata": {
        "id": "lQiUnJMdOdNf",
        "outputId": "34a5f3c3-da82-4d6d-e1cf-a517dea753cf",
        "colab": {
          "base_uri": "https://localhost:8080/"
        }
      },
      "execution_count": 8,
      "outputs": [
        {
          "output_type": "stream",
          "name": "stdout",
          "text": [
            "array a\n",
            "[127 128 129 255]\n",
            "python type=  <built-in method astype of numpy.ndarray object at 0x7fe06a7e83a0>\n",
            "numpy data type=  int16\n",
            "shape =  (4,)\n",
            "array b\n",
            "[127. 128. 129. 255.]\n",
            "python type=  <built-in method astype of numpy.ndarray object at 0x7fe06a7aa710>\n",
            "numpy data type=  float32\n",
            "shape =  (4,)\n"
          ]
        }
      ]
    },
    {
      "cell_type": "code",
      "source": [
        "# zero matrix \n",
        "a = np.zeros((2,3))\n",
        "print_np_details(a, \"a\")\n",
        "\n",
        "b = np.zeros((2,3), dtype=np.int16)\n",
        "print_np_details(b, \"b\")"
      ],
      "metadata": {
        "id": "SvbbM94mO4Ux",
        "outputId": "1c639889-9cc9-45b6-fbe4-79c9d7a713b8",
        "colab": {
          "base_uri": "https://localhost:8080/"
        }
      },
      "execution_count": 10,
      "outputs": [
        {
          "output_type": "stream",
          "name": "stdout",
          "text": [
            "array a\n",
            "[[0. 0. 0.]\n",
            " [0. 0. 0.]]\n",
            "python type=  <built-in method astype of numpy.ndarray object at 0x7fe06a73be40>\n",
            "numpy data type=  float64\n",
            "shape =  (2, 3)\n",
            "array b\n",
            "[[0 0 0]\n",
            " [0 0 0]]\n",
            "python type=  <built-in method astype of numpy.ndarray object at 0x7fe06a73bad0>\n",
            "numpy data type=  int16\n",
            "shape =  (2, 3)\n"
          ]
        }
      ]
    },
    {
      "cell_type": "code",
      "source": [
        "# one matrix\n",
        "a = np.ones((3, 5))\n",
        "print(a)\n",
        "\n",
        "# identity matrix\n",
        "a = np.eye(4)\n",
        "print(a)"
      ],
      "metadata": {
        "id": "OGkPbtsu11Ag",
        "outputId": "dd838124-5e7b-487b-b50c-935f7339f13b",
        "colab": {
          "base_uri": "https://localhost:8080/"
        }
      },
      "execution_count": 11,
      "outputs": [
        {
          "output_type": "stream",
          "name": "stdout",
          "text": [
            "[[1. 1. 1. 1. 1.]\n",
            " [1. 1. 1. 1. 1.]\n",
            " [1. 1. 1. 1. 1.]]\n",
            "[[1. 0. 0. 0.]\n",
            " [0. 1. 0. 0.]\n",
            " [0. 0. 1. 0.]\n",
            " [0. 0. 0. 1.]]\n"
          ]
        }
      ]
    },
    {
      "cell_type": "markdown",
      "source": [
        "# Slicing Arrays"
      ],
      "metadata": {
        "id": "7ZGjYTaL2fLd"
      }
    },
    {
      "cell_type": "code",
      "source": [
        "a = np.array([[1, 2, 3],[3, 4, 6.7],[5, 9.0, 5]])\n",
        "print(a)\n",
        "print(\"selecting the first row\")\n",
        "print(a[0, :]) # zero based indexing \n",
        "print(\"select the second column\")\n",
        "print(a[:, 1])\n",
        "print(\"selecting the second and the third columns\")\n",
        "print(a[:, 1:3])\n",
        "print(\"selecting the second and the third rows and the 3rd column\")\n",
        "print(a[1:3,2])\n",
        "print(\"selecting the entry a_{2,3}\")\n",
        "print(a[1,2])\n",
        "print(\"fancy indexing first row, and second row\")\n",
        "print(a[[1,2]])"
      ],
      "metadata": {
        "id": "nefzQVA12iB4",
        "outputId": "60bbf8fb-165a-44bf-9bad-925c9be9b737",
        "colab": {
          "base_uri": "https://localhost:8080/"
        }
      },
      "execution_count": 16,
      "outputs": [
        {
          "output_type": "stream",
          "name": "stdout",
          "text": [
            "[[1.  2.  3. ]\n",
            " [3.  4.  6.7]\n",
            " [5.  9.  5. ]]\n",
            "selecting the first row\n",
            "[1. 2. 3.]\n",
            "select the second column\n",
            "[2. 4. 9.]\n",
            "selecting the second and the third columns\n",
            "[[2.  3. ]\n",
            " [4.  6.7]\n",
            " [9.  5. ]]\n",
            "selecting the second and the third rows and the 3rd column\n",
            "[6.7 5. ]\n",
            "selecting the entry a_{2,3}\n",
            "6.7\n",
            "[[3.  4.  6.7]\n",
            " [5.  9.  5. ]]\n"
          ]
        }
      ]
    },
    {
      "cell_type": "code",
      "source": [
        "a = np.array([[1, 2, 3],[3, 4, 6.7],[5, 9.0, 5]])\n",
        "print(a)\n",
        "print(\"assigning values to the second and the third rows and the 3rd column\")\n",
        "a[1:3, 2] = np.array([0.1, 0.2])\n",
        "print(a)\n",
        "\n",
        "print(\"assigning values to the first rows\")\n",
        "a[0, :] = np.array([100, 200, 300])\n",
        "print(a)\n"
      ],
      "metadata": {
        "id": "Y5PSG0cf11EP",
        "outputId": "218b548c-f40b-4288-d1b7-9e279df98744",
        "colab": {
          "base_uri": "https://localhost:8080/"
        }
      },
      "execution_count": 18,
      "outputs": [
        {
          "output_type": "stream",
          "name": "stdout",
          "text": [
            "[[1.  2.  3. ]\n",
            " [3.  4.  6.7]\n",
            " [5.  9.  5. ]]\n",
            "assigning values to the second and the third rows and the 3rd column\n",
            "[[1.  2.  3. ]\n",
            " [3.  4.  0.1]\n",
            " [5.  9.  0.2]]\n",
            "assigning values to the first rows\n",
            "[[1.e+02 2.e+02 3.e+02]\n",
            " [3.e+00 4.e+00 1.e-01]\n",
            " [5.e+00 9.e+00 2.e-01]]\n"
          ]
        }
      ]
    },
    {
      "cell_type": "code",
      "source": [
        "a = np.array([[1, 2, 3],[3, 4, 6.7],[5, 9.0, 5]])\n",
        "print(\"selecting the diagonal\")\n",
        "print(np.diagonal(a))\n",
        "\n",
        "print(\"selecting the diagonal from the first and second row\")\n",
        "print(np.diagonal(a[0:2]))\n",
        "\n",
        "print(\"assign  a new diagonal to a\")\n",
        "print(np.fill_diagonal(a, np.array([-4, -5, -6])))\n",
        "print(a)"
      ],
      "metadata": {
        "id": "FO4YwpA_11H_",
        "outputId": "03180b14-6056-474c-d9e5-e4c405e5c096",
        "colab": {
          "base_uri": "https://localhost:8080/"
        }
      },
      "execution_count": 20,
      "outputs": [
        {
          "output_type": "stream",
          "name": "stdout",
          "text": [
            "selecting the diagonal\n",
            "[1. 4. 5.]\n",
            "selecting the diagonal from the first and second row\n",
            "[1. 4.]\n",
            "assign  a new diagonal to a\n",
            "None\n",
            "[[-4.   2.   3. ]\n",
            " [ 3.  -5.   6.7]\n",
            " [ 5.   9.  -6. ]]\n"
          ]
        }
      ]
    },
    {
      "cell_type": "markdown",
      "source": [
        "# Element-wise Operations"
      ],
      "metadata": {
        "id": "wCn68bRV6JMg"
      }
    },
    {
      "cell_type": "code",
      "source": [
        "a = np.array([1, 2, 3, 4])\n",
        "b = np.array([2, 6, 9, 12])\n",
        "print(\"element-wise addition\")\n",
        "print(a+0.2)\n",
        "print(\"element-wise multiplication\")\n",
        "print(a*2)\n",
        "print(\"element-wise division\")\n",
        "print(a/3)\n",
        "\n",
        "print(\"element-wise addition\")\n",
        "print(a+b)\n",
        "print(\"element-wise division\")\n",
        "print(a/b)\n"
      ],
      "metadata": {
        "id": "NosAdeq26Nhr",
        "outputId": "5abfe311-8c9b-42c0-cc4c-f3b5d785ddf5",
        "colab": {
          "base_uri": "https://localhost:8080/"
        }
      },
      "execution_count": 21,
      "outputs": [
        {
          "output_type": "stream",
          "name": "stdout",
          "text": [
            "element-wise addition\n",
            "[1.2 2.2 3.2 4.2]\n",
            "element-wise multiplication\n",
            "[2 4 6 8]\n",
            "element-wise division\n",
            "[0.33333333 0.66666667 1.         1.33333333]\n",
            "element-wise addition\n",
            "[ 3  8 12 16]\n",
            "element-wise division\n",
            "[0.5        0.33333333 0.33333333 0.33333333]\n"
          ]
        }
      ]
    },
    {
      "cell_type": "markdown",
      "source": [
        "# Broadcasting"
      ],
      "metadata": {
        "id": "otsIcQpc63iC"
      }
    },
    {
      "cell_type": "code",
      "source": [
        ""
      ],
      "metadata": {
        "id": "b3AecHp35gj2"
      },
      "execution_count": 18,
      "outputs": []
    },
    {
      "cell_type": "code",
      "source": [
        ""
      ],
      "metadata": {
        "id": "66xAgXIl5gmp"
      },
      "execution_count": 18,
      "outputs": []
    },
    {
      "cell_type": "code",
      "source": [
        ""
      ],
      "metadata": {
        "id": "2w6_8vSf5gpr"
      },
      "execution_count": null,
      "outputs": []
    }
  ]
}