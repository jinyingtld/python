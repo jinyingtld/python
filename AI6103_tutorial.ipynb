{
  "nbformat": 4,
  "nbformat_minor": 0,
  "metadata": {
    "colab": {
      "name": "AI6103_tutorial.ipynb",
      "provenance": [],
      "collapsed_sections": [],
      "authorship_tag": "ABX9TyOUh8g3gnRgF+8qJuqe4qK4",
      "include_colab_link": true
    },
    "kernelspec": {
      "name": "python3",
      "display_name": "Python 3"
    },
    "language_info": {
      "name": "python"
    },
    "accelerator": "GPU"
  },
  "cells": [
    {
      "cell_type": "markdown",
      "metadata": {
        "id": "view-in-github",
        "colab_type": "text"
      },
      "source": [
        "<a href=\"https://colab.research.google.com/github/jinyingtld/python/blob/main/AI6103_tutorial.ipynb\" target=\"_parent\"><img src=\"https://colab.research.google.com/assets/colab-badge.svg\" alt=\"Open In Colab\"/></a>"
      ]
    },
    {
      "cell_type": "code",
      "source": [
        "from google.colab import drive \n",
        "drive.mount('/content/drive')\n",
        "\n",
        "import os\n",
        "\n",
        "os.chdir(r'/content/drive/MyDrive/NTU_Course/AI6103/Python Examples/Logistic Regression Colab/')"
      ],
      "metadata": {
        "colab": {
          "base_uri": "https://localhost:8080/"
        },
        "id": "r6uer8jUHgGo",
        "outputId": "8803f12f-1ed6-4391-a306-d2a99cf6cb46"
      },
      "execution_count": 9,
      "outputs": [
        {
          "output_type": "stream",
          "name": "stdout",
          "text": [
            "Mounted at /content/drive\n"
          ]
        }
      ]
    },
    {
      "cell_type": "code",
      "execution_count": 8,
      "metadata": {
        "id": "MUBs5tV1GXJu"
      },
      "outputs": [],
      "source": [
        "# uci.py\n",
        "\n",
        "import numpy as np\n",
        "import pandas as pd\n",
        "\n",
        "def iris():\n",
        "    path = 'datasets/iris.csv'\n",
        "    names = ['sepal_length', 'sepal_width', 'petal_length', 'petal_width', 'label']\n",
        "    df = pd.read_csv(path, names=names,index_col=False)\n",
        "    df = df.replace(['Iris-setosa', 'Iris-versicolor', 'Iris-virginica'],[0,1,2]).values\n",
        "    x = df[:, :4].astype(np.float16)\n",
        "    y = df[:, 4].astype(np.uint8)\n",
        "\n",
        "    return x, y\n",
        "\n",
        "def adult():\n",
        "    path = 'datasets/adult.csv'\n",
        "    names = ['age', 'workclass', 'fnlwgt', 'education', 'education-num', 'marital-status', 'occupation', 'relationship',\n",
        "             'race', 'sex', 'capital-gain', 'capital-loss', 'hours-per-week', 'native-country', 'label']\n",
        "    df = pd.read_csv(path, names=names, index_col=False)\n",
        "    df = df.applymap(lambda x: x.strip() if type(x) is str else x)\n",
        "\n",
        "    for col in df:\n",
        "        if df[col].dtype == 'object':\n",
        "            df = df[df[col] != '?']\n",
        "\n",
        "    replace = [\n",
        "        ['Private', 'Self-emp-not-inc', 'Self-emp-inc', 'Federal-gov', 'Local-gov', 'State-gov', 'Without-pay',\n",
        "         'Never-worked'],\n",
        "        ['Bachelors', 'Some-college', '11th', 'HS-grad', 'Prof-school', 'Assoc-acdm', 'Assoc-voc', '9th', '7th-8th',\n",
        "         '12th', 'Masters', '1st-4th', '10th', 'Doctorate', '5th-6th', 'Preschool'],\n",
        "        ['Married-civ-spouse', 'Divorced', 'Never-married', 'Separated', 'Widowed', 'Married-spouse-absent',\n",
        "         'Married-AF-spouse'],\n",
        "        ['Tech-support', 'Craft-repair', 'Other-service', 'Sales', 'Exec-managerial', 'Prof-specialty',\n",
        "         'Handlers-cleaners', 'Machine-op-inspct', 'Adm-clerical', 'Farming-fishing', 'Transport-moving',\n",
        "         'Priv-house-serv', 'Protective-serv', 'Armed-Forces'],\n",
        "        ['Wife', 'Own-child', 'Husband', 'Not-in-family', 'Other-relative', 'Unmarried'],\n",
        "        ['White', 'Asian-Pac-Islander', 'Amer-Indian-Eskimo', 'Other', 'Black'],\n",
        "        ['Female', 'Male'],\n",
        "        ['United-States', 'Cambodia', 'England', 'Puerto-Rico', 'Canada', 'Germany', 'Outlying-US(Guam-USVI-etc)',\n",
        "         'India', 'Japan', 'Greece', 'South', 'China', 'Cuba', 'Iran', 'Honduras', 'Philippines', 'Italy', 'Poland',\n",
        "         'Jamaica', 'Vietnam', 'Mexico', 'Portugal', 'Ireland', 'France', 'Dominican-Republic', 'Laos', 'Ecuador',\n",
        "         'Taiwan', 'Haiti', 'Columbia', 'Hungary', 'Guatemala', 'Nicaragua', 'Scotland', 'Thailand', 'Yugoslavia',\n",
        "         'El-Salvador', 'Trinadad&Tobago', 'Peru', 'Hong', 'Holand-Netherlands'],\n",
        "        ['>50K', '<=50K']\n",
        "    ]\n",
        "\n",
        "    for row in replace:\n",
        "        df = df.replace(row, range(len(row)))\n",
        "    \n",
        "    df = df.values\n",
        "    x = df[:, :14].astype(np.uint32)\n",
        "    y = df[:, 14].astype(np.uint8)\n",
        "\n",
        "    return x, y\n",
        "\n",
        "def wine():\n",
        "    path = 'datasets/wine.csv'\n",
        "    names = ['label', 'Alcohol', 'Malic acid', 'Ash', 'Alcalinity of ash', 'Magnesium', 'Total phenols', 'Flavanoids',\n",
        "             'Nonflavanoid phenols', 'Proanthocyanins', 'Color intensity', 'Hue', 'OD280/OD315 of diluted wines',\n",
        "             'Proline']\n",
        "    df = pd.read_csv(path, names=names, index_col=False).values\n",
        "    x = df[:, 1:].astype(np.float16)\n",
        "    y = df[:, 0].astype(np.uint8)\n",
        "\n",
        "    return x, y\n",
        "\n",
        "def car_eval():\n",
        "    path = 'datasets/car_eval.csv'\n",
        "    names = ['buying', 'maint', 'doors', 'persons', 'lug_boot', 'safety', 'label']\n",
        "    df = pd.read_csv(path, names=names, index_col=False)\n",
        "    replace = [\n",
        "        ['low', 'med', 'high', 'vhigh'],\n",
        "        ['small', 'med', 'big'],\n",
        "        ['low', 'med', 'high'],\n",
        "        ['unacc', 'acc', 'good', 'vgood']\n",
        "    ]\n",
        "\n",
        "    for row in replace:\n",
        "        df = df.replace(row, range(len(row)))\n",
        "\n",
        "    df = df.replace({'doors': {'5more': 5}, 'persons': {'more': 6}})\n",
        "    df.doors = df.doors.apply(lambda x: int(x) - 2)\n",
        "    df.persons = df.persons.apply(lambda x: (int(x) // 2) - 1)\n",
        "    df = df.values.astype(np.uint8)\n",
        "    X = df[:, :6]\n",
        "    y = df[:, 6]\n",
        "\n",
        "    return X, y\n"
      ]
    },
    {
      "cell_type": "code",
      "source": [
        "# iris()\n",
        "# adult()\n",
        "# wine()\n",
        "# car_eval()"
      ],
      "metadata": {
        "id": "A07sjEcNG_4m"
      },
      "execution_count": 19,
      "outputs": []
    },
    {
      "cell_type": "markdown",
      "source": [
        "# Multi-class classification\n",
        "\n",
        "Softmax regression(aka multinomial logistic regresssion) is a generalisation of logistic regression that handles multi-class classification. when number of classes is 2, softmax regression reduces to logistic regression.\n",
        "\n",
        "## Softmax function \n",
        "$\\sigma(z) = \\frac{e^{z_i}}{\\sum_{j=1}^{K} e^{z_j}}$\n",
        "\n",
        "where $K$ is number of classes.\n",
        "\n",
        "\\\n",
        "\n",
        "<img src=\"https://miro.medium.com/max/4800/1*ReYpdIZ3ZSAPb2W8cJpkBg.jpeg\" alt=\"drawing\" width=\"300\"/>"
      ],
      "metadata": {
        "id": "xsJFc35BNuD7"
      }
    },
    {
      "cell_type": "markdown",
      "source": [
        "## UCI Datataset\n",
        "1. [Iris](https://archive.ics.uci.edu/ml/datasets/Iris): Classify into 3 classes based on 4 attributes; 150 examples.\n",
        "2. [Adult](https://archive.ics.uci.edu/ml/datasets/Adult): Classify whether income exceeds $50K/yr using 14 attributes; 48842 examples.\n",
        "3. [Wine](https://archive.ics.uci.edu/ml/datasets/Wine): Classify 3 different cultivars based on 13 attributes; 178 examples."
      ],
      "metadata": {
        "id": "s_oLlN6mNuWj"
      }
    },
    {
      "cell_type": "markdown",
      "source": [
        "## Content\n",
        "1. Import libraries\n",
        "2. Prepare dataset\n",
        "3. Training hyperparameters\n",
        "4. Dataloader\n",
        "4. Model\n",
        "5. Training\n",
        "6. Visualisation "
      ],
      "metadata": {
        "id": "9D8DXFH-Nusp"
      }
    },
    {
      "cell_type": "code",
      "source": [
        "from google.colab import drive \n",
        "drive.mount('/content/drive')\n",
        "# modify the following path accordingly\n",
        "%cd '/content/drive/MyDrive/NTU_Course/AI6103/Python Examples/Logistic Regression Colab/'\n",
        "%ls -lah './'\n",
        "%ls '/content/drive/MyDrive/NTU_Course/AI6103/Python Examples/Logistic Regression Colab/datasets'"
      ],
      "metadata": {
        "colab": {
          "base_uri": "https://localhost:8080/"
        },
        "id": "7cveyqcHJxcM",
        "outputId": "9f145b8f-1deb-4fc4-b537-ea4a4b53c029"
      },
      "execution_count": 20,
      "outputs": [
        {
          "output_type": "stream",
          "name": "stdout",
          "text": [
            "Drive already mounted at /content/drive; to attempt to forcibly remount, call drive.mount(\"/content/drive\", force_remount=True).\n",
            "/content/drive/MyDrive/NTU_Course/AI6103/Python Examples/Logistic Regression Colab\n",
            "total 72K\n",
            "drwx------ 2 root root 4.0K Sep  4 04:45 \u001b[0m\u001b[01;34mdatasets\u001b[0m/\n",
            "-rw------- 1 root root  64K Sep  4 04:42 LogisticRegression.ipynb\n",
            "-rw------- 1 root root 3.2K Sep  4 04:44 uci.py\n",
            "adult.csv  iris.csv  wine.csv\n"
          ]
        }
      ]
    },
    {
      "cell_type": "markdown",
      "source": [
        "# Import libraries"
      ],
      "metadata": {
        "id": "QmkAoEAJNu3b"
      }
    },
    {
      "cell_type": "code",
      "source": [
        "import pandas as pd \n",
        "import numpy as np\n",
        "import matplotlib.pyplot as plt \n",
        "from sklearn.preprocessing import StandardScaler\n",
        "from sklearn.model_selection import train_test_split\n",
        "import torch\n",
        "import torch.nn as nn\n",
        "from torch.utils.data import DataLoader, TensorDataset\n",
        "from uci import iris, adult, wine # these functions load the datasets as Pandas Dataframes\n",
        "%matplotlib inline\n"
      ],
      "metadata": {
        "id": "30CEtgSlQhSP"
      },
      "execution_count": 12,
      "outputs": []
    },
    {
      "cell_type": "markdown",
      "source": [
        "# Prepare dataset "
      ],
      "metadata": {
        "id": "gaf6LD2LRSGi"
      }
    },
    {
      "cell_type": "code",
      "source": [
        "# Dataset (choose from iris, adult or wine)\n",
        "dataset = 'iris'\n",
        "dataset_fn = {'iris': iris(), 'adult': adult(), 'wine': wine()}\n",
        "X, y, df = dataset_fn[dataset]\n",
        "\n",
        "df.head(n=10)"
      ],
      "metadata": {
        "colab": {
          "base_uri": "https://localhost:8080/",
          "height": 363
        },
        "id": "A1An_wpqRUsd",
        "outputId": "e74fa985-163a-4a9c-fcd3-9b424a1ab84c"
      },
      "execution_count": 13,
      "outputs": [
        {
          "output_type": "execute_result",
          "data": {
            "text/html": [
              "\n",
              "  <div id=\"df-b1870741-f144-4934-b563-58d2acc26fef\">\n",
              "    <div class=\"colab-df-container\">\n",
              "      <div>\n",
              "<style scoped>\n",
              "    .dataframe tbody tr th:only-of-type {\n",
              "        vertical-align: middle;\n",
              "    }\n",
              "\n",
              "    .dataframe tbody tr th {\n",
              "        vertical-align: top;\n",
              "    }\n",
              "\n",
              "    .dataframe thead th {\n",
              "        text-align: right;\n",
              "    }\n",
              "</style>\n",
              "<table border=\"1\" class=\"dataframe\">\n",
              "  <thead>\n",
              "    <tr style=\"text-align: right;\">\n",
              "      <th></th>\n",
              "      <th>sepal_length</th>\n",
              "      <th>sepal_width</th>\n",
              "      <th>petal_length</th>\n",
              "      <th>petal_width</th>\n",
              "      <th>label</th>\n",
              "    </tr>\n",
              "  </thead>\n",
              "  <tbody>\n",
              "    <tr>\n",
              "      <th>0</th>\n",
              "      <td>5.1</td>\n",
              "      <td>3.5</td>\n",
              "      <td>1.4</td>\n",
              "      <td>0.2</td>\n",
              "      <td>0</td>\n",
              "    </tr>\n",
              "    <tr>\n",
              "      <th>1</th>\n",
              "      <td>4.9</td>\n",
              "      <td>3.0</td>\n",
              "      <td>1.4</td>\n",
              "      <td>0.2</td>\n",
              "      <td>0</td>\n",
              "    </tr>\n",
              "    <tr>\n",
              "      <th>2</th>\n",
              "      <td>4.7</td>\n",
              "      <td>3.2</td>\n",
              "      <td>1.3</td>\n",
              "      <td>0.2</td>\n",
              "      <td>0</td>\n",
              "    </tr>\n",
              "    <tr>\n",
              "      <th>3</th>\n",
              "      <td>4.6</td>\n",
              "      <td>3.1</td>\n",
              "      <td>1.5</td>\n",
              "      <td>0.2</td>\n",
              "      <td>0</td>\n",
              "    </tr>\n",
              "    <tr>\n",
              "      <th>4</th>\n",
              "      <td>5.0</td>\n",
              "      <td>3.6</td>\n",
              "      <td>1.4</td>\n",
              "      <td>0.2</td>\n",
              "      <td>0</td>\n",
              "    </tr>\n",
              "    <tr>\n",
              "      <th>5</th>\n",
              "      <td>5.4</td>\n",
              "      <td>3.9</td>\n",
              "      <td>1.7</td>\n",
              "      <td>0.4</td>\n",
              "      <td>0</td>\n",
              "    </tr>\n",
              "    <tr>\n",
              "      <th>6</th>\n",
              "      <td>4.6</td>\n",
              "      <td>3.4</td>\n",
              "      <td>1.4</td>\n",
              "      <td>0.3</td>\n",
              "      <td>0</td>\n",
              "    </tr>\n",
              "    <tr>\n",
              "      <th>7</th>\n",
              "      <td>5.0</td>\n",
              "      <td>3.4</td>\n",
              "      <td>1.5</td>\n",
              "      <td>0.2</td>\n",
              "      <td>0</td>\n",
              "    </tr>\n",
              "    <tr>\n",
              "      <th>8</th>\n",
              "      <td>4.4</td>\n",
              "      <td>2.9</td>\n",
              "      <td>1.4</td>\n",
              "      <td>0.2</td>\n",
              "      <td>0</td>\n",
              "    </tr>\n",
              "    <tr>\n",
              "      <th>9</th>\n",
              "      <td>4.9</td>\n",
              "      <td>3.1</td>\n",
              "      <td>1.5</td>\n",
              "      <td>0.1</td>\n",
              "      <td>0</td>\n",
              "    </tr>\n",
              "  </tbody>\n",
              "</table>\n",
              "</div>\n",
              "      <button class=\"colab-df-convert\" onclick=\"convertToInteractive('df-b1870741-f144-4934-b563-58d2acc26fef')\"\n",
              "              title=\"Convert this dataframe to an interactive table.\"\n",
              "              style=\"display:none;\">\n",
              "        \n",
              "  <svg xmlns=\"http://www.w3.org/2000/svg\" height=\"24px\"viewBox=\"0 0 24 24\"\n",
              "       width=\"24px\">\n",
              "    <path d=\"M0 0h24v24H0V0z\" fill=\"none\"/>\n",
              "    <path d=\"M18.56 5.44l.94 2.06.94-2.06 2.06-.94-2.06-.94-.94-2.06-.94 2.06-2.06.94zm-11 1L8.5 8.5l.94-2.06 2.06-.94-2.06-.94L8.5 2.5l-.94 2.06-2.06.94zm10 10l.94 2.06.94-2.06 2.06-.94-2.06-.94-.94-2.06-.94 2.06-2.06.94z\"/><path d=\"M17.41 7.96l-1.37-1.37c-.4-.4-.92-.59-1.43-.59-.52 0-1.04.2-1.43.59L10.3 9.45l-7.72 7.72c-.78.78-.78 2.05 0 2.83L4 21.41c.39.39.9.59 1.41.59.51 0 1.02-.2 1.41-.59l7.78-7.78 2.81-2.81c.8-.78.8-2.07 0-2.86zM5.41 20L4 18.59l7.72-7.72 1.47 1.35L5.41 20z\"/>\n",
              "  </svg>\n",
              "      </button>\n",
              "      \n",
              "  <style>\n",
              "    .colab-df-container {\n",
              "      display:flex;\n",
              "      flex-wrap:wrap;\n",
              "      gap: 12px;\n",
              "    }\n",
              "\n",
              "    .colab-df-convert {\n",
              "      background-color: #E8F0FE;\n",
              "      border: none;\n",
              "      border-radius: 50%;\n",
              "      cursor: pointer;\n",
              "      display: none;\n",
              "      fill: #1967D2;\n",
              "      height: 32px;\n",
              "      padding: 0 0 0 0;\n",
              "      width: 32px;\n",
              "    }\n",
              "\n",
              "    .colab-df-convert:hover {\n",
              "      background-color: #E2EBFA;\n",
              "      box-shadow: 0px 1px 2px rgba(60, 64, 67, 0.3), 0px 1px 3px 1px rgba(60, 64, 67, 0.15);\n",
              "      fill: #174EA6;\n",
              "    }\n",
              "\n",
              "    [theme=dark] .colab-df-convert {\n",
              "      background-color: #3B4455;\n",
              "      fill: #D2E3FC;\n",
              "    }\n",
              "\n",
              "    [theme=dark] .colab-df-convert:hover {\n",
              "      background-color: #434B5C;\n",
              "      box-shadow: 0px 1px 3px 1px rgba(0, 0, 0, 0.15);\n",
              "      filter: drop-shadow(0px 1px 2px rgba(0, 0, 0, 0.3));\n",
              "      fill: #FFFFFF;\n",
              "    }\n",
              "  </style>\n",
              "\n",
              "      <script>\n",
              "        const buttonEl =\n",
              "          document.querySelector('#df-b1870741-f144-4934-b563-58d2acc26fef button.colab-df-convert');\n",
              "        buttonEl.style.display =\n",
              "          google.colab.kernel.accessAllowed ? 'block' : 'none';\n",
              "\n",
              "        async function convertToInteractive(key) {\n",
              "          const element = document.querySelector('#df-b1870741-f144-4934-b563-58d2acc26fef');\n",
              "          const dataTable =\n",
              "            await google.colab.kernel.invokeFunction('convertToInteractive',\n",
              "                                                     [key], {});\n",
              "          if (!dataTable) return;\n",
              "\n",
              "          const docLinkHtml = 'Like what you see? Visit the ' +\n",
              "            '<a target=\"_blank\" href=https://colab.research.google.com/notebooks/data_table.ipynb>data table notebook</a>'\n",
              "            + ' to learn more about interactive tables.';\n",
              "          element.innerHTML = '';\n",
              "          dataTable['output_type'] = 'display_data';\n",
              "          await google.colab.output.renderOutput(dataTable, element);\n",
              "          const docLink = document.createElement('div');\n",
              "          docLink.innerHTML = docLinkHtml;\n",
              "          element.appendChild(docLink);\n",
              "        }\n",
              "      </script>\n",
              "    </div>\n",
              "  </div>\n",
              "  "
            ],
            "text/plain": [
              "   sepal_length  sepal_width  petal_length  petal_width  label\n",
              "0           5.1          3.5           1.4          0.2      0\n",
              "1           4.9          3.0           1.4          0.2      0\n",
              "2           4.7          3.2           1.3          0.2      0\n",
              "3           4.6          3.1           1.5          0.2      0\n",
              "4           5.0          3.6           1.4          0.2      0\n",
              "5           5.4          3.9           1.7          0.4      0\n",
              "6           4.6          3.4           1.4          0.3      0\n",
              "7           5.0          3.4           1.5          0.2      0\n",
              "8           4.4          2.9           1.4          0.2      0\n",
              "9           4.9          3.1           1.5          0.1      0"
            ]
          },
          "metadata": {},
          "execution_count": 13
        }
      ]
    },
    {
      "cell_type": "code",
      "source": [
        "# Split into train and test set\n",
        "X_train, X_test, y_train, y_test = train_test_split(X, y, test_size=0.3, random_state=0, stratify=y)\n",
        "num_classes = len(np.unique(y_train))\n",
        "num_features = X_train.shape[1]\n",
        "\n",
        "# for simplicity, here we are splitting the data into the training set and the test set. Rigorous model selection requires splitting into three sets, training, validation, and test.\n",
        "# To do that, apply train_test_split once again on X_train and y_train\n",
        "\n",
        "print('Number of features: ', num_features)\n",
        "print('Number of training examples: ', X_train.shape[0])\n",
        "print('Number of testing examples : ', X_test.shape[0])\n",
        "\n",
        "# Normalization to zero mean and unit standard deviation\n",
        "print(\"before normalization: mean = \" + str(X_train.sum(axis=0)) + \" std = \" + str(X_train.std(axis=0)))\n",
        "scaler = StandardScaler()\n",
        "X_train = scaler.fit_transform(X_train)\n",
        "print(\"after normalization: mean = \" + str(X_train.sum(axis=0))+ \" std = \" + str(X_train.std(axis=0)))\n",
        "\n",
        "# apply the feature-level mean and std from the training set \n",
        "X_test = scaler.transform(X_test)\n"
      ],
      "metadata": {
        "colab": {
          "base_uri": "https://localhost:8080/"
        },
        "id": "5oJo6WG7SUr9",
        "outputId": "800baa4e-93d9-45cc-a6c7-75e726805969"
      },
      "execution_count": 14,
      "outputs": [
        {
          "output_type": "stream",
          "name": "stdout",
          "text": [
            "Number of features:  4\n",
            "Number of training examples:  105\n",
            "Number of testing examples :  45\n",
            "before normalization: mean = [616.5 319.2 393.8 126.1] std = [0.856  0.4524 1.795  0.763 ]\n",
            "after normalization: mean = [ 0.00586  -0.00403  -0.003906  0.      ] std = [0.9985 1.     0.9995 0.997 ]\n"
          ]
        }
      ]
    },
    {
      "cell_type": "markdown",
      "source": [
        "# Setting hyperparameters for training"
      ],
      "metadata": {
        "id": "WI1moogHS1Ct"
      }
    },
    {
      "cell_type": "code",
      "source": [
        "batch_size = 16\n",
        "num_epochs = 100\n",
        "leaning_rate = 0.4\n",
        "device = 'cuda' if torch.cuda.is_available() else 'cpu'\n",
        "print('Current device:', device)"
      ],
      "metadata": {
        "colab": {
          "base_uri": "https://localhost:8080/"
        },
        "id": "_58dO4WITBWD",
        "outputId": "c55e5525-2c16-4576-9787-f605cd2149af"
      },
      "execution_count": 15,
      "outputs": [
        {
          "output_type": "stream",
          "name": "stdout",
          "text": [
            "Current device: cuda\n"
          ]
        }
      ]
    },
    {
      "cell_type": "markdown",
      "source": [
        "# Dataloader "
      ],
      "metadata": {
        "id": "DtLPvXiYWcep"
      }
    },
    {
      "cell_type": "code",
      "source": [
        "# Convert to pytorch tensor \n",
        "X_train_tensor = torch.from_numpy(X_train).type(torch.FloatTensor)\n",
        "y_train_tensor = torch.from_numpy(y_train).type(torch.LongTensor)\n",
        "X_test_tensor = torch.from_numpy(X_test).type(torch.FloatTensor)\n",
        "y_test_tensor = torch.from_numpy(y_test).type(torch.LongTensor)\n",
        "\n",
        "# Pytorch train and test sets\n",
        "train = TensorDataset(X_train_tensor, y_train_tensor)\n",
        "test = TensorDataset(X_test_tensor, y_test_tensor)\n",
        "\n",
        "# Data loader \n",
        "train_loader = DataLoader(train, batch_size = batch_size, shuffle=True)\n",
        "test_loader = DataLoader(test, batch_size = batch_size, shuffle=False)\n",
        "# You should always shuffle the training dataset.\n",
        "# Insufficient shuffling leads to biased estimates of the gradient!\n",
        "# Shuffling the test set does not affect performance. "
      ],
      "metadata": {
        "id": "y32UPmdVWffL"
      },
      "execution_count": 16,
      "outputs": []
    },
    {
      "cell_type": "markdown",
      "source": [
        "# Model "
      ],
      "metadata": {
        "id": "yGdd5SoRYmAt"
      }
    },
    {
      "cell_type": "code",
      "source": [
        "class SoftmaxRegression(nn.Module):\n",
        "    def __init__(self, num_features,num_classes):\n",
        "        super().__init__()\n",
        "        self.linear = nn.Linear(num_features, num_classes) # this is a fully connected layer\n",
        "\n",
        "    def forward(self, x):\n",
        "        out = self.linear(x) # the outputs are the logits. This is expected by CrossEntropyLoss\n",
        "        return out\n"
      ],
      "metadata": {
        "id": "R3RvADATYn4n"
      },
      "execution_count": 17,
      "outputs": []
    },
    {
      "cell_type": "code",
      "source": [
        "# Create model \n",
        "model = SoftmaxRegression(num_features, num_classes).to(device)\n",
        "print('Model: ', model)\n",
        "# Cross entropy loss\n",
        "criterion = nn.CrossEntropyLoss().to(device)\n",
        "\n",
        "# Optimizer \n",
        "# optimizer = torch.optim.SGD(model.parameters(), lr=leaning_rate)\n",
        "# this is SGD without momentum.\n",
        "\n",
        "optimizer = torch.optim.SGD(model.parameters(), momentum=0.9, lr=leaning_rate)\n",
        "\n",
        "scheduler = torch.optim.lr_scheduler.CosineAnnealingLR(optimizer, 60, eta_min=0)\n",
        "# Cosine decay for the learning rate"
      ],
      "metadata": {
        "colab": {
          "base_uri": "https://localhost:8080/"
        },
        "id": "7rkwLokdZdZ6",
        "outputId": "9ded8351-2b9c-4c46-dc93-33e211effc9e"
      },
      "execution_count": 20,
      "outputs": [
        {
          "output_type": "stream",
          "name": "stdout",
          "text": [
            "Model:  SoftmaxRegression(\n",
            "  (linear): Linear(in_features=4, out_features=3, bias=True)\n",
            ")\n"
          ]
        }
      ]
    },
    {
      "cell_type": "markdown",
      "source": [
        "# Training "
      ],
      "metadata": {
        "id": "YVyY2FfcbVKy"
      }
    },
    {
      "cell_type": "code",
      "source": [
        "def train_func(model, optimizer, criterion, train_loader,device, epoch):\n",
        "    train_loss_ = 0\n",
        "    correct_train = 0\n",
        "    total_train = 0\n",
        "\n",
        "    for i, (train_samples, labels) in enumerate(train_loader):\n",
        "        train_samples = train_samples.to(device)\n",
        "        labels = labels.to(device)\n",
        "\n",
        "        # Forward pass \n",
        "        outputs = model(train_samples)\n",
        "\n",
        "        # Calculate softmax and cross entropy loss\n",
        "        loss = criterion(outputs, labels)\n",
        "\n",
        "        # Compute gradient and do SGD step\n",
        "        optimizer.zero_grad()\n",
        "        loss.backward()\n",
        "        optimizer.step()\n",
        "\n",
        "        # Calculate train accuracy\n",
        "        _, predicted = torch.max(outputs, dim=1)\n",
        "\n",
        "        # Accumulate train loss and acc for monitoring\n",
        "        total_train += labels.size(0)\n",
        "        correct_train += (predicted == labels).sum()\n",
        "        train_loss_ += loss*labels.size(0)\n",
        "\n",
        "    scheduler.step()\n",
        "    # store train loss and acc\n",
        "    train_loss = (train_loss_/total_train).item()\n",
        "    train_acc = (correct_train/total_train).item()\n",
        "\n",
        "    return train_loss, train_acc"
      ],
      "metadata": {
        "id": "OjOapsmFbWc1"
      },
      "execution_count": 22,
      "outputs": []
    },
    {
      "cell_type": "code",
      "source": [
        "def eval(model, criterion, test_loader, device):\n",
        "    test_loss_ = 0\n",
        "    correct_test = 0\n",
        "    total_test = 0\n",
        "\n",
        "    with torch.no_grad():\n",
        "        for test_samples, test_labels in test_loader:\n",
        "            test_samples = test_samples.to(device)\n",
        "            test_labels = test_labels.to(device)\n",
        "            test_outputs = model(test_samples)\n",
        "            loss = criterion(test_outputs, test_labels)\n",
        "            _, test_predicted = torch.max(test_outputs, dim=1)\n",
        "\n",
        "            # Accumulate test loss and acc for monitoring\n",
        "            total_test += test_labels.size(0)\n",
        "            correct_test += (test_predicted == test_labels).sum()\n",
        "            test_loss_ += loss*test_labels.size(0)\n",
        "\n",
        "        test_loss = (test_loss_/total_test).item()\n",
        "        test_acc = (correct_test/total_test).item()\n",
        "\n",
        "    return test_loss, test_acc\n"
      ],
      "metadata": {
        "id": "5kHRNmJVd1Ho"
      },
      "execution_count": 23,
      "outputs": []
    },
    {
      "cell_type": "code",
      "source": [
        "train_loss = []\n",
        "train_acc = []\n",
        "test_loss = []\n",
        "test_acc = []\n",
        "\n",
        "for epoch in range(num_epochs):\n",
        "    train_loss_, train_acc_ = train_func(model, optimizer, criterion, train_loader, device, epoch)\n",
        "    test_loss_, test_acc_ = eval(model, criterion, test_loader, device)\n",
        "    if epoch%5 == 0:\n",
        "        print('Epoch: {}, Train loss: {:.4f}, Test loss: {:.4f}, Train acc: {:.4f}, \\\n",
        "        Test acc: {:.4f}'.format(epoch, train_loss_, test_loss_, train_acc_, test_acc_))\n",
        "    train_loss.append(train_loss_)\n",
        "    test_loss.append(test_loss_)\n",
        "    train_acc.append(train_acc_)\n",
        "    test_acc.append(test_acc_)"
      ],
      "metadata": {
        "colab": {
          "base_uri": "https://localhost:8080/"
        },
        "id": "GNaCkVTAfNtP",
        "outputId": "ecdcfcb1-6ddf-45d8-f815-bddd494fee2f"
      },
      "execution_count": 24,
      "outputs": [
        {
          "output_type": "stream",
          "name": "stdout",
          "text": [
            "Epoch: 0, Train loss: 0.5736, Test loss: 0.3943, Train acc: 0.7143,         Test acc: 0.8444\n",
            "Epoch: 5, Train loss: 0.0986, Test loss: 0.0729, Train acc: 0.9524,         Test acc: 0.9778\n",
            "Epoch: 10, Train loss: 0.0770, Test loss: 0.0651, Train acc: 0.9619,         Test acc: 1.0000\n",
            "Epoch: 15, Train loss: 0.0717, Test loss: 0.0618, Train acc: 0.9810,         Test acc: 0.9778\n",
            "Epoch: 20, Train loss: 0.0681, Test loss: 0.0624, Train acc: 0.9714,         Test acc: 0.9778\n",
            "Epoch: 25, Train loss: 0.0653, Test loss: 0.0532, Train acc: 0.9714,         Test acc: 1.0000\n",
            "Epoch: 30, Train loss: 0.0646, Test loss: 0.0493, Train acc: 0.9714,         Test acc: 1.0000\n",
            "Epoch: 35, Train loss: 0.0638, Test loss: 0.0516, Train acc: 0.9810,         Test acc: 1.0000\n",
            "Epoch: 40, Train loss: 0.0629, Test loss: 0.0500, Train acc: 0.9810,         Test acc: 1.0000\n",
            "Epoch: 45, Train loss: 0.0627, Test loss: 0.0483, Train acc: 0.9810,         Test acc: 1.0000\n",
            "Epoch: 50, Train loss: 0.0624, Test loss: 0.0485, Train acc: 0.9714,         Test acc: 1.0000\n",
            "Epoch: 55, Train loss: 0.0622, Test loss: 0.0486, Train acc: 0.9810,         Test acc: 1.0000\n",
            "Epoch: 60, Train loss: 0.0622, Test loss: 0.0486, Train acc: 0.9810,         Test acc: 1.0000\n",
            "Epoch: 65, Train loss: 0.0622, Test loss: 0.0486, Train acc: 0.9810,         Test acc: 1.0000\n",
            "Epoch: 70, Train loss: 0.0624, Test loss: 0.0484, Train acc: 0.9810,         Test acc: 1.0000\n",
            "Epoch: 75, Train loss: 0.0622, Test loss: 0.0470, Train acc: 0.9714,         Test acc: 1.0000\n",
            "Epoch: 80, Train loss: 0.0625, Test loss: 0.0465, Train acc: 0.9714,         Test acc: 1.0000\n",
            "Epoch: 85, Train loss: 0.0619, Test loss: 0.0456, Train acc: 0.9714,         Test acc: 1.0000\n",
            "Epoch: 90, Train loss: 0.0623, Test loss: 0.0434, Train acc: 0.9714,         Test acc: 1.0000\n",
            "Epoch: 95, Train loss: 0.0618, Test loss: 0.0492, Train acc: 0.9810,         Test acc: 1.0000\n"
          ]
        }
      ]
    },
    {
      "cell_type": "markdown",
      "source": [
        "# Visualization"
      ],
      "metadata": {
        "id": "lFQ6g_nVgoIX"
      }
    },
    {
      "cell_type": "code",
      "source": [
        "plt.plot(range(len(train_loss)), train_loss, 'b')\n",
        "plt.plot(range(len(test_loss)), test_loss, 'r')\n",
        "plt.xlabel(\"Number of epochs\")\n",
        "plt.ylabel(\"Loss\")\n",
        "plt.title(\"Logistic Regression: Loss vs Number of epochs\")\n",
        "plt.legend(['train', 'test'])\n",
        "plt.show()"
      ],
      "metadata": {
        "colab": {
          "base_uri": "https://localhost:8080/",
          "height": 294
        },
        "id": "iu2hvniShdZ6",
        "outputId": "930a126b-bedd-4e22-bef3-f59e17600053"
      },
      "execution_count": 25,
      "outputs": [
        {
          "output_type": "display_data",
          "data": {
            "image/png": "[encoded data removed]",
            "text/plain": [
              "<Figure size 432x288 with 1 Axes>"
            ]
          },
          "metadata": {
            "needs_background": "light"
          }
        }
      ]
    },
    {
      "cell_type": "code",
      "source": [
        "plt.plot(range(len(train_acc)), train_acc, 'b')\n",
        "plt.plot(range(len(test_acc)), test_acc, 'r')\n",
        "plt.xlabel(\"Number of epochs\")\n",
        "plt.ylabel(\"Accuracy\")\n",
        "plt.title(\"Logistic Regression: Accuracy vs Number of epochs\")\n",
        "plt.legend(['train', 'test'])\n",
        "plt.show()"
      ],
      "metadata": {
        "colab": {
          "base_uri": "https://localhost:8080/",
          "height": 294
        },
        "id": "PQo3rdh1gkgZ",
        "outputId": "6fa06839-00ed-4089-98dd-4cfbcdb72213"
      },
      "execution_count": 26,
      "outputs": [
        {
          "output_type": "display_data",
          "data": {
            "image/png": "[encoded data removed]",
            "text/plain": [
              "<Figure size 432x288 with 1 Axes>"
            ]
          },
          "metadata": {
            "needs_background": "light"
          }
        }
      ]
    },
    {
      "cell_type": "markdown",
      "source": [
        "### References/Resources\n",
        "1. https://www.kaggle.com/kanncaa1/pytorch-tutorial-for-deep-learning-lovers/notebook\n",
        "2. [Softmax activation](https://towardsdatascience.com/softmax-activation-function-explained-a7e1bc3ad60)"
      ],
      "metadata": {
        "id": "uaU14Axhi1QQ"
      }
    }
  ]
}