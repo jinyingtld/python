{
  "nbformat": 4,
  "nbformat_minor": 0,
  "metadata": {
    "colab": {
      "name": "sklearn一般流程.ipynb",
      "provenance": [],
      "collapsed_sections": [
        "4oSMOn0Zkohq",
        "_x_h5k3VlIZJ",
        "319wTwZatsRr",
        "gPkIvH1h4rvx"
      ],
      "authorship_tag": "ABX9TyPJEtB10Lp+cuEFdbRTo/oZ",
      "include_colab_link": true
    },
    "kernelspec": {
      "name": "python3",
      "display_name": "Python 3"
    },
    "language_info": {
      "name": "python"
    }
  },
  "cells": [
    {
      "cell_type": "markdown",
      "metadata": {
        "id": "view-in-github",
        "colab_type": "text"
      },
      "source": [
        "<a href=\"https://colab.research.google.com/github/jinyingtld/python/blob/main/sklearn%E4%B8%80%E8%88%AC%E6%B5%81%E7%A8%8B.ipynb\" target=\"_parent\"><img src=\"https://colab.research.google.com/assets/colab-badge.svg\" alt=\"Open In Colab\"/></a>"
      ]
    },
    {
      "cell_type": "code",
      "execution_count": null,
      "metadata": {
        "colab": {
          "base_uri": "https://localhost:8080/"
        },
        "id": "jHyR3RCx1fZ-",
        "outputId": "ecac8314-ee38-4b50-82f2-56ed0d59423e"
      },
      "outputs": [
        {
          "output_type": "stream",
          "name": "stdout",
          "text": [
            "Requirement already satisfied: sklearn in /usr/local/lib/python3.7/dist-packages (0.0)\n",
            "Requirement already satisfied: scikit-learn in /usr/local/lib/python3.7/dist-packages (from sklearn) (1.0.2)\n",
            "Requirement already satisfied: joblib>=0.11 in /usr/local/lib/python3.7/dist-packages (from scikit-learn->sklearn) (1.1.0)\n",
            "Requirement already satisfied: threadpoolctl>=2.0.0 in /usr/local/lib/python3.7/dist-packages (from scikit-learn->sklearn) (3.1.0)\n",
            "Requirement already satisfied: numpy>=1.14.6 in /usr/local/lib/python3.7/dist-packages (from scikit-learn->sklearn) (1.21.6)\n",
            "Requirement already satisfied: scipy>=1.1.0 in /usr/local/lib/python3.7/dist-packages (from scikit-learn->sklearn) (1.4.1)\n"
          ]
        }
      ],
      "source": [
        "# !pip install -U scikit-learn\n",
        "!pip install sklearn"
      ]
    },
    {
      "cell_type": "code",
      "source": [
        "!pip install --upgrade sklearn\n"
      ],
      "metadata": {
        "id": "2xn0ZGAs7MY9",
        "colab": {
          "base_uri": "https://localhost:8080/"
        },
        "outputId": "085b261f-42bc-4a73-baa9-8a2b8e9a7ca4"
      },
      "execution_count": null,
      "outputs": [
        {
          "output_type": "stream",
          "name": "stdout",
          "text": [
            "Requirement already satisfied: sklearn in /usr/local/lib/python3.7/dist-packages (0.0)\n",
            "Requirement already satisfied: scikit-learn in /usr/local/lib/python3.7/dist-packages (from sklearn) (1.0.2)\n",
            "Requirement already satisfied: numpy>=1.14.6 in /usr/local/lib/python3.7/dist-packages (from scikit-learn->sklearn) (1.21.6)\n",
            "Requirement already satisfied: threadpoolctl>=2.0.0 in /usr/local/lib/python3.7/dist-packages (from scikit-learn->sklearn) (3.1.0)\n",
            "Requirement already satisfied: joblib>=0.11 in /usr/local/lib/python3.7/dist-packages (from scikit-learn->sklearn) (1.1.0)\n",
            "Requirement already satisfied: scipy>=1.1.0 in /usr/local/lib/python3.7/dist-packages (from scikit-learn->sklearn) (1.4.1)\n"
          ]
        }
      ]
    },
    {
      "cell_type": "code",
      "source": [
        "import sklearn\n",
        "sklearn.__version__"
      ],
      "metadata": {
        "colab": {
          "base_uri": "https://localhost:8080/",
          "height": 35
        },
        "id": "pM9nDNkrqIe1",
        "outputId": "b5de3b17-3e77-40a9-a71a-03ed950de740"
      },
      "execution_count": null,
      "outputs": [
        {
          "output_type": "execute_result",
          "data": {
            "text/plain": [
              "'1.0.2'"
            ],
            "application/vnd.google.colaboratory.intrinsic+json": {
              "type": "string"
            }
          },
          "metadata": {},
          "execution_count": 3
        }
      ]
    },
    {
      "cell_type": "code",
      "source": [
        ""
      ],
      "metadata": {
        "id": "QswvwhbyqWQP"
      },
      "execution_count": null,
      "outputs": []
    },
    {
      "cell_type": "markdown",
      "source": [
        "# **scikit**-learn 一般流程\n"
      ],
      "metadata": {
        "id": "5dM7zxM1-Po-"
      }
    },
    {
      "cell_type": "markdown",
      "source": [
        "sklearn机器学习的一般流程包括:\n",
        "* 数据的获取\n",
        "* ~~特征的提取~~\n",
        "* ~~特征的选择~~\n",
        "* 数据预处理\n",
        "* 模型的训练\n",
        "* 模型的评估\n",
        "* 模型的优化\n",
        "* 模型持久化"
      ],
      "metadata": {
        "id": "hUth03Ee-VVe"
      }
    },
    {
      "cell_type": "markdown",
      "source": [
        "## 一, 数据的获取\n",
        "\n",
        "可以导入内部数据集, 计算生成的数据集, 网络上的数据集, 文件中的数据集等."
      ],
      "metadata": {
        "id": "oc6OgZpf_PYS"
      }
    },
    {
      "cell_type": "code",
      "source": [
        "import numpy as np\n",
        "import matplotlib.pyplot as plt \n",
        "import pandas as pd\n",
        "%matplotlib inline\n",
        "\n",
        "from sklearn import datasets\n",
        "\n",
        "iris = datasets.load_iris()"
      ],
      "metadata": {
        "id": "S58U1-4K-wWU"
      },
      "execution_count": null,
      "outputs": []
    },
    {
      "cell_type": "code",
      "source": [
        "iris"
      ],
      "metadata": {
        "colab": {
          "base_uri": "https://localhost:8080/"
        },
        "id": "pXmePkgAAVVS",
        "outputId": "63827eb1-72c5-4fd8-ba8a-7fecadd8a05e"
      },
      "execution_count": null,
      "outputs": [
        {
          "output_type": "execute_result",
          "data": {
            "text/plain": [
              "{'DESCR': '.. _iris_dataset:\\n\\nIris plants dataset\\n--------------------\\n\\n**Data Set Characteristics:**\\n\\n    :Number of Instances: 150 (50 in each of three classes)\\n    :Number of Attributes: 4 numeric, predictive attributes and the class\\n    :Attribute Information:\\n        - sepal length in cm\\n        - sepal width in cm\\n        - petal length in cm\\n        - petal width in cm\\n        - class:\\n                - Iris-Setosa\\n                - Iris-Versicolour\\n                - Iris-Virginica\\n                \\n    :Summary Statistics:\\n\\n    ============== ==== ==== ======= ===== ====================\\n                    Min  Max   Mean    SD   Class Correlation\\n    ============== ==== ==== ======= ===== ====================\\n    sepal length:   4.3  7.9   5.84   0.83    0.7826\\n    sepal width:    2.0  4.4   3.05   0.43   -0.4194\\n    petal length:   1.0  6.9   3.76   1.76    0.9490  (high!)\\n    petal width:    0.1  2.5   1.20   0.76    0.9565  (high!)\\n    ============== ==== ==== ======= ===== ====================\\n\\n    :Missing Attribute Values: None\\n    :Class Distribution: 33.3% for each of 3 classes.\\n    :Creator: R.A. Fisher\\n    :Donor: Michael Marshall (MARSHALL%PLU@io.arc.nasa.gov)\\n    :Date: July, 1988\\n\\nThe famous Iris database, first used by Sir R.A. Fisher. The dataset is taken\\nfrom Fisher\\'s paper. Note that it\\'s the same as in R, but not as in the UCI\\nMachine Learning Repository, which has two wrong data points.\\n\\nThis is perhaps the best known database to be found in the\\npattern recognition literature.  Fisher\\'s paper is a classic in the field and\\nis referenced frequently to this day.  (See Duda & Hart, for example.)  The\\ndata set contains 3 classes of 50 instances each, where each class refers to a\\ntype of iris plant.  One class is linearly separable from the other 2; the\\nlatter are NOT linearly separable from each other.\\n\\n.. topic:: References\\n\\n   - Fisher, R.A. \"The use of multiple measurements in taxonomic problems\"\\n     Annual Eugenics, 7, Part II, 179-188 (1936); also in \"Contributions to\\n     Mathematical Statistics\" (John Wiley, NY, 1950).\\n   - Duda, R.O., & Hart, P.E. (1973) Pattern Classification and Scene Analysis.\\n     (Q327.D83) John Wiley & Sons.  ISBN 0-471-22361-1.  See page 218.\\n   - Dasarathy, B.V. (1980) \"Nosing Around the Neighborhood: A New System\\n     Structure and Classification Rule for Recognition in Partially Exposed\\n     Environments\".  IEEE Transactions on Pattern Analysis and Machine\\n     Intelligence, Vol. PAMI-2, No. 1, 67-71.\\n   - Gates, G.W. (1972) \"The Reduced Nearest Neighbor Rule\".  IEEE Transactions\\n     on Information Theory, May 1972, 431-433.\\n   - See also: 1988 MLC Proceedings, 54-64.  Cheeseman et al\"s AUTOCLASS II\\n     conceptual clustering system finds 3 classes in the data.\\n   - Many, many more ...',\n",
              " 'data': array([[5.1, 3.5, 1.4, 0.2],\n",
              "        [4.9, 3. , 1.4, 0.2],\n",
              "        [4.7, 3.2, 1.3, 0.2],\n",
              "        [4.6, 3.1, 1.5, 0.2],\n",
              "        [5. , 3.6, 1.4, 0.2],\n",
              "        [5.4, 3.9, 1.7, 0.4],\n",
              "        [4.6, 3.4, 1.4, 0.3],\n",
              "        [5. , 3.4, 1.5, 0.2],\n",
              "        [4.4, 2.9, 1.4, 0.2],\n",
              "        [4.9, 3.1, 1.5, 0.1],\n",
              "        [5.4, 3.7, 1.5, 0.2],\n",
              "        [4.8, 3.4, 1.6, 0.2],\n",
              "        [4.8, 3. , 1.4, 0.1],\n",
              "        [4.3, 3. , 1.1, 0.1],\n",
              "        [5.8, 4. , 1.2, 0.2],\n",
              "        [5.7, 4.4, 1.5, 0.4],\n",
              "        [5.4, 3.9, 1.3, 0.4],\n",
              "        [5.1, 3.5, 1.4, 0.3],\n",
              "        [5.7, 3.8, 1.7, 0.3],\n",
              "        [5.1, 3.8, 1.5, 0.3],\n",
              "        [5.4, 3.4, 1.7, 0.2],\n",
              "        [5.1, 3.7, 1.5, 0.4],\n",
              "        [4.6, 3.6, 1. , 0.2],\n",
              "        [5.1, 3.3, 1.7, 0.5],\n",
              "        [4.8, 3.4, 1.9, 0.2],\n",
              "        [5. , 3. , 1.6, 0.2],\n",
              "        [5. , 3.4, 1.6, 0.4],\n",
              "        [5.2, 3.5, 1.5, 0.2],\n",
              "        [5.2, 3.4, 1.4, 0.2],\n",
              "        [4.7, 3.2, 1.6, 0.2],\n",
              "        [4.8, 3.1, 1.6, 0.2],\n",
              "        [5.4, 3.4, 1.5, 0.4],\n",
              "        [5.2, 4.1, 1.5, 0.1],\n",
              "        [5.5, 4.2, 1.4, 0.2],\n",
              "        [4.9, 3.1, 1.5, 0.2],\n",
              "        [5. , 3.2, 1.2, 0.2],\n",
              "        [5.5, 3.5, 1.3, 0.2],\n",
              "        [4.9, 3.6, 1.4, 0.1],\n",
              "        [4.4, 3. , 1.3, 0.2],\n",
              "        [5.1, 3.4, 1.5, 0.2],\n",
              "        [5. , 3.5, 1.3, 0.3],\n",
              "        [4.5, 2.3, 1.3, 0.3],\n",
              "        [4.4, 3.2, 1.3, 0.2],\n",
              "        [5. , 3.5, 1.6, 0.6],\n",
              "        [5.1, 3.8, 1.9, 0.4],\n",
              "        [4.8, 3. , 1.4, 0.3],\n",
              "        [5.1, 3.8, 1.6, 0.2],\n",
              "        [4.6, 3.2, 1.4, 0.2],\n",
              "        [5.3, 3.7, 1.5, 0.2],\n",
              "        [5. , 3.3, 1.4, 0.2],\n",
              "        [7. , 3.2, 4.7, 1.4],\n",
              "        [6.4, 3.2, 4.5, 1.5],\n",
              "        [6.9, 3.1, 4.9, 1.5],\n",
              "        [5.5, 2.3, 4. , 1.3],\n",
              "        [6.5, 2.8, 4.6, 1.5],\n",
              "        [5.7, 2.8, 4.5, 1.3],\n",
              "        [6.3, 3.3, 4.7, 1.6],\n",
              "        [4.9, 2.4, 3.3, 1. ],\n",
              "        [6.6, 2.9, 4.6, 1.3],\n",
              "        [5.2, 2.7, 3.9, 1.4],\n",
              "        [5. , 2. , 3.5, 1. ],\n",
              "        [5.9, 3. , 4.2, 1.5],\n",
              "        [6. , 2.2, 4. , 1. ],\n",
              "        [6.1, 2.9, 4.7, 1.4],\n",
              "        [5.6, 2.9, 3.6, 1.3],\n",
              "        [6.7, 3.1, 4.4, 1.4],\n",
              "        [5.6, 3. , 4.5, 1.5],\n",
              "        [5.8, 2.7, 4.1, 1. ],\n",
              "        [6.2, 2.2, 4.5, 1.5],\n",
              "        [5.6, 2.5, 3.9, 1.1],\n",
              "        [5.9, 3.2, 4.8, 1.8],\n",
              "        [6.1, 2.8, 4. , 1.3],\n",
              "        [6.3, 2.5, 4.9, 1.5],\n",
              "        [6.1, 2.8, 4.7, 1.2],\n",
              "        [6.4, 2.9, 4.3, 1.3],\n",
              "        [6.6, 3. , 4.4, 1.4],\n",
              "        [6.8, 2.8, 4.8, 1.4],\n",
              "        [6.7, 3. , 5. , 1.7],\n",
              "        [6. , 2.9, 4.5, 1.5],\n",
              "        [5.7, 2.6, 3.5, 1. ],\n",
              "        [5.5, 2.4, 3.8, 1.1],\n",
              "        [5.5, 2.4, 3.7, 1. ],\n",
              "        [5.8, 2.7, 3.9, 1.2],\n",
              "        [6. , 2.7, 5.1, 1.6],\n",
              "        [5.4, 3. , 4.5, 1.5],\n",
              "        [6. , 3.4, 4.5, 1.6],\n",
              "        [6.7, 3.1, 4.7, 1.5],\n",
              "        [6.3, 2.3, 4.4, 1.3],\n",
              "        [5.6, 3. , 4.1, 1.3],\n",
              "        [5.5, 2.5, 4. , 1.3],\n",
              "        [5.5, 2.6, 4.4, 1.2],\n",
              "        [6.1, 3. , 4.6, 1.4],\n",
              "        [5.8, 2.6, 4. , 1.2],\n",
              "        [5. , 2.3, 3.3, 1. ],\n",
              "        [5.6, 2.7, 4.2, 1.3],\n",
              "        [5.7, 3. , 4.2, 1.2],\n",
              "        [5.7, 2.9, 4.2, 1.3],\n",
              "        [6.2, 2.9, 4.3, 1.3],\n",
              "        [5.1, 2.5, 3. , 1.1],\n",
              "        [5.7, 2.8, 4.1, 1.3],\n",
              "        [6.3, 3.3, 6. , 2.5],\n",
              "        [5.8, 2.7, 5.1, 1.9],\n",
              "        [7.1, 3. , 5.9, 2.1],\n",
              "        [6.3, 2.9, 5.6, 1.8],\n",
              "        [6.5, 3. , 5.8, 2.2],\n",
              "        [7.6, 3. , 6.6, 2.1],\n",
              "        [4.9, 2.5, 4.5, 1.7],\n",
              "        [7.3, 2.9, 6.3, 1.8],\n",
              "        [6.7, 2.5, 5.8, 1.8],\n",
              "        [7.2, 3.6, 6.1, 2.5],\n",
              "        [6.5, 3.2, 5.1, 2. ],\n",
              "        [6.4, 2.7, 5.3, 1.9],\n",
              "        [6.8, 3. , 5.5, 2.1],\n",
              "        [5.7, 2.5, 5. , 2. ],\n",
              "        [5.8, 2.8, 5.1, 2.4],\n",
              "        [6.4, 3.2, 5.3, 2.3],\n",
              "        [6.5, 3. , 5.5, 1.8],\n",
              "        [7.7, 3.8, 6.7, 2.2],\n",
              "        [7.7, 2.6, 6.9, 2.3],\n",
              "        [6. , 2.2, 5. , 1.5],\n",
              "        [6.9, 3.2, 5.7, 2.3],\n",
              "        [5.6, 2.8, 4.9, 2. ],\n",
              "        [7.7, 2.8, 6.7, 2. ],\n",
              "        [6.3, 2.7, 4.9, 1.8],\n",
              "        [6.7, 3.3, 5.7, 2.1],\n",
              "        [7.2, 3.2, 6. , 1.8],\n",
              "        [6.2, 2.8, 4.8, 1.8],\n",
              "        [6.1, 3. , 4.9, 1.8],\n",
              "        [6.4, 2.8, 5.6, 2.1],\n",
              "        [7.2, 3. , 5.8, 1.6],\n",
              "        [7.4, 2.8, 6.1, 1.9],\n",
              "        [7.9, 3.8, 6.4, 2. ],\n",
              "        [6.4, 2.8, 5.6, 2.2],\n",
              "        [6.3, 2.8, 5.1, 1.5],\n",
              "        [6.1, 2.6, 5.6, 1.4],\n",
              "        [7.7, 3. , 6.1, 2.3],\n",
              "        [6.3, 3.4, 5.6, 2.4],\n",
              "        [6.4, 3.1, 5.5, 1.8],\n",
              "        [6. , 3. , 4.8, 1.8],\n",
              "        [6.9, 3.1, 5.4, 2.1],\n",
              "        [6.7, 3.1, 5.6, 2.4],\n",
              "        [6.9, 3.1, 5.1, 2.3],\n",
              "        [5.8, 2.7, 5.1, 1.9],\n",
              "        [6.8, 3.2, 5.9, 2.3],\n",
              "        [6.7, 3.3, 5.7, 2.5],\n",
              "        [6.7, 3. , 5.2, 2.3],\n",
              "        [6.3, 2.5, 5. , 1.9],\n",
              "        [6.5, 3. , 5.2, 2. ],\n",
              "        [6.2, 3.4, 5.4, 2.3],\n",
              "        [5.9, 3. , 5.1, 1.8]]),\n",
              " 'data_module': 'sklearn.datasets.data',\n",
              " 'feature_names': ['sepal length (cm)',\n",
              "  'sepal width (cm)',\n",
              "  'petal length (cm)',\n",
              "  'petal width (cm)'],\n",
              " 'filename': 'iris.csv',\n",
              " 'frame': None,\n",
              " 'target': array([0, 0, 0, 0, 0, 0, 0, 0, 0, 0, 0, 0, 0, 0, 0, 0, 0, 0, 0, 0, 0, 0,\n",
              "        0, 0, 0, 0, 0, 0, 0, 0, 0, 0, 0, 0, 0, 0, 0, 0, 0, 0, 0, 0, 0, 0,\n",
              "        0, 0, 0, 0, 0, 0, 1, 1, 1, 1, 1, 1, 1, 1, 1, 1, 1, 1, 1, 1, 1, 1,\n",
              "        1, 1, 1, 1, 1, 1, 1, 1, 1, 1, 1, 1, 1, 1, 1, 1, 1, 1, 1, 1, 1, 1,\n",
              "        1, 1, 1, 1, 1, 1, 1, 1, 1, 1, 1, 1, 2, 2, 2, 2, 2, 2, 2, 2, 2, 2,\n",
              "        2, 2, 2, 2, 2, 2, 2, 2, 2, 2, 2, 2, 2, 2, 2, 2, 2, 2, 2, 2, 2, 2,\n",
              "        2, 2, 2, 2, 2, 2, 2, 2, 2, 2, 2, 2, 2, 2, 2, 2, 2, 2]),\n",
              " 'target_names': array(['setosa', 'versicolor', 'virginica'], dtype='<U10')}"
            ]
          },
          "metadata": {},
          "execution_count": 5
        }
      ]
    },
    {
      "cell_type": "code",
      "source": [
        "iris.data"
      ],
      "metadata": {
        "colab": {
          "base_uri": "https://localhost:8080/"
        },
        "id": "mSUFKn1xB8zj",
        "outputId": "831b3557-48dc-4fd3-9d33-f25781ea825f"
      },
      "execution_count": null,
      "outputs": [
        {
          "output_type": "execute_result",
          "data": {
            "text/plain": [
              "array([[5.1, 3.5, 1.4, 0.2],\n",
              "       [4.9, 3. , 1.4, 0.2],\n",
              "       [4.7, 3.2, 1.3, 0.2],\n",
              "       [4.6, 3.1, 1.5, 0.2],\n",
              "       [5. , 3.6, 1.4, 0.2],\n",
              "       [5.4, 3.9, 1.7, 0.4],\n",
              "       [4.6, 3.4, 1.4, 0.3],\n",
              "       [5. , 3.4, 1.5, 0.2],\n",
              "       [4.4, 2.9, 1.4, 0.2],\n",
              "       [4.9, 3.1, 1.5, 0.1],\n",
              "       [5.4, 3.7, 1.5, 0.2],\n",
              "       [4.8, 3.4, 1.6, 0.2],\n",
              "       [4.8, 3. , 1.4, 0.1],\n",
              "       [4.3, 3. , 1.1, 0.1],\n",
              "       [5.8, 4. , 1.2, 0.2],\n",
              "       [5.7, 4.4, 1.5, 0.4],\n",
              "       [5.4, 3.9, 1.3, 0.4],\n",
              "       [5.1, 3.5, 1.4, 0.3],\n",
              "       [5.7, 3.8, 1.7, 0.3],\n",
              "       [5.1, 3.8, 1.5, 0.3],\n",
              "       [5.4, 3.4, 1.7, 0.2],\n",
              "       [5.1, 3.7, 1.5, 0.4],\n",
              "       [4.6, 3.6, 1. , 0.2],\n",
              "       [5.1, 3.3, 1.7, 0.5],\n",
              "       [4.8, 3.4, 1.9, 0.2],\n",
              "       [5. , 3. , 1.6, 0.2],\n",
              "       [5. , 3.4, 1.6, 0.4],\n",
              "       [5.2, 3.5, 1.5, 0.2],\n",
              "       [5.2, 3.4, 1.4, 0.2],\n",
              "       [4.7, 3.2, 1.6, 0.2],\n",
              "       [4.8, 3.1, 1.6, 0.2],\n",
              "       [5.4, 3.4, 1.5, 0.4],\n",
              "       [5.2, 4.1, 1.5, 0.1],\n",
              "       [5.5, 4.2, 1.4, 0.2],\n",
              "       [4.9, 3.1, 1.5, 0.2],\n",
              "       [5. , 3.2, 1.2, 0.2],\n",
              "       [5.5, 3.5, 1.3, 0.2],\n",
              "       [4.9, 3.6, 1.4, 0.1],\n",
              "       [4.4, 3. , 1.3, 0.2],\n",
              "       [5.1, 3.4, 1.5, 0.2],\n",
              "       [5. , 3.5, 1.3, 0.3],\n",
              "       [4.5, 2.3, 1.3, 0.3],\n",
              "       [4.4, 3.2, 1.3, 0.2],\n",
              "       [5. , 3.5, 1.6, 0.6],\n",
              "       [5.1, 3.8, 1.9, 0.4],\n",
              "       [4.8, 3. , 1.4, 0.3],\n",
              "       [5.1, 3.8, 1.6, 0.2],\n",
              "       [4.6, 3.2, 1.4, 0.2],\n",
              "       [5.3, 3.7, 1.5, 0.2],\n",
              "       [5. , 3.3, 1.4, 0.2],\n",
              "       [7. , 3.2, 4.7, 1.4],\n",
              "       [6.4, 3.2, 4.5, 1.5],\n",
              "       [6.9, 3.1, 4.9, 1.5],\n",
              "       [5.5, 2.3, 4. , 1.3],\n",
              "       [6.5, 2.8, 4.6, 1.5],\n",
              "       [5.7, 2.8, 4.5, 1.3],\n",
              "       [6.3, 3.3, 4.7, 1.6],\n",
              "       [4.9, 2.4, 3.3, 1. ],\n",
              "       [6.6, 2.9, 4.6, 1.3],\n",
              "       [5.2, 2.7, 3.9, 1.4],\n",
              "       [5. , 2. , 3.5, 1. ],\n",
              "       [5.9, 3. , 4.2, 1.5],\n",
              "       [6. , 2.2, 4. , 1. ],\n",
              "       [6.1, 2.9, 4.7, 1.4],\n",
              "       [5.6, 2.9, 3.6, 1.3],\n",
              "       [6.7, 3.1, 4.4, 1.4],\n",
              "       [5.6, 3. , 4.5, 1.5],\n",
              "       [5.8, 2.7, 4.1, 1. ],\n",
              "       [6.2, 2.2, 4.5, 1.5],\n",
              "       [5.6, 2.5, 3.9, 1.1],\n",
              "       [5.9, 3.2, 4.8, 1.8],\n",
              "       [6.1, 2.8, 4. , 1.3],\n",
              "       [6.3, 2.5, 4.9, 1.5],\n",
              "       [6.1, 2.8, 4.7, 1.2],\n",
              "       [6.4, 2.9, 4.3, 1.3],\n",
              "       [6.6, 3. , 4.4, 1.4],\n",
              "       [6.8, 2.8, 4.8, 1.4],\n",
              "       [6.7, 3. , 5. , 1.7],\n",
              "       [6. , 2.9, 4.5, 1.5],\n",
              "       [5.7, 2.6, 3.5, 1. ],\n",
              "       [5.5, 2.4, 3.8, 1.1],\n",
              "       [5.5, 2.4, 3.7, 1. ],\n",
              "       [5.8, 2.7, 3.9, 1.2],\n",
              "       [6. , 2.7, 5.1, 1.6],\n",
              "       [5.4, 3. , 4.5, 1.5],\n",
              "       [6. , 3.4, 4.5, 1.6],\n",
              "       [6.7, 3.1, 4.7, 1.5],\n",
              "       [6.3, 2.3, 4.4, 1.3],\n",
              "       [5.6, 3. , 4.1, 1.3],\n",
              "       [5.5, 2.5, 4. , 1.3],\n",
              "       [5.5, 2.6, 4.4, 1.2],\n",
              "       [6.1, 3. , 4.6, 1.4],\n",
              "       [5.8, 2.6, 4. , 1.2],\n",
              "       [5. , 2.3, 3.3, 1. ],\n",
              "       [5.6, 2.7, 4.2, 1.3],\n",
              "       [5.7, 3. , 4.2, 1.2],\n",
              "       [5.7, 2.9, 4.2, 1.3],\n",
              "       [6.2, 2.9, 4.3, 1.3],\n",
              "       [5.1, 2.5, 3. , 1.1],\n",
              "       [5.7, 2.8, 4.1, 1.3],\n",
              "       [6.3, 3.3, 6. , 2.5],\n",
              "       [5.8, 2.7, 5.1, 1.9],\n",
              "       [7.1, 3. , 5.9, 2.1],\n",
              "       [6.3, 2.9, 5.6, 1.8],\n",
              "       [6.5, 3. , 5.8, 2.2],\n",
              "       [7.6, 3. , 6.6, 2.1],\n",
              "       [4.9, 2.5, 4.5, 1.7],\n",
              "       [7.3, 2.9, 6.3, 1.8],\n",
              "       [6.7, 2.5, 5.8, 1.8],\n",
              "       [7.2, 3.6, 6.1, 2.5],\n",
              "       [6.5, 3.2, 5.1, 2. ],\n",
              "       [6.4, 2.7, 5.3, 1.9],\n",
              "       [6.8, 3. , 5.5, 2.1],\n",
              "       [5.7, 2.5, 5. , 2. ],\n",
              "       [5.8, 2.8, 5.1, 2.4],\n",
              "       [6.4, 3.2, 5.3, 2.3],\n",
              "       [6.5, 3. , 5.5, 1.8],\n",
              "       [7.7, 3.8, 6.7, 2.2],\n",
              "       [7.7, 2.6, 6.9, 2.3],\n",
              "       [6. , 2.2, 5. , 1.5],\n",
              "       [6.9, 3.2, 5.7, 2.3],\n",
              "       [5.6, 2.8, 4.9, 2. ],\n",
              "       [7.7, 2.8, 6.7, 2. ],\n",
              "       [6.3, 2.7, 4.9, 1.8],\n",
              "       [6.7, 3.3, 5.7, 2.1],\n",
              "       [7.2, 3.2, 6. , 1.8],\n",
              "       [6.2, 2.8, 4.8, 1.8],\n",
              "       [6.1, 3. , 4.9, 1.8],\n",
              "       [6.4, 2.8, 5.6, 2.1],\n",
              "       [7.2, 3. , 5.8, 1.6],\n",
              "       [7.4, 2.8, 6.1, 1.9],\n",
              "       [7.9, 3.8, 6.4, 2. ],\n",
              "       [6.4, 2.8, 5.6, 2.2],\n",
              "       [6.3, 2.8, 5.1, 1.5],\n",
              "       [6.1, 2.6, 5.6, 1.4],\n",
              "       [7.7, 3. , 6.1, 2.3],\n",
              "       [6.3, 3.4, 5.6, 2.4],\n",
              "       [6.4, 3.1, 5.5, 1.8],\n",
              "       [6. , 3. , 4.8, 1.8],\n",
              "       [6.9, 3.1, 5.4, 2.1],\n",
              "       [6.7, 3.1, 5.6, 2.4],\n",
              "       [6.9, 3.1, 5.1, 2.3],\n",
              "       [5.8, 2.7, 5.1, 1.9],\n",
              "       [6.8, 3.2, 5.9, 2.3],\n",
              "       [6.7, 3.3, 5.7, 2.5],\n",
              "       [6.7, 3. , 5.2, 2.3],\n",
              "       [6.3, 2.5, 5. , 1.9],\n",
              "       [6.5, 3. , 5.2, 2. ],\n",
              "       [6.2, 3.4, 5.4, 2.3],\n",
              "       [5.9, 3. , 5.1, 1.8]])"
            ]
          },
          "metadata": {},
          "execution_count": 6
        }
      ]
    },
    {
      "cell_type": "code",
      "source": [
        "iris['target']"
      ],
      "metadata": {
        "colab": {
          "base_uri": "https://localhost:8080/"
        },
        "id": "xr5lgyxFDDt5",
        "outputId": "181bd8b8-c371-4b41-e3ab-ec357411b959"
      },
      "execution_count": null,
      "outputs": [
        {
          "output_type": "execute_result",
          "data": {
            "text/plain": [
              "array([0, 0, 0, 0, 0, 0, 0, 0, 0, 0, 0, 0, 0, 0, 0, 0, 0, 0, 0, 0, 0, 0,\n",
              "       0, 0, 0, 0, 0, 0, 0, 0, 0, 0, 0, 0, 0, 0, 0, 0, 0, 0, 0, 0, 0, 0,\n",
              "       0, 0, 0, 0, 0, 0, 1, 1, 1, 1, 1, 1, 1, 1, 1, 1, 1, 1, 1, 1, 1, 1,\n",
              "       1, 1, 1, 1, 1, 1, 1, 1, 1, 1, 1, 1, 1, 1, 1, 1, 1, 1, 1, 1, 1, 1,\n",
              "       1, 1, 1, 1, 1, 1, 1, 1, 1, 1, 1, 1, 2, 2, 2, 2, 2, 2, 2, 2, 2, 2,\n",
              "       2, 2, 2, 2, 2, 2, 2, 2, 2, 2, 2, 2, 2, 2, 2, 2, 2, 2, 2, 2, 2, 2,\n",
              "       2, 2, 2, 2, 2, 2, 2, 2, 2, 2, 2, 2, 2, 2, 2, 2, 2, 2])"
            ]
          },
          "metadata": {},
          "execution_count": 7
        }
      ]
    },
    {
      "cell_type": "code",
      "source": [
        "# 利用dataframe 做简单的可视化分析\n",
        "df = pd.DataFrame(iris.data, columns=iris.feature_names)\n",
        "df['target'] = iris.target\n",
        "df.plot(figsize=(12,8))\n"
      ],
      "metadata": {
        "colab": {
          "base_uri": "https://localhost:8080/",
          "height": 454
        },
        "id": "koUaIMYuF1dG",
        "outputId": "a0401a36-0eb1-4df3-c8aa-9e50450c6650"
      },
      "execution_count": null,
      "outputs": [
        {
          "output_type": "execute_result",
          "data": {
            "text/plain": [
              "<matplotlib.axes._subplots.AxesSubplot at 0x7f2cf8782f90>"
            ]
          },
          "metadata": {},
          "execution_count": 8
        },
        {
          "output_type": "display_data",
          "data": {
            "text/plain": [
              "<Figure size 864x576 with 1 Axes>"
            ],
            "image/png": "[encoded data removed]"
          },
          "metadata": {
            "needs_background": "light"
          }
        }
      ]
    },
    {
      "cell_type": "code",
      "source": [
        "df"
      ],
      "metadata": {
        "colab": {
          "base_uri": "https://localhost:8080/",
          "height": 485
        },
        "id": "F5tMIrJHP89k",
        "outputId": "95c8c4ac-1c37-4e41-9f92-c8a0b764b09b"
      },
      "execution_count": null,
      "outputs": [
        {
          "output_type": "execute_result",
          "data": {
            "text/plain": [
              "     sepal length (cm)  sepal width (cm)  petal length (cm)  petal width (cm)  \\\n",
              "0                  5.1               3.5                1.4               0.2   \n",
              "1                  4.9               3.0                1.4               0.2   \n",
              "2                  4.7               3.2                1.3               0.2   \n",
              "3                  4.6               3.1                1.5               0.2   \n",
              "4                  5.0               3.6                1.4               0.2   \n",
              "..                 ...               ...                ...               ...   \n",
              "145                6.7               3.0                5.2               2.3   \n",
              "146                6.3               2.5                5.0               1.9   \n",
              "147                6.5               3.0                5.2               2.0   \n",
              "148                6.2               3.4                5.4               2.3   \n",
              "149                5.9               3.0                5.1               1.8   \n",
              "\n",
              "     target  \n",
              "0         0  \n",
              "1         0  \n",
              "2         0  \n",
              "3         0  \n",
              "4         0  \n",
              "..      ...  \n",
              "145       2  \n",
              "146       2  \n",
              "147       2  \n",
              "148       2  \n",
              "149       2  \n",
              "\n",
              "[150 rows x 5 columns]"
            ],
            "text/html": [
              "\n",
              "  <div id=\"df-605f4d60-4fcc-4d06-a3f2-18a21fbc351c\">\n",
              "    <div class=\"colab-df-container\">\n",
              "      <div>\n",
              "<style scoped>\n",
              "    .dataframe tbody tr th:only-of-type {\n",
              "        vertical-align: middle;\n",
              "    }\n",
              "\n",
              "    .dataframe tbody tr th {\n",
              "        vertical-align: top;\n",
              "    }\n",
              "\n",
              "    .dataframe thead th {\n",
              "        text-align: right;\n",
              "    }\n",
              "</style>\n",
              "<table border=\"1\" class=\"dataframe\">\n",
              "  <thead>\n",
              "    <tr style=\"text-align: right;\">\n",
              "      <th></th>\n",
              "      <th>sepal length (cm)</th>\n",
              "      <th>sepal width (cm)</th>\n",
              "      <th>petal length (cm)</th>\n",
              "      <th>petal width (cm)</th>\n",
              "      <th>target</th>\n",
              "    </tr>\n",
              "  </thead>\n",
              "  <tbody>\n",
              "    <tr>\n",
              "      <th>0</th>\n",
              "      <td>5.1</td>\n",
              "      <td>3.5</td>\n",
              "      <td>1.4</td>\n",
              "      <td>0.2</td>\n",
              "      <td>0</td>\n",
              "    </tr>\n",
              "    <tr>\n",
              "      <th>1</th>\n",
              "      <td>4.9</td>\n",
              "      <td>3.0</td>\n",
              "      <td>1.4</td>\n",
              "      <td>0.2</td>\n",
              "      <td>0</td>\n",
              "    </tr>\n",
              "    <tr>\n",
              "      <th>2</th>\n",
              "      <td>4.7</td>\n",
              "      <td>3.2</td>\n",
              "      <td>1.3</td>\n",
              "      <td>0.2</td>\n",
              "      <td>0</td>\n",
              "    </tr>\n",
              "    <tr>\n",
              "      <th>3</th>\n",
              "      <td>4.6</td>\n",
              "      <td>3.1</td>\n",
              "      <td>1.5</td>\n",
              "      <td>0.2</td>\n",
              "      <td>0</td>\n",
              "    </tr>\n",
              "    <tr>\n",
              "      <th>4</th>\n",
              "      <td>5.0</td>\n",
              "      <td>3.6</td>\n",
              "      <td>1.4</td>\n",
              "      <td>0.2</td>\n",
              "      <td>0</td>\n",
              "    </tr>\n",
              "    <tr>\n",
              "      <th>...</th>\n",
              "      <td>...</td>\n",
              "      <td>...</td>\n",
              "      <td>...</td>\n",
              "      <td>...</td>\n",
              "      <td>...</td>\n",
              "    </tr>\n",
              "    <tr>\n",
              "      <th>145</th>\n",
              "      <td>6.7</td>\n",
              "      <td>3.0</td>\n",
              "      <td>5.2</td>\n",
              "      <td>2.3</td>\n",
              "      <td>2</td>\n",
              "    </tr>\n",
              "    <tr>\n",
              "      <th>146</th>\n",
              "      <td>6.3</td>\n",
              "      <td>2.5</td>\n",
              "      <td>5.0</td>\n",
              "      <td>1.9</td>\n",
              "      <td>2</td>\n",
              "    </tr>\n",
              "    <tr>\n",
              "      <th>147</th>\n",
              "      <td>6.5</td>\n",
              "      <td>3.0</td>\n",
              "      <td>5.2</td>\n",
              "      <td>2.0</td>\n",
              "      <td>2</td>\n",
              "    </tr>\n",
              "    <tr>\n",
              "      <th>148</th>\n",
              "      <td>6.2</td>\n",
              "      <td>3.4</td>\n",
              "      <td>5.4</td>\n",
              "      <td>2.3</td>\n",
              "      <td>2</td>\n",
              "    </tr>\n",
              "    <tr>\n",
              "      <th>149</th>\n",
              "      <td>5.9</td>\n",
              "      <td>3.0</td>\n",
              "      <td>5.1</td>\n",
              "      <td>1.8</td>\n",
              "      <td>2</td>\n",
              "    </tr>\n",
              "  </tbody>\n",
              "</table>\n",
              "<p>150 rows × 5 columns</p>\n",
              "</div>\n",
              "      <button class=\"colab-df-convert\" onclick=\"convertToInteractive('df-605f4d60-4fcc-4d06-a3f2-18a21fbc351c')\"\n",
              "              title=\"Convert this dataframe to an interactive table.\"\n",
              "              style=\"display:none;\">\n",
              "        \n",
              "  <svg xmlns=\"http://www.w3.org/2000/svg\" height=\"24px\"viewBox=\"0 0 24 24\"\n",
              "       width=\"24px\">\n",
              "    <path d=\"M0 0h24v24H0V0z\" fill=\"none\"/>\n",
              "    <path d=\"M18.56 5.44l.94 2.06.94-2.06 2.06-.94-2.06-.94-.94-2.06-.94 2.06-2.06.94zm-11 1L8.5 8.5l.94-2.06 2.06-.94-2.06-.94L8.5 2.5l-.94 2.06-2.06.94zm10 10l.94 2.06.94-2.06 2.06-.94-2.06-.94-.94-2.06-.94 2.06-2.06.94z\"/><path d=\"M17.41 7.96l-1.37-1.37c-.4-.4-.92-.59-1.43-.59-.52 0-1.04.2-1.43.59L10.3 9.45l-7.72 7.72c-.78.78-.78 2.05 0 2.83L4 21.41c.39.39.9.59 1.41.59.51 0 1.02-.2 1.41-.59l7.78-7.78 2.81-2.81c.8-.78.8-2.07 0-2.86zM5.41 20L4 18.59l7.72-7.72 1.47 1.35L5.41 20z\"/>\n",
              "  </svg>\n",
              "      </button>\n",
              "      \n",
              "  <style>\n",
              "    .colab-df-container {\n",
              "      display:flex;\n",
              "      flex-wrap:wrap;\n",
              "      gap: 12px;\n",
              "    }\n",
              "\n",
              "    .colab-df-convert {\n",
              "      background-color: #E8F0FE;\n",
              "      border: none;\n",
              "      border-radius: 50%;\n",
              "      cursor: pointer;\n",
              "      display: none;\n",
              "      fill: #1967D2;\n",
              "      height: 32px;\n",
              "      padding: 0 0 0 0;\n",
              "      width: 32px;\n",
              "    }\n",
              "\n",
              "    .colab-df-convert:hover {\n",
              "      background-color: #E2EBFA;\n",
              "      box-shadow: 0px 1px 2px rgba(60, 64, 67, 0.3), 0px 1px 3px 1px rgba(60, 64, 67, 0.15);\n",
              "      fill: #174EA6;\n",
              "    }\n",
              "\n",
              "    [theme=dark] .colab-df-convert {\n",
              "      background-color: #3B4455;\n",
              "      fill: #D2E3FC;\n",
              "    }\n",
              "\n",
              "    [theme=dark] .colab-df-convert:hover {\n",
              "      background-color: #434B5C;\n",
              "      box-shadow: 0px 1px 3px 1px rgba(0, 0, 0, 0.15);\n",
              "      filter: drop-shadow(0px 1px 2px rgba(0, 0, 0, 0.3));\n",
              "      fill: #FFFFFF;\n",
              "    }\n",
              "  </style>\n",
              "\n",
              "      <script>\n",
              "        const buttonEl =\n",
              "          document.querySelector('#df-605f4d60-4fcc-4d06-a3f2-18a21fbc351c button.colab-df-convert');\n",
              "        buttonEl.style.display =\n",
              "          google.colab.kernel.accessAllowed ? 'block' : 'none';\n",
              "\n",
              "        async function convertToInteractive(key) {\n",
              "          const element = document.querySelector('#df-605f4d60-4fcc-4d06-a3f2-18a21fbc351c');\n",
              "          const dataTable =\n",
              "            await google.colab.kernel.invokeFunction('convertToInteractive',\n",
              "                                                     [key], {});\n",
              "          if (!dataTable) return;\n",
              "\n",
              "          const docLinkHtml = 'Like what you see? Visit the ' +\n",
              "            '<a target=\"_blank\" href=https://colab.research.google.com/notebooks/data_table.ipynb>data table notebook</a>'\n",
              "            + ' to learn more about interactive tables.';\n",
              "          element.innerHTML = '';\n",
              "          dataTable['output_type'] = 'display_data';\n",
              "          await google.colab.output.renderOutput(dataTable, element);\n",
              "          const docLink = document.createElement('div');\n",
              "          docLink.innerHTML = docLinkHtml;\n",
              "          element.appendChild(docLink);\n",
              "        }\n",
              "      </script>\n",
              "    </div>\n",
              "  </div>\n",
              "  "
            ]
          },
          "metadata": {},
          "execution_count": 9
        }
      ]
    },
    {
      "cell_type": "markdown",
      "source": [
        "## 二, 数据预处理\n",
        "\n",
        "预处理数据包括: 数据的标准化, 数据的归一化, 数据的二值化, 非线性转换, 数据特征编码, 处理缺失值等"
      ],
      "metadata": {
        "id": "Xx1mx43sHCGy"
      }
    },
    {
      "cell_type": "code",
      "source": [
        "from sklearn import preprocessing\n",
        "# 实例化接口\n",
        "scaler = preprocessing.MinMaxScaler() # MinMaxScaler 将样本特征值线性缩放到0,1之间\n",
        "scaler.fit(iris.data) # 先fit\n",
        "data = scaler.transform(iris.data) # 再transform. 也可以二合一写fit_transform \n",
        "target = iris.target"
      ],
      "metadata": {
        "id": "rWoFjqrbG6T_"
      },
      "execution_count": null,
      "outputs": []
    },
    {
      "cell_type": "code",
      "source": [
        "data"
      ],
      "metadata": {
        "colab": {
          "base_uri": "https://localhost:8080/"
        },
        "id": "SDjFARzNSzCt",
        "outputId": "9b3549ea-a7ae-4699-f1a9-8cd4fa3ba332"
      },
      "execution_count": null,
      "outputs": [
        {
          "output_type": "execute_result",
          "data": {
            "text/plain": [
              "array([[0.22222222, 0.625     , 0.06779661, 0.04166667],\n",
              "       [0.16666667, 0.41666667, 0.06779661, 0.04166667],\n",
              "       [0.11111111, 0.5       , 0.05084746, 0.04166667],\n",
              "       [0.08333333, 0.45833333, 0.08474576, 0.04166667],\n",
              "       [0.19444444, 0.66666667, 0.06779661, 0.04166667],\n",
              "       [0.30555556, 0.79166667, 0.11864407, 0.125     ],\n",
              "       [0.08333333, 0.58333333, 0.06779661, 0.08333333],\n",
              "       [0.19444444, 0.58333333, 0.08474576, 0.04166667],\n",
              "       [0.02777778, 0.375     , 0.06779661, 0.04166667],\n",
              "       [0.16666667, 0.45833333, 0.08474576, 0.        ],\n",
              "       [0.30555556, 0.70833333, 0.08474576, 0.04166667],\n",
              "       [0.13888889, 0.58333333, 0.10169492, 0.04166667],\n",
              "       [0.13888889, 0.41666667, 0.06779661, 0.        ],\n",
              "       [0.        , 0.41666667, 0.01694915, 0.        ],\n",
              "       [0.41666667, 0.83333333, 0.03389831, 0.04166667],\n",
              "       [0.38888889, 1.        , 0.08474576, 0.125     ],\n",
              "       [0.30555556, 0.79166667, 0.05084746, 0.125     ],\n",
              "       [0.22222222, 0.625     , 0.06779661, 0.08333333],\n",
              "       [0.38888889, 0.75      , 0.11864407, 0.08333333],\n",
              "       [0.22222222, 0.75      , 0.08474576, 0.08333333],\n",
              "       [0.30555556, 0.58333333, 0.11864407, 0.04166667],\n",
              "       [0.22222222, 0.70833333, 0.08474576, 0.125     ],\n",
              "       [0.08333333, 0.66666667, 0.        , 0.04166667],\n",
              "       [0.22222222, 0.54166667, 0.11864407, 0.16666667],\n",
              "       [0.13888889, 0.58333333, 0.15254237, 0.04166667],\n",
              "       [0.19444444, 0.41666667, 0.10169492, 0.04166667],\n",
              "       [0.19444444, 0.58333333, 0.10169492, 0.125     ],\n",
              "       [0.25      , 0.625     , 0.08474576, 0.04166667],\n",
              "       [0.25      , 0.58333333, 0.06779661, 0.04166667],\n",
              "       [0.11111111, 0.5       , 0.10169492, 0.04166667],\n",
              "       [0.13888889, 0.45833333, 0.10169492, 0.04166667],\n",
              "       [0.30555556, 0.58333333, 0.08474576, 0.125     ],\n",
              "       [0.25      , 0.875     , 0.08474576, 0.        ],\n",
              "       [0.33333333, 0.91666667, 0.06779661, 0.04166667],\n",
              "       [0.16666667, 0.45833333, 0.08474576, 0.04166667],\n",
              "       [0.19444444, 0.5       , 0.03389831, 0.04166667],\n",
              "       [0.33333333, 0.625     , 0.05084746, 0.04166667],\n",
              "       [0.16666667, 0.66666667, 0.06779661, 0.        ],\n",
              "       [0.02777778, 0.41666667, 0.05084746, 0.04166667],\n",
              "       [0.22222222, 0.58333333, 0.08474576, 0.04166667],\n",
              "       [0.19444444, 0.625     , 0.05084746, 0.08333333],\n",
              "       [0.05555556, 0.125     , 0.05084746, 0.08333333],\n",
              "       [0.02777778, 0.5       , 0.05084746, 0.04166667],\n",
              "       [0.19444444, 0.625     , 0.10169492, 0.20833333],\n",
              "       [0.22222222, 0.75      , 0.15254237, 0.125     ],\n",
              "       [0.13888889, 0.41666667, 0.06779661, 0.08333333],\n",
              "       [0.22222222, 0.75      , 0.10169492, 0.04166667],\n",
              "       [0.08333333, 0.5       , 0.06779661, 0.04166667],\n",
              "       [0.27777778, 0.70833333, 0.08474576, 0.04166667],\n",
              "       [0.19444444, 0.54166667, 0.06779661, 0.04166667],\n",
              "       [0.75      , 0.5       , 0.62711864, 0.54166667],\n",
              "       [0.58333333, 0.5       , 0.59322034, 0.58333333],\n",
              "       [0.72222222, 0.45833333, 0.66101695, 0.58333333],\n",
              "       [0.33333333, 0.125     , 0.50847458, 0.5       ],\n",
              "       [0.61111111, 0.33333333, 0.61016949, 0.58333333],\n",
              "       [0.38888889, 0.33333333, 0.59322034, 0.5       ],\n",
              "       [0.55555556, 0.54166667, 0.62711864, 0.625     ],\n",
              "       [0.16666667, 0.16666667, 0.38983051, 0.375     ],\n",
              "       [0.63888889, 0.375     , 0.61016949, 0.5       ],\n",
              "       [0.25      , 0.29166667, 0.49152542, 0.54166667],\n",
              "       [0.19444444, 0.        , 0.42372881, 0.375     ],\n",
              "       [0.44444444, 0.41666667, 0.54237288, 0.58333333],\n",
              "       [0.47222222, 0.08333333, 0.50847458, 0.375     ],\n",
              "       [0.5       , 0.375     , 0.62711864, 0.54166667],\n",
              "       [0.36111111, 0.375     , 0.44067797, 0.5       ],\n",
              "       [0.66666667, 0.45833333, 0.57627119, 0.54166667],\n",
              "       [0.36111111, 0.41666667, 0.59322034, 0.58333333],\n",
              "       [0.41666667, 0.29166667, 0.52542373, 0.375     ],\n",
              "       [0.52777778, 0.08333333, 0.59322034, 0.58333333],\n",
              "       [0.36111111, 0.20833333, 0.49152542, 0.41666667],\n",
              "       [0.44444444, 0.5       , 0.6440678 , 0.70833333],\n",
              "       [0.5       , 0.33333333, 0.50847458, 0.5       ],\n",
              "       [0.55555556, 0.20833333, 0.66101695, 0.58333333],\n",
              "       [0.5       , 0.33333333, 0.62711864, 0.45833333],\n",
              "       [0.58333333, 0.375     , 0.55932203, 0.5       ],\n",
              "       [0.63888889, 0.41666667, 0.57627119, 0.54166667],\n",
              "       [0.69444444, 0.33333333, 0.6440678 , 0.54166667],\n",
              "       [0.66666667, 0.41666667, 0.6779661 , 0.66666667],\n",
              "       [0.47222222, 0.375     , 0.59322034, 0.58333333],\n",
              "       [0.38888889, 0.25      , 0.42372881, 0.375     ],\n",
              "       [0.33333333, 0.16666667, 0.47457627, 0.41666667],\n",
              "       [0.33333333, 0.16666667, 0.45762712, 0.375     ],\n",
              "       [0.41666667, 0.29166667, 0.49152542, 0.45833333],\n",
              "       [0.47222222, 0.29166667, 0.69491525, 0.625     ],\n",
              "       [0.30555556, 0.41666667, 0.59322034, 0.58333333],\n",
              "       [0.47222222, 0.58333333, 0.59322034, 0.625     ],\n",
              "       [0.66666667, 0.45833333, 0.62711864, 0.58333333],\n",
              "       [0.55555556, 0.125     , 0.57627119, 0.5       ],\n",
              "       [0.36111111, 0.41666667, 0.52542373, 0.5       ],\n",
              "       [0.33333333, 0.20833333, 0.50847458, 0.5       ],\n",
              "       [0.33333333, 0.25      , 0.57627119, 0.45833333],\n",
              "       [0.5       , 0.41666667, 0.61016949, 0.54166667],\n",
              "       [0.41666667, 0.25      , 0.50847458, 0.45833333],\n",
              "       [0.19444444, 0.125     , 0.38983051, 0.375     ],\n",
              "       [0.36111111, 0.29166667, 0.54237288, 0.5       ],\n",
              "       [0.38888889, 0.41666667, 0.54237288, 0.45833333],\n",
              "       [0.38888889, 0.375     , 0.54237288, 0.5       ],\n",
              "       [0.52777778, 0.375     , 0.55932203, 0.5       ],\n",
              "       [0.22222222, 0.20833333, 0.33898305, 0.41666667],\n",
              "       [0.38888889, 0.33333333, 0.52542373, 0.5       ],\n",
              "       [0.55555556, 0.54166667, 0.84745763, 1.        ],\n",
              "       [0.41666667, 0.29166667, 0.69491525, 0.75      ],\n",
              "       [0.77777778, 0.41666667, 0.83050847, 0.83333333],\n",
              "       [0.55555556, 0.375     , 0.77966102, 0.70833333],\n",
              "       [0.61111111, 0.41666667, 0.81355932, 0.875     ],\n",
              "       [0.91666667, 0.41666667, 0.94915254, 0.83333333],\n",
              "       [0.16666667, 0.20833333, 0.59322034, 0.66666667],\n",
              "       [0.83333333, 0.375     , 0.89830508, 0.70833333],\n",
              "       [0.66666667, 0.20833333, 0.81355932, 0.70833333],\n",
              "       [0.80555556, 0.66666667, 0.86440678, 1.        ],\n",
              "       [0.61111111, 0.5       , 0.69491525, 0.79166667],\n",
              "       [0.58333333, 0.29166667, 0.72881356, 0.75      ],\n",
              "       [0.69444444, 0.41666667, 0.76271186, 0.83333333],\n",
              "       [0.38888889, 0.20833333, 0.6779661 , 0.79166667],\n",
              "       [0.41666667, 0.33333333, 0.69491525, 0.95833333],\n",
              "       [0.58333333, 0.5       , 0.72881356, 0.91666667],\n",
              "       [0.61111111, 0.41666667, 0.76271186, 0.70833333],\n",
              "       [0.94444444, 0.75      , 0.96610169, 0.875     ],\n",
              "       [0.94444444, 0.25      , 1.        , 0.91666667],\n",
              "       [0.47222222, 0.08333333, 0.6779661 , 0.58333333],\n",
              "       [0.72222222, 0.5       , 0.79661017, 0.91666667],\n",
              "       [0.36111111, 0.33333333, 0.66101695, 0.79166667],\n",
              "       [0.94444444, 0.33333333, 0.96610169, 0.79166667],\n",
              "       [0.55555556, 0.29166667, 0.66101695, 0.70833333],\n",
              "       [0.66666667, 0.54166667, 0.79661017, 0.83333333],\n",
              "       [0.80555556, 0.5       , 0.84745763, 0.70833333],\n",
              "       [0.52777778, 0.33333333, 0.6440678 , 0.70833333],\n",
              "       [0.5       , 0.41666667, 0.66101695, 0.70833333],\n",
              "       [0.58333333, 0.33333333, 0.77966102, 0.83333333],\n",
              "       [0.80555556, 0.41666667, 0.81355932, 0.625     ],\n",
              "       [0.86111111, 0.33333333, 0.86440678, 0.75      ],\n",
              "       [1.        , 0.75      , 0.91525424, 0.79166667],\n",
              "       [0.58333333, 0.33333333, 0.77966102, 0.875     ],\n",
              "       [0.55555556, 0.33333333, 0.69491525, 0.58333333],\n",
              "       [0.5       , 0.25      , 0.77966102, 0.54166667],\n",
              "       [0.94444444, 0.41666667, 0.86440678, 0.91666667],\n",
              "       [0.55555556, 0.58333333, 0.77966102, 0.95833333],\n",
              "       [0.58333333, 0.45833333, 0.76271186, 0.70833333],\n",
              "       [0.47222222, 0.41666667, 0.6440678 , 0.70833333],\n",
              "       [0.72222222, 0.45833333, 0.74576271, 0.83333333],\n",
              "       [0.66666667, 0.45833333, 0.77966102, 0.95833333],\n",
              "       [0.72222222, 0.45833333, 0.69491525, 0.91666667],\n",
              "       [0.41666667, 0.29166667, 0.69491525, 0.75      ],\n",
              "       [0.69444444, 0.5       , 0.83050847, 0.91666667],\n",
              "       [0.66666667, 0.54166667, 0.79661017, 1.        ],\n",
              "       [0.66666667, 0.41666667, 0.71186441, 0.91666667],\n",
              "       [0.55555556, 0.20833333, 0.6779661 , 0.75      ],\n",
              "       [0.61111111, 0.41666667, 0.71186441, 0.79166667],\n",
              "       [0.52777778, 0.58333333, 0.74576271, 0.91666667],\n",
              "       [0.44444444, 0.41666667, 0.69491525, 0.70833333]])"
            ]
          },
          "metadata": {},
          "execution_count": 11
        }
      ]
    },
    {
      "cell_type": "markdown",
      "source": [
        "## 三, 模型的训练\n",
        "\n",
        "根据问题特点选择适当的估计器estimate模型:分类(SVC, KNN, LR, NaiveBayes,...) 回归(Lasso, ElasicNet, SVR, ...) 聚类(KMeans,...)降维(PCA,...)\n",
        "\n",
        "我们当前的问题时根据特征预测鸢尾花的类型, 属于代标签的分类问题, 并且samples个数为150个小于100k, 所以根据sklearn使用地图我们选择Linear SVC 模型进行分类."
      ],
      "metadata": {
        "id": "ui7ouiokKEEB"
      }
    },
    {
      "cell_type": "code",
      "source": [
        "from sklearn.model_selection import train_test_split\n",
        "X_train, X_test, y_train, y_test = train_test_split(data,target, test_size=1/3)\n",
        "len(X_train), len(X_test)"
      ],
      "metadata": {
        "colab": {
          "base_uri": "https://localhost:8080/"
        },
        "id": "ydIdn0l0InwB",
        "outputId": "452d683b-1969-4fbb-e0f2-6a6909b5067b"
      },
      "execution_count": null,
      "outputs": [
        {
          "output_type": "execute_result",
          "data": {
            "text/plain": [
              "(100, 50)"
            ]
          },
          "metadata": {},
          "execution_count": 12
        }
      ]
    },
    {
      "cell_type": "code",
      "source": [
        "y_test"
      ],
      "metadata": {
        "colab": {
          "base_uri": "https://localhost:8080/"
        },
        "id": "1x2NF_piTQjN",
        "outputId": "51f3e987-78f2-43d4-a9ac-3ab6d3a92f2a"
      },
      "execution_count": null,
      "outputs": [
        {
          "output_type": "execute_result",
          "data": {
            "text/plain": [
              "array([0, 1, 2, 1, 0, 2, 0, 0, 1, 0, 2, 1, 0, 2, 2, 1, 0, 0, 2, 0, 0, 2,\n",
              "       1, 1, 0, 2, 0, 2, 1, 0, 1, 2, 2, 0, 1, 1, 0, 1, 1, 2, 1, 2, 1, 2,\n",
              "       1, 1, 2, 0, 2, 2])"
            ]
          },
          "metadata": {},
          "execution_count": 13
        }
      ]
    },
    {
      "cell_type": "code",
      "source": [
        "from sklearn import svm  # 导入支持向量机模块\n",
        "clf = svm.SVC(kernel='linear', C=1, probability=True) # 实例化向量机分类器\n",
        "clf.fit(X_train,y_train) #用训练集数据fit模型\n",
        "clf.predict(X_test) - y_test"
      ],
      "metadata": {
        "colab": {
          "base_uri": "https://localhost:8080/"
        },
        "id": "VM21Ch-bTUd9",
        "outputId": "6fd76048-4c4c-448e-a9cd-07e66c697818"
      },
      "execution_count": null,
      "outputs": [
        {
          "output_type": "execute_result",
          "data": {
            "text/plain": [
              "array([ 0,  1,  0,  0,  0,  0,  0,  0,  0,  0,  0,  0,  0,  0, -1,  0,  0,\n",
              "        0,  0,  0,  0,  0,  0,  0,  0,  0,  0,  0,  0,  0,  0,  0,  0,  0,\n",
              "        0,  0,  0,  0,  0,  0,  0,  0,  0,  0,  0,  0,  0,  0,  0,  0])"
            ]
          },
          "metadata": {},
          "execution_count": 14
        }
      ]
    },
    {
      "cell_type": "code",
      "source": [
        "# 查看参数\n",
        "clf.get_params()\n",
        "# clf.C"
      ],
      "metadata": {
        "colab": {
          "base_uri": "https://localhost:8080/"
        },
        "id": "I5zRks8KT-dd",
        "outputId": "a9fc13f0-515b-4f68-b340-3b692922910b"
      },
      "execution_count": null,
      "outputs": [
        {
          "output_type": "execute_result",
          "data": {
            "text/plain": [
              "{'C': 1,\n",
              " 'break_ties': False,\n",
              " 'cache_size': 200,\n",
              " 'class_weight': None,\n",
              " 'coef0': 0.0,\n",
              " 'decision_function_shape': 'ovr',\n",
              " 'degree': 3,\n",
              " 'gamma': 'scale',\n",
              " 'kernel': 'linear',\n",
              " 'max_iter': -1,\n",
              " 'probability': True,\n",
              " 'random_state': None,\n",
              " 'shrinking': True,\n",
              " 'tol': 0.001,\n",
              " 'verbose': False}"
            ]
          },
          "metadata": {},
          "execution_count": 15
        }
      ]
    },
    {
      "cell_type": "code",
      "source": [
        "clf.predict_proba(X_test) # 预测为对应结果的概率"
      ],
      "metadata": {
        "colab": {
          "base_uri": "https://localhost:8080/"
        },
        "id": "vqnlPtTVam7p",
        "outputId": "4df4bee4-ba32-4a41-be82-f3bcfd42845a"
      },
      "execution_count": null,
      "outputs": [
        {
          "output_type": "execute_result",
          "data": {
            "text/plain": [
              "array([[9.56175368e-01, 2.76050084e-02, 1.62196231e-02],\n",
              "       [2.58511927e-02, 3.81228628e-01, 5.92920179e-01],\n",
              "       [1.79823086e-02, 1.31694069e-01, 8.50323622e-01],\n",
              "       [1.45682196e-02, 7.07810001e-01, 2.77621780e-01],\n",
              "       [9.72955132e-01, 1.54276595e-02, 1.16172084e-02],\n",
              "       [4.26728541e-03, 9.36251946e-04, 9.94796463e-01],\n",
              "       [9.64536340e-01, 2.27497218e-02, 1.27139385e-02],\n",
              "       [9.45494226e-01, 3.97671292e-02, 1.47386452e-02],\n",
              "       [2.57614191e-02, 7.74688581e-01, 1.99550000e-01],\n",
              "       [9.86340162e-01, 6.33855777e-03, 7.32128056e-03],\n",
              "       [1.09880182e-02, 1.03057736e-02, 9.78706208e-01],\n",
              "       [1.44023166e-02, 8.36711107e-01, 1.48886576e-01],\n",
              "       [9.64098925e-01, 2.39830947e-02, 1.19179800e-02],\n",
              "       [4.71464665e-03, 1.19456920e-03, 9.94090784e-01],\n",
              "       [1.71594823e-02, 5.34653312e-01, 4.48187205e-01],\n",
              "       [2.47721208e-02, 9.64448628e-01, 1.07792510e-02],\n",
              "       [9.76093257e-01, 1.34821518e-02, 1.04245909e-02],\n",
              "       [9.80691786e-01, 8.96377392e-03, 1.03444404e-02],\n",
              "       [5.54240631e-03, 7.73912477e-03, 9.86718469e-01],\n",
              "       [9.62576402e-01, 2.46386456e-02, 1.27849521e-02],\n",
              "       [9.54736736e-01, 3.20097148e-02, 1.32535491e-02],\n",
              "       [4.22395797e-03, 7.55047861e-04, 9.95020994e-01],\n",
              "       [1.97566967e-02, 8.00657281e-01, 1.79586022e-01],\n",
              "       [1.78064518e-02, 8.60544002e-01, 1.21649547e-01],\n",
              "       [9.62654920e-01, 2.42627469e-02, 1.30823329e-02],\n",
              "       [6.43447588e-03, 1.11514696e-02, 9.82414055e-01],\n",
              "       [8.42864013e-01, 1.32467253e-01, 2.46687340e-02],\n",
              "       [9.39850381e-03, 9.18420783e-03, 9.81417288e-01],\n",
              "       [1.08577971e-02, 9.62497867e-01, 2.66443357e-02],\n",
              "       [9.80798607e-01, 1.09576199e-02, 8.24377355e-03],\n",
              "       [2.00501656e-02, 5.64130807e-01, 4.15819027e-01],\n",
              "       [2.63072014e-03, 1.14927036e-03, 9.96220009e-01],\n",
              "       [8.66643592e-03, 1.30393836e-02, 9.78294180e-01],\n",
              "       [9.59240821e-01, 2.44020935e-02, 1.63570855e-02],\n",
              "       [2.42305256e-02, 9.66061603e-01, 9.70787128e-03],\n",
              "       [3.31210320e-02, 9.55263464e-01, 1.16155042e-02],\n",
              "       [9.65274843e-01, 2.20138812e-02, 1.27112763e-02],\n",
              "       [1.72990264e-02, 9.51213234e-01, 3.14877393e-02],\n",
              "       [1.42374531e-02, 5.72523591e-01, 4.13238956e-01],\n",
              "       [2.11546578e-02, 2.37365202e-01, 7.41480140e-01],\n",
              "       [8.26945172e-02, 8.98196984e-01, 1.91084984e-02],\n",
              "       [5.89958417e-03, 3.04473358e-03, 9.91055682e-01],\n",
              "       [2.32901405e-02, 9.50783412e-01, 2.59264474e-02],\n",
              "       [7.88954957e-03, 8.67926957e-03, 9.83431181e-01],\n",
              "       [1.54601082e-02, 9.28332498e-01, 5.62073938e-02],\n",
              "       [1.51538240e-02, 9.33227170e-01, 5.16190056e-02],\n",
              "       [1.60444522e-02, 1.31455599e-01, 8.52499948e-01],\n",
              "       [9.49862536e-01, 3.38798181e-02, 1.62576464e-02],\n",
              "       [1.60444522e-02, 1.31455599e-01, 8.52499948e-01],\n",
              "       [2.88372046e-03, 9.60439061e-04, 9.96155840e-01]])"
            ]
          },
          "metadata": {},
          "execution_count": 16
        }
      ]
    },
    {
      "cell_type": "code",
      "source": [
        "# 查看模型的得分\n",
        "clf.score(X_test,y_test) # 这里得到的时accuracy rate\n",
        "# 对不同类型的模型有不同的评分算法, 由score方法内部所定义"
      ],
      "metadata": {
        "colab": {
          "base_uri": "https://localhost:8080/"
        },
        "id": "PHh88zCxbW26",
        "outputId": "af0a5f7f-b4af-4704-b878-d363eceb7810"
      },
      "execution_count": null,
      "outputs": [
        {
          "output_type": "execute_result",
          "data": {
            "text/plain": [
              "0.96"
            ]
          },
          "metadata": {},
          "execution_count": 17
        }
      ]
    },
    {
      "cell_type": "markdown",
      "source": [
        "## 四, 模型的评估\n",
        "\n",
        "模型的评估和模型的优化相关功能在sklearn.model_selection模块中. \n",
        "\n",
        "除了使用estimator的score函数简单粗略地评估模型的质量外, \n",
        "在sklearn.metrics模块针对不同的问题类型提供了各种评估指标并且可以创建用户自定义的评估指标.\n",
        "\n",
        "可以采用交叉验证方法评估模型的泛化能力, 能够有效避免过度拟合.\n",
        "\n",
        "K折交叉验证(K=10)示意图\n",
        "K-fold cross validation\n",
        "\n"
      ],
      "metadata": {
        "id": "XmoZNfaSac2b"
      }
    },
    {
      "cell_type": "code",
      "source": [
        "# 分类模型评分报告\n",
        "from sklearn.metrics import classification_report\n",
        "print(classification_report(target,clf.predict(data),target_names=iris.target_names))\n"
      ],
      "metadata": {
        "colab": {
          "base_uri": "https://localhost:8080/"
        },
        "id": "zURkMLlDadeU",
        "outputId": "98778a29-f036-45f8-967a-55eb81bb2563"
      },
      "execution_count": null,
      "outputs": [
        {
          "output_type": "stream",
          "name": "stdout",
          "text": [
            "              precision    recall  f1-score   support\n",
            "\n",
            "      setosa       1.00      1.00      1.00        50\n",
            "  versicolor       0.92      0.96      0.94        50\n",
            "   virginica       0.96      0.92      0.94        50\n",
            "\n",
            "    accuracy                           0.96       150\n",
            "   macro avg       0.96      0.96      0.96       150\n",
            "weighted avg       0.96      0.96      0.96       150\n",
            "\n"
          ]
        }
      ]
    },
    {
      "cell_type": "code",
      "source": [
        "# from sklearn import metrics\n",
        "# metrics.\n",
        "# from sklearn import model_selection\n",
        "# model_selection."
      ],
      "metadata": {
        "id": "7aH3ks-wgQqx"
      },
      "execution_count": null,
      "outputs": []
    },
    {
      "cell_type": "code",
      "source": [
        "from sklearn.model_selection import cross_val_score\n",
        "scores = cross_val_score(clf,data,target,cv=5) # 采用5折交叉验证\n",
        "print(scores)\n",
        "\n",
        "# 平均得分和95%置信区间\n",
        "print(\"Accuracy: %0.2f(+/-%0.2f)\"%(scores.mean(),scores.std()*2))"
      ],
      "metadata": {
        "colab": {
          "base_uri": "https://localhost:8080/"
        },
        "id": "42M4wFpZhO_k",
        "outputId": "20f7bc34-37fe-4a5b-c8e6-9ece43e48d19"
      },
      "execution_count": null,
      "outputs": [
        {
          "output_type": "stream",
          "name": "stdout",
          "text": [
            "[0.96666667 0.96666667 0.96666667 0.93333333 1.        ]\n",
            "Accuracy: 0.97(+/-0.04)\n"
          ]
        }
      ]
    },
    {
      "cell_type": "markdown",
      "source": [
        "## 五, 模型的优化\n",
        "\n",
        "优化模型的方法包括网格搜索法,随机搜索法, 模型待定交叉验证,信息准则优化.\n",
        "\n",
        "网格搜索法在指定的超参数空间中对每一种可能的情况进行交叉验证评分并选出最好的超参数组合.\n",
        "\n"
      ],
      "metadata": {
        "id": "SoQjdnqqikDT"
      }
    },
    {
      "cell_type": "code",
      "source": [
        "from sklearn import svm \n",
        "from sklearn.model_selection import GridSearchCV\n",
        "\n",
        "# 估计器\n",
        "svc = svm.SVC()\n",
        "\n",
        "# 超参数空间\n",
        "param_grid = [{'C':[0.1,1,10,100,1000],'kernel':['linear']}, # 五种可能\n",
        "              {'C':[0.1,1,10,100,1000],'gamma':[0.001,0.01],'kernel':['rbf']}] # 10种可能, total=15种可能\n",
        "\n",
        "# 打分函数\n",
        "scoring = 'accuracy'\n",
        "\n",
        "# 指定采样方法\n",
        "clf = GridSearchCV(svc,param_grid,scoring=scoring,cv=10)\n",
        "clf.fit(data,target) # 得到的clf是一个优化了的分类器\n",
        "\n",
        "clf.predict(data) #用优化了的分类器进行分类\n",
        "print(clf.get_params()) # 查看全部参数\n",
        "print(clf.best_params_) # 查看最优参数\n",
        "\n",
        "clf.best_score_"
      ],
      "metadata": {
        "colab": {
          "base_uri": "https://localhost:8080/"
        },
        "id": "X-oCRGZV3HvG",
        "outputId": "a627ef94-07af-46f1-8b82-69817d0bd0f7"
      },
      "execution_count": null,
      "outputs": [
        {
          "output_type": "stream",
          "name": "stdout",
          "text": [
            "{'cv': 10, 'error_score': nan, 'estimator__C': 1.0, 'estimator__break_ties': False, 'estimator__cache_size': 200, 'estimator__class_weight': None, 'estimator__coef0': 0.0, 'estimator__decision_function_shape': 'ovr', 'estimator__degree': 3, 'estimator__gamma': 'scale', 'estimator__kernel': 'rbf', 'estimator__max_iter': -1, 'estimator__probability': False, 'estimator__random_state': None, 'estimator__shrinking': True, 'estimator__tol': 0.001, 'estimator__verbose': False, 'estimator': SVC(), 'n_jobs': None, 'param_grid': [{'C': [0.1, 1, 10, 100, 1000], 'kernel': ['linear']}, {'C': [0.1, 1, 10, 100, 1000], 'gamma': [0.001, 0.01], 'kernel': ['rbf']}], 'pre_dispatch': '2*n_jobs', 'refit': True, 'return_train_score': False, 'scoring': 'accuracy', 'verbose': 0}\n",
            "{'C': 1000, 'kernel': 'linear'}\n"
          ]
        },
        {
          "output_type": "execute_result",
          "data": {
            "text/plain": [
              "0.9733333333333334"
            ]
          },
          "metadata": {},
          "execution_count": 21
        }
      ]
    },
    {
      "cell_type": "markdown",
      "source": [
        "## 六, 模型持久化\n",
        "\n",
        "可以使用python内置的pickle模块或将训练好模型保存到磁盘或字符串, 以便将来直接使用, 而不需要重复训练. 对于sklearn,使用joblib会更加有效,但是只能保存到磁盘而不能保存成字符串."
      ],
      "metadata": {
        "id": "pSHXXwVk93dS"
      }
    },
    {
      "cell_type": "code",
      "source": [
        "import pickle\n",
        "s = pickle.dumps(clf) #保存模型成字符串\n",
        "clf2 = pickle.loads(s) #从字符串加载模型\n",
        "clf2.predict(data)"
      ],
      "metadata": {
        "colab": {
          "base_uri": "https://localhost:8080/"
        },
        "id": "axDoPy-H52Z_",
        "outputId": "b5053003-6544-4581-9d44-9e047f402d9e"
      },
      "execution_count": null,
      "outputs": [
        {
          "output_type": "execute_result",
          "data": {
            "text/plain": [
              "array([0, 0, 0, 0, 0, 0, 0, 0, 0, 0, 0, 0, 0, 0, 0, 0, 0, 0, 0, 0, 0, 0,\n",
              "       0, 0, 0, 0, 0, 0, 0, 0, 0, 0, 0, 0, 0, 0, 0, 0, 0, 0, 0, 0, 0, 0,\n",
              "       0, 0, 0, 0, 0, 0, 1, 1, 1, 1, 1, 1, 1, 1, 1, 1, 1, 1, 1, 1, 1, 1,\n",
              "       1, 1, 1, 1, 2, 1, 1, 1, 1, 1, 1, 1, 1, 1, 1, 1, 1, 2, 1, 1, 1, 1,\n",
              "       1, 1, 1, 1, 1, 1, 1, 1, 1, 1, 1, 1, 2, 2, 2, 2, 2, 2, 2, 2, 2, 2,\n",
              "       2, 2, 2, 2, 2, 2, 2, 2, 2, 2, 2, 2, 2, 2, 2, 2, 2, 2, 2, 2, 2, 2,\n",
              "       2, 1, 2, 2, 2, 2, 2, 2, 2, 2, 2, 2, 2, 2, 2, 2, 2, 2])"
            ]
          },
          "metadata": {},
          "execution_count": 22
        }
      ]
    },
    {
      "cell_type": "code",
      "source": [
        "# from sklearn.externals import joblib\n",
        "import joblib\n",
        "joblib.dump(clf,'filename.pkl') #保存模型到文件\n",
        "clf3 = joblib.load('filename.pkl') #加载模型"
      ],
      "metadata": {
        "id": "nvD26rsL-pY9"
      },
      "execution_count": null,
      "outputs": []
    },
    {
      "cell_type": "code",
      "source": [
        "clf3.predict(data)"
      ],
      "metadata": {
        "colab": {
          "base_uri": "https://localhost:8080/"
        },
        "id": "FBPJoG_bARY4",
        "outputId": "401e4d94-8c68-486f-a851-5afb879cf8a3"
      },
      "execution_count": null,
      "outputs": [
        {
          "output_type": "execute_result",
          "data": {
            "text/plain": [
              "array([0, 0, 0, 0, 0, 0, 0, 0, 0, 0, 0, 0, 0, 0, 0, 0, 0, 0, 0, 0, 0, 0,\n",
              "       0, 0, 0, 0, 0, 0, 0, 0, 0, 0, 0, 0, 0, 0, 0, 0, 0, 0, 0, 0, 0, 0,\n",
              "       0, 0, 0, 0, 0, 0, 1, 1, 1, 1, 1, 1, 1, 1, 1, 1, 1, 1, 1, 1, 1, 1,\n",
              "       1, 1, 1, 1, 2, 1, 1, 1, 1, 1, 1, 1, 1, 1, 1, 1, 1, 2, 1, 1, 1, 1,\n",
              "       1, 1, 1, 1, 1, 1, 1, 1, 1, 1, 1, 1, 2, 2, 2, 2, 2, 2, 2, 2, 2, 2,\n",
              "       2, 2, 2, 2, 2, 2, 2, 2, 2, 2, 2, 2, 2, 2, 2, 2, 2, 2, 2, 2, 2, 2,\n",
              "       2, 1, 2, 2, 2, 2, 2, 2, 2, 2, 2, 2, 2, 2, 2, 2, 2, 2])"
            ]
          },
          "metadata": {},
          "execution_count": 24
        }
      ]
    },
    {
      "cell_type": "markdown",
      "source": [
        "# 特征工程"
      ],
      "metadata": {
        "id": "YHJ53N7OBy9c"
      }
    },
    {
      "cell_type": "markdown",
      "source": [
        "## 数据的获取\n",
        "\n",
        "sklearn 数据集一览\n",
        "\n",
        "\n",
        "| 类型         | 获取方式    |\n",
        "| --------     | :-----:   | \n",
        "| 自带的小数据集|sklearn.datasets.load_...|\n",
        "| 在线下在的数据集| sklearn.datasets.fetch_...| \n",
        "| 计算机生成的数据集| sklearn.datasets.make_ | \n",
        "| svmlight/libsvm格式的数据集| sklearn.datasets.load_svmlight_file(...) | \n",
        "| mldata.org在线下载数据集| sklearn.datasets.fetch_mldata(...)| \n",
        "\n",
        "自带的小数据集:\n",
        "\n",
        "* 鸢尾花数据集: load_iris()可用于分类和聚类\n",
        "* 乳腺癌数据集: load_breast_cancer()可用于分类\n",
        "* 手写数字数据集: load_digits() 可用于分类\n",
        "* 糖尿病数据集: load_diabetes() 可用于分类\n",
        "* 波士顿房价数据集: load_boston() 可用于回归\n",
        "* 体能训练数据集: load_linnerud() 可用于回归\n",
        "* 图像数据集: load_sample_image(name)\n",
        "\n",
        "计算机生成的数据集:\n",
        "\n",
        "* make_blobs 可用于聚类和分类\n",
        "* make_classification 可用于分类\n",
        "* make_circles 可用于分类\n",
        "* make_moons 可用于分类\n",
        "* make_multilabel_classification 可用于多标签分类\n",
        "* make_regression 可用于回归"
      ],
      "metadata": {
        "id": "ReIoEiLXCE6Z"
      }
    },
    {
      "cell_type": "markdown",
      "source": [
        "### 一, 自带的小数据集"
      ],
      "metadata": {
        "id": "E_0bqq5hI5EJ"
      }
    },
    {
      "cell_type": "code",
      "source": [
        "#导入数据\n",
        "import numpy as np\n",
        "import matplotlib.pyplot as plt\n",
        "from sklearn import datasets\n",
        "\n",
        "iris = datasets.load_iris() # 鸢尾花 for classification\n",
        "digits = datasets.load_digits() # 手写数字识别 for classification\n",
        "\n",
        "# boston = datasets.load_boston() # 波士顿房价 for regression\n",
        "\n",
        "iris['data'] \n",
        "iris['target']\n",
        "\n",
        "iris['feature_names']\n",
        "iris['target_names']"
      ],
      "metadata": {
        "colab": {
          "base_uri": "https://localhost:8080/"
        },
        "id": "GB74HDUl6sqc",
        "outputId": "d2f5237f-b85f-4bca-af4c-63dae41c307b"
      },
      "execution_count": null,
      "outputs": [
        {
          "output_type": "execute_result",
          "data": {
            "text/plain": [
              "array(['setosa', 'versicolor', 'virginica'], dtype='<U10')"
            ]
          },
          "metadata": {},
          "execution_count": 1
        }
      ]
    },
    {
      "cell_type": "markdown",
      "source": [
        "### 二, 计算机生成的数据集\n",
        "\n",
        "使用计算机生成数据集的有点:\n",
        "\n",
        "* 非常灵活: 可以控制样本数量, 特征数量, 类别数量,问题难易程度等等...\n",
        "* 无穷无尽: \n",
        "可以在学习其他机器学习模块如tensorflow时使用sklearn的数据集"
      ],
      "metadata": {
        "id": "20C5uvsNORQ9"
      }
    },
    {
      "cell_type": "code",
      "source": [
        "# 生成数据 make_blobs #生成团,簇\n",
        "import pandas as pd \n",
        "%matplotlib inline \n",
        "import matplotlib\n",
        "from sklearn.datasets import make_blobs\n",
        "\n",
        "center=[[1,1],[-1,-1],[1,-1]]\n",
        "cluster_std=0.3\n",
        "X, labels = make_blobs(n_samples=200,centers=center,n_features=2,\n",
        "                       cluster_std=cluster_std,random_state=0) #random_state 随机种子 , None 每次不一样的数据集\n",
        "\n",
        "print('X.shape',X.shape)\n",
        "print(\"labels\",set(labels))\n",
        "\n",
        "# np.c_ :concatenation\n",
        "df = pd.DataFrame(np.c_[X,labels],columns=['feature1','feature2','labels'])\n",
        "df['labels'] = df['labels'].astype('i2')\n",
        "\n",
        "#mycolormap = matplotlib.colors.ListedColormap(['red','cyan','magenta'],N=3)\n",
        "#matplotlib常用colormap: 'jet', 'rainbow','hsv'\n",
        "df.plot.scatter('feature1','feature2',s=100,\n",
        "                c=list(df['labels']),cmap='rainbow',colorbar=False,\n",
        "                alpha=0.8,title='dataset by make_blobs')"
      ],
      "metadata": {
        "colab": {
          "base_uri": "https://localhost:8080/",
          "height": 347
        },
        "id": "NhsXwcbJON0F",
        "outputId": "6287e99e-2459-4a57-cfc6-8405f463b9fb"
      },
      "execution_count": null,
      "outputs": [
        {
          "output_type": "stream",
          "name": "stdout",
          "text": [
            "X.shape (200, 2)\n",
            "labels {0, 1, 2}\n"
          ]
        },
        {
          "output_type": "execute_result",
          "data": {
            "text/plain": [
              "<matplotlib.axes._subplots.AxesSubplot at 0x7f2cf3c9ff90>"
            ]
          },
          "metadata": {},
          "execution_count": 38
        },
        {
          "output_type": "display_data",
          "data": {
            "text/plain": [
              "<Figure size 432x288 with 1 Axes>"
            ],
            "image/png": "[encoded data removed]"
          },
          "metadata": {
            "needs_background": "light"
          }
        }
      ]
    },
    {
      "cell_type": "code",
      "source": [
        "#生成数据集 make_classification\n",
        "from sklearn.datasets import make_classification\n",
        "X, labels = make_classification(n_samples=300,n_features=2,n_classes=2,\n",
        "                                n_redundant=0,n_informative=2,# n_redundant 是否有冗余,n_informative对预测有益的特征\n",
        "                                random_state=0,n_clusters_per_class=2) #每个聚类的子类\n",
        "rng = np.random.RandomState(2)\n",
        "X+=2*rng.uniform(size=X.shape)\n",
        "\n",
        "df = pd.DataFrame(np.c_[X,labels],columns=['feature1','feature2','labels'])\n",
        "df['labels'] = df['labels'].astype('i2')\n",
        "\n",
        "#mycolormap = matplolitlib.colors.ListedColormap(['red','cyan','magenta'],N=3)\n",
        "#matplotlib常用colormap:'jet','rainbow','hsv'\n",
        "df.plot.scatter('feature1','feature2',s=100,\n",
        "                c=list(df['labels']),cmap='rainbow',colorbar=False,\n",
        "                alpha=0.8,title='dataset by make_classification')"
      ],
      "metadata": {
        "colab": {
          "base_uri": "https://localhost:8080/",
          "height": 312
        },
        "id": "hCLOVqsjP_cO",
        "outputId": "5bd60f77-925f-4e7d-e3c3-66d6f1a7c702"
      },
      "execution_count": null,
      "outputs": [
        {
          "output_type": "execute_result",
          "data": {
            "text/plain": [
              "<matplotlib.axes._subplots.AxesSubplot at 0x7f2cf38c8750>"
            ]
          },
          "metadata": {},
          "execution_count": 42
        },
        {
          "output_type": "display_data",
          "data": {
            "text/plain": [
              "<Figure size 432x288 with 1 Axes>"
            ],
            "image/png": "[encoded data removed]"
          },
          "metadata": {
            "needs_background": "light"
          }
        }
      ]
    },
    {
      "cell_type": "code",
      "source": [
        "# 生成数据集 make_circles\n",
        "from sklearn.datasets import make_circles\n",
        "X,labels = make_circles(n_samples=200,noise=0.2,factor=0.2,random_state=1)\n",
        "print(\"X.shape:\",X.shape)\n",
        "print(\"labels:\",set(labels))\n",
        "\n",
        "df = pd.DataFrame(np.c_[X,labels],columns=['feature1','feature2','labels'])\n",
        "df['labels'] = df['labels'].astype('i2')\n",
        "\n",
        "df.plot.scatter('feature1','feature2',s=100,\n",
        "                c=list(df['labels']),cmap='rainbow',colorbar=False,\n",
        "                alpha=0.8,title='dataset by make_circles')"
      ],
      "metadata": {
        "colab": {
          "base_uri": "https://localhost:8080/",
          "height": 347
        },
        "id": "dJm5I5MER1ss",
        "outputId": "3255b2ea-3fad-4ce7-8531-736ada4b2712"
      },
      "execution_count": null,
      "outputs": [
        {
          "output_type": "stream",
          "name": "stdout",
          "text": [
            "X.shape: (200, 2)\n",
            "labels: {0, 1}\n"
          ]
        },
        {
          "output_type": "execute_result",
          "data": {
            "text/plain": [
              "<matplotlib.axes._subplots.AxesSubplot at 0x7f2cf38c3a10>"
            ]
          },
          "metadata": {},
          "execution_count": 45
        },
        {
          "output_type": "display_data",
          "data": {
            "text/plain": [
              "<Figure size 432x288 with 1 Axes>"
            ],
            "image/png": "[encoded data removed]"
          },
          "metadata": {
            "needs_background": "light"
          }
        }
      ]
    },
    {
      "cell_type": "code",
      "source": [
        "#生成数据集 make_regression\n",
        "from sklearn.datasets import make_regression\n",
        "X, Y, coef = make_regression(n_samples=100,n_features=1,n_informative=1,\n",
        "                             n_targets=1,bias=5,effective_rank=None,\n",
        "                             tail_strength=0,noise=10,shuffle=True,\n",
        "                             coef=True,random_state=None)\n",
        "df = pd.DataFrame(np.c_[X,Y],columns=['x','y'])\n",
        "#red:'r',green:'g',blue:'b',cyan:'c',magenta:'m'\n",
        "df.plot('x','y',kind='scatter',s=50,c='m',edgecolor='k')"
      ],
      "metadata": {
        "colab": {
          "base_uri": "https://localhost:8080/",
          "height": 296
        },
        "id": "AWIU2jipcEUV",
        "outputId": "01bc60e0-2509-4ebe-f32c-dc85596a962b"
      },
      "execution_count": null,
      "outputs": [
        {
          "output_type": "execute_result",
          "data": {
            "text/plain": [
              "<matplotlib.axes._subplots.AxesSubplot at 0x7f2cf3767d10>"
            ]
          },
          "metadata": {},
          "execution_count": 46
        },
        {
          "output_type": "display_data",
          "data": {
            "text/plain": [
              "<Figure size 432x288 with 1 Axes>"
            ],
            "image/png": "[encoded data removed]"
          },
          "metadata": {
            "needs_background": "light"
          }
        }
      ]
    },
    {
      "cell_type": "markdown",
      "source": [
        "### 三, 导入外部数据集\n",
        "\n",
        "导入天池比赛txt数据\n",
        "\n",
        "下载这些文件, 解压缩后得到txt文件.\n",
        "并重命名为'demo.txt','testdata.txt','traindata.txt'."
      ],
      "metadata": {
        "id": "IARbzVM5gnCT"
      }
    },
    {
      "cell_type": "code",
      "source": [
        "import numpy as np \n",
        "import pandas as pd"
      ],
      "metadata": {
        "id": "TS9_v9xgcEZF"
      },
      "execution_count": null,
      "outputs": []
    },
    {
      "cell_type": "code",
      "source": [
        "dfdemo = pd.read_csv('demo.txt',sep='')\n",
        "dfdemo"
      ],
      "metadata": {
        "id": "7OdzBVeog5G1"
      },
      "execution_count": null,
      "outputs": []
    },
    {
      "cell_type": "code",
      "source": [
        "dfdemo.to_csv('dfdemo.txt',sep='',index=False)"
      ],
      "metadata": {
        "id": "8tTLvvLWg5J2"
      },
      "execution_count": null,
      "outputs": []
    },
    {
      "cell_type": "code",
      "source": [
        "dftest = pd.read_csv('testdata.txt',sep='')"
      ],
      "metadata": {
        "id": "sZG8kok2eek9"
      },
      "execution_count": null,
      "outputs": []
    },
    {
      "cell_type": "code",
      "source": [
        "dftest.shape"
      ],
      "metadata": {
        "id": "DTZWABVfUd1H"
      },
      "execution_count": null,
      "outputs": []
    },
    {
      "cell_type": "code",
      "source": [
        "dftest.head().T[[0]]"
      ],
      "metadata": {
        "id": "_4hwSURbUeXj"
      },
      "execution_count": null,
      "outputs": []
    },
    {
      "cell_type": "code",
      "source": [
        "dftrain = pd.read_csv('traindata.txt',sep='')"
      ],
      "metadata": {
        "id": "uWf9pwM9iED8"
      },
      "execution_count": null,
      "outputs": []
    },
    {
      "cell_type": "code",
      "source": [
        "dftrain.shape"
      ],
      "metadata": {
        "id": "-3aGn_zaiEKK"
      },
      "execution_count": null,
      "outputs": []
    },
    {
      "cell_type": "code",
      "source": [
        "dftrain.head().T[[0]]"
      ],
      "metadata": {
        "id": "exo7L7bhiENi"
      },
      "execution_count": null,
      "outputs": []
    },
    {
      "cell_type": "code",
      "source": [
        ""
      ],
      "metadata": {
        "id": "bqWMRNs2igCo"
      },
      "execution_count": null,
      "outputs": []
    },
    {
      "cell_type": "markdown",
      "source": [
        "## 数据预处理\n",
        "\n",
        "预处理数据包括: 特征的的标准化,数据的正则化,特征的二值化,非线性转换,数据特征编码,缺失值插补,生成多项式特征等.\n",
        "\n",
        "官方文档介绍数据预处理:\n",
        "https://scikitlearn.com.cn/0.21.3/40/\n",
        "\n",
        "数据预处理的api有两种接口, 一种是类接口, 需要先fit再transform,或者使用fit_transform. 如果sklearn.preprocessing.StandardScaler.fit_transform(data).\n",
        "\n",
        "第二种是函数接口, 可以直接转换.如sklearn.preprocessing.scale(data).\n",
        "\n",
        "推荐使用类接口\n",
        "\n"
      ],
      "metadata": {
        "id": "mZ5mO2bfickA"
      }
    },
    {
      "cell_type": "markdown",
      "source": [
        "### 一, 特征的标准化\n",
        "(对特征列的变换)\n",
        "\n",
        "特征的标准化指的是将数据集的特征进行某种线性缩放和偏移. 在许多情况下,特征的标准化可以改善机器学习算法的性能和效率.\n",
        "\n",
        "常见的数据标准化方法包括:\n",
        "\n",
        "* StandardScaler: 缩放至0均值,1标准差.\n",
        "* MinMaxScaler: 缩放至[0,1]之间, 也可以指定范围feature_range.\n",
        "* MaxAbsScaler:缩放至[-1,1]之间,无偏移.\n",
        "* RobustScaler: 缩放有异常值的特征."
      ],
      "metadata": {
        "id": "DeFHSKh0imhA"
      }
    },
    {
      "cell_type": "code",
      "source": [
        "import numpy as np \n",
        "import pandas as pd\n",
        "%matplotlib inline\n",
        "from sklearn import datasets\n",
        "from sklearn import preprocessing\n",
        "\n",
        "# boston = datasets.load_boston()\n",
        "# df = pd.DataFrame(data=boston.data,columns=list(boston.feature_names))\n",
        "# df.plot(legend=False)\n",
        "data_url = \"http://lib.stat.cmu.edu/datasets/boston\"\n",
        "raw_df = pd.read_csv(data_url,sep=\"\\s+\",skiprows=22,header=None)\n",
        "data = np.hstack([raw_df.values[::2,:],raw_df.values[1::2,:2]])\n",
        "target = raw_df.values[1::2,2]"
      ],
      "metadata": {
        "id": "zphSdBVDj3id"
      },
      "execution_count": null,
      "outputs": []
    },
    {
      "cell_type": "code",
      "source": [
        "df = pd.DataFrame(data=data)\n",
        "df.plot(legend=False)"
      ],
      "metadata": {
        "colab": {
          "base_uri": "https://localhost:8080/",
          "height": 282
        },
        "id": "ucwzB0Ynl3aN",
        "outputId": "0bde806d-2cf8-4e25-9bb4-77a639048b91"
      },
      "execution_count": null,
      "outputs": [
        {
          "output_type": "execute_result",
          "data": {
            "text/plain": [
              "<matplotlib.axes._subplots.AxesSubplot at 0x7fe298ece850>"
            ]
          },
          "metadata": {},
          "execution_count": 6
        },
        {
          "output_type": "display_data",
          "data": {
            "text/plain": [
              "<Figure size 432x288 with 1 Axes>"
            ],
            "image/png": "[encoded data removed]"
          },
          "metadata": {
            "needs_background": "light"
          }
        }
      ]
    },
    {
      "cell_type": "code",
      "source": [
        "#MinMax缩放\n",
        "minmaxscaler = preprocessing.MinMaxScaler(feature_range=(0,1))\n",
        "minmaxscaler.fit(df.values)\n",
        "data = minmaxscaler.transform(df.values)\n",
        "dfscaled = pd.DataFrame(data)\n",
        "dfscaled.plot(legend=False)"
      ],
      "metadata": {
        "colab": {
          "base_uri": "https://localhost:8080/",
          "height": 282
        },
        "id": "fvC1nePRp125",
        "outputId": "8b086f77-119d-4c73-b7d0-f1937bb3170a"
      },
      "execution_count": null,
      "outputs": [
        {
          "output_type": "execute_result",
          "data": {
            "text/plain": [
              "<matplotlib.axes._subplots.AxesSubplot at 0x7fe297bad450>"
            ]
          },
          "metadata": {},
          "execution_count": 10
        },
        {
          "output_type": "display_data",
          "data": {
            "text/plain": [
              "<Figure size 432x288 with 1 Axes>"
            ],
            "image/png": "[encoded data removed]"
          },
          "metadata": {
            "needs_background": "light"
          }
        }
      ]
    },
    {
      "cell_type": "code",
      "source": [
        "# x为一个具有异常值的特征\n",
        "x = np.array([10,1000,0,0,-30,0,20,0,10,0,0,-10])\n",
        "x = x.reshape(-1,1)"
      ],
      "metadata": {
        "id": "PrJYbR6eq2pM"
      },
      "execution_count": null,
      "outputs": []
    },
    {
      "cell_type": "code",
      "source": [
        "# RobustScaler缩放有异常值的特征\n",
        "robustscaler = preprocessing.RobustScaler(with_centering=True,with_scaling=True,\n",
        "                                          quantile_range=(25.0,75.0),copy=True)\n",
        "print(robustscaler.fit_transform(x))"
      ],
      "metadata": {
        "colab": {
          "base_uri": "https://localhost:8080/"
        },
        "id": "5evh-gkptSI1",
        "outputId": "1f89e13d-570b-4055-c660-70e999fb0d95"
      },
      "execution_count": null,
      "outputs": [
        {
          "output_type": "stream",
          "name": "stdout",
          "text": [
            "[[  1.]\n",
            " [100.]\n",
            " [  0.]\n",
            " [  0.]\n",
            " [ -3.]\n",
            " [  0.]\n",
            " [  2.]\n",
            " [  0.]\n",
            " [  1.]\n",
            " [  0.]\n",
            " [  0.]\n",
            " [ -1.]]\n"
          ]
        }
      ]
    },
    {
      "cell_type": "code",
      "source": [
        "# y为稀疏列矩阵\n",
        "y = np.array([0]*95+[0.0,20,0,10,-10])\n",
        "y = y.reshape(-1,1)"
      ],
      "metadata": {
        "id": "xvrA3fmWt9vZ"
      },
      "execution_count": null,
      "outputs": []
    },
    {
      "cell_type": "code",
      "source": [
        "# 使用MaxAbsScaler缩放稀疏矩阵\n",
        "\n",
        "scaler = preprocessing.MaxAbsScaler(copy=True)\n",
        "z = scaler.fit_transform(y)\n",
        "z[-10:]"
      ],
      "metadata": {
        "colab": {
          "base_uri": "https://localhost:8080/"
        },
        "id": "tOg9IdOwxxdy",
        "outputId": "3c38d5e8-8f0f-4b80-eb9f-edf66d3aded7"
      },
      "execution_count": null,
      "outputs": [
        {
          "output_type": "execute_result",
          "data": {
            "text/plain": [
              "array([[ 0. ],\n",
              "       [ 0. ],\n",
              "       [ 0. ],\n",
              "       [ 0. ],\n",
              "       [ 0. ],\n",
              "       [ 0. ],\n",
              "       [ 1. ],\n",
              "       [ 0. ],\n",
              "       [ 0.5],\n",
              "       [-0.5]])"
            ]
          },
          "metadata": {},
          "execution_count": 15
        }
      ]
    },
    {
      "cell_type": "code",
      "source": [
        "# 使用无均值偏移的StandardScaler缩放稀疏矩阵\n",
        "\n",
        "scaler=preprocessing.StandardScaler(with_mean=False,with_std=True,copy=True)\n",
        "z = scaler.fit_transform(y)\n",
        "z[-10:]"
      ],
      "metadata": {
        "colab": {
          "base_uri": "https://localhost:8080/"
        },
        "id": "0rbTrL9oyLgl",
        "outputId": "abcacd55-bc91-46a2-f856-886b0cb6012a"
      },
      "execution_count": null,
      "outputs": [
        {
          "output_type": "execute_result",
          "data": {
            "text/plain": [
              "array([[ 0.        ],\n",
              "       [ 0.        ],\n",
              "       [ 0.        ],\n",
              "       [ 0.        ],\n",
              "       [ 0.        ],\n",
              "       [ 0.        ],\n",
              "       [ 8.19231921],\n",
              "       [ 0.        ],\n",
              "       [ 4.0961596 ],\n",
              "       [-4.0961596 ]])"
            ]
          },
          "metadata": {},
          "execution_count": 16
        }
      ]
    },
    {
      "cell_type": "markdown",
      "source": [
        "### 数据正则化(normalize) \n",
        "\n",
        "(对样本行的变换)\n",
        "\n",
        "正则化是缩放单个样本以具有单位范数的过程. 正则化有时也叫归一化, 正规化. 如果你计划使用二次形式(如点击或任何其他核函数)来量化任何样本间的相似度,则此过程将非常有用.\n",
        "\n",
        "常用的向量范数有\"L1\"范数和\"L2\"范数\n",
        "\n",
        "在向量空间$R^n(C^n)$中,设$x=(x_1,x_2,...,x_n)^T$\n",
        "\n",
        "常用的向量x的范数有\n",
        "$||x||_2 = (|x_1|^2 + |x_2|^2 + ... +|x_n|^2)^{1/2}$ x的2-范数或欧式范数\n",
        "\n",
        "$||x||_1 =|x_1| + |x_2| + ... +|x_n|$ x的1-范数\n",
        "\n",
        "$||x||_\\infty = \\max_{1\\leq i \\leq n}|x_i|$ x的$\\infty$ - 范数或最大范数\n",
        "\n",
        "$||x||_p = (|x_1|^p +|x_2|^p + ... + |x_n|^p )^{1/p}$ x的p-范数, $p\\geq 1$\n"
      ],
      "metadata": {
        "id": "EWX-fCrpyoJu"
      }
    },
    {
      "cell_type": "code",
      "source": [
        "from sklearn import preprocessing\n",
        "X = [[1.,-1.,2.],\n",
        "     [2.,0.,0.],\n",
        "     [0.,1.,-1.]]\n",
        "\n",
        "#使用normalize函数\n",
        "X_normalized = preprocessing.normalize(X,norm='l2')\n",
        "\n",
        "print(X_normalized)\n",
        "\n",
        "# 也可以使用Normalizer类\n",
        "\n",
        "normalizer = preprocessing.Normalizer(norm='l1')\n",
        "normalizer.fit(X) # fit does nothing \n",
        "normalizer.transform(X)\n"
      ],
      "metadata": {
        "colab": {
          "base_uri": "https://localhost:8080/"
        },
        "id": "VGTrEvJQUREK",
        "outputId": "c3399567-dccf-49c9-dd51-f7b3973ecc5b"
      },
      "execution_count": null,
      "outputs": [
        {
          "output_type": "stream",
          "name": "stdout",
          "text": [
            "[[ 0.40824829 -0.40824829  0.81649658]\n",
            " [ 1.          0.          0.        ]\n",
            " [ 0.          0.70710678 -0.70710678]]\n"
          ]
        },
        {
          "output_type": "execute_result",
          "data": {
            "text/plain": [
              "array([[ 0.25, -0.25,  0.5 ],\n",
              "       [ 1.  ,  0.  ,  0.  ],\n",
              "       [ 0.  ,  0.5 , -0.5 ]])"
            ]
          },
          "metadata": {},
          "execution_count": 1
        }
      ]
    },
    {
      "cell_type": "markdown",
      "source": [
        "### 三, 特征的二值化\n",
        "\n",
        "特征二值化是将数值特征用阈值过滤得到布尔值的过程."
      ],
      "metadata": {
        "id": "jEnHWH0xYcen"
      }
    },
    {
      "cell_type": "code",
      "source": [
        "X = [[1.,-1.,2.],\n",
        "     [2.,0.,0.],\n",
        "     [0.,1.,-1.]]\n",
        "binarizer = preprocessing.Binarizer().fit(X) # fit does nothing\n",
        "binarizer\n",
        "binarizer.transform(X)"
      ],
      "metadata": {
        "colab": {
          "base_uri": "https://localhost:8080/"
        },
        "id": "uy4ebMxEYvdE",
        "outputId": "e22020d9-0250-4141-ea3b-101e4f6a18bd"
      },
      "execution_count": null,
      "outputs": [
        {
          "output_type": "execute_result",
          "data": {
            "text/plain": [
              "array([[1., 0., 1.],\n",
              "       [1., 0., 0.],\n",
              "       [0., 1., 0.]])"
            ]
          },
          "metadata": {},
          "execution_count": 2
        }
      ]
    },
    {
      "cell_type": "code",
      "source": [
        "# 设置一个阈值\n",
        "binarizer = preprocessing.Binarizer(threshold=1.1)\n",
        "binarizer.transform(X)"
      ],
      "metadata": {
        "colab": {
          "base_uri": "https://localhost:8080/"
        },
        "id": "ybL9dcY-Za89",
        "outputId": "b0e38a33-7634-4722-f1ca-5cadd9877b60"
      },
      "execution_count": null,
      "outputs": [
        {
          "output_type": "execute_result",
          "data": {
            "text/plain": [
              "array([[0., 0., 1.],\n",
              "       [1., 0., 0.],\n",
              "       [0., 0., 0.]])"
            ]
          },
          "metadata": {},
          "execution_count": 4
        }
      ]
    },
    {
      "cell_type": "markdown",
      "source": [
        "### 四, 分类特征编码\n",
        "\n",
        "在机器学习中, 特征经常不是数值型的而是分类型(标称型)的. 举个例子, 一个人的性别可能是\"male\"或\"female\"两者之一. 我们可以用0来表示\"male\",1来表示\"female\". 但是这样做的话, 性别特征就变得有序了. \n",
        "\n",
        "为了解决这个问题, 我们可以使用一种叫做\"one-of-K\"或者\"one-hot\"(独热)的编码方式. 即两个特征值来进行编码性别[1,0]表示\"male\", 而[0,1]表示\"female\". 通常使用\"one-hot\"方式编码后悔增加数据的维度和稀疏性."
      ],
      "metadata": {
        "id": "OeP-DbXhZoUY"
      }
    },
    {
      "cell_type": "code",
      "source": [
        "from sklearn import preprocessing\n",
        "X = [[0,0,3],[1,1,0],[0,2,1],[1,0,2]]\n",
        "onehot = preprocessing.OneHotEncoder()\n",
        "onehot.fit_transform(X).toarray() # 将稀疏矩阵转化为普通矩阵\n"
      ],
      "metadata": {
        "colab": {
          "base_uri": "https://localhost:8080/"
        },
        "id": "3gD9OM8gZlpG",
        "outputId": "0829b57c-9a45-4e21-d20a-145773fa1142"
      },
      "execution_count": null,
      "outputs": [
        {
          "output_type": "execute_result",
          "data": {
            "text/plain": [
              "array([[1., 0., 1., 0., 0., 0., 0., 0., 1.],\n",
              "       [0., 1., 0., 1., 0., 1., 0., 0., 0.],\n",
              "       [1., 0., 0., 0., 1., 0., 1., 0., 0.],\n",
              "       [0., 1., 1., 0., 0., 0., 0., 1., 0.]])"
            ]
          },
          "metadata": {},
          "execution_count": 10
        }
      ]
    },
    {
      "cell_type": "code",
      "source": [
        "# 如果训练集中有丢失的分类特征值, 必须显式地设置n_values\n",
        "# encoder = preprocessing.OneHotEncoder(n_values=[2,4,4])\n",
        "# encoder.fit_transform(X).toarray()"
      ],
      "metadata": {
        "colab": {
          "base_uri": "https://localhost:8080/",
          "height": 201
        },
        "id": "tvf-ZqnqcJyT",
        "outputId": "7116a367-5e64-48ef-be96-ce529dd02b32"
      },
      "execution_count": null,
      "outputs": [
        {
          "output_type": "error",
          "ename": "TypeError",
          "evalue": "ignored",
          "traceback": [
            "\u001b[0;31m---------------------------------------------------------------------------\u001b[0m",
            "\u001b[0;31mTypeError\u001b[0m                                 Traceback (most recent call last)",
            "\u001b[0;32m<ipython-input-6-4ead93cc9074>\u001b[0m in \u001b[0;36m<module>\u001b[0;34m()\u001b[0m\n\u001b[1;32m      1\u001b[0m \u001b[0;31m# 如果训练集中有丢失的分类特征值, 必须显式地设置n_values\u001b[0m\u001b[0;34m\u001b[0m\u001b[0;34m\u001b[0m\u001b[0;34m\u001b[0m\u001b[0m\n\u001b[0;32m----> 2\u001b[0;31m \u001b[0mencoder\u001b[0m \u001b[0;34m=\u001b[0m \u001b[0mpreprocessing\u001b[0m\u001b[0;34m.\u001b[0m\u001b[0mOneHotEncoder\u001b[0m\u001b[0;34m(\u001b[0m\u001b[0mn_values\u001b[0m\u001b[0;34m=\u001b[0m\u001b[0;34m[\u001b[0m\u001b[0;36m2\u001b[0m\u001b[0;34m,\u001b[0m\u001b[0;36m4\u001b[0m\u001b[0;34m,\u001b[0m\u001b[0;36m4\u001b[0m\u001b[0;34m]\u001b[0m\u001b[0;34m)\u001b[0m\u001b[0;34m\u001b[0m\u001b[0;34m\u001b[0m\u001b[0m\n\u001b[0m\u001b[1;32m      3\u001b[0m \u001b[0mencoder\u001b[0m\u001b[0;34m.\u001b[0m\u001b[0mfit_transform\u001b[0m\u001b[0;34m(\u001b[0m\u001b[0mX\u001b[0m\u001b[0;34m)\u001b[0m\u001b[0;34m.\u001b[0m\u001b[0mtoarray\u001b[0m\u001b[0;34m(\u001b[0m\u001b[0;34m)\u001b[0m\u001b[0;34m\u001b[0m\u001b[0;34m\u001b[0m\u001b[0m\n",
            "\u001b[0;31mTypeError\u001b[0m: __init__() got an unexpected keyword argument 'n_values'"
          ]
        }
      ]
    },
    {
      "cell_type": "markdown",
      "source": [
        "### 五, 处理缺失值\n",
        "\n",
        "因为各种各样的原因, 真实世界中的许多数据集都包含缺失数据, 这类数据经常被编码成空格,NaN或其他的占位符. 但是这样的数据集并不能和scikit-learn学习算法兼容.\n",
        "\n",
        "但是不完整的数据集的一个基本策略就是舍弃掉整行或整列包含缺失值的数据. 但是这样就付出了舍弃可能有价值数据(即使是不完整的)的代价.\n",
        "\n",
        "处理缺失数值的一个更好的策略就是从已有的数据推断出缺失的数值."
      ],
      "metadata": {
        "id": "_D4cTqvUdImC"
      }
    },
    {
      "cell_type": "code",
      "source": [
        "import numpy as np\n",
        "from sklearn.impute import SimpleImputer \n",
        "\n",
        "# 策略有mean,most_frequent,median\n",
        "\n",
        "imp = SimpleImputer(missing_values=np.nan,strategy='mean')\n",
        "imp.fit([[1,2],[np.nan,3],[7,6]])\n",
        "#fit求得第一列特征均值为4,第二列特征均值为11/3\n",
        "\n",
        "X = [[np.nan,2],[6,np.nan],[7,6]]\n",
        "print(imp.transform(X)) # transform 以fit里算出的均值在这里填充X的缺失值\n"
      ],
      "metadata": {
        "colab": {
          "base_uri": "https://localhost:8080/"
        },
        "id": "bRAXMX5NdFTJ",
        "outputId": "2513333f-9e5d-4f5e-9b1a-b554e61cc745"
      },
      "execution_count": null,
      "outputs": [
        {
          "output_type": "stream",
          "name": "stdout",
          "text": [
            "[[4.         2.        ]\n",
            " [6.         3.66666667]\n",
            " [7.         6.        ]]\n"
          ]
        }
      ]
    },
    {
      "cell_type": "markdown",
      "source": [
        "### 六, 生成多项式特征\n",
        "\n",
        "在机器学习中, 通过增加一些输入数据的非线性特征来增加模型的复杂度通常是有效的.一个简单痛哟很难过的办法是使用多项式特征, 这可以获得特征的更高次数和互相间关联的项.(对训练数据集欠拟合有效)\n",
        "\n",
        "直接使用特征X1,和X2无法找到分隔决策边界, 线性不可分. 使用多项式特征后, 可以找到分隔决策边界: $X_1{^2} +X{_2}{^2} - 1 = 0$ "
      ],
      "metadata": {
        "id": "QxM38V6zkwTZ"
      }
    },
    {
      "cell_type": "code",
      "source": [
        "import numpy as np \n",
        "from sklearn.preprocessing import PolynomialFeatures\n",
        "X = np.arange(6).reshape(3,2)\n",
        "poly = PolynomialFeatures(2)\n",
        "print(X)\n",
        "print(poly.fit_transform(X))\n",
        "# X的特征已经从(X1,X2)转换为(1, X1,X2,X1^2, x2^2,x1,x2,x2^2)\n",
        "# 在一些情况下, 只需要特征键的交互项, 这可以通过设置interaction_only=True来得到"
      ],
      "metadata": {
        "colab": {
          "base_uri": "https://localhost:8080/"
        },
        "id": "-_anuvWKklvZ",
        "outputId": "28223afb-cf5f-4694-e4dd-2dc0f7cf6a89"
      },
      "execution_count": null,
      "outputs": [
        {
          "output_type": "stream",
          "name": "stdout",
          "text": [
            "[[0 1]\n",
            " [2 3]\n",
            " [4 5]]\n",
            "[[ 1.  0.  1.  0.  0.  1.]\n",
            " [ 1.  2.  3.  4.  6.  9.]\n",
            " [ 1.  4.  5. 16. 20. 25.]]\n"
          ]
        }
      ]
    },
    {
      "cell_type": "code",
      "source": [
        "poly2 = PolynomialFeatures(2,interaction_only=True)\n",
        "print(poly2.fit_transform(X))\n",
        "# X的特征已经从(X1,X2)转换为(1,X1,X2,X1,X2)"
      ],
      "metadata": {
        "colab": {
          "base_uri": "https://localhost:8080/"
        },
        "id": "bSimqm_Km5bX",
        "outputId": "3bda04fc-4c57-44c3-b633-65b6d2acb914"
      },
      "execution_count": null,
      "outputs": [
        {
          "output_type": "stream",
          "name": "stdout",
          "text": [
            "[[ 1.  0.  1.  0.]\n",
            " [ 1.  2.  3.  6.]\n",
            " [ 1.  4.  5. 20.]]\n"
          ]
        }
      ]
    },
    {
      "cell_type": "markdown",
      "source": [
        "## 特征的提取\n",
        "\n",
        "我们将简要介绍一些常用的特征提取方法:\n",
        "\n",
        "* 字典加载特征:DictVectorizer\n",
        "* 文本特征提取: 词频向量(CountVectorizer) TF-IDF向量(TfidfVectorizer,TfidfTransformer)特征哈希向量(HashingVectorizer)\n",
        "* 图像特征提取: 提取像素矩阵提取边缘和兴趣点"
      ],
      "metadata": {
        "id": "R4NjEtaomgmZ"
      }
    },
    {
      "cell_type": "markdown",
      "source": [
        "### 一, 字典加载特征\n",
        "用python中的字典存储特征是一种常用的做法, 其优点是容易理解. 但是sklearn的输入特征必须是numpy或scipy数组. 可以用DictVectorizer从字典中加载特征转换成numpy数组, 并且对分类特征会采用独热编码(one-hot)."
      ],
      "metadata": {
        "id": "XHYboog6fln4"
      }
    },
    {
      "cell_type": "code",
      "source": [
        "measurements = [\n",
        "    {'city': 'Dubai','temperature':33.},\n",
        "    {'city': 'London','temperature':12.},\n",
        "    {'city': 'San Francisco','temperature':18.},\n",
        "]\n",
        "from sklearn.feature_extraction import DictVectorizer\n",
        "vec = DictVectorizer()\n",
        "print(vec.fit_transform(measurements).toarray())\n",
        "vec.get_feature_names()"
      ],
      "metadata": {
        "colab": {
          "base_uri": "https://localhost:8080/"
        },
        "id": "5Rp9d6OXgJQM",
        "outputId": "0434536a-e657-46d1-c7d6-1565e5472a63"
      },
      "execution_count": null,
      "outputs": [
        {
          "output_type": "stream",
          "name": "stdout",
          "text": [
            "[[ 1.  0.  0. 33.]\n",
            " [ 0.  1.  0. 12.]\n",
            " [ 0.  0.  1. 18.]]\n"
          ]
        },
        {
          "output_type": "stream",
          "name": "stderr",
          "text": [
            "/usr/local/lib/python3.7/dist-packages/sklearn/utils/deprecation.py:87: FutureWarning: Function get_feature_names is deprecated; get_feature_names is deprecated in 1.0 and will be removed in 1.2. Please use get_feature_names_out instead.\n",
            "  warnings.warn(msg, category=FutureWarning)\n"
          ]
        },
        {
          "output_type": "execute_result",
          "data": {
            "text/plain": [
              "['city=Dubai', 'city=London', 'city=San Francisco', 'temperature']"
            ]
          },
          "metadata": {},
          "execution_count": 1
        }
      ]
    },
    {
      "cell_type": "markdown",
      "source": [
        "### 二, 文本特征提取"
      ],
      "metadata": {
        "id": "zkoAbalQhtGZ"
      }
    },
    {
      "cell_type": "markdown",
      "source": [
        "#### 1. 字频向量(CountVectorizer)\n",
        "词库模型(Bag-of-words model)是文字模型化最常用方法,它为每个单词设置一个特征值. 依据是用类似单词的文章意思也差不多.\n",
        "\n",
        "CountVectorizer类会将文档全部转换成小写. 然后把句子分割成词块(token)或有意义的字母序列,并统计他们出现的次数. 词块大多是单词,但是他们也可能是一些短语,字母长度小于2的词块(I,a)被略去.\n",
        "\n",
        "可以用stop_words选项排除一些常用但没有太多意义的助词(如is,are,in)."
      ],
      "metadata": {
        "id": "2leZLGe1ibfF"
      }
    },
    {
      "cell_type": "code",
      "source": [
        "from sklearn.feature_extraction.text import CountVectorizer\n",
        "corpus = [\n",
        "    'UNC played Duke in basketball',\n",
        "    'Duke lost the basketball game,game over',\n",
        "    'I ate a sandwich'\n",
        "]\n",
        "\n",
        "vectorizer = CountVectorizer(stop_words='english') #设置停用词\n",
        "print(vectorizer.fit_transform(corpus).todense())\n",
        "print(vectorizer.vocabulary_)\n",
        "#对于对中文文本进行词频特征提取,可以先用jieba进行分词."
      ],
      "metadata": {
        "colab": {
          "base_uri": "https://localhost:8080/"
        },
        "id": "BaNBrcHYoCc9",
        "outputId": "c8e71464-66ce-425b-eb01-464c0404092c"
      },
      "execution_count": null,
      "outputs": [
        {
          "output_type": "stream",
          "name": "stdout",
          "text": [
            "[[0 1 1 0 0 1 0 1]\n",
            " [0 1 1 2 1 0 0 0]\n",
            " [1 0 0 0 0 0 1 0]]\n",
            "{'unc': 7, 'played': 5, 'duke': 2, 'basketball': 1, 'lost': 4, 'game': 3, 'ate': 0, 'sandwich': 6}\n"
          ]
        }
      ]
    },
    {
      "cell_type": "code",
      "source": [
        "!pip install jieba"
      ],
      "metadata": {
        "colab": {
          "base_uri": "https://localhost:8080/"
        },
        "id": "J3ozdD-mpy9P",
        "outputId": "d4e8646b-035d-4eef-c08f-7e68fc1d02cd"
      },
      "execution_count": null,
      "outputs": [
        {
          "output_type": "stream",
          "name": "stdout",
          "text": [
            "Requirement already satisfied: jieba in /usr/local/lib/python3.7/dist-packages (0.42.1)\n"
          ]
        }
      ]
    },
    {
      "cell_type": "code",
      "source": [
        "import jieba \n",
        "\n",
        "seg_list = jieba.cut('朋友, 小红是我的')\n",
        "\"/\".join(seg_list)"
      ],
      "metadata": {
        "colab": {
          "base_uri": "https://localhost:8080/",
          "height": 105
        },
        "id": "R9FPJBJap4Qa",
        "outputId": "515cdd34-878b-4520-cf72-7b4d60ac8889"
      },
      "execution_count": null,
      "outputs": [
        {
          "output_type": "stream",
          "name": "stderr",
          "text": [
            "Building prefix dict from the default dictionary ...\n",
            "Dumping model to file cache /tmp/jieba.cache\n",
            "Loading model cost 0.993 seconds.\n",
            "Prefix dict has been built successfully.\n"
          ]
        },
        {
          "output_type": "execute_result",
          "data": {
            "text/plain": [
              "'朋友/,/ /小红/是/我/的'"
            ],
            "application/vnd.google.colaboratory.intrinsic+json": {
              "type": "string"
            }
          },
          "metadata": {},
          "execution_count": 4
        }
      ]
    },
    {
      "cell_type": "code",
      "source": [
        "import jieba \n",
        "from sklearn.feature_extraction.text import CountVectorizer\n",
        "corpus = [\n",
        "    '朋友, 小红是我的',\n",
        "    '小明对小红说: \"小红,我们还是不是朋友\"',\n",
        "    '小明与小红是朋友'\n",
        "]\n",
        "cutcorpus = [\"/\".join(jieba.cut(x)) for x in corpus]\n",
        "vectorizer = CountVectorizer(stop_words=['好的','是的'])\n",
        "counts = vectorizer.fit_transform(cutcorpus).todense()\n",
        "print(counts)\n",
        "print(vectorizer.vocabulary_) #查看映射字典\n"
      ],
      "metadata": {
        "colab": {
          "base_uri": "https://localhost:8080/"
        },
        "id": "624e3310qIeh",
        "outputId": "41cfa4fb-9dbb-4de6-a294-2654af859aaf"
      },
      "execution_count": null,
      "outputs": [
        {
          "output_type": "stream",
          "name": "stdout",
          "text": [
            "[[0 1 0 0 1]\n",
            " [1 2 1 1 1]\n",
            " [1 1 0 0 1]]\n",
            "{'朋友': 4, '小红': 1, '小明': 0, '我们': 2, '是不是': 3}\n"
          ]
        }
      ]
    },
    {
      "cell_type": "code",
      "source": [
        "# ?CountVectorizer\n",
        "\n",
        "# Convert a collection of text documents to a matrix of token counts.\n",
        "# This implementation produces a sparse representation of the counts using\n",
        "# scipy.sparse.csr_matrix.\n"
      ],
      "metadata": {
        "id": "A1gD6ILGr3oc"
      },
      "execution_count": null,
      "outputs": []
    },
    {
      "cell_type": "markdown",
      "source": [
        "可以用词频向量的欧式距离(L2范数)衡量两个文档之间的距离(距离越小越相似)\n",
        "\n",
        "$x = [x_1,x_2,x_3],y=[y_1,y_2,y_3]$\n",
        "\n",
        "$d=\\sqrt{(x_1-y_1)^2 + (x_2-y_2)^2 + (x_3-y_3)^2}$"
      ],
      "metadata": {
        "id": "UqAJZwTzppoM"
      }
    },
    {
      "cell_type": "code",
      "source": [
        "from sklearn.feature_extraction.text import CountVectorizer\n",
        "from sklearn.metrics.pairwise import euclidean_distances\n",
        "vectorizer = CountVectorizer()\n",
        "for x,y in [[0,1],[0,2],[1,2]]:\n",
        "    dist = euclidean_distances(counts[x],counts[y])\n",
        "    print('文档{}与文档{}的距离{}'.format(x,y,dist))"
      ],
      "metadata": {
        "colab": {
          "base_uri": "https://localhost:8080/"
        },
        "id": "1p1ZziJzug15",
        "outputId": "0a74d9e5-4d6b-487d-bd1b-e4b15ac30437"
      },
      "execution_count": null,
      "outputs": [
        {
          "output_type": "stream",
          "name": "stdout",
          "text": [
            "文档0与文档1的距离[[2.]]\n",
            "文档0与文档2的距离[[1.]]\n",
            "文档1与文档2的距离[[1.73205081]]\n"
          ]
        },
        {
          "output_type": "stream",
          "name": "stderr",
          "text": [
            "/usr/local/lib/python3.7/dist-packages/sklearn/utils/validation.py:598: FutureWarning: np.matrix usage is deprecated in 1.0 and will raise a TypeError in 1.2. Please convert to a numpy array with np.asarray. For more information see: https://numpy.org/doc/stable/reference/generated/numpy.matrix.html\n",
            "  FutureWarning,\n",
            "/usr/local/lib/python3.7/dist-packages/sklearn/utils/validation.py:598: FutureWarning: np.matrix usage is deprecated in 1.0 and will raise a TypeError in 1.2. Please convert to a numpy array with np.asarray. For more information see: https://numpy.org/doc/stable/reference/generated/numpy.matrix.html\n",
            "  FutureWarning,\n",
            "/usr/local/lib/python3.7/dist-packages/sklearn/utils/validation.py:598: FutureWarning: np.matrix usage is deprecated in 1.0 and will raise a TypeError in 1.2. Please convert to a numpy array with np.asarray. For more information see: https://numpy.org/doc/stable/reference/generated/numpy.matrix.html\n",
            "  FutureWarning,\n",
            "/usr/local/lib/python3.7/dist-packages/sklearn/utils/validation.py:598: FutureWarning: np.matrix usage is deprecated in 1.0 and will raise a TypeError in 1.2. Please convert to a numpy array with np.asarray. For more information see: https://numpy.org/doc/stable/reference/generated/numpy.matrix.html\n",
            "  FutureWarning,\n",
            "/usr/local/lib/python3.7/dist-packages/sklearn/utils/validation.py:598: FutureWarning: np.matrix usage is deprecated in 1.0 and will raise a TypeError in 1.2. Please convert to a numpy array with np.asarray. For more information see: https://numpy.org/doc/stable/reference/generated/numpy.matrix.html\n",
            "  FutureWarning,\n",
            "/usr/local/lib/python3.7/dist-packages/sklearn/utils/validation.py:598: FutureWarning: np.matrix usage is deprecated in 1.0 and will raise a TypeError in 1.2. Please convert to a numpy array with np.asarray. For more information see: https://numpy.org/doc/stable/reference/generated/numpy.matrix.html\n",
            "  FutureWarning,\n"
          ]
        }
      ]
    },
    {
      "cell_type": "markdown",
      "source": [
        "#### 2. Tf-idf权重向量\n",
        "单词频率对文档意思有重要作用,但是在对比长度不同的文档时,长度较长的文档的单词频率将明显倾向于更大.因此将单词频率正则化为权重是一个好主意.\n",
        "\n",
        "此外,如果一些词在需要分析的文集中的所有文档中都出现,那么可以认为这些次时文集中的常用词,对区分文集中的文档帮助不大. 因此, 可以把单词在文集中出现的频率考虑进来作为修成.\n",
        "\n",
        "Tf-idf即是考虑到这两方面因素设计的一个优化的词频权重指标. 在搜索和数据挖掘中经常使用.\n",
        "\n",
        "$Tfidf = Tf . idf$\n",
        "\n",
        "$idf = \\log(\\frac{n_d}{1+df})$\n",
        "\n",
        "Tf- Term frequncy ,词频\n",
        "\n",
        "idf - inverse document frequency,逆向文件频率\n",
        "\n",
        "n_d - 文集中文档总数\n",
        "\n",
        "df - 含有该单词的文档数量\n",
        "\n",
        "最终Tfidf再正则化为权重.\n",
        "\n",
        "$x_{norm} = \\frac{x}{||x||_2}=\\frac{x}{\\sqrt(x_1^2 + x_2^2 + ... + x_n^2)}$\n",
        "\n",
        "TfidfTransformer 可以把普通的词频向量转换成Tf-idf权重向量\n",
        "\n",
        "类TfidfVectorizer则将CountVectorizer和 TfidfTransformer的功能集成在了一起."
      ],
      "metadata": {
        "id": "zY6ZcqT2xY4A"
      }
    },
    {
      "cell_type": "code",
      "source": [
        "from sklearn.feature_extraction.text import TfidfTransformer\n",
        "transformer = TfidfTransformer(smooth_idf=False)\n",
        "counts = [[3,0,1],\n",
        "          [2,0,0],\n",
        "          [3,0,0],\n",
        "          [4,0,0],\n",
        "          [3,2,0],\n",
        "          [3,0,2]]\n",
        "\n",
        "tfidf = transformer.fit_transform(counts)\n",
        "tfidf.toarray()"
      ],
      "metadata": {
        "colab": {
          "base_uri": "https://localhost:8080/"
        },
        "id": "UH_5FRmeu-ji",
        "outputId": "b3ba2d53-8bab-4b15-9e67-29a7b77edab3"
      },
      "execution_count": null,
      "outputs": [
        {
          "output_type": "execute_result",
          "data": {
            "text/plain": [
              "array([[0.81940995, 0.        , 0.57320793],\n",
              "       [1.        , 0.        , 0.        ],\n",
              "       [1.        , 0.        , 0.        ],\n",
              "       [1.        , 0.        , 0.        ],\n",
              "       [0.47330339, 0.88089948, 0.        ],\n",
              "       [0.58149261, 0.        , 0.81355169]])"
            ]
          },
          "metadata": {},
          "execution_count": 9
        }
      ]
    },
    {
      "cell_type": "code",
      "source": [
        "from sklearn.feature_extraction.text import TfidfVectorizer\n",
        "vectorizer = TfidfVectorizer()\n",
        "array=vectorizer.fit_transform(cutcorpus).toarray()\n",
        "print(array)\n",
        "vectorizer.vocabulary_"
      ],
      "metadata": {
        "colab": {
          "base_uri": "https://localhost:8080/"
        },
        "id": "HHQyo0A5G9zo",
        "outputId": "9ec6b6db-35db-4f89-ed13-bb0535e4fb30"
      },
      "execution_count": null,
      "outputs": [
        {
          "output_type": "stream",
          "name": "stdout",
          "text": [
            "[[0.         0.70710678 0.         0.         0.70710678]\n",
            " [0.36580076 0.56815385 0.48098405 0.48098405 0.28407693]\n",
            " [0.67325467 0.52284231 0.         0.         0.52284231]]\n"
          ]
        },
        {
          "output_type": "execute_result",
          "data": {
            "text/plain": [
              "{'小明': 0, '小红': 1, '我们': 2, '是不是': 3, '朋友': 4}"
            ]
          },
          "metadata": {},
          "execution_count": 14
        }
      ]
    },
    {
      "cell_type": "markdown",
      "source": [
        "#### 3. 特征哈希向量\n",
        "词袋模型(bags of word)的方法很好用,也很直接,但在有些场景下很难使用,比如分词后的词汇字典表非常大,达到100万+,此时如果直接使用词频向量或Tf-idf权重向量的方法,将对应的样本对应特征矩阵载入内存, 有可能将内存撑爆,在这种情况下我们该怎么办?\n",
        "\n",
        "我们可以应用哈希技巧进行降维.\n",
        "\n",
        "Hash函数可以将一个任意长度的字符串映射到一个固定长度的散列数字中去. Hash函数时一种典型的多对一映射.\n",
        "* 正向快速:给定明文和hash算法,在有限时间和有限资源内能计算出hash值.\n",
        "* 逆向困难:给定(若干)hash值,在有限时间内很难(基本不可能)拟退出明文.\n",
        "* 输入敏感:原始输入信息修改一点信息,产生的hash值看起来应该都有很大不同.\n",
        "* 碰撞避免:很难找到两段内容不同的明文, 使得他们的hash值已知(发生碰撞).即对于任意两个不同的数据块,其hash值相同的可能性极小;对于一个给定的数据块,找到和它hash值相同的数据块极为困难.\n",
        "\n",
        "目前流行的Hash函数包括MD4,MD5,SHA等.\n",
        "\n",
        "![hash](G:\\My Drive\\教程以及学习笔记\\Sklearn学习\\【第01部分 核心教程】sklearn深度学习框架入门与实战 3套\\01.2020年Scikit-learn深度学习快速入门实战（附讲义）48课\\00.配套资料（讲义）\\1.png)\n",
        "\n",
        "利用HashingVectorizer的n_features设置可以将特征数量降至任意我们想要的范围.但是由于碰撞可能发生,有些特征的值会由于碰撞累加得过高产生偏差.HashingVectorizer通过使用有符号哈希函数巧妙地解决了这个问题.\n",
        "\n",
        "key经过哈希映射得到带符号的hash值后,value的符号和哈希值的符号保持一致,hash值发生碰撞情况下, 大概率是一半带正号, 一半带负号,他们的value符号相反,累加不会导致对真实特征的较大偏离."
      ],
      "metadata": {
        "id": "vrb3dxQbHvZg"
      }
    },
    {
      "cell_type": "code",
      "source": [
        "from sklearn.feature_extraction.text import HashingVectorizer\n",
        "corpus = ['smart boy','ate','bacon','a cat']\n",
        "\n",
        "# HashingVectorizer是无状态的,你不需要fit它\n",
        "\n",
        "vectorizer = HashingVectorizer(n_features=6,stop_words='english')\n",
        "print(vectorizer.transform(corpus).todense())"
      ],
      "metadata": {
        "colab": {
          "base_uri": "https://localhost:8080/"
        },
        "id": "4mDUfu9Fha0Y",
        "outputId": "2b3fb2ae-cf98-4e64-d1d0-68b5458094e0"
      },
      "execution_count": null,
      "outputs": [
        {
          "output_type": "stream",
          "name": "stdout",
          "text": [
            "[[-0.70710678 -0.70710678  0.          0.          0.          0.        ]\n",
            " [ 0.          0.          0.          1.          0.          0.        ]\n",
            " [ 0.          0.          0.          0.         -1.          0.        ]\n",
            " [ 0.          1.          0.          0.          0.          0.        ]]\n"
          ]
        }
      ]
    },
    {
      "cell_type": "code",
      "source": [
        "from sklearn.feature_extraction.text import HashingVectorizer\n",
        "corpus = [\n",
        "    'UNC played Duke in basketball',\n",
        "    'Duke lost the basketball game,game over',\n",
        "    'I ate a sandwich'\n",
        "]\n",
        "vectorizer = HashingVectorizer(n_features=3)\n",
        "counts = vectorizer.transform(corpus).todense()\n",
        "print(counts)\n",
        "counts.shape"
      ],
      "metadata": {
        "colab": {
          "base_uri": "https://localhost:8080/"
        },
        "id": "j8T-DIgmj-JA",
        "outputId": "ede0289f-c049-4413-9662-2c8f2978dbbe"
      },
      "execution_count": null,
      "outputs": [
        {
          "output_type": "stream",
          "name": "stdout",
          "text": [
            "[[ 0.          0.         -1.        ]\n",
            " [-0.33333333 -0.66666667 -0.66666667]\n",
            " [ 0.70710678  0.          0.70710678]]\n"
          ]
        },
        {
          "output_type": "execute_result",
          "data": {
            "text/plain": [
              "(3, 3)"
            ]
          },
          "metadata": {},
          "execution_count": 6
        }
      ]
    },
    {
      "cell_type": "markdown",
      "source": [
        "### 三, 图片特征提取\n",
        "\n",
        "图片特征提取的基本方法是获取图片的像素矩阵,并将其reshape拼接成为一个行向量."
      ],
      "metadata": {
        "id": "4oSMOn0Zkohq"
      }
    },
    {
      "cell_type": "markdown",
      "source": [
        "#### 1. 提取像素矩阵"
      ],
      "metadata": {
        "id": "_x_h5k3VlIZJ"
      }
    },
    {
      "cell_type": "code",
      "source": [
        "import skimage.io as io\n",
        "import matplotlib.pyplot as plt \n",
        "%matplotlib inline\n",
        "imrgb = io.imread('多啦A梦.jpg')\n",
        "print('before reshape:',imrgb.shape) #第三个维度分别对应r,g,b像素值\n",
        "#将imrgb拼接成为一个行向量\n",
        "imvec = imrgb.reshape(1,-1)\n",
        "print('after reshape:',imvec.shape)\n",
        "\n",
        "plt.gray()\n",
        "fig,axes = plt.subplots(2,2,figsize=(12,10))\n",
        "ax0,ax1,ax2,ax3 = axes.ravel()\n",
        "ax0.imshow(imrgb)\n",
        "ax0.set_title('original image')\n",
        "\n",
        "ax1.imshow(imrgb[:,:,0]) # R通道\n",
        "ax1.set_title('red channel')\n",
        "\n",
        "ax2.imshow(imrgb[:,:,1]) # R通道\n",
        "ax2.set_title('green channel')\n",
        "\n",
        "ax3.imshow(imrgb[:,:,2]) # R通道\n",
        "ax3.set_title('blue channel')\n",
        "\n"
      ],
      "metadata": {
        "id": "vJwfyNJ5lN05"
      },
      "execution_count": null,
      "outputs": []
    },
    {
      "cell_type": "code",
      "source": [
        "# 转换成灰白图像\n",
        "from skimage.color import rgb2gray\n",
        "import matplotlib.pyplot as plt\n",
        "import skimage.io as io\n",
        "from skimage.exposure import equalize_hist\n",
        "\n",
        "plt.gray()\n",
        "imgray = equalize_hist(rgb2gray(imrgb)) # 转换成黑白图并使直方图均匀化,增强对比\n",
        "io.imshow(imgray)\n",
        "\n",
        "# 转换成一个行向量\n",
        "imvec = imgray.reshape(1,-1)\n",
        "imvec.shape"
      ],
      "metadata": {
        "id": "FTFf25jysbnj"
      },
      "execution_count": null,
      "outputs": []
    },
    {
      "cell_type": "markdown",
      "source": [
        "#### 2. 提取兴趣点"
      ],
      "metadata": {
        "id": "319wTwZatsRr"
      }
    },
    {
      "cell_type": "code",
      "source": [
        "import numpy as np \n",
        "from skimage.feature import corner_harris,corner_peaks\n",
        "from skimage.color import rgb2gray\n",
        "import matplotlib.pyplot as plt \n",
        "import skimage.io as io\n",
        "from skimage.exposure import equalize_hist \n",
        "\n",
        "def show_corners(corners, image):\n",
        "    fig = plt.figure()\n",
        "    plt.gray()\n",
        "    plt.imshow(image)\n",
        "    y_corner,x_corner=zip(*corners)\n",
        "    plt.plot(x_corner,y_corner,'or') # or = red cycle\n",
        "    plt.xlim(0,image.shape[1])\n",
        "    plt.ylim(image.shape[0],0)\n",
        "    fig.set_size_inches(np.array(fig.get_size_inches()) * 1.5)\n",
        "    plt.show()\n",
        "\n",
        "imrgb = io.imread('多啦A梦.jpg')\n",
        "imgray = equalize_hist(rgb2gray(imrgb))\n",
        "corners = corner_peaks(corner_harris(imgray),min_distrance=2)\n",
        "show_corners(corners,imgray)"
      ],
      "metadata": {
        "id": "yTcVAbH_t0A2"
      },
      "execution_count": null,
      "outputs": []
    },
    {
      "cell_type": "code",
      "source": [
        "import matplotlib.pyplot as plt \n",
        "from skimage import measure,data,color \n",
        "\n",
        "# 生成二值测试图像\n",
        "imrgb = io.imread('多啦A梦.jpg')\n",
        "img = color.rgb2gray(imrgb)\n",
        "\n",
        "# 检测所有图像的轮廓\n",
        "contours = measure.find_contours(img,0.5)\n",
        "\n",
        "# 绘制轮廓\n",
        "fig,axes = plt.subplots(1,2,figsize=(8,8))\n",
        "ax0,ax1 = axes.ravel()\n",
        "ax0.imshow(img,plt.cm.gray)\n",
        "ax0.set_title('original image')\n",
        "\n",
        "rows,cols = img.shape\n",
        "ax1.axis([0,rows,cols,0])\n",
        "for n,contour in enumerate(contours):\n",
        "    ax1.plot(contour[:,1],contour[:,0],linewidth=2)\n",
        "ax1.axis('image')\n",
        "ax1.set_title('contours')\n",
        "plt.show()"
      ],
      "metadata": {
        "id": "yJ06tCZYyvCv"
      },
      "execution_count": null,
      "outputs": []
    },
    {
      "cell_type": "markdown",
      "source": [
        "## 特征的选择\n"
      ],
      "metadata": {
        "id": "fguyEN6z4iz4"
      }
    },
    {
      "cell_type": "markdown",
      "source": [
        "### 特征工程\n",
        "参考博客：《用sklearn做单机特征工程》 (https://www.cnblogs.com/jasonfreak/p/5448385.html)\n",
        "\n",
        "有这么一句话在业界广泛流传：数据和特征决定了机器学习的上限，而模型和算法只是逼近这个上 限而已。根据特征使用方案，有计划地获取、处理和监控数据和特征的工作称之为特征工程,目的是 最大限度地从原始数据中提取特征以供算法和模型使用。\n",
        "\n",
        "使用sklearn做单机特征工程\n",
        "* 目录\n",
        "\n",
        "1 特征工程是什么？\n",
        "\n",
        "2 数据预处理\n",
        "\n",
        "　　2.1 无量纲化\n",
        "\n",
        "　　　　2.1.1 标准化\n",
        "\n",
        "　　　　2.1.2 区间缩放法\n",
        "\n",
        "　　　　2.1.3 标准化与归一化的区别\n",
        "\n",
        "　　2.2 对定量特征二值化\n",
        "\n",
        "　　2.3 对定性特征哑编码\n",
        "\n",
        "　　2.4 缺失值计算\n",
        "\n",
        "　　2.5 数据变换\n",
        "\n",
        "　　2.6 回顾\n",
        "\n",
        "3 特征选择\n",
        "\n",
        "　　3.1 Filter\n",
        "\n",
        "　　　　3.1.1 方差选择法\n",
        "\n",
        "　　　　3.1.2 相关系数法\n",
        "\n",
        "　　　　3.1.3 卡方检验\n",
        "\n",
        "　　　　3.1.4 互信息法\n",
        "\n",
        "　　3.2 Wrapper\n",
        "\n",
        "　　　　3.2.1 递归特征消除法\n",
        "\n",
        "　　3.3 Embedded\n",
        "\n",
        "　　　　3.3.1 基于惩罚项的特征选择法\n",
        "\n",
        "　　　　3.3.2 基于树模型的特征选择法\n",
        "\n",
        "　　3.4 回顾\n",
        "\n",
        "4 降维\n",
        "\n",
        "　　4.1 主成分分析法（PCA）\n",
        "\n",
        "　　4.2 线性判别分析法（LDA）\n",
        "\n",
        "　　4.3 回顾\n",
        "\n",
        "5 总结\n",
        "\n",
        "6 参考资料\n",
        "\n",
        "\n",
        "特征工程\n",
        "* 特征使用方案\n",
        "** 要实现我们的目标需要那些数据? --基于业务理解,尽可能找出对因变量有影响的所有自变量.\n",
        "** 可用性评估: 1.获取难度 2.覆盖率 3.准确率\n",
        "\n",
        "* 特征获取方案\n",
        "** 如何获取这些特征?\n",
        "** 如何存储?\n",
        "\n",
        "* 特征处理\n",
        "** 特征清晰: 1.清洗异常样本 2.采样(数据不均衡, 样本权重)\n",
        "\n",
        "** 预处理:\n",
        "\n",
        "    1.单个特征\n",
        "        归一化\n",
        "        离散化\n",
        "        Dummy Coding \n",
        "        缺失值\n",
        "        数据变换:log, 指数,Box-Cox\n",
        "\n",
        "    2. 多个特征\n",
        "        降维: PCA, LDA(判别方法)\n",
        "\n",
        "        特征选择\n",
        "            Filter: 思路:自变量和目标变量之间的关联\n",
        "                相关系数\n",
        "                卡方检验\n",
        "                信息增益,互信息\n",
        "            Wrapper: 思路:通过目标函数(AUC/MSE) 来决定是否加入一个变量\n",
        "                迭代:产生特征自己,评价:完全搜索, 启发式搜索, 随机搜索:GA,SA\n",
        "            Embedded: 思路:学习器自身自动选择特征\n",
        "                正则化: L1-Lasso, L2-Ridge\n",
        "                决策树: - 熵, 信息增益\n",
        "                深度学习\n",
        "    3. 衍生变量--对原始数据加工, 生成有商业意义的变量\n",
        "\n",
        "* 特征监控\n",
        "** 特征有效性分析--特征重要性,权重\n",
        "** 特征监控--监控重要特征--防止特征质量下降,影响模型效果\n",
        "\n",
        "特征处理是特征工程的核心部分，sklearn提供了较为完整的特征处理方法，包括数据预处理，特征选择，降维等。首次接触到sklearn，通常会被其丰富且方便的算法模型库吸引，但是这里介绍的特征处理库也十分强大！\n"
      ],
      "metadata": {
        "id": "gPkIvH1h4rvx"
      }
    },
    {
      "cell_type": "markdown",
      "source": [
        "本文中使用sklearn中的IRIS（鸢尾花）数据集来对特征处理功能进行说明。IRIS数据集由Fisher在1936年整理，包含4个特征（Sepal.Length（花萼长度）、Sepal.Width（花萼宽度）、Petal.Length（花瓣长度）、Petal.Width（花瓣宽度）），特征值都为正浮点数，单位为厘米。目标值为鸢尾花的分类（Iris Setosa（山鸢尾）、Iris Versicolour（杂色鸢尾），Iris Virginica（维吉尼亚鸢尾））。导入IRIS数据集的代码如下："
      ],
      "metadata": {
        "id": "pwNe5lr5CWEd"
      }
    },
    {
      "cell_type": "code",
      "source": [
        "from sklearn.datasets import load_iris\n",
        "\n",
        "#导入IRIS数据集\n",
        "iris = load_iris()\n",
        "\n",
        "#特征矩阵\n",
        "iris.data\n",
        "\n",
        "#目标向量\n",
        "iris.target"
      ],
      "metadata": {
        "id": "hgKigj1SHQCw"
      },
      "execution_count": null,
      "outputs": []
    },
    {
      "cell_type": "markdown",
      "source": [
        "2 数据预处理\n",
        "\n",
        "　* 通过特征提取，我们能得到未经处理的特征，这时的特征可能有以下问题：\n",
        "\n",
        "  * 不属于同一量纲：即特征的规格不一样，不能够放在一起比较。无量纲化可以解决这一问题\n",
        "  * 信息冗余：对于某些定量特征，其包含的有效信息为区间划分，例如学习成绩，假若只关心“及格”或不“及格”，那么需要将定量的考分，转换成“1”和“0”表示及格和未及格。二值化可以解决这一问题。\n",
        "  * 定性特征不能直接使用：某些机器学习算法和模型只能接受定量特征的输入，那么需要将定性特征转换为定量特征。最简单的方式是为每一种定性值指定一个定量值，但是这种方式过于灵活，增加了调参的工作。通常使用哑编码的方式将定性特征转换为定量特征：假设有N种定性值，则将这一个特征扩展为N种特征，当原始特征值为第i种定性值时，第i个扩展特征赋值为1，其他扩展特征赋值为0。哑编码的方式相比直接指定的方式，不用增加调参的工作，对于线性模型来说，使用哑编码后的特征可达到非线性的效果。\n",
        "  * 存在缺失值：缺失值需要补充。\n",
        "  * 信息利用率低：不同的机器学习算法和模型对数据中信息的利用是不同的，之前提到在线性模型中，使用对定性特征哑编码可以达到非线性的效果。类似地，对定量变量多项式化，或者进行其他的转换，都能达到非线性的效果。\n",
        "　  \n",
        "我们使用sklearn中的preproccessing库来进行数据预处理，可以覆盖以上问题的解决方案。\n",
        "\n",
        "2.1 无量纲化\n",
        "\n",
        "　　无量纲化使不同规格的数据转换到同一规格。常见的无量纲化方法有标准化和区间缩放法。标准化的前提是特征值服从正态分布，标准化后，其转换成标准正态分布。区间缩放法利用了边界值信息，将特征的取值区间缩放到某个特点的范围，例如[0, 1]等。\n",
        "\n",
        "2.1.1 标准化\n",
        "\n",
        "　　标准化需要计算特征的均值和标准差，公式表达为：\n",
        "\n",
        "\n",
        "\n",
        "　　使用preproccessing库的StandardScaler类对数据进行标准化的代码如下："
      ],
      "metadata": {
        "id": "EPMYD9ANHSYT"
      }
    },
    {
      "cell_type": "code",
      "source": [
        "from sklearn.preprocessing import StandardScaler\n",
        " \n",
        "#标准化，返回值为标准化后的数据\n",
        "StandardScaler().fit_transform(iris.data)"
      ],
      "metadata": {
        "id": "YVPmZeEIMv7r"
      },
      "execution_count": null,
      "outputs": []
    },
    {
      "cell_type": "markdown",
      "source": [
        "2.1.2 区间缩放法\n",
        "\n",
        "　　区间缩放法的思路有多种，常见的一种为利用两个最值进行缩放，公式表达为：\n",
        "\n",
        "\n",
        "\n",
        "　　使用preproccessing库的MinMaxScaler类对数据进行区间缩放的代码如下："
      ],
      "metadata": {
        "id": "tHU5l0c2M4u-"
      }
    },
    {
      "cell_type": "code",
      "source": [
        "from sklearn.preprocessing import MinMaxScaler\n",
        "\n",
        "#区间缩放，返回值为缩放到[0, 1]区间的数据\n",
        "MinMaxScaler().fit_transform(iris.data)"
      ],
      "metadata": {
        "id": "c5YqdaxDM6Ks"
      },
      "execution_count": null,
      "outputs": []
    },
    {
      "cell_type": "markdown",
      "source": [
        "2.1.3 标准化与归一化的区别\n",
        "\n",
        "　　简单来说，标准化是依照特征矩阵的列处理数据，其通过求z-score的方法，将样本的特征值转换到同一量纲下。归一化是依照特征矩阵的行处理数据，其目的在于样本向量在点乘运算或其他核函数计算相似性时，拥有统一的标准，也就是说都转化为“单位向量”。规则为l2的归一化公式如下：\n",
        "\n",
        "　　使用preproccessing库的Normalizer类对数据进行归一化的代码如下："
      ],
      "metadata": {
        "id": "N2O0_xMSNOhI"
      }
    },
    {
      "cell_type": "code",
      "source": [
        "from sklearn.preprocessing import Normalizer\n",
        "\n",
        "#归一化，返回值为归一化后的数据\n",
        "Normalizer().fit_transform(iris.data)"
      ],
      "metadata": {
        "id": "fhg0bIsHNQkd"
      },
      "execution_count": null,
      "outputs": []
    },
    {
      "cell_type": "markdown",
      "source": [
        "2.2 对定量特征二值化\n",
        "\n",
        "　　定量特征二值化的核心在于设定一个阈值，大于阈值的赋值为1，小于等于阈值的赋值为0，公式表达如下：\n",
        "\n",
        "　　使用preproccessing库的Binarizer类对数据进行二值化的代码如下："
      ],
      "metadata": {
        "id": "1D7cjY35NYss"
      }
    },
    {
      "cell_type": "code",
      "source": [
        "from sklearn.preprocessing import Binarizer\n",
        " \n",
        "#二值化，阈值设置为3，返回值为二值化后的数据\n",
        "Binarizer(threshold=3).fit_transform(iris.data)"
      ],
      "metadata": {
        "id": "uYXs60YlNass"
      },
      "execution_count": null,
      "outputs": []
    },
    {
      "cell_type": "markdown",
      "source": [
        "2.3 对定性特征哑编码\n",
        "\n",
        "　　由于IRIS数据集的特征皆为定量特征，故使用其目标值进行哑编码（实际上是不需要的）。使用preproccessing库的OneHotEncoder类对数据进行哑编码的代码如下："
      ],
      "metadata": {
        "id": "hlJfoKRmNf5T"
      }
    },
    {
      "cell_type": "code",
      "source": [
        "from sklearn.preprocessing import OneHotEncoder\n",
        "\n",
        "#哑编码，对IRIS数据集的目标值，返回值为哑编码后的数据\n",
        "OneHotEncoder().fit_transform(iris.target.reshape((-1,1)))"
      ],
      "metadata": {
        "id": "Nm7aPfq5Nnfh"
      },
      "execution_count": null,
      "outputs": []
    },
    {
      "cell_type": "markdown",
      "source": [
        "2.4 缺失值计算\n",
        "\n",
        "　　由于IRIS数据集没有缺失值，故对数据集新增一个样本，4个特征均赋值为NaN，表示数据缺失。使用preproccessing库的Imputer类对数据进行缺失值计算的代码如下："
      ],
      "metadata": {
        "id": "u8f2PL7_NxRq"
      }
    },
    {
      "cell_type": "code",
      "source": [
        "from numpy import vstack, array, nan\n",
        "from sklearn.preprocessing import Imputer\n",
        "\n",
        "#缺失值计算，返回值为计算缺失值后的数据\n",
        "#参数missing_value为缺失值的表示形式，默认为NaN\n",
        "#参数strategy为缺失值填充方式，默认为mean（均值）\n",
        "Imputer().fit_transform(vstack((array([nan, nan, nan, nan]), iris.data)))"
      ],
      "metadata": {
        "id": "ECf7Rlu9Ns4S"
      },
      "execution_count": null,
      "outputs": []
    },
    {
      "cell_type": "markdown",
      "source": [
        "2.5 数据变换\n",
        "\n",
        "　　常见的数据变换有基于多项式的、基于指数函数的、基于对数函数的。4个特征，度为2的多项式转换公式如下：\n",
        "\n",
        "　　使用preproccessing库的PolynomialFeatures类对数据进行多项式转换的代码如下："
      ],
      "metadata": {
        "id": "kxSn0QgaN40c"
      }
    },
    {
      "cell_type": "code",
      "source": [
        "from sklearn.preprocessing import PolynomialFeatures\n",
        "\n",
        "#多项式转换\n",
        "#参数degree为度，默认值为2\n",
        "PolynomialFeatures().fit_transform(iris.data)"
      ],
      "metadata": {
        "id": "Jjp-QSnnN7zI"
      },
      "execution_count": null,
      "outputs": []
    },
    {
      "cell_type": "markdown",
      "source": [
        "基于单变元函数的数据变换可以使用一个统一的方式完成，使用preproccessing库的FunctionTransformer对数据进行对数函数转换的代码如下："
      ],
      "metadata": {
        "id": "cgVAljXYOENv"
      }
    },
    {
      "cell_type": "code",
      "source": [
        "from numpy import log1p\n",
        "from sklearn.preprocessing import FunctionTransformer\n",
        "\n",
        "#自定义转换函数为对数函数的数据变换\n",
        "#第一个参数是单变元函数\n",
        "FunctionTransformer(log1p).fit_transform(iris.data)"
      ],
      "metadata": {
        "id": "q-9PZvhtOSiL"
      },
      "execution_count": null,
      "outputs": []
    },
    {
      "cell_type": "markdown",
      "source": [
        "### 特征选择\n",
        "当数据预处理完成后, 我们需要选择有意义的特征输入机器学习的算法和模型进行训练.通常来说, 从两个方面考虑来选择特征:\n",
        "\n",
        "* 特征是否发散:如果一个特征不发散,例如方差接近于0,也就是说样本在这个特征上基本上没有差异,这个特征对于样本的区分并没有什么用.\n",
        "* 特征与目标的相关性:这点比较显见,与目标相关性高的特征,应当优选选择.除方差法外,本文介绍的其他方法均从相关性考虑.\n",
        "\n",
        "根据特征选择的形式又可以将特征选择方法分为3种:\n",
        "\n",
        "* Filter: 过滤法, 按照发散性或者相关性对各个特征进行评分,设置阈值或者带选择阈值的个数,选择特征.\n",
        "* Wrapper: 包装法,根据目标函数(通常是预测效果评分),每次选择若干特征,或者排除若干特征. \n",
        "* Embedded:嵌入法,先使用某些机器学习的算法和模型进行训练, 得到各个特征的权值系数,根据系数从大到小选择特征. 类似于Filter方法,但是是通过训练来确定特征的优劣.\n",
        "\n",
        "我们使用sklearn中的feature_selection库来进行特征选择."
      ],
      "metadata": {
        "id": "rUy1vI7TOhMo"
      }
    },
    {
      "cell_type": "markdown",
      "source": [
        "#### **3.1 Filter**\n",
        "3.1.1 方差选择法\n",
        "使用方差选择法,首先计算各个特征的方差,然后根据阈值,选择方差大于阈值的特征. 使用feature_selection库的VarianceTreshold类来选择特征的代码如下:"
      ],
      "metadata": {
        "id": "_oRcRITCADLM"
      }
    },
    {
      "cell_type": "code",
      "source": [
        "from sklearn.feature_selection import VarianceThreshold\n",
        "from sklearn import datasets\n",
        "\n",
        "iris = datasets.load_iris()\n",
        "\n",
        "# 方差选择法, 返回值为特征选择后的数据\n",
        "# 参数threshold为方差的阈值\n",
        "vardata=VarianceThreshold(threshold=3).fit_transform(iris.data)\n",
        "vardata"
      ],
      "metadata": {
        "colab": {
          "base_uri": "https://localhost:8080/"
        },
        "id": "fZxsig3yAi8-",
        "outputId": "26c35625-48f7-4b2f-fd77-a55b7f4b89ac"
      },
      "execution_count": null,
      "outputs": [
        {
          "output_type": "execute_result",
          "data": {
            "text/plain": [
              "array([[1.4],\n",
              "       [1.4],\n",
              "       [1.3],\n",
              "       [1.5],\n",
              "       [1.4],\n",
              "       [1.7],\n",
              "       [1.4],\n",
              "       [1.5],\n",
              "       [1.4],\n",
              "       [1.5],\n",
              "       [1.5],\n",
              "       [1.6],\n",
              "       [1.4],\n",
              "       [1.1],\n",
              "       [1.2],\n",
              "       [1.5],\n",
              "       [1.3],\n",
              "       [1.4],\n",
              "       [1.7],\n",
              "       [1.5],\n",
              "       [1.7],\n",
              "       [1.5],\n",
              "       [1. ],\n",
              "       [1.7],\n",
              "       [1.9],\n",
              "       [1.6],\n",
              "       [1.6],\n",
              "       [1.5],\n",
              "       [1.4],\n",
              "       [1.6],\n",
              "       [1.6],\n",
              "       [1.5],\n",
              "       [1.5],\n",
              "       [1.4],\n",
              "       [1.5],\n",
              "       [1.2],\n",
              "       [1.3],\n",
              "       [1.4],\n",
              "       [1.3],\n",
              "       [1.5],\n",
              "       [1.3],\n",
              "       [1.3],\n",
              "       [1.3],\n",
              "       [1.6],\n",
              "       [1.9],\n",
              "       [1.4],\n",
              "       [1.6],\n",
              "       [1.4],\n",
              "       [1.5],\n",
              "       [1.4],\n",
              "       [4.7],\n",
              "       [4.5],\n",
              "       [4.9],\n",
              "       [4. ],\n",
              "       [4.6],\n",
              "       [4.5],\n",
              "       [4.7],\n",
              "       [3.3],\n",
              "       [4.6],\n",
              "       [3.9],\n",
              "       [3.5],\n",
              "       [4.2],\n",
              "       [4. ],\n",
              "       [4.7],\n",
              "       [3.6],\n",
              "       [4.4],\n",
              "       [4.5],\n",
              "       [4.1],\n",
              "       [4.5],\n",
              "       [3.9],\n",
              "       [4.8],\n",
              "       [4. ],\n",
              "       [4.9],\n",
              "       [4.7],\n",
              "       [4.3],\n",
              "       [4.4],\n",
              "       [4.8],\n",
              "       [5. ],\n",
              "       [4.5],\n",
              "       [3.5],\n",
              "       [3.8],\n",
              "       [3.7],\n",
              "       [3.9],\n",
              "       [5.1],\n",
              "       [4.5],\n",
              "       [4.5],\n",
              "       [4.7],\n",
              "       [4.4],\n",
              "       [4.1],\n",
              "       [4. ],\n",
              "       [4.4],\n",
              "       [4.6],\n",
              "       [4. ],\n",
              "       [3.3],\n",
              "       [4.2],\n",
              "       [4.2],\n",
              "       [4.2],\n",
              "       [4.3],\n",
              "       [3. ],\n",
              "       [4.1],\n",
              "       [6. ],\n",
              "       [5.1],\n",
              "       [5.9],\n",
              "       [5.6],\n",
              "       [5.8],\n",
              "       [6.6],\n",
              "       [4.5],\n",
              "       [6.3],\n",
              "       [5.8],\n",
              "       [6.1],\n",
              "       [5.1],\n",
              "       [5.3],\n",
              "       [5.5],\n",
              "       [5. ],\n",
              "       [5.1],\n",
              "       [5.3],\n",
              "       [5.5],\n",
              "       [6.7],\n",
              "       [6.9],\n",
              "       [5. ],\n",
              "       [5.7],\n",
              "       [4.9],\n",
              "       [6.7],\n",
              "       [4.9],\n",
              "       [5.7],\n",
              "       [6. ],\n",
              "       [4.8],\n",
              "       [4.9],\n",
              "       [5.6],\n",
              "       [5.8],\n",
              "       [6.1],\n",
              "       [6.4],\n",
              "       [5.6],\n",
              "       [5.1],\n",
              "       [5.6],\n",
              "       [6.1],\n",
              "       [5.6],\n",
              "       [5.5],\n",
              "       [4.8],\n",
              "       [5.4],\n",
              "       [5.6],\n",
              "       [5.1],\n",
              "       [5.1],\n",
              "       [5.9],\n",
              "       [5.7],\n",
              "       [5.2],\n",
              "       [5. ],\n",
              "       [5.2],\n",
              "       [5.4],\n",
              "       [5.1]])"
            ]
          },
          "metadata": {},
          "execution_count": 32
        }
      ]
    },
    {
      "cell_type": "markdown",
      "source": [
        "**3.1.2 相关系数法**\n",
        "\n",
        "使用相关系数法,先要计算各个特征对目标值的相关系数以及相关系数的P值.用feature_selection库的SelectBest类结合相关系数来选择特征的代码如下:"
      ],
      "metadata": {
        "id": "RoL-fLC3Bj3o"
      }
    },
    {
      "cell_type": "code",
      "source": [
        "from sklearn.feature_selection import SelectKBest\n",
        "from scipy.stats import pearsonr\n",
        "import numpy as np\n",
        "\n",
        "# 选择K个最好的特征,返回选择特征后的数据\n",
        "# 第一个参数为计算评估特征是否好的函数,该函数输入特征矩阵和目标向量.输出二元组(评分, P值)的数组,数组第i个\n",
        "# 特征的评分和P值.在此定义为计算相关系数\n",
        "# 参数k为选择的特征个数\n",
        "f=lambda X,Y:np.array(list(map(lambda x:pearsonr(x,Y)[0],X.T))).T\n",
        "SelectKBest(f,k=2).fit_transform(iris.data,iris.target)\n"
      ],
      "metadata": {
        "colab": {
          "base_uri": "https://localhost:8080/"
        },
        "id": "G6IbOutJCCVN",
        "outputId": "7572e884-131d-45db-e1e9-44f803e13c10"
      },
      "execution_count": null,
      "outputs": [
        {
          "output_type": "execute_result",
          "data": {
            "text/plain": [
              "array([[1.4, 0.2],\n",
              "       [1.4, 0.2],\n",
              "       [1.3, 0.2],\n",
              "       [1.5, 0.2],\n",
              "       [1.4, 0.2],\n",
              "       [1.7, 0.4],\n",
              "       [1.4, 0.3],\n",
              "       [1.5, 0.2],\n",
              "       [1.4, 0.2],\n",
              "       [1.5, 0.1],\n",
              "       [1.5, 0.2],\n",
              "       [1.6, 0.2],\n",
              "       [1.4, 0.1],\n",
              "       [1.1, 0.1],\n",
              "       [1.2, 0.2],\n",
              "       [1.5, 0.4],\n",
              "       [1.3, 0.4],\n",
              "       [1.4, 0.3],\n",
              "       [1.7, 0.3],\n",
              "       [1.5, 0.3],\n",
              "       [1.7, 0.2],\n",
              "       [1.5, 0.4],\n",
              "       [1. , 0.2],\n",
              "       [1.7, 0.5],\n",
              "       [1.9, 0.2],\n",
              "       [1.6, 0.2],\n",
              "       [1.6, 0.4],\n",
              "       [1.5, 0.2],\n",
              "       [1.4, 0.2],\n",
              "       [1.6, 0.2],\n",
              "       [1.6, 0.2],\n",
              "       [1.5, 0.4],\n",
              "       [1.5, 0.1],\n",
              "       [1.4, 0.2],\n",
              "       [1.5, 0.2],\n",
              "       [1.2, 0.2],\n",
              "       [1.3, 0.2],\n",
              "       [1.4, 0.1],\n",
              "       [1.3, 0.2],\n",
              "       [1.5, 0.2],\n",
              "       [1.3, 0.3],\n",
              "       [1.3, 0.3],\n",
              "       [1.3, 0.2],\n",
              "       [1.6, 0.6],\n",
              "       [1.9, 0.4],\n",
              "       [1.4, 0.3],\n",
              "       [1.6, 0.2],\n",
              "       [1.4, 0.2],\n",
              "       [1.5, 0.2],\n",
              "       [1.4, 0.2],\n",
              "       [4.7, 1.4],\n",
              "       [4.5, 1.5],\n",
              "       [4.9, 1.5],\n",
              "       [4. , 1.3],\n",
              "       [4.6, 1.5],\n",
              "       [4.5, 1.3],\n",
              "       [4.7, 1.6],\n",
              "       [3.3, 1. ],\n",
              "       [4.6, 1.3],\n",
              "       [3.9, 1.4],\n",
              "       [3.5, 1. ],\n",
              "       [4.2, 1.5],\n",
              "       [4. , 1. ],\n",
              "       [4.7, 1.4],\n",
              "       [3.6, 1.3],\n",
              "       [4.4, 1.4],\n",
              "       [4.5, 1.5],\n",
              "       [4.1, 1. ],\n",
              "       [4.5, 1.5],\n",
              "       [3.9, 1.1],\n",
              "       [4.8, 1.8],\n",
              "       [4. , 1.3],\n",
              "       [4.9, 1.5],\n",
              "       [4.7, 1.2],\n",
              "       [4.3, 1.3],\n",
              "       [4.4, 1.4],\n",
              "       [4.8, 1.4],\n",
              "       [5. , 1.7],\n",
              "       [4.5, 1.5],\n",
              "       [3.5, 1. ],\n",
              "       [3.8, 1.1],\n",
              "       [3.7, 1. ],\n",
              "       [3.9, 1.2],\n",
              "       [5.1, 1.6],\n",
              "       [4.5, 1.5],\n",
              "       [4.5, 1.6],\n",
              "       [4.7, 1.5],\n",
              "       [4.4, 1.3],\n",
              "       [4.1, 1.3],\n",
              "       [4. , 1.3],\n",
              "       [4.4, 1.2],\n",
              "       [4.6, 1.4],\n",
              "       [4. , 1.2],\n",
              "       [3.3, 1. ],\n",
              "       [4.2, 1.3],\n",
              "       [4.2, 1.2],\n",
              "       [4.2, 1.3],\n",
              "       [4.3, 1.3],\n",
              "       [3. , 1.1],\n",
              "       [4.1, 1.3],\n",
              "       [6. , 2.5],\n",
              "       [5.1, 1.9],\n",
              "       [5.9, 2.1],\n",
              "       [5.6, 1.8],\n",
              "       [5.8, 2.2],\n",
              "       [6.6, 2.1],\n",
              "       [4.5, 1.7],\n",
              "       [6.3, 1.8],\n",
              "       [5.8, 1.8],\n",
              "       [6.1, 2.5],\n",
              "       [5.1, 2. ],\n",
              "       [5.3, 1.9],\n",
              "       [5.5, 2.1],\n",
              "       [5. , 2. ],\n",
              "       [5.1, 2.4],\n",
              "       [5.3, 2.3],\n",
              "       [5.5, 1.8],\n",
              "       [6.7, 2.2],\n",
              "       [6.9, 2.3],\n",
              "       [5. , 1.5],\n",
              "       [5.7, 2.3],\n",
              "       [4.9, 2. ],\n",
              "       [6.7, 2. ],\n",
              "       [4.9, 1.8],\n",
              "       [5.7, 2.1],\n",
              "       [6. , 1.8],\n",
              "       [4.8, 1.8],\n",
              "       [4.9, 1.8],\n",
              "       [5.6, 2.1],\n",
              "       [5.8, 1.6],\n",
              "       [6.1, 1.9],\n",
              "       [6.4, 2. ],\n",
              "       [5.6, 2.2],\n",
              "       [5.1, 1.5],\n",
              "       [5.6, 1.4],\n",
              "       [6.1, 2.3],\n",
              "       [5.6, 2.4],\n",
              "       [5.5, 1.8],\n",
              "       [4.8, 1.8],\n",
              "       [5.4, 2.1],\n",
              "       [5.6, 2.4],\n",
              "       [5.1, 2.3],\n",
              "       [5.1, 1.9],\n",
              "       [5.9, 2.3],\n",
              "       [5.7, 2.5],\n",
              "       [5.2, 2.3],\n",
              "       [5. , 1.9],\n",
              "       [5.2, 2. ],\n",
              "       [5.4, 2.3],\n",
              "       [5.1, 1.8]])"
            ]
          },
          "metadata": {},
          "execution_count": 36
        }
      ]
    },
    {
      "cell_type": "markdown",
      "source": [
        "**3.1.3 卡方检验**\n",
        "经典的卡方检验时检验定性自变量对定性因变量的相关性. 假设自变量有N种取值,因变量有M种取值,考虑自变量等于i且因变量等于j的样本频数的观察值与期望的差距, 构建统计量:\n",
        "$X^2 = \\sum\\frac{(A- E)^2}{E}$\n",
        "\n",
        "这个统计量的含义简而言之就是自变量对因变量的相关性.用feature_selection库的SelectKBest类结合卡方检验来选择特征的代码如下:"
      ],
      "metadata": {
        "id": "nLyBI5EoyIII"
      }
    },
    {
      "cell_type": "code",
      "source": [
        "from sklearn.feature_selection import SelectKBest\n",
        "from sklearn.feature_selection import chi2\n",
        "\n",
        "# 选择K个最好的特征,返回选择特征后的数据\n",
        "SelectKBest(chi2,k=2).fit_transform(iris.data,iris.target)"
      ],
      "metadata": {
        "colab": {
          "base_uri": "https://localhost:8080/"
        },
        "id": "EkSzRdUxzawN",
        "outputId": "1f426157-bb30-40ab-c1c6-bcf51c13591b"
      },
      "execution_count": null,
      "outputs": [
        {
          "output_type": "execute_result",
          "data": {
            "text/plain": [
              "array([[1.4, 0.2],\n",
              "       [1.4, 0.2],\n",
              "       [1.3, 0.2],\n",
              "       [1.5, 0.2],\n",
              "       [1.4, 0.2],\n",
              "       [1.7, 0.4],\n",
              "       [1.4, 0.3],\n",
              "       [1.5, 0.2],\n",
              "       [1.4, 0.2],\n",
              "       [1.5, 0.1],\n",
              "       [1.5, 0.2],\n",
              "       [1.6, 0.2],\n",
              "       [1.4, 0.1],\n",
              "       [1.1, 0.1],\n",
              "       [1.2, 0.2],\n",
              "       [1.5, 0.4],\n",
              "       [1.3, 0.4],\n",
              "       [1.4, 0.3],\n",
              "       [1.7, 0.3],\n",
              "       [1.5, 0.3],\n",
              "       [1.7, 0.2],\n",
              "       [1.5, 0.4],\n",
              "       [1. , 0.2],\n",
              "       [1.7, 0.5],\n",
              "       [1.9, 0.2],\n",
              "       [1.6, 0.2],\n",
              "       [1.6, 0.4],\n",
              "       [1.5, 0.2],\n",
              "       [1.4, 0.2],\n",
              "       [1.6, 0.2],\n",
              "       [1.6, 0.2],\n",
              "       [1.5, 0.4],\n",
              "       [1.5, 0.1],\n",
              "       [1.4, 0.2],\n",
              "       [1.5, 0.2],\n",
              "       [1.2, 0.2],\n",
              "       [1.3, 0.2],\n",
              "       [1.4, 0.1],\n",
              "       [1.3, 0.2],\n",
              "       [1.5, 0.2],\n",
              "       [1.3, 0.3],\n",
              "       [1.3, 0.3],\n",
              "       [1.3, 0.2],\n",
              "       [1.6, 0.6],\n",
              "       [1.9, 0.4],\n",
              "       [1.4, 0.3],\n",
              "       [1.6, 0.2],\n",
              "       [1.4, 0.2],\n",
              "       [1.5, 0.2],\n",
              "       [1.4, 0.2],\n",
              "       [4.7, 1.4],\n",
              "       [4.5, 1.5],\n",
              "       [4.9, 1.5],\n",
              "       [4. , 1.3],\n",
              "       [4.6, 1.5],\n",
              "       [4.5, 1.3],\n",
              "       [4.7, 1.6],\n",
              "       [3.3, 1. ],\n",
              "       [4.6, 1.3],\n",
              "       [3.9, 1.4],\n",
              "       [3.5, 1. ],\n",
              "       [4.2, 1.5],\n",
              "       [4. , 1. ],\n",
              "       [4.7, 1.4],\n",
              "       [3.6, 1.3],\n",
              "       [4.4, 1.4],\n",
              "       [4.5, 1.5],\n",
              "       [4.1, 1. ],\n",
              "       [4.5, 1.5],\n",
              "       [3.9, 1.1],\n",
              "       [4.8, 1.8],\n",
              "       [4. , 1.3],\n",
              "       [4.9, 1.5],\n",
              "       [4.7, 1.2],\n",
              "       [4.3, 1.3],\n",
              "       [4.4, 1.4],\n",
              "       [4.8, 1.4],\n",
              "       [5. , 1.7],\n",
              "       [4.5, 1.5],\n",
              "       [3.5, 1. ],\n",
              "       [3.8, 1.1],\n",
              "       [3.7, 1. ],\n",
              "       [3.9, 1.2],\n",
              "       [5.1, 1.6],\n",
              "       [4.5, 1.5],\n",
              "       [4.5, 1.6],\n",
              "       [4.7, 1.5],\n",
              "       [4.4, 1.3],\n",
              "       [4.1, 1.3],\n",
              "       [4. , 1.3],\n",
              "       [4.4, 1.2],\n",
              "       [4.6, 1.4],\n",
              "       [4. , 1.2],\n",
              "       [3.3, 1. ],\n",
              "       [4.2, 1.3],\n",
              "       [4.2, 1.2],\n",
              "       [4.2, 1.3],\n",
              "       [4.3, 1.3],\n",
              "       [3. , 1.1],\n",
              "       [4.1, 1.3],\n",
              "       [6. , 2.5],\n",
              "       [5.1, 1.9],\n",
              "       [5.9, 2.1],\n",
              "       [5.6, 1.8],\n",
              "       [5.8, 2.2],\n",
              "       [6.6, 2.1],\n",
              "       [4.5, 1.7],\n",
              "       [6.3, 1.8],\n",
              "       [5.8, 1.8],\n",
              "       [6.1, 2.5],\n",
              "       [5.1, 2. ],\n",
              "       [5.3, 1.9],\n",
              "       [5.5, 2.1],\n",
              "       [5. , 2. ],\n",
              "       [5.1, 2.4],\n",
              "       [5.3, 2.3],\n",
              "       [5.5, 1.8],\n",
              "       [6.7, 2.2],\n",
              "       [6.9, 2.3],\n",
              "       [5. , 1.5],\n",
              "       [5.7, 2.3],\n",
              "       [4.9, 2. ],\n",
              "       [6.7, 2. ],\n",
              "       [4.9, 1.8],\n",
              "       [5.7, 2.1],\n",
              "       [6. , 1.8],\n",
              "       [4.8, 1.8],\n",
              "       [4.9, 1.8],\n",
              "       [5.6, 2.1],\n",
              "       [5.8, 1.6],\n",
              "       [6.1, 1.9],\n",
              "       [6.4, 2. ],\n",
              "       [5.6, 2.2],\n",
              "       [5.1, 1.5],\n",
              "       [5.6, 1.4],\n",
              "       [6.1, 2.3],\n",
              "       [5.6, 2.4],\n",
              "       [5.5, 1.8],\n",
              "       [4.8, 1.8],\n",
              "       [5.4, 2.1],\n",
              "       [5.6, 2.4],\n",
              "       [5.1, 2.3],\n",
              "       [5.1, 1.9],\n",
              "       [5.9, 2.3],\n",
              "       [5.7, 2.5],\n",
              "       [5.2, 2.3],\n",
              "       [5. , 1.9],\n",
              "       [5.2, 2. ],\n",
              "       [5.4, 2.3],\n",
              "       [5.1, 1.8]])"
            ]
          },
          "metadata": {},
          "execution_count": 15
        }
      ]
    },
    {
      "cell_type": "markdown",
      "source": [
        "**3.1.4 互信息法** \n",
        "经典的互信息也是评价定性自变量对定性因变量的相关性,互信息计算公式如下:\n",
        "$I(X;Y)=\\sum_{x \\in X}\\sum_{y \\in Y}{p(x,y)\\log{\\frac{p(x,y)}{p(x)p(y)}}}$\n",
        "\n",
        "为了处理定量数据,最大信息系数法被提出,使用feature_selection库的SelectKBest类结合最大信息系数法来选择特征的代码如下:"
      ],
      "metadata": {
        "id": "PlB1kwqY0C1m"
      }
    },
    {
      "cell_type": "code",
      "source": [
        "!pip install minepy"
      ],
      "metadata": {
        "colab": {
          "base_uri": "https://localhost:8080/"
        },
        "id": "QRr6-_SR2e3Q",
        "outputId": "e63b9563-281c-469c-fb68-7be180bca49c"
      },
      "execution_count": null,
      "outputs": [
        {
          "output_type": "stream",
          "name": "stdout",
          "text": [
            "Collecting minepy\n",
            "  Downloading minepy-1.2.6.tar.gz (496 kB)\n",
            "\u001b[?25l\r\u001b[K     |▋                               | 10 kB 16.3 MB/s eta 0:00:01\r\u001b[K     |█▎                              | 20 kB 14.1 MB/s eta 0:00:01\r\u001b[K     |██                              | 30 kB 9.6 MB/s eta 0:00:01\r\u001b[K     |██▋                             | 40 kB 5.0 MB/s eta 0:00:01\r\u001b[K     |███▎                            | 51 kB 4.6 MB/s eta 0:00:01\r\u001b[K     |████                            | 61 kB 5.3 MB/s eta 0:00:01\r\u001b[K     |████▋                           | 71 kB 5.6 MB/s eta 0:00:01\r\u001b[K     |█████▎                          | 81 kB 5.6 MB/s eta 0:00:01\r\u001b[K     |██████                          | 92 kB 6.2 MB/s eta 0:00:01\r\u001b[K     |██████▋                         | 102 kB 5.4 MB/s eta 0:00:01\r\u001b[K     |███████▎                        | 112 kB 5.4 MB/s eta 0:00:01\r\u001b[K     |████████                        | 122 kB 5.4 MB/s eta 0:00:01\r\u001b[K     |████████▋                       | 133 kB 5.4 MB/s eta 0:00:01\r\u001b[K     |█████████▎                      | 143 kB 5.4 MB/s eta 0:00:01\r\u001b[K     |██████████                      | 153 kB 5.4 MB/s eta 0:00:01\r\u001b[K     |██████████▌                     | 163 kB 5.4 MB/s eta 0:00:01\r\u001b[K     |███████████▏                    | 174 kB 5.4 MB/s eta 0:00:01\r\u001b[K     |███████████▉                    | 184 kB 5.4 MB/s eta 0:00:01\r\u001b[K     |████████████▌                   | 194 kB 5.4 MB/s eta 0:00:01\r\u001b[K     |█████████████▏                  | 204 kB 5.4 MB/s eta 0:00:01\r\u001b[K     |█████████████▉                  | 215 kB 5.4 MB/s eta 0:00:01\r\u001b[K     |██████████████▌                 | 225 kB 5.4 MB/s eta 0:00:01\r\u001b[K     |███████████████▏                | 235 kB 5.4 MB/s eta 0:00:01\r\u001b[K     |███████████████▉                | 245 kB 5.4 MB/s eta 0:00:01\r\u001b[K     |████████████████▌               | 256 kB 5.4 MB/s eta 0:00:01\r\u001b[K     |█████████████████▏              | 266 kB 5.4 MB/s eta 0:00:01\r\u001b[K     |█████████████████▉              | 276 kB 5.4 MB/s eta 0:00:01\r\u001b[K     |██████████████████▌             | 286 kB 5.4 MB/s eta 0:00:01\r\u001b[K     |███████████████████▏            | 296 kB 5.4 MB/s eta 0:00:01\r\u001b[K     |███████████████████▉            | 307 kB 5.4 MB/s eta 0:00:01\r\u001b[K     |████████████████████▍           | 317 kB 5.4 MB/s eta 0:00:01\r\u001b[K     |█████████████████████           | 327 kB 5.4 MB/s eta 0:00:01\r\u001b[K     |█████████████████████▊          | 337 kB 5.4 MB/s eta 0:00:01\r\u001b[K     |██████████████████████▍         | 348 kB 5.4 MB/s eta 0:00:01\r\u001b[K     |███████████████████████         | 358 kB 5.4 MB/s eta 0:00:01\r\u001b[K     |███████████████████████▊        | 368 kB 5.4 MB/s eta 0:00:01\r\u001b[K     |████████████████████████▍       | 378 kB 5.4 MB/s eta 0:00:01\r\u001b[K     |█████████████████████████       | 389 kB 5.4 MB/s eta 0:00:01\r\u001b[K     |█████████████████████████▊      | 399 kB 5.4 MB/s eta 0:00:01\r\u001b[K     |██████████████████████████▍     | 409 kB 5.4 MB/s eta 0:00:01\r\u001b[K     |███████████████████████████     | 419 kB 5.4 MB/s eta 0:00:01\r\u001b[K     |███████████████████████████▊    | 430 kB 5.4 MB/s eta 0:00:01\r\u001b[K     |████████████████████████████▍   | 440 kB 5.4 MB/s eta 0:00:01\r\u001b[K     |█████████████████████████████   | 450 kB 5.4 MB/s eta 0:00:01\r\u001b[K     |█████████████████████████████▊  | 460 kB 5.4 MB/s eta 0:00:01\r\u001b[K     |██████████████████████████████▎ | 471 kB 5.4 MB/s eta 0:00:01\r\u001b[K     |███████████████████████████████ | 481 kB 5.4 MB/s eta 0:00:01\r\u001b[K     |███████████████████████████████▋| 491 kB 5.4 MB/s eta 0:00:01\r\u001b[K     |████████████████████████████████| 496 kB 5.4 MB/s \n",
            "\u001b[?25hRequirement already satisfied: numpy>=1.3.0 in /usr/local/lib/python3.7/dist-packages (from minepy) (1.21.6)\n",
            "Building wheels for collected packages: minepy\n",
            "  Building wheel for minepy (setup.py) ... \u001b[?25l\u001b[?25hdone\n",
            "  Created wheel for minepy: filename=minepy-1.2.6-cp37-cp37m-linux_x86_64.whl size=177590 sha256=f83cc2e59914f465da3069ae35a2b96174c08f2285a75fed9a133e571e9e6ed8\n",
            "  Stored in directory: /root/.cache/pip/wheels/81/71/75/403a33428e468a25c93fa7b672d070b304f36642eb699a29e0\n",
            "Successfully built minepy\n",
            "Installing collected packages: minepy\n",
            "Successfully installed minepy-1.2.6\n"
          ]
        }
      ]
    },
    {
      "cell_type": "code",
      "source": [
        "import numpy as np\n",
        "from sklearn.feature_selection import SelectKBest\n",
        "# from minepy import MINE  \n",
        "# minepy为基于最大信息的非参数勘探(MIC和MINE族)提供了一个库\n",
        "from sklearn import metrics\n",
        "\n",
        "#由于MINE的设计不是函数式的,定义mic方法将其为函数式的,返回一个二元组,二元组的第2项设置成固定的P值0.5\n",
        "# def mic(x,y): # mic max information coefficient\n",
        "#     m = MINE()\n",
        "#     m.compute_score(x,y)\n",
        "#     return (m.mic(),0.5)\n",
        "mic = metrics.mutual_info_score\n",
        "\n",
        "g = lambda X, Y: np.array(list(map(lambda x:mic(x,Y),X.T))).T\n",
        "# 选择K个最好的特征,返回特征选择后的数据\n",
        "SelectKBest(g,k=2).fit_transform(iris.data,iris.target)"
      ],
      "metadata": {
        "colab": {
          "base_uri": "https://localhost:8080/"
        },
        "id": "PuqbY3Fq1ST4",
        "outputId": "ea72d209-4ac5-4fd0-bb4e-8f5565c60084"
      },
      "execution_count": null,
      "outputs": [
        {
          "output_type": "stream",
          "name": "stderr",
          "text": [
            "/usr/local/lib/python3.7/dist-packages/sklearn/metrics/cluster/_supervised.py:65: UserWarning: Clustering metrics expects discrete values but received continuous values for label, and multiclass values for target\n",
            "  warnings.warn(msg, UserWarning)\n",
            "/usr/local/lib/python3.7/dist-packages/sklearn/metrics/cluster/_supervised.py:65: UserWarning: Clustering metrics expects discrete values but received continuous values for label, and multiclass values for target\n",
            "  warnings.warn(msg, UserWarning)\n",
            "/usr/local/lib/python3.7/dist-packages/sklearn/metrics/cluster/_supervised.py:65: UserWarning: Clustering metrics expects discrete values but received continuous values for label, and multiclass values for target\n",
            "  warnings.warn(msg, UserWarning)\n",
            "/usr/local/lib/python3.7/dist-packages/sklearn/metrics/cluster/_supervised.py:65: UserWarning: Clustering metrics expects discrete values but received continuous values for label, and multiclass values for target\n",
            "  warnings.warn(msg, UserWarning)\n"
          ]
        },
        {
          "output_type": "execute_result",
          "data": {
            "text/plain": [
              "array([[1.4, 0.2],\n",
              "       [1.4, 0.2],\n",
              "       [1.3, 0.2],\n",
              "       [1.5, 0.2],\n",
              "       [1.4, 0.2],\n",
              "       [1.7, 0.4],\n",
              "       [1.4, 0.3],\n",
              "       [1.5, 0.2],\n",
              "       [1.4, 0.2],\n",
              "       [1.5, 0.1],\n",
              "       [1.5, 0.2],\n",
              "       [1.6, 0.2],\n",
              "       [1.4, 0.1],\n",
              "       [1.1, 0.1],\n",
              "       [1.2, 0.2],\n",
              "       [1.5, 0.4],\n",
              "       [1.3, 0.4],\n",
              "       [1.4, 0.3],\n",
              "       [1.7, 0.3],\n",
              "       [1.5, 0.3],\n",
              "       [1.7, 0.2],\n",
              "       [1.5, 0.4],\n",
              "       [1. , 0.2],\n",
              "       [1.7, 0.5],\n",
              "       [1.9, 0.2],\n",
              "       [1.6, 0.2],\n",
              "       [1.6, 0.4],\n",
              "       [1.5, 0.2],\n",
              "       [1.4, 0.2],\n",
              "       [1.6, 0.2],\n",
              "       [1.6, 0.2],\n",
              "       [1.5, 0.4],\n",
              "       [1.5, 0.1],\n",
              "       [1.4, 0.2],\n",
              "       [1.5, 0.2],\n",
              "       [1.2, 0.2],\n",
              "       [1.3, 0.2],\n",
              "       [1.4, 0.1],\n",
              "       [1.3, 0.2],\n",
              "       [1.5, 0.2],\n",
              "       [1.3, 0.3],\n",
              "       [1.3, 0.3],\n",
              "       [1.3, 0.2],\n",
              "       [1.6, 0.6],\n",
              "       [1.9, 0.4],\n",
              "       [1.4, 0.3],\n",
              "       [1.6, 0.2],\n",
              "       [1.4, 0.2],\n",
              "       [1.5, 0.2],\n",
              "       [1.4, 0.2],\n",
              "       [4.7, 1.4],\n",
              "       [4.5, 1.5],\n",
              "       [4.9, 1.5],\n",
              "       [4. , 1.3],\n",
              "       [4.6, 1.5],\n",
              "       [4.5, 1.3],\n",
              "       [4.7, 1.6],\n",
              "       [3.3, 1. ],\n",
              "       [4.6, 1.3],\n",
              "       [3.9, 1.4],\n",
              "       [3.5, 1. ],\n",
              "       [4.2, 1.5],\n",
              "       [4. , 1. ],\n",
              "       [4.7, 1.4],\n",
              "       [3.6, 1.3],\n",
              "       [4.4, 1.4],\n",
              "       [4.5, 1.5],\n",
              "       [4.1, 1. ],\n",
              "       [4.5, 1.5],\n",
              "       [3.9, 1.1],\n",
              "       [4.8, 1.8],\n",
              "       [4. , 1.3],\n",
              "       [4.9, 1.5],\n",
              "       [4.7, 1.2],\n",
              "       [4.3, 1.3],\n",
              "       [4.4, 1.4],\n",
              "       [4.8, 1.4],\n",
              "       [5. , 1.7],\n",
              "       [4.5, 1.5],\n",
              "       [3.5, 1. ],\n",
              "       [3.8, 1.1],\n",
              "       [3.7, 1. ],\n",
              "       [3.9, 1.2],\n",
              "       [5.1, 1.6],\n",
              "       [4.5, 1.5],\n",
              "       [4.5, 1.6],\n",
              "       [4.7, 1.5],\n",
              "       [4.4, 1.3],\n",
              "       [4.1, 1.3],\n",
              "       [4. , 1.3],\n",
              "       [4.4, 1.2],\n",
              "       [4.6, 1.4],\n",
              "       [4. , 1.2],\n",
              "       [3.3, 1. ],\n",
              "       [4.2, 1.3],\n",
              "       [4.2, 1.2],\n",
              "       [4.2, 1.3],\n",
              "       [4.3, 1.3],\n",
              "       [3. , 1.1],\n",
              "       [4.1, 1.3],\n",
              "       [6. , 2.5],\n",
              "       [5.1, 1.9],\n",
              "       [5.9, 2.1],\n",
              "       [5.6, 1.8],\n",
              "       [5.8, 2.2],\n",
              "       [6.6, 2.1],\n",
              "       [4.5, 1.7],\n",
              "       [6.3, 1.8],\n",
              "       [5.8, 1.8],\n",
              "       [6.1, 2.5],\n",
              "       [5.1, 2. ],\n",
              "       [5.3, 1.9],\n",
              "       [5.5, 2.1],\n",
              "       [5. , 2. ],\n",
              "       [5.1, 2.4],\n",
              "       [5.3, 2.3],\n",
              "       [5.5, 1.8],\n",
              "       [6.7, 2.2],\n",
              "       [6.9, 2.3],\n",
              "       [5. , 1.5],\n",
              "       [5.7, 2.3],\n",
              "       [4.9, 2. ],\n",
              "       [6.7, 2. ],\n",
              "       [4.9, 1.8],\n",
              "       [5.7, 2.1],\n",
              "       [6. , 1.8],\n",
              "       [4.8, 1.8],\n",
              "       [4.9, 1.8],\n",
              "       [5.6, 2.1],\n",
              "       [5.8, 1.6],\n",
              "       [6.1, 1.9],\n",
              "       [6.4, 2. ],\n",
              "       [5.6, 2.2],\n",
              "       [5.1, 1.5],\n",
              "       [5.6, 1.4],\n",
              "       [6.1, 2.3],\n",
              "       [5.6, 2.4],\n",
              "       [5.5, 1.8],\n",
              "       [4.8, 1.8],\n",
              "       [5.4, 2.1],\n",
              "       [5.6, 2.4],\n",
              "       [5.1, 2.3],\n",
              "       [5.1, 1.9],\n",
              "       [5.9, 2.3],\n",
              "       [5.7, 2.5],\n",
              "       [5.2, 2.3],\n",
              "       [5. , 1.9],\n",
              "       [5.2, 2. ],\n",
              "       [5.4, 2.3],\n",
              "       [5.1, 1.8]])"
            ]
          },
          "metadata": {},
          "execution_count": 37
        }
      ]
    },
    {
      "cell_type": "markdown",
      "source": [
        "#### **3.2 Wrapper**\n",
        "\n",
        "**3.2.1 递归特征消除法RFE**\n",
        "递归消除特征法使用一个基模型来进行多轮训练,每轮训练后, 消除若干权值系数的特征,在基于新的特征集进行下一轮训练. 使用feature_selection库的RFE类来选择特征的代码如下:"
      ],
      "metadata": {
        "id": "7CYTXTzZ3A-_"
      }
    },
    {
      "cell_type": "code",
      "source": [
        "from sklearn.feature_selection import RFE #Feature ranking with recursive feature elimination.\n",
        "from sklearn.linear_model import LogisticRegression\n",
        "\n",
        "# 递归特征消除法,返回特征选择后的数据\n",
        "# 参数estimator为基模型\n",
        "# 参数n_features_to_select为选择的特征个数\n",
        "RFE(estimator=LogisticRegression(), n_features_to_select=2).fit_transform(iris.data, iris.target)"
      ],
      "metadata": {
        "colab": {
          "base_uri": "https://localhost:8080/"
        },
        "id": "ijTkbxji3sSe",
        "outputId": "dfbf22a2-5a64-470e-fe63-8545fe97832a"
      },
      "execution_count": null,
      "outputs": [
        {
          "output_type": "stream",
          "name": "stderr",
          "text": [
            "/usr/local/lib/python3.7/dist-packages/sklearn/linear_model/_logistic.py:818: ConvergenceWarning: lbfgs failed to converge (status=1):\n",
            "STOP: TOTAL NO. of ITERATIONS REACHED LIMIT.\n",
            "\n",
            "Increase the number of iterations (max_iter) or scale the data as shown in:\n",
            "    https://scikit-learn.org/stable/modules/preprocessing.html\n",
            "Please also refer to the documentation for alternative solver options:\n",
            "    https://scikit-learn.org/stable/modules/linear_model.html#logistic-regression\n",
            "  extra_warning_msg=_LOGISTIC_SOLVER_CONVERGENCE_MSG,\n"
          ]
        },
        {
          "output_type": "execute_result",
          "data": {
            "text/plain": [
              "array([[1.4, 0.2],\n",
              "       [1.4, 0.2],\n",
              "       [1.3, 0.2],\n",
              "       [1.5, 0.2],\n",
              "       [1.4, 0.2],\n",
              "       [1.7, 0.4],\n",
              "       [1.4, 0.3],\n",
              "       [1.5, 0.2],\n",
              "       [1.4, 0.2],\n",
              "       [1.5, 0.1],\n",
              "       [1.5, 0.2],\n",
              "       [1.6, 0.2],\n",
              "       [1.4, 0.1],\n",
              "       [1.1, 0.1],\n",
              "       [1.2, 0.2],\n",
              "       [1.5, 0.4],\n",
              "       [1.3, 0.4],\n",
              "       [1.4, 0.3],\n",
              "       [1.7, 0.3],\n",
              "       [1.5, 0.3],\n",
              "       [1.7, 0.2],\n",
              "       [1.5, 0.4],\n",
              "       [1. , 0.2],\n",
              "       [1.7, 0.5],\n",
              "       [1.9, 0.2],\n",
              "       [1.6, 0.2],\n",
              "       [1.6, 0.4],\n",
              "       [1.5, 0.2],\n",
              "       [1.4, 0.2],\n",
              "       [1.6, 0.2],\n",
              "       [1.6, 0.2],\n",
              "       [1.5, 0.4],\n",
              "       [1.5, 0.1],\n",
              "       [1.4, 0.2],\n",
              "       [1.5, 0.2],\n",
              "       [1.2, 0.2],\n",
              "       [1.3, 0.2],\n",
              "       [1.4, 0.1],\n",
              "       [1.3, 0.2],\n",
              "       [1.5, 0.2],\n",
              "       [1.3, 0.3],\n",
              "       [1.3, 0.3],\n",
              "       [1.3, 0.2],\n",
              "       [1.6, 0.6],\n",
              "       [1.9, 0.4],\n",
              "       [1.4, 0.3],\n",
              "       [1.6, 0.2],\n",
              "       [1.4, 0.2],\n",
              "       [1.5, 0.2],\n",
              "       [1.4, 0.2],\n",
              "       [4.7, 1.4],\n",
              "       [4.5, 1.5],\n",
              "       [4.9, 1.5],\n",
              "       [4. , 1.3],\n",
              "       [4.6, 1.5],\n",
              "       [4.5, 1.3],\n",
              "       [4.7, 1.6],\n",
              "       [3.3, 1. ],\n",
              "       [4.6, 1.3],\n",
              "       [3.9, 1.4],\n",
              "       [3.5, 1. ],\n",
              "       [4.2, 1.5],\n",
              "       [4. , 1. ],\n",
              "       [4.7, 1.4],\n",
              "       [3.6, 1.3],\n",
              "       [4.4, 1.4],\n",
              "       [4.5, 1.5],\n",
              "       [4.1, 1. ],\n",
              "       [4.5, 1.5],\n",
              "       [3.9, 1.1],\n",
              "       [4.8, 1.8],\n",
              "       [4. , 1.3],\n",
              "       [4.9, 1.5],\n",
              "       [4.7, 1.2],\n",
              "       [4.3, 1.3],\n",
              "       [4.4, 1.4],\n",
              "       [4.8, 1.4],\n",
              "       [5. , 1.7],\n",
              "       [4.5, 1.5],\n",
              "       [3.5, 1. ],\n",
              "       [3.8, 1.1],\n",
              "       [3.7, 1. ],\n",
              "       [3.9, 1.2],\n",
              "       [5.1, 1.6],\n",
              "       [4.5, 1.5],\n",
              "       [4.5, 1.6],\n",
              "       [4.7, 1.5],\n",
              "       [4.4, 1.3],\n",
              "       [4.1, 1.3],\n",
              "       [4. , 1.3],\n",
              "       [4.4, 1.2],\n",
              "       [4.6, 1.4],\n",
              "       [4. , 1.2],\n",
              "       [3.3, 1. ],\n",
              "       [4.2, 1.3],\n",
              "       [4.2, 1.2],\n",
              "       [4.2, 1.3],\n",
              "       [4.3, 1.3],\n",
              "       [3. , 1.1],\n",
              "       [4.1, 1.3],\n",
              "       [6. , 2.5],\n",
              "       [5.1, 1.9],\n",
              "       [5.9, 2.1],\n",
              "       [5.6, 1.8],\n",
              "       [5.8, 2.2],\n",
              "       [6.6, 2.1],\n",
              "       [4.5, 1.7],\n",
              "       [6.3, 1.8],\n",
              "       [5.8, 1.8],\n",
              "       [6.1, 2.5],\n",
              "       [5.1, 2. ],\n",
              "       [5.3, 1.9],\n",
              "       [5.5, 2.1],\n",
              "       [5. , 2. ],\n",
              "       [5.1, 2.4],\n",
              "       [5.3, 2.3],\n",
              "       [5.5, 1.8],\n",
              "       [6.7, 2.2],\n",
              "       [6.9, 2.3],\n",
              "       [5. , 1.5],\n",
              "       [5.7, 2.3],\n",
              "       [4.9, 2. ],\n",
              "       [6.7, 2. ],\n",
              "       [4.9, 1.8],\n",
              "       [5.7, 2.1],\n",
              "       [6. , 1.8],\n",
              "       [4.8, 1.8],\n",
              "       [4.9, 1.8],\n",
              "       [5.6, 2.1],\n",
              "       [5.8, 1.6],\n",
              "       [6.1, 1.9],\n",
              "       [6.4, 2. ],\n",
              "       [5.6, 2.2],\n",
              "       [5.1, 1.5],\n",
              "       [5.6, 1.4],\n",
              "       [6.1, 2.3],\n",
              "       [5.6, 2.4],\n",
              "       [5.5, 1.8],\n",
              "       [4.8, 1.8],\n",
              "       [5.4, 2.1],\n",
              "       [5.6, 2.4],\n",
              "       [5.1, 2.3],\n",
              "       [5.1, 1.9],\n",
              "       [5.9, 2.3],\n",
              "       [5.7, 2.5],\n",
              "       [5.2, 2.3],\n",
              "       [5. , 1.9],\n",
              "       [5.2, 2. ],\n",
              "       [5.4, 2.3],\n",
              "       [5.1, 1.8]])"
            ]
          },
          "metadata": {},
          "execution_count": 38
        }
      ]
    },
    {
      "cell_type": "markdown",
      "source": [
        "#### **3.3 Embedded**\n",
        "\n",
        "**3.3.1 基于惩罚项的特征选择法**\n",
        "使用带惩罚项的基模型,除了筛选出特征外,同时也进行了降维. 使用feature_selection库的SelectFromModel类结合带L1惩罚项的逻辑回归模型,来选择特征的代码如下:\n",
        "\n",
        "L1和L2惩罚项:https://blog.csdn.net/jinping_shi/article/details/52433975"
      ],
      "metadata": {
        "id": "nWQCnmSxHDR7"
      }
    },
    {
      "cell_type": "code",
      "source": [
        "from sklearn.feature_selection import SelectFromModel\n",
        "from sklearn.linear_model import LogisticRegression\n",
        "\n",
        "# 带L1惩罚项的逻辑回归作为基模型的特征选择\n",
        "SelectFromModel(LogisticRegression(penalty=\"l2\",C=0.1)).fit_transform(iris.data,iris.target)\n"
      ],
      "metadata": {
        "colab": {
          "base_uri": "https://localhost:8080/"
        },
        "id": "6-IPhew2IXbM",
        "outputId": "22f6bc53-5e8f-461d-9d7a-b0c3ebc5cd79"
      },
      "execution_count": null,
      "outputs": [
        {
          "output_type": "execute_result",
          "data": {
            "text/plain": [
              "array([[1.4, 0.2],\n",
              "       [1.4, 0.2],\n",
              "       [1.3, 0.2],\n",
              "       [1.5, 0.2],\n",
              "       [1.4, 0.2],\n",
              "       [1.7, 0.4],\n",
              "       [1.4, 0.3],\n",
              "       [1.5, 0.2],\n",
              "       [1.4, 0.2],\n",
              "       [1.5, 0.1],\n",
              "       [1.5, 0.2],\n",
              "       [1.6, 0.2],\n",
              "       [1.4, 0.1],\n",
              "       [1.1, 0.1],\n",
              "       [1.2, 0.2],\n",
              "       [1.5, 0.4],\n",
              "       [1.3, 0.4],\n",
              "       [1.4, 0.3],\n",
              "       [1.7, 0.3],\n",
              "       [1.5, 0.3],\n",
              "       [1.7, 0.2],\n",
              "       [1.5, 0.4],\n",
              "       [1. , 0.2],\n",
              "       [1.7, 0.5],\n",
              "       [1.9, 0.2],\n",
              "       [1.6, 0.2],\n",
              "       [1.6, 0.4],\n",
              "       [1.5, 0.2],\n",
              "       [1.4, 0.2],\n",
              "       [1.6, 0.2],\n",
              "       [1.6, 0.2],\n",
              "       [1.5, 0.4],\n",
              "       [1.5, 0.1],\n",
              "       [1.4, 0.2],\n",
              "       [1.5, 0.2],\n",
              "       [1.2, 0.2],\n",
              "       [1.3, 0.2],\n",
              "       [1.4, 0.1],\n",
              "       [1.3, 0.2],\n",
              "       [1.5, 0.2],\n",
              "       [1.3, 0.3],\n",
              "       [1.3, 0.3],\n",
              "       [1.3, 0.2],\n",
              "       [1.6, 0.6],\n",
              "       [1.9, 0.4],\n",
              "       [1.4, 0.3],\n",
              "       [1.6, 0.2],\n",
              "       [1.4, 0.2],\n",
              "       [1.5, 0.2],\n",
              "       [1.4, 0.2],\n",
              "       [4.7, 1.4],\n",
              "       [4.5, 1.5],\n",
              "       [4.9, 1.5],\n",
              "       [4. , 1.3],\n",
              "       [4.6, 1.5],\n",
              "       [4.5, 1.3],\n",
              "       [4.7, 1.6],\n",
              "       [3.3, 1. ],\n",
              "       [4.6, 1.3],\n",
              "       [3.9, 1.4],\n",
              "       [3.5, 1. ],\n",
              "       [4.2, 1.5],\n",
              "       [4. , 1. ],\n",
              "       [4.7, 1.4],\n",
              "       [3.6, 1.3],\n",
              "       [4.4, 1.4],\n",
              "       [4.5, 1.5],\n",
              "       [4.1, 1. ],\n",
              "       [4.5, 1.5],\n",
              "       [3.9, 1.1],\n",
              "       [4.8, 1.8],\n",
              "       [4. , 1.3],\n",
              "       [4.9, 1.5],\n",
              "       [4.7, 1.2],\n",
              "       [4.3, 1.3],\n",
              "       [4.4, 1.4],\n",
              "       [4.8, 1.4],\n",
              "       [5. , 1.7],\n",
              "       [4.5, 1.5],\n",
              "       [3.5, 1. ],\n",
              "       [3.8, 1.1],\n",
              "       [3.7, 1. ],\n",
              "       [3.9, 1.2],\n",
              "       [5.1, 1.6],\n",
              "       [4.5, 1.5],\n",
              "       [4.5, 1.6],\n",
              "       [4.7, 1.5],\n",
              "       [4.4, 1.3],\n",
              "       [4.1, 1.3],\n",
              "       [4. , 1.3],\n",
              "       [4.4, 1.2],\n",
              "       [4.6, 1.4],\n",
              "       [4. , 1.2],\n",
              "       [3.3, 1. ],\n",
              "       [4.2, 1.3],\n",
              "       [4.2, 1.2],\n",
              "       [4.2, 1.3],\n",
              "       [4.3, 1.3],\n",
              "       [3. , 1.1],\n",
              "       [4.1, 1.3],\n",
              "       [6. , 2.5],\n",
              "       [5.1, 1.9],\n",
              "       [5.9, 2.1],\n",
              "       [5.6, 1.8],\n",
              "       [5.8, 2.2],\n",
              "       [6.6, 2.1],\n",
              "       [4.5, 1.7],\n",
              "       [6.3, 1.8],\n",
              "       [5.8, 1.8],\n",
              "       [6.1, 2.5],\n",
              "       [5.1, 2. ],\n",
              "       [5.3, 1.9],\n",
              "       [5.5, 2.1],\n",
              "       [5. , 2. ],\n",
              "       [5.1, 2.4],\n",
              "       [5.3, 2.3],\n",
              "       [5.5, 1.8],\n",
              "       [6.7, 2.2],\n",
              "       [6.9, 2.3],\n",
              "       [5. , 1.5],\n",
              "       [5.7, 2.3],\n",
              "       [4.9, 2. ],\n",
              "       [6.7, 2. ],\n",
              "       [4.9, 1.8],\n",
              "       [5.7, 2.1],\n",
              "       [6. , 1.8],\n",
              "       [4.8, 1.8],\n",
              "       [4.9, 1.8],\n",
              "       [5.6, 2.1],\n",
              "       [5.8, 1.6],\n",
              "       [6.1, 1.9],\n",
              "       [6.4, 2. ],\n",
              "       [5.6, 2.2],\n",
              "       [5.1, 1.5],\n",
              "       [5.6, 1.4],\n",
              "       [6.1, 2.3],\n",
              "       [5.6, 2.4],\n",
              "       [5.5, 1.8],\n",
              "       [4.8, 1.8],\n",
              "       [5.4, 2.1],\n",
              "       [5.6, 2.4],\n",
              "       [5.1, 2.3],\n",
              "       [5.1, 1.9],\n",
              "       [5.9, 2.3],\n",
              "       [5.7, 2.5],\n",
              "       [5.2, 2.3],\n",
              "       [5. , 1.9],\n",
              "       [5.2, 2. ],\n",
              "       [5.4, 2.3],\n",
              "       [5.1, 1.8]])"
            ]
          },
          "metadata": {},
          "execution_count": 22
        }
      ]
    },
    {
      "cell_type": "markdown",
      "source": [
        "L1 惩罚项降维的原理在于保留多个对目标值具有同等相关性的特征中的一个, 所以没宣导的特征不代表不重要. 故,可结合L2惩罚项来优化. 具体操作为: 若一个特征在L1中的权值为1, 选择在L2中权值差别不大且在L1中权值为0的特征构成同类集合, 将这一集合中的特征平分L1中的权值, 故需要构建一个新的逻辑回归模型:\n",
        "\n",
        "L1范数会让某些w为0所以就造成稀疏, L1正则项也叫稀疏算子;L2范数会让w权重会变小, 但是不为零."
      ],
      "metadata": {
        "id": "X5sLgC6-JmrR"
      }
    },
    {
      "cell_type": "code",
      "source": [
        "from sklearn.linear_model import LogisticRegression\n",
        "\n",
        "class LR(LogisticRegression):\n",
        "    def __init__(self,threshold=0.01,dual=False,tol=1e-4,C=1.0,fit_intercept=True,intercept_scaling=1,\n",
        "                 class_weight=None,random_state=None,solver='liblinear',max_iter=100,\n",
        "                 multi_class='ovr',verbose=0,warm_start=False,n_jobs=1):\n",
        "        #权值相近的阈值\n",
        "        self.threshold=threshold\n",
        "        LogisticRegression.__init__(self,penalty='l1',dual=dual,tol=tol,C=C,\n",
        "                                    fit_intercept=fit_intercept,intercept_scaling=intercept_scaling,\n",
        "                                    class_weight=class_weight,random_state=random_state,solver=solver,\n",
        "                                    max_iter=max_iter,multi_class=multi_class,verbose=verbose,\n",
        "                                    warm_start=warm_start,n_jobs=n_jobs)\n",
        "        #使用同样的参数创建L2逻辑回归\n",
        "        self.l2=LogisticRegression(penalty='l2', dual=dual, tol=tol, C=C, fit_intercept=fit_intercept, \n",
        "                                   intercept_scaling=intercept_scaling, class_weight = class_weight, \n",
        "                                   random_state=random_state, solver=solver, max_iter=max_iter, \n",
        "                                   multi_class=multi_class, verbose=verbose, warm_start=warm_start, \n",
        "                                   n_jobs=n_jobs)\n",
        "\n",
        "    def fit(self, X, y, sample_weight=None):\n",
        "        #训练L1逻辑回归\n",
        "        super(LR,self).fit(X,y,sample_weight=sample_weight)    \n",
        "        self.coef_old=self.coef_.copy()\n",
        "        #训练L2逻辑回归\n",
        "        self.l2.fit(X,y,sample_weight=sample_weight)\n",
        "        \n",
        "        cntOfRow,cntOfCol=self.coef_.shape\n",
        "        #权值系数矩阵的行数对应目标值的种类数目\n",
        "        for i in range(cntOfRow):\n",
        "            for j in range(cntOfCol):\n",
        "                coef=self.coef_[i][j]\n",
        "                #L1逻辑回归的权值系数不为0\n",
        "                if coef != 0:\n",
        "                    idx = [j]\n",
        "                    #对应在L2逻辑回归中的权值系数\n",
        "                    coef1=self.l2.coef_[i][j]\n",
        "                    for k in range(cntOfCol):\n",
        "                        coef2 = self.l2.coef_[i][k]\n",
        "                        #在L2逻辑回归中，权值系数之差小于设定的阈值，且在L1中对应的权值为0\n",
        "                        if abs(coef1-coef2) < self.threshold and j != k and self.coef_[i][k] == 0:\n",
        "                            idx.append(k)\n",
        "                    #计算这一类特征的权值系数均值\n",
        "                    mean = coef/len(idx)\n",
        "                    self.coef_[i][idx] = mean\n",
        "        return self\n"
      ],
      "metadata": {
        "id": "2R5zoOEDKeos"
      },
      "execution_count": null,
      "outputs": []
    },
    {
      "cell_type": "markdown",
      "source": [
        "使用feature_selection库的SelectFromModel类结合带L1以及L2惩罚项的逻辑回归模型; 来选择特征的代码如下:"
      ],
      "metadata": {
        "id": "1hDL8S2tPTFA"
      }
    },
    {
      "cell_type": "code",
      "source": [
        "from sklearn.feature_selection import SelectFromModel\n",
        "\n",
        "#带L1和L2惩罚项的逻辑回归作为基模型的特征选择\n",
        "#参数threshold为权值系数之差的阈值\n",
        "SelectFromModel(LR(threshold=0.5,C=0.1)).fit_transform(iris.data,iris.target)"
      ],
      "metadata": {
        "colab": {
          "base_uri": "https://localhost:8080/"
        },
        "id": "eKvbKWQpPjeo",
        "outputId": "44aef16a-8b4f-4d0e-f5f7-f81508210e7f"
      },
      "execution_count": null,
      "outputs": [
        {
          "output_type": "execute_result",
          "data": {
            "text/plain": [
              "array([[5.1, 3.5, 1.4, 0.2],\n",
              "       [4.9, 3. , 1.4, 0.2],\n",
              "       [4.7, 3.2, 1.3, 0.2],\n",
              "       [4.6, 3.1, 1.5, 0.2],\n",
              "       [5. , 3.6, 1.4, 0.2],\n",
              "       [5.4, 3.9, 1.7, 0.4],\n",
              "       [4.6, 3.4, 1.4, 0.3],\n",
              "       [5. , 3.4, 1.5, 0.2],\n",
              "       [4.4, 2.9, 1.4, 0.2],\n",
              "       [4.9, 3.1, 1.5, 0.1],\n",
              "       [5.4, 3.7, 1.5, 0.2],\n",
              "       [4.8, 3.4, 1.6, 0.2],\n",
              "       [4.8, 3. , 1.4, 0.1],\n",
              "       [4.3, 3. , 1.1, 0.1],\n",
              "       [5.8, 4. , 1.2, 0.2],\n",
              "       [5.7, 4.4, 1.5, 0.4],\n",
              "       [5.4, 3.9, 1.3, 0.4],\n",
              "       [5.1, 3.5, 1.4, 0.3],\n",
              "       [5.7, 3.8, 1.7, 0.3],\n",
              "       [5.1, 3.8, 1.5, 0.3],\n",
              "       [5.4, 3.4, 1.7, 0.2],\n",
              "       [5.1, 3.7, 1.5, 0.4],\n",
              "       [4.6, 3.6, 1. , 0.2],\n",
              "       [5.1, 3.3, 1.7, 0.5],\n",
              "       [4.8, 3.4, 1.9, 0.2],\n",
              "       [5. , 3. , 1.6, 0.2],\n",
              "       [5. , 3.4, 1.6, 0.4],\n",
              "       [5.2, 3.5, 1.5, 0.2],\n",
              "       [5.2, 3.4, 1.4, 0.2],\n",
              "       [4.7, 3.2, 1.6, 0.2],\n",
              "       [4.8, 3.1, 1.6, 0.2],\n",
              "       [5.4, 3.4, 1.5, 0.4],\n",
              "       [5.2, 4.1, 1.5, 0.1],\n",
              "       [5.5, 4.2, 1.4, 0.2],\n",
              "       [4.9, 3.1, 1.5, 0.2],\n",
              "       [5. , 3.2, 1.2, 0.2],\n",
              "       [5.5, 3.5, 1.3, 0.2],\n",
              "       [4.9, 3.6, 1.4, 0.1],\n",
              "       [4.4, 3. , 1.3, 0.2],\n",
              "       [5.1, 3.4, 1.5, 0.2],\n",
              "       [5. , 3.5, 1.3, 0.3],\n",
              "       [4.5, 2.3, 1.3, 0.3],\n",
              "       [4.4, 3.2, 1.3, 0.2],\n",
              "       [5. , 3.5, 1.6, 0.6],\n",
              "       [5.1, 3.8, 1.9, 0.4],\n",
              "       [4.8, 3. , 1.4, 0.3],\n",
              "       [5.1, 3.8, 1.6, 0.2],\n",
              "       [4.6, 3.2, 1.4, 0.2],\n",
              "       [5.3, 3.7, 1.5, 0.2],\n",
              "       [5. , 3.3, 1.4, 0.2],\n",
              "       [7. , 3.2, 4.7, 1.4],\n",
              "       [6.4, 3.2, 4.5, 1.5],\n",
              "       [6.9, 3.1, 4.9, 1.5],\n",
              "       [5.5, 2.3, 4. , 1.3],\n",
              "       [6.5, 2.8, 4.6, 1.5],\n",
              "       [5.7, 2.8, 4.5, 1.3],\n",
              "       [6.3, 3.3, 4.7, 1.6],\n",
              "       [4.9, 2.4, 3.3, 1. ],\n",
              "       [6.6, 2.9, 4.6, 1.3],\n",
              "       [5.2, 2.7, 3.9, 1.4],\n",
              "       [5. , 2. , 3.5, 1. ],\n",
              "       [5.9, 3. , 4.2, 1.5],\n",
              "       [6. , 2.2, 4. , 1. ],\n",
              "       [6.1, 2.9, 4.7, 1.4],\n",
              "       [5.6, 2.9, 3.6, 1.3],\n",
              "       [6.7, 3.1, 4.4, 1.4],\n",
              "       [5.6, 3. , 4.5, 1.5],\n",
              "       [5.8, 2.7, 4.1, 1. ],\n",
              "       [6.2, 2.2, 4.5, 1.5],\n",
              "       [5.6, 2.5, 3.9, 1.1],\n",
              "       [5.9, 3.2, 4.8, 1.8],\n",
              "       [6.1, 2.8, 4. , 1.3],\n",
              "       [6.3, 2.5, 4.9, 1.5],\n",
              "       [6.1, 2.8, 4.7, 1.2],\n",
              "       [6.4, 2.9, 4.3, 1.3],\n",
              "       [6.6, 3. , 4.4, 1.4],\n",
              "       [6.8, 2.8, 4.8, 1.4],\n",
              "       [6.7, 3. , 5. , 1.7],\n",
              "       [6. , 2.9, 4.5, 1.5],\n",
              "       [5.7, 2.6, 3.5, 1. ],\n",
              "       [5.5, 2.4, 3.8, 1.1],\n",
              "       [5.5, 2.4, 3.7, 1. ],\n",
              "       [5.8, 2.7, 3.9, 1.2],\n",
              "       [6. , 2.7, 5.1, 1.6],\n",
              "       [5.4, 3. , 4.5, 1.5],\n",
              "       [6. , 3.4, 4.5, 1.6],\n",
              "       [6.7, 3.1, 4.7, 1.5],\n",
              "       [6.3, 2.3, 4.4, 1.3],\n",
              "       [5.6, 3. , 4.1, 1.3],\n",
              "       [5.5, 2.5, 4. , 1.3],\n",
              "       [5.5, 2.6, 4.4, 1.2],\n",
              "       [6.1, 3. , 4.6, 1.4],\n",
              "       [5.8, 2.6, 4. , 1.2],\n",
              "       [5. , 2.3, 3.3, 1. ],\n",
              "       [5.6, 2.7, 4.2, 1.3],\n",
              "       [5.7, 3. , 4.2, 1.2],\n",
              "       [5.7, 2.9, 4.2, 1.3],\n",
              "       [6.2, 2.9, 4.3, 1.3],\n",
              "       [5.1, 2.5, 3. , 1.1],\n",
              "       [5.7, 2.8, 4.1, 1.3],\n",
              "       [6.3, 3.3, 6. , 2.5],\n",
              "       [5.8, 2.7, 5.1, 1.9],\n",
              "       [7.1, 3. , 5.9, 2.1],\n",
              "       [6.3, 2.9, 5.6, 1.8],\n",
              "       [6.5, 3. , 5.8, 2.2],\n",
              "       [7.6, 3. , 6.6, 2.1],\n",
              "       [4.9, 2.5, 4.5, 1.7],\n",
              "       [7.3, 2.9, 6.3, 1.8],\n",
              "       [6.7, 2.5, 5.8, 1.8],\n",
              "       [7.2, 3.6, 6.1, 2.5],\n",
              "       [6.5, 3.2, 5.1, 2. ],\n",
              "       [6.4, 2.7, 5.3, 1.9],\n",
              "       [6.8, 3. , 5.5, 2.1],\n",
              "       [5.7, 2.5, 5. , 2. ],\n",
              "       [5.8, 2.8, 5.1, 2.4],\n",
              "       [6.4, 3.2, 5.3, 2.3],\n",
              "       [6.5, 3. , 5.5, 1.8],\n",
              "       [7.7, 3.8, 6.7, 2.2],\n",
              "       [7.7, 2.6, 6.9, 2.3],\n",
              "       [6. , 2.2, 5. , 1.5],\n",
              "       [6.9, 3.2, 5.7, 2.3],\n",
              "       [5.6, 2.8, 4.9, 2. ],\n",
              "       [7.7, 2.8, 6.7, 2. ],\n",
              "       [6.3, 2.7, 4.9, 1.8],\n",
              "       [6.7, 3.3, 5.7, 2.1],\n",
              "       [7.2, 3.2, 6. , 1.8],\n",
              "       [6.2, 2.8, 4.8, 1.8],\n",
              "       [6.1, 3. , 4.9, 1.8],\n",
              "       [6.4, 2.8, 5.6, 2.1],\n",
              "       [7.2, 3. , 5.8, 1.6],\n",
              "       [7.4, 2.8, 6.1, 1.9],\n",
              "       [7.9, 3.8, 6.4, 2. ],\n",
              "       [6.4, 2.8, 5.6, 2.2],\n",
              "       [6.3, 2.8, 5.1, 1.5],\n",
              "       [6.1, 2.6, 5.6, 1.4],\n",
              "       [7.7, 3. , 6.1, 2.3],\n",
              "       [6.3, 3.4, 5.6, 2.4],\n",
              "       [6.4, 3.1, 5.5, 1.8],\n",
              "       [6. , 3. , 4.8, 1.8],\n",
              "       [6.9, 3.1, 5.4, 2.1],\n",
              "       [6.7, 3.1, 5.6, 2.4],\n",
              "       [6.9, 3.1, 5.1, 2.3],\n",
              "       [5.8, 2.7, 5.1, 1.9],\n",
              "       [6.8, 3.2, 5.9, 2.3],\n",
              "       [6.7, 3.3, 5.7, 2.5],\n",
              "       [6.7, 3. , 5.2, 2.3],\n",
              "       [6.3, 2.5, 5. , 1.9],\n",
              "       [6.5, 3. , 5.2, 2. ],\n",
              "       [6.2, 3.4, 5.4, 2.3],\n",
              "       [5.9, 3. , 5.1, 1.8]])"
            ]
          },
          "metadata": {},
          "execution_count": 26
        }
      ]
    },
    {
      "cell_type": "markdown",
      "source": [
        "**3.3.2 基于树模型的特征选择法**\n",
        "树模型中GBDT也可用来作为基模型进行特征选择,使用feature_selection库色SelectFromModel类集合GBDT模型,来选择特征的代码如下:"
      ],
      "metadata": {
        "id": "GuafEr-kHTxh"
      }
    },
    {
      "cell_type": "code",
      "source": [
        "from sklearn.feature_selection import SelectFromModel \n",
        "from sklearn.ensemble import GradientBoostingClassifier\n",
        "\n",
        "# GBDT作为基模型的特征选择\n",
        "SelectFromModel(GradientBoostingClassifier()).fit_transform(iris.data,iris.target)"
      ],
      "metadata": {
        "colab": {
          "base_uri": "https://localhost:8080/"
        },
        "id": "DF9ljVv9Q_FH",
        "outputId": "a161f343-67c2-4808-f0b4-3df5fbcc7a68"
      },
      "execution_count": null,
      "outputs": [
        {
          "output_type": "execute_result",
          "data": {
            "text/plain": [
              "array([[1.4, 0.2],\n",
              "       [1.4, 0.2],\n",
              "       [1.3, 0.2],\n",
              "       [1.5, 0.2],\n",
              "       [1.4, 0.2],\n",
              "       [1.7, 0.4],\n",
              "       [1.4, 0.3],\n",
              "       [1.5, 0.2],\n",
              "       [1.4, 0.2],\n",
              "       [1.5, 0.1],\n",
              "       [1.5, 0.2],\n",
              "       [1.6, 0.2],\n",
              "       [1.4, 0.1],\n",
              "       [1.1, 0.1],\n",
              "       [1.2, 0.2],\n",
              "       [1.5, 0.4],\n",
              "       [1.3, 0.4],\n",
              "       [1.4, 0.3],\n",
              "       [1.7, 0.3],\n",
              "       [1.5, 0.3],\n",
              "       [1.7, 0.2],\n",
              "       [1.5, 0.4],\n",
              "       [1. , 0.2],\n",
              "       [1.7, 0.5],\n",
              "       [1.9, 0.2],\n",
              "       [1.6, 0.2],\n",
              "       [1.6, 0.4],\n",
              "       [1.5, 0.2],\n",
              "       [1.4, 0.2],\n",
              "       [1.6, 0.2],\n",
              "       [1.6, 0.2],\n",
              "       [1.5, 0.4],\n",
              "       [1.5, 0.1],\n",
              "       [1.4, 0.2],\n",
              "       [1.5, 0.2],\n",
              "       [1.2, 0.2],\n",
              "       [1.3, 0.2],\n",
              "       [1.4, 0.1],\n",
              "       [1.3, 0.2],\n",
              "       [1.5, 0.2],\n",
              "       [1.3, 0.3],\n",
              "       [1.3, 0.3],\n",
              "       [1.3, 0.2],\n",
              "       [1.6, 0.6],\n",
              "       [1.9, 0.4],\n",
              "       [1.4, 0.3],\n",
              "       [1.6, 0.2],\n",
              "       [1.4, 0.2],\n",
              "       [1.5, 0.2],\n",
              "       [1.4, 0.2],\n",
              "       [4.7, 1.4],\n",
              "       [4.5, 1.5],\n",
              "       [4.9, 1.5],\n",
              "       [4. , 1.3],\n",
              "       [4.6, 1.5],\n",
              "       [4.5, 1.3],\n",
              "       [4.7, 1.6],\n",
              "       [3.3, 1. ],\n",
              "       [4.6, 1.3],\n",
              "       [3.9, 1.4],\n",
              "       [3.5, 1. ],\n",
              "       [4.2, 1.5],\n",
              "       [4. , 1. ],\n",
              "       [4.7, 1.4],\n",
              "       [3.6, 1.3],\n",
              "       [4.4, 1.4],\n",
              "       [4.5, 1.5],\n",
              "       [4.1, 1. ],\n",
              "       [4.5, 1.5],\n",
              "       [3.9, 1.1],\n",
              "       [4.8, 1.8],\n",
              "       [4. , 1.3],\n",
              "       [4.9, 1.5],\n",
              "       [4.7, 1.2],\n",
              "       [4.3, 1.3],\n",
              "       [4.4, 1.4],\n",
              "       [4.8, 1.4],\n",
              "       [5. , 1.7],\n",
              "       [4.5, 1.5],\n",
              "       [3.5, 1. ],\n",
              "       [3.8, 1.1],\n",
              "       [3.7, 1. ],\n",
              "       [3.9, 1.2],\n",
              "       [5.1, 1.6],\n",
              "       [4.5, 1.5],\n",
              "       [4.5, 1.6],\n",
              "       [4.7, 1.5],\n",
              "       [4.4, 1.3],\n",
              "       [4.1, 1.3],\n",
              "       [4. , 1.3],\n",
              "       [4.4, 1.2],\n",
              "       [4.6, 1.4],\n",
              "       [4. , 1.2],\n",
              "       [3.3, 1. ],\n",
              "       [4.2, 1.3],\n",
              "       [4.2, 1.2],\n",
              "       [4.2, 1.3],\n",
              "       [4.3, 1.3],\n",
              "       [3. , 1.1],\n",
              "       [4.1, 1.3],\n",
              "       [6. , 2.5],\n",
              "       [5.1, 1.9],\n",
              "       [5.9, 2.1],\n",
              "       [5.6, 1.8],\n",
              "       [5.8, 2.2],\n",
              "       [6.6, 2.1],\n",
              "       [4.5, 1.7],\n",
              "       [6.3, 1.8],\n",
              "       [5.8, 1.8],\n",
              "       [6.1, 2.5],\n",
              "       [5.1, 2. ],\n",
              "       [5.3, 1.9],\n",
              "       [5.5, 2.1],\n",
              "       [5. , 2. ],\n",
              "       [5.1, 2.4],\n",
              "       [5.3, 2.3],\n",
              "       [5.5, 1.8],\n",
              "       [6.7, 2.2],\n",
              "       [6.9, 2.3],\n",
              "       [5. , 1.5],\n",
              "       [5.7, 2.3],\n",
              "       [4.9, 2. ],\n",
              "       [6.7, 2. ],\n",
              "       [4.9, 1.8],\n",
              "       [5.7, 2.1],\n",
              "       [6. , 1.8],\n",
              "       [4.8, 1.8],\n",
              "       [4.9, 1.8],\n",
              "       [5.6, 2.1],\n",
              "       [5.8, 1.6],\n",
              "       [6.1, 1.9],\n",
              "       [6.4, 2. ],\n",
              "       [5.6, 2.2],\n",
              "       [5.1, 1.5],\n",
              "       [5.6, 1.4],\n",
              "       [6.1, 2.3],\n",
              "       [5.6, 2.4],\n",
              "       [5.5, 1.8],\n",
              "       [4.8, 1.8],\n",
              "       [5.4, 2.1],\n",
              "       [5.6, 2.4],\n",
              "       [5.1, 2.3],\n",
              "       [5.1, 1.9],\n",
              "       [5.9, 2.3],\n",
              "       [5.7, 2.5],\n",
              "       [5.2, 2.3],\n",
              "       [5. , 1.9],\n",
              "       [5.2, 2. ],\n",
              "       [5.4, 2.3],\n",
              "       [5.1, 1.8]])"
            ]
          },
          "metadata": {},
          "execution_count": 27
        }
      ]
    },
    {
      "cell_type": "markdown",
      "source": [
        "#### **3.4 回顾**\n",
        "\n",
        "| 类         | 所属方式    |说明|\n",
        "| --------     | :-----:   | :-----:  |\n",
        "| VarianceThresho |Filter| 方差选择法|\n",
        "| SelectKBest |Filter| 可选关联系数、卡方校验、最大信息系数作为得分计算的方法|\n",
        "| RFE |Wrapper| 递归地训练基模型，将权值系数较小的特征从特征集合中消除|\n",
        "| SelectFromModel |Embedded|训练基模型，选择权值系数较高的特征|"
      ],
      "metadata": {
        "id": "g1EOc7FhR_YD"
      }
    },
    {
      "cell_type": "markdown",
      "source": [
        "### 降维\n",
        "当特征选择完成后,可以直接训练模型了,但是可能由于特征矩阵过大,导致计算量大，训练时间长的问题，因此降低特征矩阵维度也是必不可少的。常见的降维方法除了以上提到的基于L1惩罚项的模型以外，另外还有主成分分析法(PCA)和线性判别法(LDA),线性判别分析本身也是一个分类模型. PCA和LDA有很多的相似点，其本质是要将原始的样本映射到维度更低的样本空间中，但是PCA和LDA的映射目标不一样:\n",
        "PCA时为了让映射后的样本具有最大的发散性;而LDA时为了让映射后的样本又最好的分类性能. 所以说PCA时一种无监督的,而LDA时一种有监督的降维方法."
      ],
      "metadata": {
        "id": "78IbCdu1S-2i"
      }
    },
    {
      "cell_type": "markdown",
      "source": [
        "4.1 主成分分析法(PCA)\n",
        "使用decomposition库的PCA类选择特征的代码如下:"
      ],
      "metadata": {
        "id": "MXssAsxeU81t"
      }
    },
    {
      "cell_type": "code",
      "source": [
        "from sklearn.decomposition import PCA\n",
        "\n",
        "#主成分分析法,返回降维后的数据\n",
        "#参数n_components 为主成分数目\n",
        "PCA(n_components=2).fit_transform(iris.data)"
      ],
      "metadata": {
        "id": "qZBrsYnfSTAl"
      },
      "execution_count": null,
      "outputs": []
    },
    {
      "cell_type": "markdown",
      "source": [
        "4.2 线性判别分析法(LDA)\n",
        "使用lda库的LDA类选择特征的代码如下:"
      ],
      "metadata": {
        "id": "v4hmKQsrVbFn"
      }
    },
    {
      "cell_type": "code",
      "source": [
        "from sklearn.lda import LDA\n",
        "\n",
        "#线性判别分析法,返回降维后的数据\n",
        "#参数n_components为降维后的维数\n",
        "LDA(n_components=2).fit_transform(iris.data,iris.target)"
      ],
      "metadata": {
        "colab": {
          "base_uri": "https://localhost:8080/",
          "height": 392
        },
        "id": "WngVEAQNS8bq",
        "outputId": "e11a0266-2859-4490-fee5-ba8c21f43c63"
      },
      "execution_count": null,
      "outputs": [
        {
          "output_type": "error",
          "ename": "ImportError",
          "evalue": "ignored",
          "traceback": [
            "\u001b[0;31m---------------------------------------------------------------------------\u001b[0m",
            "\u001b[0;31mImportError\u001b[0m                               Traceback (most recent call last)",
            "\u001b[0;32m<ipython-input-31-44a8a75bc37d>\u001b[0m in \u001b[0;36m<module>\u001b[0;34m()\u001b[0m\n\u001b[0;32m----> 1\u001b[0;31m \u001b[0;32mfrom\u001b[0m \u001b[0msklearn\u001b[0m\u001b[0;34m.\u001b[0m\u001b[0mdecomposition\u001b[0m \u001b[0;32mimport\u001b[0m \u001b[0mLDA\u001b[0m\u001b[0;34m\u001b[0m\u001b[0;34m\u001b[0m\u001b[0m\n\u001b[0m\u001b[1;32m      2\u001b[0m \u001b[0;34m\u001b[0m\u001b[0m\n\u001b[1;32m      3\u001b[0m \u001b[0;31m#线性判别分析法,返回降维后的数据\u001b[0m\u001b[0;34m\u001b[0m\u001b[0;34m\u001b[0m\u001b[0;34m\u001b[0m\u001b[0m\n\u001b[1;32m      4\u001b[0m \u001b[0;31m#参数n_components为降维后的维数\u001b[0m\u001b[0;34m\u001b[0m\u001b[0;34m\u001b[0m\u001b[0;34m\u001b[0m\u001b[0m\n\u001b[1;32m      5\u001b[0m \u001b[0mLDA\u001b[0m\u001b[0;34m(\u001b[0m\u001b[0mn_components\u001b[0m\u001b[0;34m=\u001b[0m\u001b[0;36m2\u001b[0m\u001b[0;34m)\u001b[0m\u001b[0;34m.\u001b[0m\u001b[0mfit_transform\u001b[0m\u001b[0;34m(\u001b[0m\u001b[0miris\u001b[0m\u001b[0;34m.\u001b[0m\u001b[0mdata\u001b[0m\u001b[0;34m,\u001b[0m\u001b[0miris\u001b[0m\u001b[0;34m.\u001b[0m\u001b[0mtarget\u001b[0m\u001b[0;34m)\u001b[0m\u001b[0;34m\u001b[0m\u001b[0;34m\u001b[0m\u001b[0m\n",
            "\u001b[0;31mImportError\u001b[0m: cannot import name 'LDA' from 'sklearn.decomposition' (/usr/local/lib/python3.7/dist-packages/sklearn/decomposition/__init__.py)",
            "",
            "\u001b[0;31m---------------------------------------------------------------------------\u001b[0;32m\nNOTE: If your import is failing due to a missing package, you can\nmanually install dependencies using either !pip or !apt.\n\nTo view examples of installing some common dependencies, click the\n\"Open Examples\" button below.\n\u001b[0;31m---------------------------------------------------------------------------\u001b[0m\n"
          ],
          "errorDetails": {
            "actions": [
              {
                "action": "open_url",
                "actionText": "Open Examples",
                "url": "/notebooks/snippets/importing_libraries.ipynb"
              }
            ]
          }
        }
      ]
    },
    {
      "cell_type": "markdown",
      "source": [
        "## 模型的训练\n",
        "根据问题特点选择适当的估计器estimator模型:分类(SVC,KNN,LR,NaiveBayes,...)回归(Lasso,ElasticNet,SVR,...) 聚类(KMeans,...)降维(PCA)"
      ],
      "metadata": {
        "id": "sNu2tdL3Wgz-"
      }
    },
    {
      "cell_type": "markdown",
      "source": [
        "### 一, 分类模型的训练"
      ],
      "metadata": {
        "id": "Bsq7-7YFah0_"
      }
    },
    {
      "cell_type": "code",
      "source": [
        "# 用决策树算法识别手写字体\n",
        "import numpy as np \n",
        "import pandas as pd\n",
        "%matplotlib inline \n",
        "import matplotlib.pyplot as plt\n",
        "from sklearn import datasets\n",
        "\n",
        "digits = datasets.load_digits()\n",
        "\n",
        "plt.figure()\n",
        "plt.axis('off')\n",
        "plt.imshow(digits.images[0],cmap=plt.cm.gray_r,interpolation='nearest')\n",
        "plt.show()"
      ],
      "metadata": {
        "colab": {
          "base_uri": "https://localhost:8080/",
          "height": 248
        },
        "id": "i7lVP1-uanOu",
        "outputId": "a3748810-09ec-44cd-d24e-bc00c2be00db"
      },
      "execution_count": null,
      "outputs": [
        {
          "output_type": "display_data",
          "data": {
            "text/plain": [
              "<Figure size 432x288 with 1 Axes>"
            ],
            "image/png": "[encoded data removed]"
          },
          "metadata": {
            "needs_background": "light"
          }
        }
      ]
    },
    {
      "cell_type": "code",
      "source": [
        "# 从样本数据中选出2/3作为训练集,1/3作为测试集,并打乱数据集\n",
        "from sklearn.model_selection import train_test_split\n",
        "X_train,X_test,y_train,y_test = train_test_split(digits.data,digits.target,\n",
        "                                                 test_size=1/3)\n",
        "(len(X_train),len(X_test))\n"
      ],
      "metadata": {
        "colab": {
          "base_uri": "https://localhost:8080/"
        },
        "id": "pSLrqQnJbqdT",
        "outputId": "6804e83f-a6a7-46e9-e5e1-a6fddd9325ea"
      },
      "execution_count": null,
      "outputs": [
        {
          "output_type": "execute_result",
          "data": {
            "text/plain": [
              "(1198, 599)"
            ]
          },
          "metadata": {},
          "execution_count": 41
        }
      ]
    },
    {
      "cell_type": "code",
      "source": [
        "from sklearn.tree import DecisionTreeClassifier\n",
        "treeclf = DecisionTreeClassifier()\n",
        "treeclf.fit(X_train,y_train)\n",
        "print(treeclf.predict(X_test))\n",
        "print(treeclf.predict(X_test)-y_test)"
      ],
      "metadata": {
        "colab": {
          "base_uri": "https://localhost:8080/"
        },
        "id": "XVcfqccfcPEw",
        "outputId": "411e58b6-39aa-461a-d64e-7cae087e9c2d"
      },
      "execution_count": null,
      "outputs": [
        {
          "output_type": "stream",
          "name": "stdout",
          "text": [
            "[1 5 2 5 8 8 0 1 2 0 7 6 1 1 6 7 7 2 8 3 3 0 9 6 7 6 9 5 3 6 8 4 3 8 5 1 8\n",
            " 9 7 4 2 5 0 6 4 3 4 9 5 6 5 1 4 2 0 5 2 9 6 0 8 5 6 4 5 9 6 8 6 6 8 7 3 2\n",
            " 0 2 2 6 0 0 7 1 2 1 4 9 8 4 4 0 8 6 1 8 7 4 6 3 2 5 9 4 2 2 8 7 7 4 2 2 9\n",
            " 9 4 9 7 5 0 4 2 9 5 6 4 4 8 8 6 5 1 3 0 0 4 6 5 9 8 2 5 1 9 1 3 8 7 3 2 3\n",
            " 6 9 6 6 2 6 7 4 3 9 3 5 3 3 1 2 0 6 8 3 1 0 4 4 1 3 7 0 6 8 3 8 6 1 4 2 0\n",
            " 8 3 2 7 2 9 7 0 0 1 7 8 4 5 4 1 8 9 3 3 4 7 4 0 0 6 1 3 1 1 0 0 9 4 0 5 1\n",
            " 6 0 0 7 6 1 8 4 1 9 9 8 2 4 5 6 3 6 3 3 9 5 2 6 1 8 2 8 1 2 9 2 6 8 2 4 8\n",
            " 2 7 9 3 5 0 4 8 0 4 9 0 9 4 9 5 5 9 0 1 4 4 2 6 7 1 6 3 2 5 9 5 9 5 0 0 7\n",
            " 8 7 2 5 3 1 5 2 6 3 1 7 4 8 3 1 1 9 9 2 1 9 1 3 1 0 5 3 3 8 7 0 3 3 5 6 3\n",
            " 2 3 3 3 7 7 7 8 8 1 3 4 1 5 7 3 4 9 1 7 2 5 9 8 1 4 7 7 1 6 4 5 6 5 1 1 1\n",
            " 9 2 2 4 1 6 4 1 9 7 2 1 6 9 6 1 6 7 7 6 4 7 0 2 7 4 3 4 0 6 4 7 2 3 4 2 4\n",
            " 9 3 8 7 7 9 0 7 9 7 1 5 5 8 9 2 7 8 2 0 3 8 8 9 5 8 1 6 1 3 9 5 4 5 5 2 4\n",
            " 5 3 7 6 5 9 1 8 3 0 1 6 0 0 9 4 7 2 7 0 4 0 2 0 3 6 5 3 3 3 6 5 4 0 6 7 7\n",
            " 8 5 8 5 1 8 0 5 2 8 7 6 7 9 3 3 6 4 2 2 3 1 3 1 8 5 2 9 4 2 5 1 4 2 3 3 6\n",
            " 2 8 9 5 8 2 9 0 8 3 8 7 9 3 4 3 4 7 3 1 3 8 4 6 3 9 7 2 8 5 7 5 1 6 6 4 3\n",
            " 0 3 2 1 7 9 2 0 9 7 1 2 8 9 0 4 8 1 3 3 5 5 6 3 9 8 1 9 7 5 6 8 4 6 9 4 3\n",
            " 1 3 5 9 0 0 0]\n",
            "[ 0  0  0  0  0  0  0  0  0 -8  0  0  0  0  0  0  0  0  0  0  0  0  0 -3\n",
            "  0  0  0  0  0  0  7  0  0  0  0  0  0  0  0  0  0  0  0  0  0  0  0  0\n",
            "  0  0  0  1  0  0 -8  0  0  1  0  0  0  0  0  0  0  0  0  0  0  0  0  0\n",
            " -6  0  0  0  0  0  0  0  0 -5  0  0  0  0  0  0  3  0  4  0  0  0  0  0\n",
            "  0 -1  0  0  0  0  0  0  0  5  0  0  0  0  0  5  0  0  0  0  0  0 -1  0\n",
            "  0  0  3  0  0  7  0 -2  0  0  0  0  0  0  0  0  0  0  0  0  0 -7 -6  0\n",
            "  6  2  0  0  0  7  0  0  0  0  0  0  0  0  0  0  0  0 -3  0  0  0  0  0\n",
            "  0  0  0  3  0  0  0  0  0  0  0  0  0  0  0  0  0  0  0  0  0  0  0  0\n",
            "  0  0  0  0  0 -2  0  0  0  0  0  0  0  0  0  0  0  0  0  0  0  0 -3  0\n",
            "  0  1  0  0  0 -7  0  0  0  0  0  0  7  0  0  0  0  0  0  0  0  0  0  0\n",
            "  0  0  0  0  0  0  0  0  0  0  0  0  0  0  0  0  1  0  5  0  0  0  0  0\n",
            "  0  0  2  0  0  0  0  0  3  1  0  0  0  0  0  0  0  0  0  0  0  0  0  0\n",
            "  0  0  0  4  0  0  0 -2  0  0  0  0  0 -3  0  0  0  0  0  0  0  3  0  0\n",
            " -7  0  7  0 -1  0  0  2 -7  0  0  0  0  0  2  0  0  0  0  0  0  0 -5  0\n",
            "  0  0  0  0  0  0  0  0  0  0  0  0  0 -4  0 -3  0  0  0  0  3  0  0  0\n",
            "  0  0  0  0  0  0  0  0  0  0  0  0  0  0  0  0 -1  0  0  0  0 -8  0  0\n",
            "  0  0  0  0  0  0 -1  0  0  0  0  0  0  0  0  0  0  0 -3  0  4  0  0  3\n",
            "  0  0  0  0  1  0  0  0  0  0  1  0  0  0  0  0  8  0 -6  0  0  0  0  0\n",
            "  0  0  0  0  0  0  0  0  0  0  0  0  0  0  0  0  0  0  0  0  0 -4  0  0\n",
            "  0  0  0  0  0 -6  0 -4  0  0  1  0  0  0  2  0  0  0  0  0  0  0  0  0\n",
            "  0  0  0  0  0  0  0  0  0  0  0  0  0  0  2  0  1  0  0  0 -6  0  0  0\n",
            " -1  0  0 -6  0  3  0  0  0  0  0  0  0  0  0  0  0  0  0  0  0  0  0 -6\n",
            "  0  0  0 -5 -3  0  0  0  0  0  0  4  0  0 -5  0  0  0  0  0  0  0  0  0\n",
            "  0  0  2  0  0  0  0 -2  0  0  0  0  3  0  0  5  1  0  3  0  0  0  2  0\n",
            "  0  0 -2  0  0  0  0  0  0  0 -1  3  0  0  0  2 -8  0  0  4  0  0  0]\n"
          ]
        }
      ]
    },
    {
      "cell_type": "code",
      "source": [
        "# 查看模型在测试集的评分\n",
        "treeclf.score(X_test,y_test)\n",
        "# score函数是模型内部定义的打分方法,对于分类,回归和聚类问题有不同的实现."
      ],
      "metadata": {
        "colab": {
          "base_uri": "https://localhost:8080/"
        },
        "id": "s7A1jH6dcoxr",
        "outputId": "c697667d-d09d-4b0d-c023-eba54d2dd0f4"
      },
      "execution_count": null,
      "outputs": [
        {
          "output_type": "execute_result",
          "data": {
            "text/plain": [
              "0.8547579298831386"
            ]
          },
          "metadata": {},
          "execution_count": 43
        }
      ]
    },
    {
      "cell_type": "code",
      "source": [
        "# 使用随机森林算法识别手写字体\n",
        "\n",
        "# 随机森林算法是一种集成算法,相当于许多可决策树进行投票可以显著改善单颗决策树的过拟合\n",
        "from sklearn.ensemble import RandomForestClassifier\n",
        "rfclf = RandomForestClassifier()\n",
        "rfclf.fit(X_train,y_train)\n",
        "print(rfclf.predict(X_test))\n",
        "print(rfclf.predict(X_test)-y_test)\n"
      ],
      "metadata": {
        "colab": {
          "base_uri": "https://localhost:8080/"
        },
        "id": "EPqIZRU2dA1l",
        "outputId": "0e82b898-c4d9-4be5-c185-ae9ff3ec3e77"
      },
      "execution_count": null,
      "outputs": [
        {
          "output_type": "stream",
          "name": "stdout",
          "text": [
            "[1 5 2 5 8 8 0 1 2 8 7 6 1 1 6 7 7 2 8 3 3 0 9 9 7 6 9 5 3 6 1 4 3 8 5 1 8\n",
            " 8 7 4 2 5 0 6 4 3 4 9 5 6 5 8 4 2 8 5 2 8 6 0 8 5 6 4 5 9 6 8 6 6 8 7 3 2\n",
            " 0 2 2 6 0 0 7 6 2 1 4 9 8 4 1 0 4 6 1 8 7 4 6 4 2 5 9 4 2 2 8 2 7 4 2 2 9\n",
            " 8 4 9 7 5 0 4 3 9 5 6 1 4 1 1 6 7 1 3 0 0 4 6 5 9 8 2 5 1 9 1 8 8 1 1 2 3\n",
            " 6 2 6 6 2 6 7 4 3 9 3 5 3 3 4 2 0 6 8 3 1 0 4 1 1 3 7 0 6 8 3 8 6 1 7 2 0\n",
            " 8 3 2 7 2 9 7 0 0 1 7 8 6 5 4 1 8 9 3 3 4 7 4 0 0 6 1 3 1 4 0 0 8 4 0 5 8\n",
            " 6 0 0 7 6 1 1 4 1 9 9 8 2 4 5 6 3 6 3 3 9 4 2 6 1 8 2 8 1 2 9 2 6 8 1 4 3\n",
            " 2 7 9 3 5 0 4 8 0 4 9 0 9 1 8 5 5 9 0 1 4 4 2 6 7 1 6 3 2 5 9 5 5 5 0 0 9\n",
            " 8 7 2 5 3 4 5 2 6 3 1 7 4 9 3 1 7 9 2 2 2 9 1 1 8 0 5 3 3 1 5 0 3 3 5 6 3\n",
            " 2 8 3 3 7 7 7 8 8 1 3 4 1 5 7 3 8 9 4 7 2 5 9 8 1 4 7 7 1 6 4 5 6 5 1 1 1\n",
            " 9 2 2 4 1 6 5 1 9 7 2 9 6 9 6 1 6 7 7 6 5 7 0 2 7 4 3 4 0 6 4 7 5 3 4 2 4\n",
            " 1 3 8 7 7 8 0 7 9 7 1 4 5 8 9 2 7 0 2 6 3 8 8 9 5 8 1 6 1 3 9 5 4 5 5 2 4\n",
            " 5 3 7 6 5 9 1 8 3 4 1 6 0 0 9 4 7 8 7 4 4 0 1 0 3 6 3 3 3 3 6 5 4 0 6 7 7\n",
            " 8 5 8 5 1 8 0 5 2 8 7 6 7 7 3 2 6 4 2 3 3 1 3 2 8 5 8 9 1 2 5 1 4 2 3 3 6\n",
            " 2 8 7 5 8 2 9 0 8 9 8 7 9 8 7 8 4 7 3 1 3 4 4 6 8 9 7 2 8 5 7 5 1 6 6 4 1\n",
            " 0 3 2 1 9 9 2 0 9 4 1 2 3 8 0 1 8 1 3 1 5 5 6 5 9 8 1 9 7 5 6 9 1 6 9 4 1\n",
            " 9 3 5 5 0 0 0]\n",
            "[ 0  0  0  0  0  0  0  0  0  0  0  0  0  0  0  0  0  0  0  0  0  0  0  0\n",
            "  0  0  0  0  0  0  0  0  0  0  0  0  0 -1  0  0  0  0  0  0  0  0  0  0\n",
            "  0  0  0  8  0  0  0  0  0  0  0  0  0  0  0  0  0  0  0  0  0  0  0  0\n",
            " -6  0  0  0  0  0  0  0  0  0  0  0  0  0  0  0  0  0  0  0  0  0  0  0\n",
            "  0  0  0  0  0  0  0  0  0  0  0  0  0  0  0  4  0  0  0  0  0  0  0  0\n",
            "  0  0  0  0 -7  0  0  0  0  0  0  0  0  0  0  0  0  0  0  0  0 -7 -1  0\n",
            "  0  0  0  0  0  0  0  0  0  0  0  0  0  0  0  0  0  0  0  0  0  0  0  0\n",
            "  0  0  0  0  0  0  0  0  0  0  0  0  0  0  3  0  0  0  0  0  0  0  0  0\n",
            "  0  0  0  0  0  0  0  0  0  0  0  0  0  0  0  0  0  0  0  0  0  0  0  0\n",
            "  0  0  0  0  0  0  0  0  0  0  0  0  0  0  0  0  0  0  0  0  0  0  0  0\n",
            "  0  0  0 -1  0  0  0  0  0  0  0  0  0  0  0  0  0  0  0  0  0  0  0  0\n",
            "  0  0  2  0  0  0  0  0  0  0  0  0  0  0  0  0  0  0  0  0  0  0  0  0\n",
            "  0  0  0  0  0  0  0  0  0  0  0  0  0  0  0  0  0  0  0  0  0  4  0  0\n",
            " -1  0  0  0  0  0  0  0  0  0  0  0  0 -7  0  0  0  0  0  0  0  0  0  0\n",
            "  0  0  0  0  0  0  0  0  0  0  0  0  0  0  0  0  0  0  0  0  3  0  0  0\n",
            "  0  0  0  0  0  0  0  0  0  0  0  0  0  0  0  0  0  0  0  0  0  0  0  0\n",
            "  0  0  0  0  0  0  0  0  0  0  0  0  0  0  0  0  0  0  0  0  4  0  0 -5\n",
            "  0  0  0  0  0  0  0  0  0  0  0  0  0  0  0  0  0  0  0  0  0  0  0  0\n",
            "  0  0  0  0  0  0  0  0  0  0  0  0  0  0  0  0  0  0  0  0  0  0  0  0\n",
            "  0  0  0  0  0  0  0  0  0  0  0  0  0  0  0  0  0  0  0  0  0  0  0  0\n",
            "  0  0  0  0  0  0  0  0  0  0  0  0  0  0  0  0  0  0  0  0 -5  0  0  0\n",
            "  0  0  0  0  0  0  0  0  0  0  0  0  0  0  0  0 -2  0  0  0  0  0  0  0\n",
            "  0  0  0  0  0  5  0  0  0  0  0  0  0  0  0  0  0  0  0  0  0  0  0  0\n",
            "  0  0  0  0  0  0  0  0  0  0  0  0  0  0  0  0  0  0  0  0  0  0  0  0\n",
            "  0  0  0  0  0  0  0  0  0  0  0  0  0  0  0  0  0  0  0  0  0  0  0]\n"
          ]
        }
      ]
    },
    {
      "cell_type": "code",
      "source": [
        "rfclf.score(X_test,y_test)"
      ],
      "metadata": {
        "colab": {
          "base_uri": "https://localhost:8080/"
        },
        "id": "EGQ1qkrid7jq",
        "outputId": "54ab73f8-245d-4539-fe66-b172416789c2"
      },
      "execution_count": null,
      "outputs": [
        {
          "output_type": "execute_result",
          "data": {
            "text/plain": [
              "0.9682804674457429"
            ]
          },
          "metadata": {},
          "execution_count": 45
        }
      ]
    },
    {
      "cell_type": "code",
      "source": [
        "# 按照指引选用Linear SVC\n",
        "from sklearn import svm\n",
        "svmclf = svm.SVC(kernel='linear')\n",
        "\n",
        "svmclf.fit(X_train,y_train)\n",
        "print(svmclf.predict(X_test))\n",
        "print(svmclf.predict(X_test)-y_test)\n",
        "\n",
        "svmclf.score(X_test,y_test)"
      ],
      "metadata": {
        "colab": {
          "base_uri": "https://localhost:8080/"
        },
        "id": "VvHteSILeCUO",
        "outputId": "4eeb7b6a-8596-47d0-d2f8-fe79a1d2efcd"
      },
      "execution_count": null,
      "outputs": [
        {
          "output_type": "stream",
          "name": "stdout",
          "text": [
            "[1 5 2 5 8 8 0 1 2 8 7 6 1 1 6 7 7 2 8 3 3 0 9 9 7 6 9 5 3 6 1 4 3 8 5 1 8\n",
            " 9 7 4 2 5 0 6 4 3 4 9 5 6 5 4 4 2 1 5 2 8 6 0 8 5 6 4 5 9 6 8 6 6 8 7 9 2\n",
            " 0 2 2 6 0 0 7 6 2 1 4 9 8 4 1 0 4 6 1 8 7 4 6 4 2 5 9 4 2 2 8 2 7 4 2 2 9\n",
            " 4 4 9 7 5 0 4 3 9 5 6 1 4 8 1 6 7 1 3 0 0 4 6 5 9 8 2 5 1 9 1 9 8 1 1 2 3\n",
            " 6 2 6 6 2 6 7 4 3 9 3 5 3 3 4 2 0 6 8 3 1 0 4 1 1 3 7 0 6 8 3 8 6 1 4 2 0\n",
            " 8 3 2 7 2 9 7 0 0 1 7 8 6 5 4 1 8 9 3 3 4 7 4 0 0 6 1 3 1 4 0 0 8 4 0 5 8\n",
            " 6 0 0 7 6 1 1 4 1 9 9 8 2 4 5 6 3 6 3 3 9 5 2 6 1 8 2 8 8 2 9 2 6 8 1 4 3\n",
            " 2 7 9 3 5 0 4 8 0 4 9 0 9 4 8 5 5 9 0 1 4 4 2 6 7 1 6 3 2 5 9 5 5 5 0 0 9\n",
            " 8 7 2 5 3 4 5 2 6 3 1 7 4 9 3 1 8 9 2 2 2 9 1 1 1 0 5 3 3 1 5 0 3 3 5 6 3\n",
            " 2 8 3 3 7 7 7 8 8 1 3 4 1 5 7 3 5 9 4 7 2 5 9 5 1 4 7 7 1 6 4 5 6 5 1 1 1\n",
            " 9 2 2 4 1 6 5 1 9 7 2 9 6 9 6 1 6 7 7 6 5 7 0 2 7 4 3 4 0 6 4 7 5 3 0 2 4\n",
            " 1 3 8 7 7 8 0 7 9 7 1 4 5 8 9 2 7 0 2 6 3 8 8 9 5 8 1 6 1 3 9 5 4 5 5 2 4\n",
            " 5 3 7 6 5 9 1 8 3 4 1 6 0 0 9 4 7 8 7 4 4 0 1 0 3 6 3 3 3 3 6 5 4 0 6 7 7\n",
            " 8 5 8 5 1 8 0 5 2 8 7 6 7 7 3 2 6 4 2 8 3 1 3 2 8 5 8 9 1 2 5 1 4 2 3 3 6\n",
            " 2 8 9 5 8 2 9 0 8 9 8 7 9 8 7 8 4 7 3 1 3 4 4 6 8 9 7 2 8 5 7 5 1 6 6 4 1\n",
            " 0 3 2 1 9 9 2 0 9 4 1 2 3 8 0 1 8 1 3 1 5 5 6 5 9 8 1 9 7 5 6 9 1 6 9 4 1\n",
            " 9 3 5 5 0 0 0]\n",
            "[ 0  0  0  0  0  0  0  0  0  0  0  0  0  0  0  0  0  0  0  0  0  0  0  0\n",
            "  0  0  0  0  0  0  0  0  0  0  0  0  0  0  0  0  0  0  0  0  0  0  0  0\n",
            "  0  0  0  4  0  0 -7  0  0  0  0  0  0  0  0  0  0  0  0  0  0  0  0  0\n",
            "  0  0  0  0  0  0  0  0  0  0  0  0  0  0  0  0  0  0  0  0  0  0  0  0\n",
            "  0  0  0  0  0  0  0  0  0  0  0  0  0  0  0  0  0  0  0  0  0  0  0  0\n",
            "  0  0  0  0  0  0  0  0  0  0  0  0  0  0  0  0  0  0  0  0  0 -7  0  0\n",
            "  0  0  0  0  0  0  0  0  0  0  0  0  0  0  0  0  0  0  0  0  0  0  0  0\n",
            "  0  0  0  0  0  0  0  0  0  0  0  0  0  0  0  0  0  0  0  0  0  0  0  0\n",
            "  0  0  0  0  0  0  0  0  0  0  0  0  0  0  0  0  0  0  0  0  0  0  0  0\n",
            "  0  0  0  0  0  0  0  0  0  0  0  0  0  0  0  0  0  0  0  0  0  0  0  0\n",
            "  0  0  0  0  0  0  0  0  0  0  7  0  0  0  0  0  0  0  0  0  0  0  0  0\n",
            "  0  0  2  0  0  0  0  0  3  0  0  0  0  0  0  0  0  0  0  0  0  0  0  0\n",
            "  0  0  0  0  0  0  0  0  0  0  0  0  0  0  0  0  0  0  0  0  0  4  0  0\n",
            "  0  0  0  0  0  0  0  0 -7  0  0  0  0 -7  0  0  0  0  0  0  0  0  0  0\n",
            "  0  0  0  0  0  0  0  0  0  0  0  0  0 -3  0  0  0  0  0  0  0  0  0  0\n",
            "  0  0  0  0  0  0  0  0  0  0  0  0  0  0  0  0  0  0  0  0  0  0  0  0\n",
            "  0  0  0  0  0  0  0  0  0  0  0  0  0  0  0  0  0  0  0  0  0  0  0 -5\n",
            "  0  0  0  0  0  0  0  0  0  0  0  0  0  0  0  0  0  0  0  0  0  0  0  0\n",
            "  0  0  0  0  0  0  0  0  0  0  0  0  0  0  0  0  0  0  0  0  0  0  0  0\n",
            "  0  0  0  0  0  0  0  0  0  0  0  0  0  0  0  0  0  0  0  0  0  0  0  0\n",
            "  0  0  0  0  0  0  0  0  0  0  0  0  0  0  0  0  0  0  0  0  0  0  0  0\n",
            "  0  0  0  0  0  0  0  0  0  0  0  0  0  0  0  0  0  0  0  0  0  0  0  0\n",
            "  0  0  0  0  0  5  0  0  0  0  0  0  0  0  0  0  0  0  0  0  0  0  0  0\n",
            "  0  0  0  0  0  0  0  0  0  0  0  0  0  0  0  0  0  0  0  0  0  0  0  0\n",
            "  0  0  0  0  0  0  0  0  0  0  0  0  0  0  0  0  0  0  0  0  0  0  0]\n"
          ]
        },
        {
          "output_type": "execute_result",
          "data": {
            "text/plain": [
              "0.9799666110183639"
            ]
          },
          "metadata": {},
          "execution_count": 48
        }
      ]
    },
    {
      "cell_type": "markdown",
      "source": [
        "### 二,回归模型的训练\n"
      ],
      "metadata": {
        "id": "M6wD3JiUe0WG"
      }
    },
    {
      "cell_type": "code",
      "source": [
        "# 拟合波士顿房价问题\n",
        "import numpy as np \n",
        "import pandas as pd \n",
        "%matplotlib inline \n",
        "import matplotlib.pyplot as plt \n",
        "from sklearn import datasets \n",
        "\n",
        "boston = datasets.load_boston()\n"
      ],
      "metadata": {
        "id": "zL5u7-qve7KM"
      },
      "execution_count": null,
      "outputs": []
    },
    {
      "cell_type": "code",
      "source": [
        "#从样本数据中选出2/3作为训练集，1/3个作为测试集,并打乱数据集 \n",
        "from sklearn.model_selection import train_test_split \n",
        "X_train,X_test,y_train,y_test = train_test_split(boston.data,boston.target, test_size = 1/3,random_state=0) \n",
        "(len(X_train),len(X_test))\n",
        "\n",
        "# 将特征进行MinMax标准化\n",
        "from sklearn import preprocessing\n",
        "scaler = preprocessing.MinMaxScaler(feature_range=(0,1))\n",
        "\n",
        "scaler.fit(X_train)\n",
        "X_train,X_test =scaler.transform(X_train),scaler.transform(X_test)\n"
      ],
      "metadata": {
        "id": "M5UFPghMfuz2"
      },
      "execution_count": null,
      "outputs": []
    },
    {
      "cell_type": "code",
      "source": [
        "# 使用决策树算法拟合\n",
        "from sklearn import tree \n",
        "\n",
        "treereg = tree.DecisionTreeRegressor()\n",
        "treereg.fit(X_train,y_train)\n",
        "\n",
        "print(treereg.predict(X_test))\n",
        "print(np.abs(treereg.predict(X_test)/y_test-1))\n",
        "treereg.score(X_test,y_test)\n"
      ],
      "metadata": {
        "colab": {
          "base_uri": "https://localhost:8080/"
        },
        "id": "m9_FqftugXKG",
        "outputId": "e2ad9616-3e7b-4036-8dd9-997723b8c6bc"
      },
      "execution_count": null,
      "outputs": [
        {
          "output_type": "stream",
          "name": "stdout",
          "text": [
            "[2. 9. 2. 5. 8. 8. 0. 1. 2. 2. 7. 6. 1. 3. 6. 7. 7. 2. 8. 3. 3. 0. 9. 9.\n",
            " 7. 6. 9. 5. 9. 6. 3. 4. 3. 2. 5. 1. 9. 9. 7. 4. 2. 5. 0. 6. 4. 3. 4. 9.\n",
            " 9. 6. 5. 8. 4. 2. 1. 6. 2. 8. 6. 0. 3. 5. 6. 4. 5. 7. 6. 8. 6. 6. 8. 7.\n",
            " 8. 5. 0. 2. 2. 3. 0. 9. 7. 4. 2. 1. 4. 9. 2. 6. 1. 0. 4. 6. 1. 8. 7. 4.\n",
            " 6. 4. 3. 5. 9. 4. 2. 3. 1. 2. 7. 4. 2. 2. 9. 7. 2. 9. 7. 5. 0. 4. 3. 9.\n",
            " 5. 3. 1. 4. 8. 1. 6. 7. 1. 3. 0. 0. 7. 6. 5. 9. 8. 2. 5. 1. 3. 1. 8. 8.\n",
            " 1. 1. 2. 3. 6. 2. 6. 6. 2. 5. 7. 4. 3. 9. 1. 5. 3. 3. 4. 2. 0. 6. 2. 3.\n",
            " 1. 0. 4. 1. 1. 3. 7. 0. 6. 8. 3. 8. 6. 7. 7. 2. 0. 8. 3. 2. 7. 2. 9. 7.\n",
            " 0. 0. 1. 7. 3. 6. 5. 7. 2. 8. 9. 3. 3. 4. 3. 4. 0. 0. 6. 1. 3. 1. 4. 0.\n",
            " 0. 2. 4. 0. 5. 8. 6. 0. 0. 7. 6. 1. 1. 4. 1. 9. 9. 8. 2. 4. 5. 6. 3. 6.\n",
            " 3. 2. 9. 5. 2. 3. 1. 3. 2. 8. 5. 2. 9. 2. 6. 8. 7. 4. 3. 2. 1. 9. 7. 5.\n",
            " 0. 5. 4. 0. 4. 9. 0. 3. 1. 8. 5. 3. 9. 0. 1. 2. 4. 2. 6. 7. 1. 6. 3. 2.\n",
            " 5. 9. 5. 5. 5. 0. 0. 8. 4. 3. 2. 4. 3. 4. 5. 2. 6. 3. 1. 7. 4. 9. 7. 1.\n",
            " 7. 3. 2. 2. 2. 9. 2. 1. 2. 0. 4. 3. 3. 8. 8. 0. 3. 3. 5. 6. 3. 3. 8. 3.\n",
            " 3. 7. 8. 7. 4. 1. 1. 3. 4. 1. 5. 7. 3. 8. 9. 4. 7. 2. 5. 9. 8. 1. 4. 7.\n",
            " 7. 1. 6. 6. 5. 6. 5. 1. 1. 1. 9. 2. 2. 4. 1. 6. 5. 2. 5. 7. 2. 9. 6. 9.\n",
            " 6. 9. 6. 8. 7. 6. 5. 4. 0. 2. 3. 4. 3. 4. 0. 6. 7. 7. 5. 3. 7. 2. 4. 4.\n",
            " 3. 8. 4. 7. 8. 9. 7. 9. 7. 1. 4. 5. 8. 9. 2. 7. 3. 2. 0. 3. 8. 8. 5. 5.\n",
            " 8. 1. 6. 1. 3. 5. 5. 4. 5. 5. 5. 4. 5. 3. 7. 6. 0. 9. 1. 8. 3. 4. 1. 6.\n",
            " 0. 0. 3. 4. 1. 8. 7. 4. 4. 0. 1. 0. 3. 6. 3. 3. 8. 3. 6. 3. 4. 0. 6. 7.\n",
            " 8. 8. 5. 8. 5. 1. 4. 0. 5. 2. 3. 7. 6. 8. 7. 3. 2. 5. 4. 2. 3. 9. 1. 3.\n",
            " 3. 8. 5. 8. 9. 1. 2. 5. 1. 4. 2. 5. 3. 0. 2. 8. 4. 5. 8. 2. 9. 0. 8. 1.\n",
            " 7. 7. 9. 8. 7. 3. 4. 7. 3. 1. 3. 4. 4. 6. 8. 9. 7. 2. 8. 9. 7. 5. 1. 6.\n",
            " 6. 3. 2. 0. 3. 2. 1. 8. 9. 2. 0. 9. 4. 1. 2. 8. 9. 0. 5. 8. 1. 3. 2. 2.\n",
            " 5. 6. 3. 9. 8. 1. 4. 7. 5. 6. 9. 1. 6. 9. 4. 1. 4. 5. 5. 9. 0. 0. 0.]\n",
            "[1.         0.8        0.         0.         0.         0.\n",
            "        nan 0.         0.         0.75       0.         0.\n",
            " 0.         2.         0.         0.         0.         0.\n",
            " 0.         0.         0.                nan 0.         0.\n",
            " 0.         0.         0.         0.         2.         0.\n",
            " 2.         0.         0.         0.75       0.         0.\n",
            " 0.125      0.         0.         0.         0.         0.\n",
            "        nan 0.         0.         0.         0.         0.\n",
            " 0.8        0.         0.                inf 0.         0.\n",
            " 0.875      0.2        0.         0.         0.                nan\n",
            " 0.625      0.         0.         0.         0.         0.22222222\n",
            " 0.         0.         0.         0.         0.         0.\n",
            " 0.11111111 1.5               nan 0.         0.         0.5\n",
            "        nan        inf 0.         0.33333333 0.         0.\n",
            " 0.         0.         0.75       0.5        0.                nan\n",
            " 0.         0.         0.         0.         0.         0.\n",
            " 0.         0.         0.5        0.         0.         0.\n",
            " 0.         0.5        0.875      0.         0.         0.\n",
            " 0.         0.         0.         0.75       0.5        0.\n",
            " 0.         0.                nan 0.         0.         0.\n",
            " 0.         0.5        0.         0.         0.         0.\n",
            " 0.         0.         0.         0.                nan        nan\n",
            " 0.75       0.         0.         0.         0.         0.\n",
            " 0.         0.         0.66666667 0.875      0.11111111 0.\n",
            " 0.         0.         0.         0.         0.         0.\n",
            " 0.         0.         0.         0.16666667 0.         0.\n",
            " 0.         0.         0.66666667 0.         0.         0.\n",
            " 0.         0.                nan 0.         0.75       0.\n",
            " 0.                nan 0.         0.         0.         0.\n",
            " 0.                nan 0.         0.         0.         0.\n",
            " 0.         6.         0.75       0.                nan 0.\n",
            " 0.         0.         0.         0.         0.         0.\n",
            "        nan        nan 0.         0.         0.625      0.\n",
            " 0.         0.75       1.         0.         0.         0.\n",
            " 0.         0.         0.57142857 0.                nan        nan\n",
            " 0.         0.         0.         0.         0.                nan\n",
            "        nan 0.75       0.                nan 0.         0.\n",
            " 0.                nan        nan 0.         0.         0.\n",
            " 0.         0.         0.         0.         0.         0.\n",
            " 0.         0.         0.         0.         0.         0.\n",
            " 0.         0.33333333 0.         0.         0.         0.5\n",
            " 0.         0.625      0.         0.         4.         0.\n",
            " 0.         0.         0.         0.         6.         0.\n",
            " 0.         0.         0.85714286 0.         1.33333333 0.\n",
            "        nan 0.25       0.33333333        nan 0.         0.\n",
            "        nan 0.66666667 0.         0.         0.         0.4\n",
            " 0.                nan 0.         0.5        0.         0.\n",
            " 0.         0.         0.         0.         0.         0.\n",
            " 0.         0.         0.         0.         0.                nan\n",
            "        nan 0.11111111 0.5        0.57142857 0.         0.2\n",
            " 0.         0.         0.         0.         0.         0.\n",
            " 0.         0.         0.         0.8        1.33333333 0.\n",
            " 0.125      0.66666667 0.         0.         0.         0.\n",
            " 1.         0.         0.75              nan 0.2        0.\n",
            " 0.         0.         0.6               nan 0.         0.\n",
            " 0.         0.         0.         0.5        0.         0.\n",
            " 0.         0.         0.14285714 0.         0.5        0.875\n",
            " 0.         0.         0.         0.         0.         0.\n",
            " 0.         0.         0.         0.         0.         0.\n",
            " 0.         0.         0.6        0.         0.         0.\n",
            " 0.         0.         0.         0.5        0.         0.\n",
            " 0.         0.         0.         0.         0.         0.\n",
            " 0.         0.         0.         0.         0.         1.\n",
            " 0.44444444 0.         0.         0.         0.         0.\n",
            " 0.         8.         0.         0.14285714 0.         0.\n",
            " 0.         0.42857143        nan 0.         0.57142857 0.\n",
            " 0.         0.                nan 0.         0.75       0.\n",
            " 0.         0.                inf 0.         0.         0.33333333\n",
            " 0.         0.         0.42857143 0.         0.                inf\n",
            " 0.         0.         0.         0.         0.         0.\n",
            " 0.         0.         0.         0.                inf 0.\n",
            " 1.         0.         0.         0.         0.44444444 0.\n",
            " 0.         0.         0.         0.         0.         0.44444444\n",
            " 0.         0.         0.         0.         1.5        0.\n",
            " 0.         0.         0.         0.         1.         0.\n",
            " 0.         0.         0.         0.         0.         0.\n",
            "        nan        nan 0.66666667 0.         0.85714286 0.\n",
            " 0.         0.         0.                nan 0.                nan\n",
            " 0.         0.         0.         0.         1.66666667 0.\n",
            " 0.         0.4        0.                nan 0.         0.\n",
            " 0.14285714 0.         0.         0.         0.         0.\n",
            " 0.5               nan 0.         0.         0.625      0.\n",
            " 0.         0.14285714 0.         0.         0.         0.16666667\n",
            " 0.         0.         0.625      2.         0.         0.\n",
            " 0.5        0.         0.         0.         0.         0.\n",
            " 0.         0.         0.         0.         0.         0.66666667\n",
            " 0.         1.         0.         0.         0.55555556 0.\n",
            " 0.         0.         0.                nan 0.         0.88888889\n",
            " 0.125      0.         0.         0.         0.         0.\n",
            " 0.         0.         0.         0.         0.         0.\n",
            " 0.         0.         0.         0.         0.         0.\n",
            " 0.         0.8        0.         0.         0.         0.\n",
            " 0.         0.25       1.                nan 0.         0.\n",
            " 0.         0.11111111 0.         0.                nan 0.\n",
            " 0.         0.         0.         1.66666667 0.125             nan\n",
            " 4.         0.         0.         0.         1.         0.6\n",
            " 0.         0.         0.4        0.         0.         0.\n",
            " 0.55555556 0.         0.         0.         0.         0.\n",
            " 0.         0.         0.         0.         0.55555556 0.66666667\n",
            " 0.         0.8               nan        nan        nan]\n"
          ]
        },
        {
          "output_type": "stream",
          "name": "stderr",
          "text": [
            "/usr/local/lib/python3.7/dist-packages/ipykernel_launcher.py:8: RuntimeWarning: divide by zero encountered in true_divide\n",
            "  \n",
            "/usr/local/lib/python3.7/dist-packages/ipykernel_launcher.py:8: RuntimeWarning: invalid value encountered in true_divide\n",
            "  \n"
          ]
        },
        {
          "output_type": "execute_result",
          "data": {
            "text/plain": [
              "0.5722398312324564"
            ]
          },
          "metadata": {},
          "execution_count": 49
        }
      ]
    },
    {
      "cell_type": "code",
      "source": [
        "# 使用随机森林算法拟合\n",
        "from sklearn.ensemble import RandomForestRegressor\n",
        "\n",
        "rfreg = RandomForestRegressor()\n",
        "rfreg.fit(X_train,y_train)\n",
        "\n",
        "print(rfreg.predict(X_test))\n",
        "print(np.abs(rfreg.predict(X_test)/y_test-1))\n",
        "rfreg.score(X_test,y_test)"
      ],
      "metadata": {
        "colab": {
          "base_uri": "https://localhost:8080/"
        },
        "id": "DZK7-_vjhRDe",
        "outputId": "d0e3a41e-6764-4431-c5f1-f0480f7e6c1f"
      },
      "execution_count": null,
      "outputs": [
        {
          "output_type": "stream",
          "name": "stdout",
          "text": [
            "[2.15 5.9  2.   5.12 7.88 6.51 0.   1.46 2.09 5.05 5.78 5.78 2.58 2.42\n",
            " 5.87 7.01 6.96 2.69 7.93 3.13 3.2  0.11 8.34 8.69 6.54 5.93 8.82 4.82\n",
            " 4.2  5.92 2.99 4.65 3.37 7.32 4.33 1.   6.87 7.99 7.01 4.2  2.27 5.03\n",
            " 0.04 5.86 3.72 3.55 4.33 8.44 4.82 5.98 6.54 5.66 4.17 3.4  3.85 5.33\n",
            " 2.14 6.5  6.   0.   7.26 4.89 5.68 3.82 4.93 7.91 6.03 6.94 4.75 6.\n",
            " 6.59 6.3  6.51 3.66 0.24 2.37 2.   5.94 0.1  3.14 6.39 5.45 2.03 2.22\n",
            " 3.12 8.96 7.4  4.34 1.39 0.   4.52 5.81 1.41 7.46 5.97 4.22 5.95 4.31\n",
            " 2.53 5.16 8.64 4.08 2.11 2.8  3.65 3.28 6.7  4.22 2.55 2.35 7.45 5.91\n",
            " 4.59 8.96 6.44 4.99 0.03 3.53 3.46 7.66 5.07 5.56 1.77 4.08 4.12 1.48\n",
            " 5.8  6.48 1.87 3.27 0.06 0.56 4.81 5.94 5.04 8.47 7.7  2.21 5.43 1.1\n",
            " 7.42 3.33 8.41 6.27 2.38 2.3  3.34 3.12 6.02 3.48 6.   5.91 2.07 5.6\n",
            " 6.76 4.58 4.31 8.74 4.16 5.04 3.58 3.65 4.42 2.58 0.16 5.73 6.44 3.94\n",
            " 1.43 1.29 4.07 1.7  2.05 3.05 6.94 0.   6.   7.71 3.11 7.57 5.63 3.15\n",
            " 5.89 2.36 0.   7.85 3.08 2.94 6.72 4.39 8.1  7.04 0.26 0.   2.33 7.\n",
            " 5.29 5.74 4.99 4.89 2.12 7.28 4.95 2.89 3.36 4.89 5.98 4.03 0.   0.\n",
            " 5.95 1.47 3.38 1.9  4.35 0.04 0.08 7.   4.82 0.   5.2  7.3  5.33 0.19\n",
            " 0.04 7.05 5.96 1.05 2.35 4.16 1.13 8.56 9.   7.33 2.01 4.09 6.1  5.4\n",
            " 3.31 6.   3.65 4.28 6.82 4.8  2.06 6.12 3.77 5.88 3.18 6.7  2.98 4.13\n",
            " 8.91 2.47 6.   8.   2.8  4.18 3.21 1.98 6.33 8.93 4.01 4.92 0.05 4.31\n",
            " 6.24 0.   4.33 7.72 0.06 4.71 3.89 7.05 4.98 5.07 8.75 0.33 1.51 3.84\n",
            " 4.12 3.6  5.84 6.93 1.   6.06 3.06 2.02 4.95 7.1  4.89 5.04 4.86 0.31\n",
            " 0.39 8.19 4.2  6.58 4.31 4.86 3.28 4.23 5.01 2.06 5.97 3.51 1.61 6.74\n",
            " 4.12 6.09 3.79 1.26 6.21 5.31 3.   2.09 1.98 8.63 1.73 1.53 6.21 0.95\n",
            " 4.73 4.02 3.28 5.07 6.11 0.28 3.18 3.49 5.   5.85 4.87 3.01 6.72 3.55\n",
            " 3.84 7.13 6.55 6.45 6.73 4.35 2.13 3.39 3.86 1.07 4.87 7.08 3.58 5.69\n",
            " 8.33 4.13 6.93 2.01 4.91 8.92 5.92 2.71 4.74 6.98 6.5  1.09 5.94 4.15\n",
            " 4.98 5.79 4.93 1.96 2.69 1.88 8.6  3.83 2.28 3.98 1.89 5.84 5.34 1.56\n",
            " 8.25 7.05 2.2  6.94 5.94 6.83 5.63 5.3  5.41 7.33 6.61 5.87 4.79 6.27\n",
            " 0.   2.11 4.69 4.05 2.99 4.02 0.04 5.68 4.68 6.33 5.38 3.63 3.5  2.04\n",
            " 4.04 3.42 3.17 7.86 5.53 6.81 6.55 3.37 6.61 8.8  6.96 1.31 4.46 4.9\n",
            " 6.09 7.45 3.83 6.82 5.72 2.03 4.15 3.32 7.42 6.34 7.6  5.9  7.48 2.78\n",
            " 6.01 2.91 2.99 7.93 5.   4.   4.78 4.91 2.38 4.18 5.   3.23 6.61 6.39\n",
            " 6.13 9.   1.4  7.05 3.09 4.05 1.72 6.53 0.13 0.   6.55 4.04 6.63 7.84\n",
            " 6.56 2.82 3.8  0.   2.46 0.   4.09 5.81 3.9  3.92 5.1  3.76 6.32 4.74\n",
            " 4.19 0.16 5.99 6.47 7.   7.53 5.   6.55 5.27 2.3  6.54 0.34 4.98 2.44\n",
            " 6.9  6.91 5.73 6.52 6.88 3.28 2.11 4.46 4.12 2.01 5.14 4.1  1.77 3.74\n",
            " 2.79 6.65 4.92 5.85 8.64 1.65 2.   4.97 1.81 3.75 2.09 3.86 3.9  3.39\n",
            " 2.62 7.91 5.85 5.05 7.88 2.47 8.34 0.19 5.45 5.73 7.02 6.73 8.64 6.41\n",
            " 6.48 5.19 4.   6.41 3.32 1.11 4.15 3.88 4.3  6.05 5.17 8.41 6.74 2.13\n",
            " 7.   5.86 7.04 4.94 2.21 6.   5.31 4.04 1.84 0.23 3.29 3.   3.82 8.47\n",
            " 8.88 2.13 0.09 9.   4.75 1.15 3.88 5.04 8.34 0.7  3.99 7.44 1.   3.82\n",
            " 1.7  4.82 4.94 5.18 4.71 8.76 7.52 2.46 7.26 6.67 5.02 5.91 5.71 1.54\n",
            " 5.31 8.56 4.13 1.18 6.95 3.81 4.04 4.86 0.28 0.   0.  ]\n",
            "[1.15000000e+00 1.80000000e-01 0.00000000e+00 2.40000000e-02\n",
            " 1.50000000e-02 1.86250000e-01            nan 4.60000000e-01\n",
            " 4.50000000e-02 3.68750000e-01 1.74285714e-01 3.66666667e-02\n",
            " 1.58000000e+00 1.42000000e+00 2.16666667e-02 1.42857143e-03\n",
            " 5.71428571e-03 3.45000000e-01 8.75000000e-03 4.33333333e-02\n",
            " 6.66666667e-02            inf 7.33333333e-02 3.44444444e-02\n",
            " 6.57142857e-02 1.16666667e-02 2.00000000e-02 3.60000000e-02\n",
            " 4.00000000e-01 1.33333333e-02 1.99000000e+00 1.62500000e-01\n",
            " 1.23333333e-01 8.50000000e-02 1.34000000e-01 0.00000000e+00\n",
            " 1.41250000e-01 1.12222222e-01 1.42857143e-03 5.00000000e-02\n",
            " 1.35000000e-01 6.00000000e-03            inf 2.33333333e-02\n",
            " 7.00000000e-02 1.83333333e-01 8.25000000e-02 6.22222222e-02\n",
            " 3.60000000e-02 3.33333333e-03 3.08000000e-01            inf\n",
            " 4.25000000e-02 7.00000000e-01 5.18750000e-01 6.60000000e-02\n",
            " 7.00000000e-02 1.87500000e-01 0.00000000e+00            nan\n",
            " 9.25000000e-02 2.20000000e-02 5.33333333e-02 4.50000000e-02\n",
            " 1.40000000e-02 1.21111111e-01 5.00000000e-03 1.32500000e-01\n",
            " 2.08333333e-01 0.00000000e+00 1.76250000e-01 1.00000000e-01\n",
            " 2.76666667e-01 8.30000000e-01            inf 1.85000000e-01\n",
            " 0.00000000e+00 1.00000000e-02            inf            inf\n",
            " 8.71428571e-02 9.16666667e-02 1.50000000e-02 1.22000000e+00\n",
            " 2.20000000e-01 4.44444444e-03 7.50000000e-02 8.50000000e-02\n",
            " 3.90000000e-01            nan 1.30000000e-01 3.16666667e-02\n",
            " 4.10000000e-01 6.75000000e-02 1.47142857e-01 5.50000000e-02\n",
            " 8.33333333e-03 7.75000000e-02 2.65000000e-01 3.20000000e-02\n",
            " 4.00000000e-02 2.00000000e-02 5.50000000e-02 4.00000000e-01\n",
            " 5.43750000e-01 6.40000000e-01 4.28571429e-02 5.50000000e-02\n",
            " 2.75000000e-01 1.75000000e-01 1.72222222e-01 4.77500000e-01\n",
            " 1.47500000e-01 4.44444444e-03 8.00000000e-02 2.00000000e-03\n",
            "            inf 1.17500000e-01 1.53333333e-01 1.48888889e-01\n",
            " 1.40000000e-02 7.33333333e-02 7.70000000e-01 2.00000000e-02\n",
            " 4.85000000e-01 4.80000000e-01 3.33333333e-02 7.42857143e-02\n",
            " 8.70000000e-01 9.00000000e-02            inf            inf\n",
            " 2.02500000e-01 1.00000000e-02 8.00000000e-03 5.88888889e-02\n",
            " 3.75000000e-02 1.05000000e-01 8.60000000e-02 1.00000000e-01\n",
            " 1.75555556e-01 5.83750000e-01 6.55555556e-02 2.16250000e-01\n",
            " 1.38000000e+00 1.30000000e+00 6.70000000e-01 4.00000000e-02\n",
            " 3.33333333e-03 7.40000000e-01 0.00000000e+00 1.50000000e-02\n",
            " 3.50000000e-02 6.66666667e-02 3.42857143e-02 1.45000000e-01\n",
            " 4.36666667e-01 2.88888889e-02 3.86666667e-01 8.00000000e-03\n",
            " 1.93333333e-01 2.16666667e-01 1.05000000e-01 2.90000000e-01\n",
            "            inf 4.50000000e-02 1.95000000e-01 3.13333333e-01\n",
            " 4.30000000e-01            inf 1.75000000e-02 7.00000000e-01\n",
            " 1.05000000e+00 1.66666667e-02 8.57142857e-03            nan\n",
            " 0.00000000e+00 3.62500000e-02 3.66666667e-02 5.37500000e-02\n",
            " 6.16666667e-02 2.15000000e+00 4.72500000e-01 1.80000000e-01\n",
            "            nan 1.87500000e-02 2.66666667e-02 4.70000000e-01\n",
            " 4.00000000e-02 1.19500000e+00 1.00000000e-01 5.71428571e-03\n",
            "            inf            nan 1.33000000e+00 0.00000000e+00\n",
            " 3.38750000e-01 4.33333333e-02 2.00000000e-03 2.22500000e-01\n",
            " 1.12000000e+00 9.00000000e-02 4.50000000e-01 3.66666667e-02\n",
            " 1.20000000e-01 2.22500000e-01 1.45714286e-01 7.50000000e-03\n",
            "            nan            nan 8.33333333e-03 4.70000000e-01\n",
            " 1.26666667e-01 9.00000000e-01 8.75000000e-02            inf\n",
            "            inf 1.25000000e-01 2.05000000e-01            nan\n",
            " 4.00000000e-02 8.75000000e-02 1.11666667e-01            inf\n",
            "            inf 7.14285714e-03 6.66666667e-03 5.00000000e-02\n",
            " 1.35000000e+00 4.00000000e-02 1.30000000e-01 4.88888889e-02\n",
            " 0.00000000e+00 8.37500000e-02 5.00000000e-03 2.25000000e-02\n",
            " 2.20000000e-01 1.00000000e-01 1.03333333e-01 0.00000000e+00\n",
            " 2.16666667e-01 4.26666667e-01 2.42222222e-01 4.00000000e-02\n",
            " 3.00000000e-02 2.00000000e-02 2.77000000e+00 2.65000000e-01\n",
            " 5.90000000e-01 1.62500000e-01 1.98000000e+00 1.06500000e+00\n",
            " 1.00000000e-02 2.35000000e-01 0.00000000e+00 0.00000000e+00\n",
            " 1.80000000e+00 4.50000000e-02 7.00000000e-02 1.00000000e-02\n",
            " 9.57142857e-02 7.77777778e-03 3.36666667e-01 1.60000000e-02\n",
            "            inf 7.75000000e-02 4.00000000e-02            nan\n",
            " 8.25000000e-02 1.42222222e-01            inf 4.76666667e-01\n",
            " 2.89000000e+00 1.18750000e-01 4.00000000e-03 1.40000000e-02\n",
            " 2.77777778e-02            inf 5.10000000e-01 4.00000000e-02\n",
            " 3.00000000e-02 8.00000000e-01 2.66666667e-02 1.00000000e-02\n",
            " 0.00000000e+00 1.00000000e-02 2.00000000e-02 1.00000000e-02\n",
            " 1.00000000e-02 2.11111111e-01 2.20000000e-02 8.00000000e-03\n",
            " 2.80000000e-02            inf            inf 9.00000000e-02\n",
            " 4.75000000e-01 6.00000000e-02 1.15500000e+00 2.80000000e-02\n",
            " 9.33333333e-02 5.75000000e-02 2.00000000e-03 3.00000000e-02\n",
            " 5.00000000e-03 1.70000000e-01 6.10000000e-01 3.71428571e-02\n",
            " 3.00000000e-02 2.18000000e-01 2.63333333e-01 2.60000000e-01\n",
            " 2.23750000e-01 4.10000000e-01 5.00000000e-01 4.50000000e-02\n",
            " 1.00000000e-02 4.11111111e-02 7.30000000e-01 5.30000000e-01\n",
            " 2.23750000e-01            inf 5.40000000e-02 3.40000000e-01\n",
            " 9.33333333e-02 3.66250000e-01 2.22000000e-01            inf\n",
            " 6.00000000e-02 1.63333333e-01 0.00000000e+00 2.50000000e-02\n",
            " 6.23333333e-01 5.05000000e-01 1.60000000e-01 1.83333333e-01\n",
            " 2.80000000e-01 1.85714286e-02 6.42857143e-02 7.85714286e-02\n",
            " 1.58750000e-01 4.56250000e-01 1.13000000e+00 1.30000000e-01\n",
            " 3.50000000e-02 7.00000000e-02 2.60000000e-02 1.14285714e-02\n",
            " 1.93333333e-01 2.88750000e-01 7.44444444e-02 3.25000000e-02\n",
            " 1.00000000e-02 5.00000000e-03 1.80000000e-02 8.88888889e-03\n",
            " 1.84000000e-01 1.71000000e+00 1.85000000e-01 2.85714286e-03\n",
            " 7.14285714e-02 9.00000000e-02 1.00000000e-02 3.75000000e-02\n",
            " 4.00000000e-03 3.50000000e-02 1.40000000e-02 9.60000000e-01\n",
            " 1.69000000e+00 8.80000000e-01 4.44444444e-02 9.15000000e-01\n",
            " 1.40000000e-01 5.00000000e-03 8.90000000e-01 2.66666667e-02\n",
            " 6.80000000e-02 5.60000000e-01 8.33333333e-02 7.14285714e-03\n",
            " 1.00000000e-01 2.28888889e-01 1.00000000e-02 2.41111111e-01\n",
            " 6.16666667e-02 4.30000000e+00 9.83333333e-02 4.71428571e-02\n",
            " 5.57142857e-02 2.16666667e-02 4.20000000e-02 1.04285714e-01\n",
            "            nan 5.50000000e-02 3.30000000e-01 1.25000000e-02\n",
            " 3.33333333e-03 5.00000000e-03            inf 5.33333333e-02\n",
            " 1.70000000e-01 9.57142857e-02 7.60000000e-02 2.10000000e-01\n",
            "            inf 2.00000000e-02 1.00000000e-02 4.30000000e-01\n",
            " 5.66666667e-02 1.75000000e-02 2.10000000e-01 2.71428571e-02\n",
            " 1.81250000e-01            inf 5.57142857e-02 2.22222222e-02\n",
            " 5.71428571e-03 3.10000000e-01 1.15000000e-01 2.00000000e-02\n",
            " 2.38750000e-01 1.72222222e-01 9.15000000e-01 2.57142857e-02\n",
            "            inf 1.50000000e-02 3.08333333e-01 1.06666667e-01\n",
            " 7.25000000e-02 2.07500000e-01 1.55555556e-01 1.80000000e-01\n",
            " 6.50000000e-02 1.78000000e+00 1.66666667e-03 1.91000000e+00\n",
            " 3.33333333e-03 1.18888889e-01 0.00000000e+00 0.00000000e+00\n",
            " 4.40000000e-02 1.80000000e-02 1.90000000e-01 4.50000000e-02\n",
            " 0.00000000e+00 7.66666667e-02 5.57142857e-02 6.50000000e-02\n",
            " 2.26000000e-01 0.00000000e+00 4.00000000e-01 1.18750000e-01\n",
            " 3.00000000e-02 1.25000000e-02 7.20000000e-01 8.83333333e-02\n",
            "            inf            nan 2.72222222e-01 1.00000000e-02\n",
            " 5.28571429e-02 2.00000000e-02 6.28571429e-02 2.95000000e-01\n",
            " 5.00000000e-02            nan 1.46000000e+00            nan\n",
            " 3.63333333e-01 3.16666667e-02 3.00000000e-01 3.06666667e-01\n",
            " 7.00000000e-01 2.53333333e-01 5.33333333e-02 5.20000000e-02\n",
            " 4.75000000e-02            inf 1.66666667e-03 7.57142857e-02\n",
            " 0.00000000e+00 5.87500000e-02 0.00000000e+00 1.81250000e-01\n",
            " 5.40000000e-02 1.30000000e+00 1.82500000e-01            inf\n",
            " 4.00000000e-03 2.20000000e-01 1.37500000e-01 1.28571429e-02\n",
            " 4.50000000e-02 6.85714286e-02 1.71428571e-02 9.33333333e-02\n",
            " 5.50000000e-02 2.56666667e-01 3.00000000e-02 5.00000000e-03\n",
            " 3.57500000e-01 3.66666667e-01 7.70000000e-01 2.46666667e-01\n",
            " 3.95000000e-01 1.68750000e-01 1.60000000e-02 2.68750000e-01\n",
            " 4.00000000e-02 6.50000000e-01 0.00000000e+00 6.00000000e-03\n",
            " 8.10000000e-01 6.25000000e-02 4.50000000e-02 2.86666667e-01\n",
            " 3.00000000e-01 4.35000000e-01 3.10000000e-01 1.12500000e-02\n",
            " 3.50000000e-01 1.00000000e-02 1.50000000e-02 2.35000000e-01\n",
            " 7.33333333e-02            inf 3.18750000e-01 3.63333333e-01\n",
            " 1.22500000e-01 3.85714286e-02 4.00000000e-02 1.98750000e-01\n",
            " 7.42857143e-02 7.30000000e-01 0.00000000e+00 8.42857143e-02\n",
            " 1.06666667e-01 1.10000000e-01 3.83333333e-01 3.00000000e-02\n",
            " 7.50000000e-02 8.33333333e-03 3.53750000e-01 6.55555556e-02\n",
            " 3.71428571e-02 6.50000000e-02 1.25000000e-01 1.72000000e-01\n",
            " 5.71428571e-03 1.20000000e-02 1.21000000e+00 0.00000000e+00\n",
            " 1.15000000e-01 1.00000000e-02 8.40000000e-01            inf\n",
            " 9.66666667e-02 5.00000000e-01 2.82000000e+00 5.88888889e-02\n",
            " 1.33333333e-02 6.50000000e-02            inf 0.00000000e+00\n",
            " 1.87500000e-01 1.50000000e-01 9.40000000e-01 6.80000000e-01\n",
            " 4.25000000e-02            inf 2.99000000e+00 7.00000000e-02\n",
            " 0.00000000e+00 2.73333333e-01 7.00000000e-01 3.60000000e-02\n",
            " 1.20000000e-02 1.36666667e-01 5.80000000e-02 2.66666667e-02\n",
            " 6.00000000e-02 1.46000000e+00 1.93333333e-01 4.71428571e-02\n",
            " 4.00000000e-03 1.50000000e-02 3.65555556e-01 5.40000000e-01\n",
            " 1.15000000e-01 4.88888889e-02 3.25000000e-02 1.80000000e-01\n",
            " 2.27777778e-01 2.70000000e-01 1.92000000e-01 2.80000000e-02\n",
            "            inf            nan            nan]\n"
          ]
        },
        {
          "output_type": "stream",
          "name": "stderr",
          "text": [
            "/usr/local/lib/python3.7/dist-packages/ipykernel_launcher.py:8: RuntimeWarning: divide by zero encountered in true_divide\n",
            "  \n",
            "/usr/local/lib/python3.7/dist-packages/ipykernel_launcher.py:8: RuntimeWarning: invalid value encountered in true_divide\n",
            "  \n"
          ]
        },
        {
          "output_type": "execute_result",
          "data": {
            "text/plain": [
              "0.8454864059487073"
            ]
          },
          "metadata": {},
          "execution_count": 50
        }
      ]
    },
    {
      "cell_type": "code",
      "source": [
        "# 按照指引使用LassoCV回归\n",
        "from sklearn.linear_model import LassoCV\n",
        "\n",
        "lareg = LassoCV()\n",
        "lareg.fit(X_train,y_train)\n",
        "lareg.predict(X_test)\n",
        "lareg.score(X_test,y_test)"
      ],
      "metadata": {
        "colab": {
          "base_uri": "https://localhost:8080/"
        },
        "id": "CBfJiJXehyng",
        "outputId": "ab79135f-a0d9-4623-e65c-491b1eca852a"
      },
      "execution_count": null,
      "outputs": [
        {
          "output_type": "execute_result",
          "data": {
            "text/plain": [
              "0.5502575097505176"
            ]
          },
          "metadata": {},
          "execution_count": 51
        }
      ]
    },
    {
      "cell_type": "code",
      "source": [
        "# 按照指引使用ElasticNetCV回归\n",
        "\n",
        "from sklearn.linear_model import ElasticNetCV\n",
        "\n",
        "netreg = ElasticNetCV()\n",
        "netreg.fit(X_train,y_train)\n",
        "netreg.predict(X_test)\n",
        "netreg.score(X_test,y_test)"
      ],
      "metadata": {
        "colab": {
          "base_uri": "https://localhost:8080/"
        },
        "id": "mGJ1yWgtiRmx",
        "outputId": "a736f097-f523-4b28-8133-1a8d0bf18a62"
      },
      "execution_count": null,
      "outputs": [
        {
          "output_type": "execute_result",
          "data": {
            "text/plain": [
              "0.5508336069813876"
            ]
          },
          "metadata": {},
          "execution_count": 52
        }
      ]
    },
    {
      "cell_type": "code",
      "source": [
        "# 尝试RidgeCV\n",
        "from sklearn.linear_model import RidgeCV\n",
        "\n",
        "rgreg = RidgeCV()\n",
        "rgreg.fit(X_train,y_train)\n",
        "rgreg.predict(X_test)\n",
        "rgreg.score(X_test,y_test)"
      ],
      "metadata": {
        "colab": {
          "base_uri": "https://localhost:8080/"
        },
        "id": "SrhdffrTirtn",
        "outputId": "7ac4f59e-899c-442a-edb5-2e9505d759f2"
      },
      "execution_count": null,
      "outputs": [
        {
          "output_type": "execute_result",
          "data": {
            "text/plain": [
              "0.5516752025039224"
            ]
          },
          "metadata": {},
          "execution_count": 53
        }
      ]
    },
    {
      "cell_type": "code",
      "source": [
        "#尝试SVR\n",
        "from sklearn.svm import SVR\n",
        "\n",
        "svr = SVR(kernel='linear',C=1000)\n",
        "svr.fit(X_train,y_train)\n",
        "svr.predict(X_test)\n",
        "svr.score(X_test,y_test)"
      ],
      "metadata": {
        "id": "Jm57XLBSjGrc"
      },
      "execution_count": null,
      "outputs": []
    },
    {
      "cell_type": "markdown",
      "source": [
        "### 三, 聚类模型的训练\n",
        "\n",
        "KMeans算法的基本思想如下:\n",
        "随机选择K个点作为初始质心\n",
        "While簇发生变化或小于最大迭代数:\n",
        "将每个点指派到最近的质心, 形成K个簇\n",
        "重新计算每个簇的质心"
      ],
      "metadata": {
        "id": "_m1NjIlIjgvC"
      }
    },
    {
      "cell_type": "code",
      "source": [
        "# 生成数据 make_blobs\n",
        "import pandas as pd\n",
        "import numpy as np\n",
        "%matplotlib inline\n",
        "import matplotlib.pyplot as plt\n",
        "from sklearn.datasets import make_blobs\n",
        "center = [[1,1],[-1,-1],[1,-1]]\n",
        "cluster_std = 0.3\n",
        "X,labels = make_blobs(n_samples=200,centers=center,n_features=2,\n",
        "                     cluster_std=cluster_std,random_state=0)\n",
        "print('X.shape',X.shape)\n",
        "print(\"labels\",set(labels))\n",
        "\n",
        "df = pd.DataFrame(np.c_[X,labels],columns=['feature1','feature2','labels'])\n",
        "df['labels']=df['labels'].astype('i2')\n",
        "\n",
        "#mycolormap = matplotlib.colors.ListedColormap(['red','cyan','magenta'],N=3)\n",
        "#matplotlib常用colormap:'jet','rainbow','hsv'\n",
        "df.plot.scatter('feature1','feature2',s=100,\n",
        "                c=list(df['labels']),cmap='rainbow',colorbar=False,\n",
        "                alpha=0.8,title='dataset by make_blobs')\n"
      ],
      "metadata": {
        "colab": {
          "base_uri": "https://localhost:8080/",
          "height": 347
        },
        "id": "jE-Ey3Fmje2D",
        "outputId": "e1fd39b5-1d46-4b9d-830e-6817d62cfda4"
      },
      "execution_count": null,
      "outputs": [
        {
          "output_type": "stream",
          "name": "stdout",
          "text": [
            "X.shape (200, 2)\n",
            "labels {0, 1, 2}\n"
          ]
        },
        {
          "output_type": "execute_result",
          "data": {
            "text/plain": [
              "<matplotlib.axes._subplots.AxesSubplot at 0x7f95c509ea50>"
            ]
          },
          "metadata": {},
          "execution_count": 10
        },
        {
          "output_type": "display_data",
          "data": {
            "text/plain": [
              "<Figure size 432x288 with 1 Axes>"
            ],
            "image/png": "[encoded data removed]"
          },
          "metadata": {
            "needs_background": "light"
          }
        }
      ]
    },
    {
      "cell_type": "code",
      "source": [
        "# 使用kMeans算法寻找聚类中心并分类\n",
        "from sklearn.cluster import KMeans\n",
        "clt = KMeans(n_clusters=3)\n",
        "\n",
        "clt.fit(X)\n",
        "print(clt.predict(X))\n",
        "print(clt.cluster_centers_)\n"
      ],
      "metadata": {
        "colab": {
          "base_uri": "https://localhost:8080/"
        },
        "id": "7wYtMOJsc40w",
        "outputId": "469dcfec-2576-48ee-d872-853ac64bb86b"
      },
      "execution_count": null,
      "outputs": [
        {
          "output_type": "stream",
          "name": "stdout",
          "text": [
            "[0 2 0 1 1 0 0 2 2 0 2 2 2 0 2 2 0 2 1 2 2 0 0 1 2 0 1 1 0 0 1 1 1 0 1 2 1\n",
            " 2 2 0 0 0 0 1 2 1 2 1 0 1 1 0 2 0 1 1 2 2 0 1 2 2 1 0 2 0 0 1 0 2 2 1 1 2\n",
            " 2 0 2 1 0 0 2 0 1 2 2 2 0 1 0 0 2 1 1 1 0 2 0 1 0 1 0 0 1 0 2 1 2 2 0 2 1\n",
            " 2 2 2 1 2 0 0 2 1 2 0 1 2 1 1 1 0 1 0 1 0 1 2 2 0 1 1 0 2 1 0 1 2 2 2 0 1\n",
            " 1 1 0 0 2 2 0 0 1 2 1 1 0 1 0 1 2 2 0 2 0 1 0 1 2 1 0 2 1 0 0 2 2 1 1 1 1\n",
            " 2 1 2 1 0 0 0 0 1 2 2 0 1 0 2]\n",
            "[[ 1.01281413  1.06595402]\n",
            " [-1.03507066 -1.03233287]\n",
            " [ 0.95712283 -1.02057236]]\n"
          ]
        }
      ]
    },
    {
      "cell_type": "code",
      "source": [
        "centers = clt.cluster_centers_\n",
        "print(centers[:,0])\n",
        "print(centers[:,1])"
      ],
      "metadata": {
        "colab": {
          "base_uri": "https://localhost:8080/"
        },
        "id": "KBmS2fF9idlK",
        "outputId": "0a500cc1-f5ff-43cb-bce1-48fb9c684485"
      },
      "execution_count": null,
      "outputs": [
        {
          "output_type": "stream",
          "name": "stdout",
          "text": [
            "[ 1.01281413 -1.03507066  0.95712283]\n",
            "[ 1.06595402 -1.03233287 -1.02057236]\n"
          ]
        }
      ]
    },
    {
      "cell_type": "code",
      "source": [
        "fig = df.plot.scatter('feature1','feature2',s=100,\n",
        "                      c=list(df['labels']),cmap='rainbow',colorbar=False,\n",
        "                      alpha=0.4,title='dataset by make_blobs')\n",
        "center = clt.cluster_centers_\n",
        "fig.axes.scatter(x=center[:,0],y=center[:,1],facecolor='k',s=10)\n",
        "plt.show()"
      ],
      "metadata": {
        "colab": {
          "base_uri": "https://localhost:8080/",
          "height": 295
        },
        "id": "65G6OBviiya5",
        "outputId": "7b7c6079-2421-4d50-b8e5-68d8a355182d"
      },
      "execution_count": null,
      "outputs": [
        {
          "output_type": "display_data",
          "data": {
            "text/plain": [
              "<Figure size 432x288 with 1 Axes>"
            ],
            "image/png": "[encoded data removed]"
          },
          "metadata": {
            "needs_background": "light"
          }
        }
      ]
    },
    {
      "cell_type": "markdown",
      "source": [
        "### 四, 降维模型的训练\n",
        "PCA 主成分分析(Principal Components Analysis)是最常使用的降维算法,其基本思想如下:将原先的n个特征用数目更少的m个特征取代,新特征是旧特征的线性组合,这些先行组合最大化样本方差,从而保留样本尽可能多的信息,并且m个特征互不相关.\n",
        "\n",
        "用几何观点来看, PCA主成分分析方法可以看成通过正交变换,对坐标系进行旋转和平移,并保留样本点投影坐标方差最大的前几个新的坐标.\n",
        "\n",
        "通过PCA主成分分析, 可以帮助去除样本中的噪声信息,便于进一步做回归分析."
      ],
      "metadata": {
        "id": "q4agw-z8jq52"
      }
    },
    {
      "cell_type": "code",
      "source": [
        "import numpy as np \n",
        "import pandas as pd \n",
        "%matplotlib inline \n",
        "import matplotlib.pyplot as plt \n",
        "from sklearn import datasets\n",
        "boston = datasets.load_boston()"
      ],
      "metadata": {
        "id": "FGmEv79OmTiQ"
      },
      "execution_count": null,
      "outputs": []
    },
    {
      "cell_type": "code",
      "source": [
        "# 从样本数据中选出2/3作为训练集,1/3个作为测试集,并打乱数据集\n",
        "from sklearn.model_selection import train_test_split\n",
        "X_train,X_test,y_train,y_test = train_test_split(boston.data,boston.target,\n",
        "                                                 test_size=1/3,random_state=0)\n",
        "(len(X_train),len(X_test))\n",
        "\n",
        "# 特征极差标准化\n",
        "from sklearn import preprocessing\n",
        "scaler = preprocessing.MinMaxScaler(feature_range=(0,1))\n",
        "\n",
        "scaler.fit(X_train)\n",
        "X_train,X_test = scaler.transform(X_train),scaler.transform(X_test)"
      ],
      "metadata": {
        "id": "WMNSQJoCmkXF"
      },
      "execution_count": null,
      "outputs": []
    },
    {
      "cell_type": "code",
      "source": [
        "# 应用PCA进行降维\n",
        "\n",
        "from sklearn.decomposition import PCA\n",
        "pca = PCA(n_components=6)\n",
        "pca.fit(X_train)"
      ],
      "metadata": {
        "id": "qOS4-g81nfSJ"
      },
      "execution_count": null,
      "outputs": []
    },
    {
      "cell_type": "code",
      "source": [
        "pca.explained_variance_"
      ],
      "metadata": {
        "id": "q2kvrVyLoa5F"
      },
      "execution_count": null,
      "outputs": []
    },
    {
      "cell_type": "code",
      "source": [
        "import matplotlib.pyplot as plt \n",
        "plt.figure()\n",
        "plt.plot(pca.explained_variance_,'k',linewidth=2)\n",
        "plt.xlabel('components_n',fontsize=16)\n",
        "plt.ylabel('explained_variance_',fontsize=16)\n",
        "plt.show()"
      ],
      "metadata": {
        "id": "2YMDtod-oq6E"
      },
      "execution_count": null,
      "outputs": []
    },
    {
      "cell_type": "code",
      "source": [
        "X_train_pca,X_test_pca = pca.transform(X_train),pca.transform(X_test)\n",
        "\n",
        "#对降维后的数据进行回归分析\n",
        "from sklearn.linear_model import ElasticNetCV\n",
        "\n",
        "netreg = ElasticNetCV()\n",
        "netreg.fit(X_train_pca,y_train)\n",
        "netreg.predict(X_test_pca)\n",
        "netreg.score(X_test_pca,y_test)"
      ],
      "metadata": {
        "id": "6HqgRpCppGP0"
      },
      "execution_count": null,
      "outputs": []
    },
    {
      "cell_type": "markdown",
      "source": [
        "### 五, 管道Pipeline的训练\n",
        "使用管道可以减少训练步骤\n",
        "\n",
        "有时候,我们可以用管道Pipeline把多个估计器estimator串联起来一次性训练数据.\n",
        "\n",
        "管道的原理是吧上一级估计器的输出作为下一级估计器的输入,相当于一条数据流水线.\n",
        "\n",
        "例如下面常用的管道有三级,第一级进行数据预处理,第二级完成数据降维,第三级实现分类,回归或聚类功能.\n",
        "\n",
        "管道中除最后一个之外的所有estimators都必须是变换器(transformers),最后一个estimator可以是任意类型(transformer,classifier,regresser)\n",
        "\n",
        "管道本身可以看成一个超级estimator,可用GridSearchCV等方式进行超参数优化.\n"
      ],
      "metadata": {
        "id": "SK2jkGUPpqch"
      }
    },
    {
      "cell_type": "code",
      "source": [
        "# 将boston房价问题的数据 预处理,数据降维和回归分析过程构建成管道\n",
        "\n",
        "from sklearn import datasets\n",
        "from sklearn.model_selection import train_test_split\n",
        "from sklearn import preprocessing\n",
        "from sklearn.decomposition import PCA\n",
        "from sklearn.linear_model import ElasticNetCV\n",
        "from sklearn.pipeline import Pipeline\n",
        "\n",
        "boston = datasets.load_boston()\n",
        "X_train,X_test,y_train,y_test = train_test_split(boston.data,boston.target,test_size=1/3,\n",
        "                                                 random_state=0)\n",
        "# 构建管道,使用make_pipeline函数可以更便捷地构建管道\n",
        "pipe = Pipeline([('scaler',preprocessing.MinMaxScaler()),('pca',PCA()),('net',ElasticNetCV())])\n",
        "# 可以在管道定义时设置参数,也可以统一设置参数,注意参数的名字的调整方式\n",
        "pipe.set_params(scaler__feature_range = (0,1),pca__n_components=6)\n",
        "\n",
        "# 用数据fit管道\n",
        "pipe.fit(X_train,y_train)\n",
        "# 使用管道进行预测\n",
        "print(pipe.predict(X_test))\n",
        "# 查看参数\n",
        "print(pipe.get_params())\n",
        "# 查看模型在训练集的得分\n",
        "print(pipe.score(X_train,y_train))\n",
        "\n",
        "# 查看模型在测试集的得分\n",
        "pipe.score(X_test,y_test)"
      ],
      "metadata": {
        "id": "hggeeaywr1lS"
      },
      "execution_count": null,
      "outputs": []
    },
    {
      "cell_type": "markdown",
      "source": [
        "### 六, 使用特征联合FeatureUnion\n",
        "\n",
        "Pipeline是estimator的串联,而FeatureUnion则是estimator的并联. 但是FeatureUnion并联的只能transformer转换器.\n",
        "\n",
        "FeatureUnion合并了多个转换器对象形成一个新的转换器,该转换器合并了他们的输出.输出的样本向量被横向连接成更长的向量.\n",
        "\n",
        "可以结合FeatureUnion和Pipeline来创建更加复杂的模型."
      ],
      "metadata": {
        "id": "CU8ttT-Kw17h"
      }
    },
    {
      "cell_type": "code",
      "source": [
        "from sklearn import datasets \n",
        "from sklearn.pipeline import FeatureUnion\n",
        "from sklearn.decomposition import PCA \n",
        "from sklearn.decomposition import KernelPCA\n",
        "boston = datasets.load_boston()\n",
        "\n",
        "united = FeatureUnion([('linear_pca',PCA(n_components=3),\n",
        "                        ('kernel_pca',KernelPCA(n_components=5))])\n",
        "\n",
        "united.fit_transform(boston.data).shape"
      ],
      "metadata": {
        "id": "CIuOiT5kxjUY"
      },
      "execution_count": null,
      "outputs": []
    },
    {
      "cell_type": "markdown",
      "source": [
        "## 模型的评估\n",
        "\n",
        "除了使用estimator的score函数简单粗略地评估模型的质量之外,\n",
        "在sklearn.metrics模块针对不同的问题类型提供了各种评估指标并且可以创建用户自定义评估指标,\n",
        "使用sklearn.model_selection模块中的交叉验证相关方法可以评估模型的泛化能力,能够有效避免过度拟合."
      ],
      "metadata": {
        "id": "vQkICXOSxi9l"
      }
    },
    {
      "cell_type": "markdown",
      "source": [
        "### 一, metrics评估指标概述\n",
        "sklearn.metrics中的评估指标有两类:以_score结尾的某种得分,越大越好,以_error或_loss结尾的为某种偏差,越小越好.\n",
        "\n",
        "常用的分类评估指标包括:accuracy_score,f1_score,precision_score,recall_score等等.\n",
        "\n",
        "常用的回归评估指标包括:r2_score,explained_variance_score等等\n",
        "\n",
        "常用的聚类评估指标包括:adjusted_rand_score,adjusted_mutual_info_score等等.\n",
        "\n",
        "sklearn官方教程中文版 模型评估指标介绍:\n",
        "https://scikitlearn.com.cn/0.21.3/32/"
      ],
      "metadata": {
        "id": "eE4HqrYnzYC_"
      }
    },
    {
      "cell_type": "markdown",
      "source": [
        "### 二, 分类模型的评估\n",
        "参考博客(衡量机器学习模型的三大指标：准确率、精度和召回率)\n",
        "https://www.cnblogs.com/xuexuefirst/p/8858274.html\n",
        "https://www.sohu.com/a/358806504_783844\n",
        "\n",
        "模型分类效果全部信息:\n",
        "\n",
        "* confusion_matrix 混淆矩阵,误差矩阵\n",
        "\n",
        "TP:True Positive真正例 FP:False Postive 假正例\n",
        "\n",
        "FN:False Negative 假反例 TN:True Negative 真反例\n",
        "\n",
        "模型整体分类效果:\n",
        "* accuracy 正确率.通常分类评估指标.\n",
        "\n",
        "模型对某种类型的分类效果:\n",
        "* precision 精确率,也叫查准率. 模型不把正样本标错的能力. \n",
        "* recall召回率, 也叫查全率. 模型识别出全部正样本的能力. \"也绝不放过一个坏人\"\n",
        "f1_score F1得分. 精确率和召回率的调和平均值.\n",
        "\n",
        "利用不同方式将类别分类效果进行求和平均得到整体分类效果:\n",
        "\n",
        "* macro_averaged:宏平均. 每种类别预测的效果一样重要.\n",
        "* micro_averaged:微平均.每一次分类预测的效果一样重要\n",
        "* weighted_averaged:加权平均. 每种类别预测的效果跟按该类别样本出现的频率成正比.\n",
        "* sampled_averaged:样本平均. 仅适用于多标签分类问题. 根据每个样本多个标签的预测值和真实值计算评测指标. 然后对样本求平均.\n",
        "\n",
        "仅仅使用于概率模型,且问题为二分类问题的评估方法:\n",
        "* ROC曲线\n",
        "* auc_score\n",
        "\n",
        "| Confusion Matrix | Predict   0,1  |\n",
        "| -----------      | ----------- |\n",
        "| Real        0     |    a   b | \n",
        "|              1    |    c   d |\n",
        "\n",
        "            TP| FN\n",
        "            --|----\n",
        "            FP| TN\n",
        "\n",
        "Preceision = $\\frac{a}{a+c}$  Recall = $\\frac{a}{a+b}$ Accuracy = $\\frac{a+d}{a+b+c+d}$"
      ],
      "metadata": {
        "id": "4_vqhWwnR97u"
      }
    },
    {
      "cell_type": "code",
      "source": [
        "from sklearn import metrics\n",
        "\n",
        "y_pred = [0,0,0,1,1,1,1,1]\n",
        "y_true = [0,1,0,1,1,0,0,1]\n",
        "\n",
        "print(metrics.confusion_matrix(y_true,y_pred))\n",
        "print('准确率:',metrics.accuracy_score(y_true,y_pred))\n",
        "\n",
        "print('类别精度:',metrics.precision_score(y_true,y_pred,average=None)) #不求平均\n",
        "\n",
        "print('宏平均精度:',metrics.precision_score(y_true,y_pred,average='macro')) # 类别精度和/2\n",
        "print('微平均召回率:',metrics.recall_score(y_true,y_pred,average='micro')) # 预测正确与错误和/2\n",
        "print('加权平均F1得分:',metrics.f1_score(y_true,y_pred,average='weighted')) # 对应宏平均\n"
      ],
      "metadata": {
        "colab": {
          "base_uri": "https://localhost:8080/"
        },
        "id": "miEbLphod31O",
        "outputId": "62325ce1-ab97-4679-8539-75975b8677b0"
      },
      "execution_count": 17,
      "outputs": [
        {
          "output_type": "stream",
          "name": "stdout",
          "text": [
            "[[2 2]\n",
            " [1 3]]\n",
            "准确率: 0.625\n",
            "类别精度: [0.66666667 0.6       ]\n",
            "宏平均精度: 0.6333333333333333\n",
            "微平均召回率: 0.625\n",
            "加权平均F1得分: 0.6190476190476191\n"
          ]
        }
      ]
    },
    {
      "cell_type": "markdown",
      "source": [
        "https://www.sohu.com/a/358806504_783844\n",
        "\n",
        "分类模型的评估指标 \n",
        "\n",
        "评估分类预测模型常用一个矩阵、三条曲线和六个指标。\n",
        "\n",
        "一个矩阵：混淆矩阵；\n",
        "\n",
        "六个指标：正确率/ 错误率、查全率、查准率、特异度、F 值、提升指数；\n",
        "\n",
        "三条曲线：ROC 曲线、PR 曲线、KS 曲线；\n",
        "\n",
        "**混淆矩阵**\n",
        "\n",
        "混淆矩阵(confusionmatrix) ，衡量的是一个分类器分类的准确程度，是分类预测模型的基础，绝大多数评估指标都以由混淆矩阵得到。\n",
        "\n",
        "混淆矩阵，以矩阵的形式表达了真实的类别与预测的类别的交叉计数表。一般情况下，矩阵的行表示真实的类别，列表示预测的类别。\n",
        "\n",
        "其中，符号的含义如下：\n",
        "* TP(True Positive) ：真正类，将正类预测为正类的个数；\n",
        "* FN(False Negative) ：假负类，将正类预测为负类的个数；\n",
        "* FP(False Positive) ：假正类，将负类预测为正类的个数；\n",
        "* TN(True Negative) ：真负类，将负类预测为负类的个数\n",
        "\n",
        "在混淆矩阵中，对角线上的TP 和TN 都表现预测正确的样本数，而FP和FN 都是预测错误的. 其中FP称为误判错误, FN常称为漏判错误.\n",
        "\n",
        "显然，**当同时满足（TP 和TN 都越大，而FP 和FN 都越小）时，模型就越好。**\n",
        "\n",
        "**当FN/FP 都为0 时，说明模型的质量是最好的。**\n",
        "\n",
        "基于混淆矩阵，可导出下面各个评价指标。\n",
        "**正确率(Accuracy)/(Error Rate)\n",
        "正确率(Accuracy), 被正确分类的样本比例.\n",
        "\n",
        "$acc = \\frac{TP+TN}{TP+FN+FP+TN}$ \n",
        "\n",
        "相应的错误率(ErrorRate):1-acc\n",
        "\n",
        "正确率的取值范围为[0,1] 。显然，正确率越接近1 ，模型就越好。\n",
        "\n",
        "一般情况下， **正确率能够客观反映模型整体的好坏。但是，在正负样本不平衡的情况下，正确率并不能真实反映模型的质量.**\n",
        "\n",
        "比如，在预测疾病时，假定健康的人占99% ，而患病的人占1% ，如果模型预测所有人都是健康的人，则预测正确率为99% ，但这个模型并没有什么意义。\n",
        "\n",
        "**查全率(Recall Rate)**\n",
        "\n",
        "Recall Rate （有时简写为Recall 或R or TPR ），从字面上翻译为召回率，即正类中被正确预测的百分比。\n",
        "\n",
        "最初，RecallRate 和Precision 是广泛用于信息检索领域的两个度量值，用来评价检索结果的质量。\n",
        "\n",
        "召回率（RecallRate ，也叫查全率），是模型检索出的相关文档数和文档库中所有的相关文档数的比率，即正类信息中模型正确找出来的信息的占比，衡量的是检索系统的查全率。\n",
        "\n",
        "从中文的理解，使用查全率更为易懂和准确，即模型是否把正类都查找出来了。\n",
        "\n",
        "在医疗领域，比较关注这个指标，因为我们的目的就是要尽量把患病的人员找出来。在金融诈骗交易的检测中，大部分的交易都是正常的，但是少量的非正常交易 却重要，也比较注重这个指标。\n",
        "\n",
        "**查全率R 越高，说明模型越好。**\n",
        "\n",
        "**查准率（Precision）**\n",
        "\n",
        "Precision （简写为P ），有的书上翻译成精度，本文采用查准率。\n",
        "\n",
        "$precission = \\frac{TP}{TP+FP}$ \n",
        "\n",
        "最早用在信息检索中，Precision 表示检索出的相关文档数与检索出的文档总数的比率，即查找出来的信息中有用信息的占比，衡量的是检索系统的查准率。\n",
        "\n",
        "搜索引擎比较关注这个指标，因为在搜索库中存在大量的相关信息，即使查全率是100% 也不可能全部显示给用户看，所以我们比较关注的是搜索出来的前N 个网页中有多少个是用户想要的网页，即查准率。\n",
        "\n",
        "**查准率P 越高，说明模型越好。**\n",
        "\n",
        "**特异度（Specificity）/误判率(FPR)**\n",
        "\n",
        "特异度(specificity), 指的是负类中被正确识别的百分比.\n",
        "\n",
        "$specificity = \\frac{TN}{TN+FP}$\n",
        "\n",
        "这个指标不经常使用,相应的,误判率指标FPR会在后写ROC曲线中使用.\n",
        "\n",
        "误判率FPR,指的是负类中错误识别的百分比:\n",
        "$FPR = 1 - specificity$\n",
        "\n",
        "**特异度越大（即误判率越小），说明模型越好。**\n",
        "\n",
        "**F度量值(F-Measure)**\n",
        "\n",
        "其实,由于查全率R和查准率P,都只是从某一个方面来描述模型的好坏,所以单纯地追求某一个指标的提升并没有太大的作用,需要这两个指标同时大时才能得到最有模型.\n",
        "\n",
        "F度量值(F-Measure), 是查准类和查全率之间的一个平衡点,可同时兼顾分类模型的查准率和查全率.\n",
        "\n",
        "常用的F1 指标的计算公式如下：\n",
        "\n",
        "$\\frac{1}{F_1} = \\frac{1}{P} + \\frac{1}{R}$\n",
        "\n",
        "即是P和R的调和平均数.\n",
        "\n",
        "$F_1 = \\frac{1}{\\frac{1}{P} + \\frac{1}{R}}=\\frac{2*P*R}{2TP+FP+FN}=\\frac{2TP}{2TP+FP+FN}$\n",
        "\n",
        "F1 的三维显示图如下，可见，当查全率和查准率同时增加时，F1 值才越大，说明模型也就越好。\n",
        "\n",
        "![](https://5b0988e595225.cdn.sohucs.com/images/20191206/8241fc17de834c4a9e5c29d5cad40553.png)\n",
        "\n",
        "当然,一个更普遍的F度量值是$F_{\\beta}$指标,其计算公式:\n",
        "\n",
        "$F_{\\beta} = \\frac{(\\beta^2 + 1)*P*R}{\\beta^2 * P + R}$\n",
        "\n",
        "利用$\\beta$给P和R赋值不同的权重,表示对查全率和查准率的重视程度不同.\n",
        "\n",
        "当$\\beta \\le 1$ 时,则表示重视查准率P;\n",
        "当$\\beta = 1$ 时,则表示P和R同等重要,即为F1值;\n",
        "当$\\beta > 1$ 时,则表示重视查全率R;\n",
        "\n",
        "**提升指数（Lift）**\n",
        "\n",
        "提升指数,指的是相对不利用模型,模型的查全率变好了多少倍.\n",
        "\n",
        "$lift = \\frac{\\frac{TP}{TP+FN}}{\\frac{TP+TN}{TP+FN+TN+FP}}$\n",
        "\n",
        "正常情况下，lift 值应该大于1 ，说明模型有提升。\n",
        "\n",
        "**lift 越大，表示模型的效果越好。**\n",
        "\n",
        "**小结**\n",
        "\n",
        "正如混淆矩阵所说，当同时满足（TP 和TN 都越大，而FP 和FN 都越小）时，模型就越好。然而，上述定义的指标并不能够同时满足这两个条件。\n",
        "\n",
        "正确率Acc ，虽然同时考虑到4 个参数，但不适合评估样本不均衡的情况。\n",
        "\n",
        "查全率Recall ，只用到TP 和FN ；\n",
        "\n",
        "查准率Precision ，只用到TP 和FP ；\n",
        "\n",
        "特异度SPC ，只用到TN 和FP ；\n",
        "\n",
        "F1 度量值，只用到TP 、FP 、FN 三个指标；\n",
        "\n",
        "所以，在评估模型时，往往需要同时考虑多个指标。\n",
        "\n",
        "在特别的领域内，有时重点考虑的指标也不一样。\n",
        "\n",
        "如精准营销领域的商品推荐模型，模型目的是尽量将商品推荐给感兴趣的用户，若用户对推荐的商品不感兴趣，也不会有很大损失，因此此时Recall/TPR 相对FPR 更重要。\n",
        "\n",
        "再比如反欺诈领域的欺诈预测模型，由于模型结果会对识别的坏人进行一定的处置措施，FPR 过高会对好人有一定干扰，造成误杀，影响客户体验，因此模型需保证在低于一定FPR 的基础上尽量增加TPR 。\n",
        "\n",
        "**受试者特征曲线(ROC曲线,Receiver Operating Characteristic curve)**\n",
        "\n",
        "ROC曲线展示了当改变在模型中识别为正例的阈值时,召回率和精度的关系会如何变化.\n",
        "\n",
        "为了将某个病人标记为患有某种疾病（一个正例标签），我们为每种疾病在这个范围内设置一个阈值，通过改变这个阈值，我们可以尝试实现合适的精度和召回率之间的平衡。如果我们有一个用来识别疾病的模型，我们的模型可能会为每一种疾病输出介于 0 到 1 之间的一个分数，为了将某个病人标记为患有某种疾病（一个正例标签），我们为每种疾病在这个范围内设置一个阈值，通过改变这个阈值，我们可以尝试实现合适的精度和召回率之间的平衡。\n",
        "\n",
        "ROC曲线在Y轴上画出了真正例率(TPR), 在X轴上画出了假正例率(FPR). TPR是召回率(Recall), FPR是反例被报告为正例的概率. 这两者都可以通过混淆矩阵计算得到.\n",
        "\n",
        "$true\\space positive\\space rate = \\frac{true \\space positive}{true\\space positive + false \\space negatives}$ \n",
        "\n",
        "$false\\space positve \\space rate = \\frac{false\\space positives}{false\\space positives + true\\space negatives}$\n",
        "\n",
        "![](https://images2018.cnblogs.com/blog/1354347/201804/1354347-20180417084338526-1208204301.png)\n",
        "\n",
        "1.　　选择最佳的诊断界限值。ROC曲线越靠近左上角,试验的准确性就越高。最靠近左上角的ROC曲线的点是错误最少的最好阈值，其假阳性和假阴性的总数最少\n",
        "\n",
        "2.　　两种或两种以上不同诊断试验对算法性能的比较。在对同一种算法的两种或两种以上诊断方法进行比较时，可将各试验的ROC曲线绘制到同一坐标中，以直观地鉴别优劣，靠近左上角的ROC曲线所代表的受试者工作最准确。亦可通过分别计算各个试验的ROC曲线下的面积(AUC)进行比较，哪一种试验的 AUC最大，则哪一种试验的诊断价值最佳。\n",
        "\n",
        "　　在阈值为 1.0 的情况下，我们将位于图的左下方，因为没有将任何数据点识别为正例，这导致没有真正例，也没有假正例（TPR = FPR = 0）。当降低阈值时，我们将更多的数据点识别为正例，导致更多的真正例，但也有更多的假正例 ( TPR 和 FPR 增加)。最终，在阈值 0.0 处，我们将所有数据点识别为正，并发现位于 ROC 曲线的右上角 ( TPR = FPR = 1.0 )。\n",
        "\n",
        "**召回率和精度的可视化：**\n",
        "\n",
        "混淆矩阵：展示分类模型的真实和预测标签的对应结果。\n",
        "\n",
        "受试者特征曲线（ROC 曲线）：画出真正例率（TPR）和假正例率（FPR），并将此作为模型归类正例阈值的函数。\n",
        "\n",
        "曲线下面积（AUC）：基于 ROC 曲线下方的面积，计算分类模型总体性能的指标。"
      ],
      "metadata": {
        "id": "xBrvTMHahWk0"
      }
    },
    {
      "cell_type": "markdown",
      "source": [
        "### 三, 回归模型的评估\n",
        "\n",
        "回归模型最常用的评估指标有:\n",
        "* r2_score(R方,拟合优度,可决系数)\n",
        "* explained_variance_score(解释方差得分)\n",
        "\n",
        "$R^2 = 1 - \\frac{\\sum_i(y_i-\\hat{y}_i)^2}{\\sum_i(y_i-\\bar{y}_i)^2}$\n",
        "\n",
        "$explained_variance_score=1-\\frac{Var(y_i-\\hat{y}_i)}{Var(y_i)}$\n"
      ],
      "metadata": {
        "id": "Yc6-NirhShtk"
      }
    },
    {
      "cell_type": "code",
      "source": [
        "from sklearn.metrics import explained_variance_score\n",
        "from sklearn.metrics import r2_score\n",
        "y_true = [3,-0.5,2,7]\n",
        "y_pred = [2.5,0.0,2,8]\n",
        "print('explained_variance_score:',explained_variance_score(y_true,y_pred))\n",
        "print('r2_score:',r2_score(y_true,y_pred))"
      ],
      "metadata": {
        "colab": {
          "base_uri": "https://localhost:8080/"
        },
        "id": "fa0ADUj_UhFd",
        "outputId": "fe214d79-e405-43a7-805d-94c970ed25c3"
      },
      "execution_count": 18,
      "outputs": [
        {
          "output_type": "stream",
          "name": "stdout",
          "text": [
            "explained_variance_score: 0.9571734475374732\n",
            "r2_score: 0.9486081370449679\n"
          ]
        }
      ]
    },
    {
      "cell_type": "markdown",
      "source": [
        "### 四, 使用虚拟估计器产生基准得分\n",
        "\n",
        "对于监督学习(分类和回归),可以用一些基于经验的简单估计策略(虚拟估计)的得分作为参照基准值.\n",
        "\n",
        "DummyClassifier实现了几种简单的分类策略:\n",
        "* stratified 通过在训练集类分布方面来生成随机预测.\n",
        "* most_frequent 总是预测训练集中最常见的标签.\n",
        "* prior类似most_frequent,但具有predict_proba方法\n",
        "* uniform随机产生预测.\n",
        "* constant总是预测用户提供的常量标签.\n",
        "\n",
        "DummyRegressor实现了四个简单的经验法则来进行回归:\n",
        "* mean总是预测训练目标的平均值\n",
        "* median总是预测驯良目标的中位数\n",
        "* quantile总是预测用户提供的训练目标的quantile(分位数).\n",
        "* constant总是预测由用户提供的常数值"
      ],
      "metadata": {
        "id": "Bq-VwUq8VN3Q"
      }
    },
    {
      "cell_type": "code",
      "source": [
        "# 让我们创建一个不平衡的数据集:\n",
        "from sklearn.datasets import load_iris\n",
        "from sklearn.model_selection import train_test_split\n",
        "iris = load_iris()\n",
        "X,y=iris.data,iris.target\n",
        "y[y!=1]=-1 #将鸢尾花中0,2类别合并成-1类别\n",
        "X_train,X_test,y_train,y_test = train_test_split(X,y,random_state=0)"
      ],
      "metadata": {
        "id": "Art61bb5alpK"
      },
      "execution_count": 19,
      "outputs": []
    },
    {
      "cell_type": "code",
      "source": [
        "y"
      ],
      "metadata": {
        "colab": {
          "base_uri": "https://localhost:8080/"
        },
        "id": "mF1145cLbRkY",
        "outputId": "3f0ede42-bb07-4b00-f4d9-16f88e577bd3"
      },
      "execution_count": 20,
      "outputs": [
        {
          "output_type": "execute_result",
          "data": {
            "text/plain": [
              "array([-1, -1, -1, -1, -1, -1, -1, -1, -1, -1, -1, -1, -1, -1, -1, -1, -1,\n",
              "       -1, -1, -1, -1, -1, -1, -1, -1, -1, -1, -1, -1, -1, -1, -1, -1, -1,\n",
              "       -1, -1, -1, -1, -1, -1, -1, -1, -1, -1, -1, -1, -1, -1, -1, -1,  1,\n",
              "        1,  1,  1,  1,  1,  1,  1,  1,  1,  1,  1,  1,  1,  1,  1,  1,  1,\n",
              "        1,  1,  1,  1,  1,  1,  1,  1,  1,  1,  1,  1,  1,  1,  1,  1,  1,\n",
              "        1,  1,  1,  1,  1,  1,  1,  1,  1,  1,  1,  1,  1,  1,  1, -1, -1,\n",
              "       -1, -1, -1, -1, -1, -1, -1, -1, -1, -1, -1, -1, -1, -1, -1, -1, -1,\n",
              "       -1, -1, -1, -1, -1, -1, -1, -1, -1, -1, -1, -1, -1, -1, -1, -1, -1,\n",
              "       -1, -1, -1, -1, -1, -1, -1, -1, -1, -1, -1, -1, -1, -1])"
            ]
          },
          "metadata": {},
          "execution_count": 20
        }
      ]
    },
    {
      "cell_type": "code",
      "source": [
        "# 比较线性svm分类器和虚拟估计器的得分\n",
        "from sklearn.dummy import DummyClassifier\n",
        "from sklearn.svm import SVC\n",
        "svc = SVC(kernel='linear',C=1).fit(X_train,y_train)\n",
        "print('linear svc classifier score:',svc.score(X_test,y_test))\n",
        "\n",
        "dummy = DummyClassifier(strategy='most_frequent',random_state=0)\n",
        "dummy.fit(X_train,y_train)\n",
        "print('dummy classifier score:',dummy.score(X_test,y_test))"
      ],
      "metadata": {
        "colab": {
          "base_uri": "https://localhost:8080/"
        },
        "id": "AiRo6OPGbUda",
        "outputId": "24e8273a-ce60-4079-8680-feca22e1bbac"
      },
      "execution_count": 21,
      "outputs": [
        {
          "output_type": "stream",
          "name": "stdout",
          "text": [
            "linear svc classifier score: 0.631578947368421\n",
            "dummy classifier score: 0.5789473684210527\n"
          ]
        }
      ]
    },
    {
      "cell_type": "code",
      "source": [
        "# 可见线性分类器和虚拟估计器得分没有差太多,改用核函数为rbf的svc \n",
        "svcrbf=SVC(kernel='rbf',C=1).fit(X_train,y_train)\n",
        "print('rbf kernel svc score:',svcrbf.score(X_test,y_test))"
      ],
      "metadata": {
        "colab": {
          "base_uri": "https://localhost:8080/"
        },
        "id": "qUwUPuS2cCUM",
        "outputId": "245ed169-7f0a-4a71-be79-a9ca7c73576a"
      },
      "execution_count": 22,
      "outputs": [
        {
          "output_type": "stream",
          "name": "stdout",
          "text": [
            "rbf kernel svc score: 0.9473684210526315\n"
          ]
        }
      ]
    },
    {
      "cell_type": "markdown",
      "source": [
        "### 五, 欠拟合,过拟合与交叉验证\n",
        "\n",
        "在机器学习问题中,经常会出现模型在训练数据上得分很高,但是在新的数据上表现很差的情况,这称之为**过拟合overfitting**,又叫**高方差high variance.**\n",
        "\n",
        "而如果在训练数据上得分就很低,这称之为**欠拟合underfitting **,又叫**高偏差high bias.**\n",
        "\n",
        "参考知乎：用简单易懂的语言描述过拟合(overfitting)\n",
        "\n",
        "https://www.zhihu.com/question/32246256\n",
        "\n",
        "**留出法**\n",
        "\n",
        "为了解决过拟合问题,常见的方法将数据分为训练集和测试集,用训练集去训练模型的参数,用测试集去测试训练后模型的表现.有时对于一些具有超参数的模型(例如svm.SVC的参数C和kernel就属于超参数),还需要从训练集中画出一部分数据取验证超参数的有效性.\n",
        "\n",
        "    Original set \n",
        "\n",
        "    Training set                 Test set \n",
        "    Training set Validation set  Test set \n",
        "    (training,           |\n",
        "    tuning,and           |\n",
        "    evaluation)          |\n",
        "        |                |\n",
        "    Machine learning     |\n",
        "    algorithm            |\n",
        "        |                |             |\n",
        "    Predicctive Model -----------------|\n",
        "                    Final performance estimate\n",
        "\n",
        "**交叉验证法**\n",
        "\n",
        "在数据数量有限时,按留出法将数据分成3部分将会严重影响到模型训练效果,为了有效利用有限的数据,可以采用交叉验证cross_validation方法.\n",
        "\n",
        "交叉验证的基本思想是:以不同的方式多次将数据划分成训练集和测试集,分别训练和测试,在综合最后的测试得分.每个数据在一些划分情况下属于训练集,在另外一些划分情况下属于测试集.\n",
        "\n",
        "简单的2折交叉验证:把数据集平均划分成A，B两组，先用A组训练B组测试，再用B组训练A组测 试，所以叫做交叉验证。\n",
        "\n",
        "常用的交叉验证方法:K折(KFold),留一交叉验证(leaveoneout,LOO),留P交叉验证(LeavePOut,LPO),重复K折交叉验证(RepeatedKFold),随机排列交叉验证(ShuffleSplit).\n",
        "\n",
        "此外，为了保证训练集中每种标签类别数据的分布和完整数据集中的分布一致,可以采用分层交叉验证方法(StratifiedKFold,StratifiedShuffleSplit)\n",
        "\n",
        "当数据集的来源有不同的分组时,独立同分布假设(independent identified distributed:i.i.d)将被打破,可以使用分组交叉验证方法来确保测试集合中的所有样本来自训练样本中没有表示过的新的分组.(GroupKFold,LeaveOneGroupOut,LeavePGroupsOut,GroupShuffleSplit)\n",
        "\n",
        "对于时间序列数据,一个非常重要的特点是时间相邻的观测之间的相关性(自相关性),因此用过去的数据训练而用未来的数据测试非常重要. TimeSeriesSplit可以实现这样的分割.\n"
      ],
      "metadata": {
        "id": "oQ-tcRTncejF"
      }
    },
    {
      "cell_type": "code",
      "source": [
        "# 随机排列交叉验证\n",
        "import numpy as np\n",
        "from sklearn.model_selection import ShuffleSplit \n",
        "X = np.arange(5)\n",
        "ss = ShuffleSplit(n_splits=10,test_size=0.6,random_state=0)\n",
        "for train_index, test_index in ss.split(X):\n",
        "    print(\"%s %s\" %(train_index,test_index))"
      ],
      "metadata": {
        "colab": {
          "base_uri": "https://localhost:8080/"
        },
        "id": "gNFU_Wowdd9k",
        "outputId": "59283dcb-c97f-4e6f-fa58-2479e7454f7f"
      },
      "execution_count": 23,
      "outputs": [
        {
          "output_type": "stream",
          "name": "stdout",
          "text": [
            "[3 4] [2 0 1]\n",
            "[4 3] [0 2 1]\n",
            "[0 2] [1 3 4]\n",
            "[4 0] [3 1 2]\n",
            "[1 0] [4 2 3]\n",
            "[1 0] [2 3 4]\n",
            "[3 0] [2 4 1]\n",
            "[2 0] [3 1 4]\n",
            "[1 3] [0 4 2]\n",
            "[1 0] [4 2 3]\n"
          ]
        }
      ]
    },
    {
      "cell_type": "code",
      "source": [
        "# 分层K折交叉验证\n",
        "from sklearn.model_selection import StratifiedKFold \n",
        "X = np.ones(10)\n",
        "y = [0,0,0,0,1,1,1,1,1,1]\n",
        "skf = StratifiedKFold(n_splits=3,shuffle=False)\n",
        "for train_index,test_index in skf.split(X,y):\n",
        "    print(\"%s %s\" % (train_index,test_index))\n"
      ],
      "metadata": {
        "colab": {
          "base_uri": "https://localhost:8080/"
        },
        "id": "befobjcwimYe",
        "outputId": "97ca8cfb-01c7-4703-fe64-e5f7346e7d78"
      },
      "execution_count": 24,
      "outputs": [
        {
          "output_type": "stream",
          "name": "stdout",
          "text": [
            "[2 3 6 7 8 9] [0 1 4 5]\n",
            "[0 1 3 4 5 8 9] [2 6 7]\n",
            "[0 1 2 4 5 6 7] [3 8 9]\n"
          ]
        }
      ]
    },
    {
      "cell_type": "code",
      "source": [
        "# 留p分组交叉验证\n",
        "from sklearn.model_selection import LeavePGroupsOut\n",
        "\n",
        "X = np.arange(6)\n",
        "y = [1,1,1,2,2,2]\n",
        "groups = [1,1,2,2,3,3]\n",
        "lpgo = LeavePGroupsOut(n_groups=2)\n",
        "for train_index,test_index in lpgo.split(X,y,groups=groups):\n",
        "    print(\"%s %s\" %(train_index,test_index))\n"
      ],
      "metadata": {
        "colab": {
          "base_uri": "https://localhost:8080/"
        },
        "id": "6iRzbL5EjuLu",
        "outputId": "f1a1328b-b004-4827-c961-d5254732e4bd"
      },
      "execution_count": 25,
      "outputs": [
        {
          "output_type": "stream",
          "name": "stdout",
          "text": [
            "[4 5] [0 1 2 3]\n",
            "[2 3] [0 1 4 5]\n",
            "[0 1] [2 3 4 5]\n"
          ]
        }
      ]
    },
    {
      "cell_type": "code",
      "source": [
        "# 时间序列分割 \n",
        "from sklearn.model_selection import TimeSeriesSplit\n",
        "\n",
        "X = np.array([[1,2],[3,4],[1,2],[3,4],[1,2],[3,4],[2,2],[4,6]])\n",
        "y = np.array([1,2,3,4,5,6,7,8])\n",
        "tscv = TimeSeriesSplit(n_splits=3,max_train_size=3)\n",
        "\n",
        "for train_index,test_index in tscv.split(X,y):\n",
        "    print(\"%s %s\" %(train_index, test_index))"
      ],
      "metadata": {
        "colab": {
          "base_uri": "https://localhost:8080/"
        },
        "id": "UrRx0vLhkgKg",
        "outputId": "1ba61411-e017-4260-8679-96a9c82a54b0"
      },
      "execution_count": 26,
      "outputs": [
        {
          "output_type": "stream",
          "name": "stdout",
          "text": [
            "[0 1] [2 3]\n",
            "[1 2 3] [4 5]\n",
            "[3 4 5] [6 7]\n"
          ]
        }
      ]
    },
    {
      "cell_type": "markdown",
      "source": [
        "### 六, 交叉验证综合评分\n",
        "\n",
        "调用cross_val_score函数可以计算模型在各交叉验证数据集上的得分.\n",
        "可以指定metrics中的打分函数,也可以指定交叉验证迭代器."
      ],
      "metadata": {
        "id": "rURpJbW0lQAt"
      }
    },
    {
      "cell_type": "code",
      "source": [
        "from sklearn.model_selection import cross_val_score\n",
        "from sklearn import svm \n",
        "from sklearn import datasets \n",
        "iris = datasets.load_iris()\n",
        "clf = svm.SVC(kernel='linear',C=1)\n",
        "scores = cross_val_score(clf,iris.data,iris.target,cv=5) #采用5折交叉验证\n",
        "print(scores)\n",
        "\n",
        "# 平均得分和95%置信区间\n",
        "print(\"Accuracy: %0.2f (+/- %0.2f)\" %(scores.mean(),scores.std() * 2))"
      ],
      "metadata": {
        "colab": {
          "base_uri": "https://localhost:8080/"
        },
        "id": "88dVKzDGlkcA",
        "outputId": "7cebc466-3487-4282-9e58-5d601a0be627"
      },
      "execution_count": 27,
      "outputs": [
        {
          "output_type": "stream",
          "name": "stdout",
          "text": [
            "[0.96666667 1.         0.96666667 0.96666667 1.        ]\n",
            "Accuracy: 0.98 (+/- 0.03)\n"
          ]
        }
      ]
    },
    {
      "cell_type": "code",
      "source": [
        "# 默认情况下, 每个CV迭代计算的分数是估计器的score方法.\n",
        "# 可以通过使用scoring 参数来改变计算方式如下\n",
        "\n",
        "from sklearn import metrics \n",
        "scores = cross_val_score(\n",
        "    clf,iris.data, iris.target, cv=5,scoring='f1_macro')\n",
        "scores"
      ],
      "metadata": {
        "colab": {
          "base_uri": "https://localhost:8080/"
        },
        "id": "-Q42t-8hmZ_K",
        "outputId": "9c97aa24-aff0-4eff-a9b8-0e31ea71212c"
      },
      "execution_count": 28,
      "outputs": [
        {
          "output_type": "execute_result",
          "data": {
            "text/plain": [
              "array([0.96658312, 1.        , 0.96658312, 0.96658312, 1.        ])"
            ]
          },
          "metadata": {},
          "execution_count": 28
        }
      ]
    },
    {
      "cell_type": "code",
      "source": [
        "# 通过传入一个交叉验证迭代器来指定其他交叉验证策略\n",
        "\n",
        "from sklearn.model_selection import ShuffleSplit\n",
        "n_samples = iris.data.shape[0]\n",
        "ss = ShuffleSplit(n_splits=10,test_size=0.3,random_state=0)\n",
        "cross_val_score(clf,iris.data,iris.target,cv=ss)"
      ],
      "metadata": {
        "colab": {
          "base_uri": "https://localhost:8080/"
        },
        "id": "QzwxM9a2nCkC",
        "outputId": "ccbd77fe-b331-4b67-c742-4382b7280d2d"
      },
      "execution_count": 29,
      "outputs": [
        {
          "output_type": "execute_result",
          "data": {
            "text/plain": [
              "array([0.97777778, 0.97777778, 1.        , 0.95555556, 1.        ,\n",
              "       0.97777778, 0.97777778, 1.        , 0.97777778, 0.97777778])"
            ]
          },
          "metadata": {},
          "execution_count": 29
        }
      ]
    },
    {
      "cell_type": "markdown",
      "source": [
        "cross_validate函数和cross_val_score函数类似,但是功能更为强大,它允许指定多个指标进行评估,\n",
        "并且除返回指定的指标外,还会返回一个fit_time和score_time即训练时间和评分时间."
      ],
      "metadata": {
        "id": "5O0xzZITnrne"
      }
    },
    {
      "cell_type": "code",
      "source": [
        "from sklearn.model_selection import cross_validate \n",
        "from sklearn.metrics import recall_score\n",
        "clf = svm.SVC(kernel='linear',C=1,random_state=0)\n",
        "scores = cross_validate(clf,iris.data,iris.target,scoring=['f1_macro','f1_micro'],cv=10,return_train_score=False)\n",
        "print(sorted(scores.keys()))\n",
        "\n",
        "# scores['test_recall_macro']\n",
        "print(scores['fit_time']) #训练集拟合时间\n",
        "print(scores['score_time'])#测试集评分时间\n",
        "print('f1_micro:',scores['test_f1_micro'])\n",
        "print('f1_macro:',scores['test_f1_macro'])\n"
      ],
      "metadata": {
        "colab": {
          "base_uri": "https://localhost:8080/"
        },
        "id": "YF4HMrzOoBAd",
        "outputId": "3fb8e00c-b0c8-4b95-ee14-ad2549f5ddb0"
      },
      "execution_count": 31,
      "outputs": [
        {
          "output_type": "stream",
          "name": "stdout",
          "text": [
            "['fit_time', 'score_time', 'test_f1_macro', 'test_f1_micro']\n",
            "[0.01653218 0.00202107 0.0019691  0.00197124 0.00194669 0.00196314\n",
            " 0.00205803 0.00944471 0.0091095  0.01019549]\n",
            "[0.01255774 0.01093912 0.00493765 0.01075912 0.01092958 0.00990248\n",
            " 0.01266789 0.00387335 0.00384951 0.00984907]\n",
            "f1_micro: [1.         0.93333333 1.         1.         0.86666667 1.\n",
            " 0.93333333 1.         1.         1.        ]\n",
            "f1_macro: [1.         0.93265993 1.         1.         0.86111111 1.\n",
            " 0.93265993 1.         1.         1.        ]\n"
          ]
        }
      ]
    },
    {
      "cell_type": "markdown",
      "source": [
        "使用cross_val_predict可以返回每条样本作为CV中的测试集时,对应的模型对该样本的预测结果. \n",
        "这就要求使用的CV策略能保证每一条样本都有机会作为测试数据,否则会报异常."
      ],
      "metadata": {
        "id": "3_2AjI23pTT7"
      }
    },
    {
      "cell_type": "code",
      "source": [
        "from sklearn.model_selection import cross_val_predict \n",
        "\n",
        "predicted = cross_val_predict(clf,iris.data,iris.target,cv=10)\n",
        "print(predicted)\n",
        "metrics.accuracy_score(iris.target,predicted)"
      ],
      "metadata": {
        "colab": {
          "base_uri": "https://localhost:8080/"
        },
        "id": "aqJD5E21psdz",
        "outputId": "a195355d-c4cb-454a-af9b-b49090cde856"
      },
      "execution_count": 32,
      "outputs": [
        {
          "output_type": "stream",
          "name": "stdout",
          "text": [
            "[0 0 0 0 0 0 0 0 0 0 0 0 0 0 0 0 0 0 0 0 0 0 0 0 0 0 0 0 0 0 0 0 0 0 0 0 0\n",
            " 0 0 0 0 0 0 0 0 0 0 0 0 0 1 1 1 1 1 1 1 1 1 1 1 1 1 1 1 1 1 1 1 1 2 1 2 1\n",
            " 1 1 1 1 1 1 1 1 1 2 1 1 1 1 1 1 1 1 1 1 1 1 1 1 1 1 2 2 2 2 2 2 1 2 2 2 2\n",
            " 2 2 2 2 2 2 2 2 2 2 2 2 2 2 2 2 2 2 2 2 2 2 2 2 2 2 2 2 2 2 2 2 2 2 2 2 2\n",
            " 2 2]\n"
          ]
        },
        {
          "output_type": "execute_result",
          "data": {
            "text/plain": [
              "0.9733333333333334"
            ]
          },
          "metadata": {},
          "execution_count": 32
        }
      ]
    },
    {
      "cell_type": "markdown",
      "source": [
        "## 模型的优化\n",
        "\n",
        "超参数时不直接在估计器内学习的参数. 在scikit-learn包中,他们作为估计器类中构造函数的参数进行传递.\n",
        "典型的例子:用于支持向量分类器C,kernel和gamma,用于Lasso的alpha等.\n",
        "\n",
        "搜索超参数空间以优化超参数需要明确以下方面:\n",
        "* 估计器\n",
        "* 超参数空间\n",
        "* 交叉验证方案\n",
        "* 打分函数\n",
        "* 搜寻或采样方法(网格搜索法或随机搜索法)\n",
        "\n",
        "优化模型的方法包括 网格搜索法, 随机搜索法,模型特定交叉验证,信息准则优化.\n"
      ],
      "metadata": {
        "id": "xGKmN2xUqI6O"
      }
    },
    {
      "cell_type": "markdown",
      "source": [
        "### 一, 网格搜索法 GridSearchCV\n",
        "\n",
        "网格搜索法在指定的超参数空间中对每一种可能的情况进行交叉验证评分并选出最好的超参数组合.\n",
        "\n",
        "使用网格搜索法或随机搜索法可以对Pipeline进行参数优化,也可以指定多个评估指标.\n"
      ],
      "metadata": {
        "id": "1WU_xfbwQrCG"
      }
    },
    {
      "cell_type": "code",
      "source": [
        "from sklearn import model_selection\n",
        "from sklearn import svm, datasets\n",
        "from sklearn.model_selection import GridSearchCV\n",
        "from sklearn.model_selection import ShuffleSplit \n",
        "\n",
        "iris = datasets.load_iris()\n",
        "\n",
        "# 估计器\n",
        "svc = svm.SVC()\n",
        "\n",
        "# 超参数空间\n",
        "param_grid = [\n",
        "    {'C':[1,10,100,1000],'kernel':['linear']},\n",
        "    {'C':[1,10,100,1000],'gamma':[0.001,0.0001],'kernel':['rbf']}\n",
        "]\n",
        "\n",
        "# 交叉验证方案\n",
        "cv = ShuffleSplit(n_splits=10,test_size=0.3,random_state=0)\n",
        "\n",
        "# 打分函数\n",
        "scoring = 'accuracy'\n",
        "\n",
        "# 指定搜索或采样方法\n",
        "clf = GridSearchCV(svc,param_grid,scoring=scoring,cv=cv)\n",
        "clf.fit(iris.data,iris.target) # 得到的clf是一个优化了的分类器\n",
        "\n",
        "print(clf.predict(iris.data)) # 用优化的clf对数据进行分类\n",
        "\n",
        "clf.get_params() #查看全部参数\n",
        "clf.best_params_ #查看最优参数"
      ],
      "metadata": {
        "colab": {
          "base_uri": "https://localhost:8080/"
        },
        "id": "17W79BTtRLDu",
        "outputId": "3bf9128c-caae-4be6-ba30-398e6d928ad1"
      },
      "execution_count": 1,
      "outputs": [
        {
          "output_type": "stream",
          "name": "stdout",
          "text": [
            "[0 0 0 0 0 0 0 0 0 0 0 0 0 0 0 0 0 0 0 0 0 0 0 0 0 0 0 0 0 0 0 0 0 0 0 0 0\n",
            " 0 0 0 0 0 0 0 0 0 0 0 0 0 1 1 1 1 1 1 1 1 1 1 1 1 1 1 1 1 1 1 1 1 1 1 1 1\n",
            " 1 1 1 1 1 1 1 1 1 2 1 1 1 1 1 1 1 1 1 1 1 1 1 1 1 1 2 2 2 2 2 2 2 2 2 2 2\n",
            " 2 2 2 2 2 2 2 2 2 2 2 2 2 2 2 2 2 2 2 2 2 2 2 2 2 2 2 2 2 2 2 2 2 2 2 2 2\n",
            " 2 2]\n"
          ]
        },
        {
          "output_type": "execute_result",
          "data": {
            "text/plain": [
              "{'C': 1, 'kernel': 'linear'}"
            ]
          },
          "metadata": {},
          "execution_count": 1
        }
      ]
    },
    {
      "cell_type": "markdown",
      "source": [
        "### 一, 随机搜索法(RandomizedSearchCV)\n",
        "\n",
        "随机搜索法和网格搜索法作用类似,但是只在超参数空间中进行指定次数的不同采样. 采样次数通过n_iter参数指定,通过调整器大小可以在效率和性能方面取得平衡.其采样方法调用ParameterSampler函数,采样空间必须用字典进行指定.\n",
        "\n",
        "网格搜索法只能在有限的超参数空间进行暴力搜索,但随即搜索法可以在无限的超惨空间进行随机搜索."
      ],
      "metadata": {
        "id": "RZ6B6wQVTK5s"
      }
    },
    {
      "cell_type": "code",
      "source": [
        "from sklearn.model_selection import ParameterSampler\n",
        "from scipy.stats.distributions import expon\n",
        "import numpy as np \n",
        "np.random.seed(0)\n",
        "param_grid={'a':[1,2],'b':expon()} # b 按指数分布采样\n",
        "param_list = list(ParameterSampler(param_grid,n_iter=10))\n",
        "param_list"
      ],
      "metadata": {
        "colab": {
          "base_uri": "https://localhost:8080/"
        },
        "id": "GUD9mZBqT7BB",
        "outputId": "f3ed4f14-ca10-4bf2-c53c-5f64c20115ba"
      },
      "execution_count": 2,
      "outputs": [
        {
          "output_type": "execute_result",
          "data": {
            "text/plain": [
              "[{'a': 1, 'b': 0.8985603929935616},\n",
              " {'a': 1, 'b': 0.9232231458040688},\n",
              " {'a': 2, 'b': 1.8789640641973517},\n",
              " {'a': 2, 'b': 1.0381592949436094},\n",
              " {'a': 1, 'b': 0.3531591409726616},\n",
              " {'a': 1, 'b': 3.314912182053814},\n",
              " {'a': 1, 'b': 0.6494463590982739},\n",
              " {'a': 2, 'b': 0.7526741095365884},\n",
              " {'a': 1, 'b': 0.4988720138545616},\n",
              " {'a': 2, 'b': 0.07368535491284788}]"
            ]
          },
          "metadata": {},
          "execution_count": 2
        }
      ]
    },
    {
      "cell_type": "code",
      "source": [
        "from sklearn import svm,datasets\n",
        "from sklearn.model_selection import RandomizedSearchCV\n",
        "from sklearn.model_selection import ShuffleSplit\n",
        "from scipy.stats.distributions import expon\n",
        "\n",
        "iris = datasets.load_iris()\n",
        "\n",
        "# 估计器\n",
        "svc = svm.SVC()\n",
        "\n",
        "# 超参数采样空间\n",
        "param_distributions = {'C':[1,10,100,1000],\n",
        "                       'gamma':[0.001,0.0001,0.00001,0.000001],\n",
        "                       'kernel':['rbf','linear']}\n",
        "\n",
        "# 交叉验证方案\n",
        "cv = ShuffleSplit(n_splits=3,test_size=0.3,random_state=0)\n",
        "\n",
        "# 打分函数\n",
        "scoring = 'accuracy'\n",
        "\n",
        "# 指定搜索或采样方法\n",
        "clf = RandomizedSearchCV(svc,param_distributions,\n",
        "                         scoring=scoring,cv=cv,n_iter=20)\n",
        "clf.fit(iris.data,iris.target) #得到的clf是一个优化了的分类器\n",
        "print(clf.predict(iris.data)) #用优化的clf对数据进行分类\n",
        "clf.get_params() #查看参数\n",
        "\n",
        "print(clf.best_params_) #最优参数\n",
        "clf.best_score_ #最优得分\n"
      ],
      "metadata": {
        "colab": {
          "base_uri": "https://localhost:8080/"
        },
        "id": "IvepRqlNUiGY",
        "outputId": "8f9aadcc-d13e-4ecb-d45a-ddf861412286"
      },
      "execution_count": 3,
      "outputs": [
        {
          "output_type": "stream",
          "name": "stdout",
          "text": [
            "[0 0 0 0 0 0 0 0 0 0 0 0 0 0 0 0 0 0 0 0 0 0 0 0 0 0 0 0 0 0 0 0 0 0 0 0 0\n",
            " 0 0 0 0 0 0 0 0 0 0 0 0 0 1 1 1 1 1 1 1 1 1 1 1 1 1 1 1 1 1 1 1 1 1 1 1 1\n",
            " 1 1 1 1 1 1 1 1 1 2 1 1 1 1 1 1 1 1 1 1 1 1 1 1 1 1 2 2 2 2 2 2 2 2 2 2 2\n",
            " 2 2 2 2 2 2 2 2 2 2 2 2 2 2 2 2 2 2 2 2 2 2 2 2 2 2 2 2 2 2 2 2 2 2 2 2 2\n",
            " 2 2]\n",
            "{'kernel': 'linear', 'gamma': 0.001, 'C': 1}\n"
          ]
        },
        {
          "output_type": "execute_result",
          "data": {
            "text/plain": [
              "0.9851851851851853"
            ]
          },
          "metadata": {},
          "execution_count": 3
        }
      ]
    },
    {
      "cell_type": "markdown",
      "source": [
        "### 三, 模型特定交叉验证\n",
        "\n",
        "一些特定的模型, sklearn构建了一些内部含有交叉验证优化机制的估计器.\n",
        "\n",
        "它们主要是在linear_model模块.\n",
        "\n",
        "例如:\n",
        "\n",
        "linear_model.ElasticNetCV\n",
        "\n",
        "linear_model.LogisticRegressionCV\n",
        "\n",
        "linear_model.RidgeCV\n",
        "\n",
        "等等"
      ],
      "metadata": {
        "id": "nCIc1lUyYaT_"
      }
    },
    {
      "cell_type": "code",
      "source": [
        "from sklearn import datasets\n",
        "boston = datasets.load_boston()"
      ],
      "metadata": {
        "id": "en_rszJPZL6t"
      },
      "execution_count": null,
      "outputs": []
    },
    {
      "cell_type": "code",
      "source": [
        "# 从样本数据中选出2/3作为训练集，1/3个作为测试集,并打乱数据集 \n",
        "from sklearn.model_selection import train_test_split \n",
        "X_train,X_test,y_train,y_test = train_test_split(boston.data,boston.target, \n",
        "                                                 test_size = 1/3) \n",
        "(len(X_train),len(X_test))\n",
        "# 特征极差标准化 from sklearn import preprocessing scaler = preprocessing.MinMaxScaler(feature_range = (0,1))\n",
        "scaler.fit(X_train) \n",
        "X_train,X_test = scaler.transform(X_train),scaler.transform(X_test)"
      ],
      "metadata": {
        "id": "7SHBT8DjZTIe"
      },
      "execution_count": null,
      "outputs": []
    },
    {
      "cell_type": "code",
      "source": [
        "# 使用Lasso \n",
        "\n",
        "from sklearn.linear_model import Lasso \n",
        "\n",
        "lareg = Lasso()\n",
        "lareg.fit(X_train,y_train)\n",
        "lareg.predict(X_test)\n",
        "lareg.score(X_test,y_test)\n"
      ],
      "metadata": {
        "id": "LRzcnYArZp4M"
      },
      "execution_count": null,
      "outputs": []
    },
    {
      "cell_type": "code",
      "source": [
        "# 使用含有交叉验证优化机制的LassoCV\n",
        "from sklearn.linear_model import LassoCV\n",
        "lacvreg = LassoCV() \n",
        "lacvreg.fit(X_train,y_train) \n",
        "lacvreg.predict(X_test) \n",
        "lacvreg.score(X_test,y_test)\n"
      ],
      "metadata": {
        "id": "QVI8uHckaFFJ"
      },
      "execution_count": null,
      "outputs": []
    },
    {
      "cell_type": "markdown",
      "source": [
        "### 四, 信息准则优化\n",
        "\n",
        "模型选择主要有两个思路. \n",
        "\n",
        "解释性框架: 好的模型应该是最能解释现有数据的模型.可以用似然函数来度量模型对数据集描述能力.\n",
        "\n",
        "预测性框架: 好的模型应该是最能预测结果的模型.通常模型参数越多越复杂,越容易出现过拟合. \n",
        "\n",
        "所以, 模型选择问题在模型复杂度与模型对数据集描述能力(即似然函数)之间寻求最佳平衡.\n",
        "\n",
        "AIC(赤池信息准则)和BIC(贝叶斯信息准则)对模型的选择提供了一种判据.\n",
        "\n",
        "AIC信息准则选择AIC最大的模型。\n",
        "\n",
        "BIC信息准则选择BIC最大的模型。当样本数量较大时,BIC对参数个数的惩罚大于AIC. \n",
        "\n",
        "$AIC = 2ln(L)-2k$\n",
        "\n",
        "$BIC = 2ln(L)-kln(n)$\n",
        "\n",
        "其中L为似然函数,k为模型参数个数, n为样本数量\n",
        "\n",
        "linear_model.LassoLarsIC 采用了信息准则进行优化."
      ],
      "metadata": {
        "id": "Ioc0xIQ9aJhj"
      }
    },
    {
      "cell_type": "markdown",
      "source": [
        "# 案例"
      ],
      "metadata": {
        "id": "LXK_zCl-dRG9"
      }
    },
    {
      "cell_type": "markdown",
      "source": [
        "## 决策树"
      ],
      "metadata": {
        "id": "paFhLITvcT0u"
      }
    },
    {
      "cell_type": "markdown",
      "source": [
        "## 随机森林"
      ],
      "metadata": {
        "id": "On4o49qWcHNI"
      }
    },
    {
      "cell_type": "markdown",
      "source": [
        "## 数据预处理与特征工程"
      ],
      "metadata": {
        "id": "HHPx7oUnci__"
      }
    },
    {
      "cell_type": "markdown",
      "source": [
        "## 降维算法PCA"
      ],
      "metadata": {
        "id": "uWHOSBcPcqQ1"
      }
    },
    {
      "cell_type": "markdown",
      "source": [
        "## 逻辑回归"
      ],
      "metadata": {
        "id": "x2CR8YfHcuni"
      }
    },
    {
      "cell_type": "markdown",
      "source": [
        "## 聚类算法"
      ],
      "metadata": {
        "id": "yeZYUGGTcyCP"
      }
    },
    {
      "cell_type": "markdown",
      "source": [
        "## 支持向量机"
      ],
      "metadata": {
        "id": "Ns_QN8-Cc0Ox"
      }
    },
    {
      "cell_type": "markdown",
      "source": [
        "## 支持向量机与Kaggle案例"
      ],
      "metadata": {
        "id": "znNoGquPc3sx"
      }
    },
    {
      "cell_type": "markdown",
      "source": [
        "## 回归大家族:线性,领回归,Lasso,多项式"
      ],
      "metadata": {
        "id": "ZKHbyocNc6vK"
      }
    },
    {
      "cell_type": "markdown",
      "source": [
        "## 朴素贝叶斯"
      ],
      "metadata": {
        "id": "F5mETj0gdvJK"
      }
    },
    {
      "cell_type": "markdown",
      "source": [
        "## XGBoost"
      ],
      "metadata": {
        "id": "g0pRatoRdyVx"
      }
    },
    {
      "cell_type": "markdown",
      "source": [
        "# 算法"
      ],
      "metadata": {
        "id": "EjTbVLD8d9er"
      }
    }
  ]
}