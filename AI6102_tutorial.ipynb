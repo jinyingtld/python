{
  "nbformat": 4,
  "nbformat_minor": 0,
  "metadata": {
    "colab": {
      "name": "AI6102_tutorial.ipynb",
      "provenance": [],
      "authorship_tag": "ABX9TyO/00Cr+6ckHSgPDYR58VD7",
      "include_colab_link": true
    },
    "kernelspec": {
      "name": "python3",
      "display_name": "Python 3"
    },
    "language_info": {
      "name": "python"
    }
  },
  "cells": [
    {
      "cell_type": "markdown",
      "metadata": {
        "id": "view-in-github",
        "colab_type": "text"
      },
      "source": [
        "<a href=\"https://colab.research.google.com/github/jinyingtld/python/blob/main/AI6102_tutorial.ipynb\" target=\"_parent\"><img src=\"https://colab.research.google.com/assets/colab-badge.svg\" alt=\"Open In Colab\"/></a>"
      ]
    },
    {
      "cell_type": "markdown",
      "source": [
        "# Implementation using scikit-learn\n",
        "- API: sklearn.linear_model: Linear Models\n",
        "\n",
        ">- https://scikit-learn.org/stable/modules/classes.html#module-sklearn.linear_model\n",
        "\n",
        "- Classical linnear regressors\n",
        "- linear_model.LinearRegression -> linear regression without regularization\n",
        "- linear_model.Ridge -> regularized linear regression\n",
        "\n",
        "## Classical linear regressors\n",
        ">- linear_model.LinearRegression(*[, ...]) ordinary least squares Linear Regression \n",
        "\n",
        ">- https://scikit-learn.org/stable/modules/generated/sklearn.linear_model.LinearRegression.html#sklearn.linear_model.LinearRegression\n",
        "class sklearn.linear_model.LinearRegression(*, fit_intercept=True, normalize='deprecated', copy_X=True, n_jobs=None, positive=False)\n",
        "\n",
        ">- linear_model.Ridge([alpha, fit_intercept, ...])  Linear least squares iwth L2 regularization.\n",
        "\n",
        ">- https://scikit-learn.org/stable/modules/generated/sklearn.linear_model.Ridge.html#sklearn.linear_model.Ridge\n",
        "class sklearn.linear_model.Ridge(alpha=1.0, *, fit_intercept=True, normalize='deprecated', copy_X=True, max_iter=None, tol=0.001, solver='auto', positive=False, random_state=None)\n",
        "Minimizes the objective function:\n",
        "||y - Xw||^2_2 + alpha * ||w||^2_2\n",
        "This model solves a regression model where the loss function is the linear least squares function and regularization is given by the l2-norm. Also known as Ridge Regression or Tikhonov regularization. This estimator has built-in support for multi-variate regression (i.e., when y is a 2d-array of shape (n_samples, n_targets)).\n",
        "\n",
        ">- linear_model.RidgeCV([alphas, ...])  Ridge regression with built-in cross-validation.\n",
        "\n",
        ">- https://scikit-learn.org/stable/modules/generated/sklearn.linear_model.RidgeCV.html#sklearn.linear_model.RidgeCV\n",
        "class sklearn.linear_model.RidgeCV(alphas=(0.1, 1.0, 10.0), *, fit_intercept=True, normalize='deprecated', scoring=None, cv=None, gcv_mode=None, store_cv_values=False, alpha_per_target=False)\n",
        "Ridge regression with built-in cross-validation.\n",
        "See glossary entry for cross-validation estimator.\n",
        "By default, it performs efficient Leave-One-Out Cross-Validation.\n",
        "\n",
        ">- linear_model.SGDRegressor([loss, penalty, ...]) Linear model fitted by minimizing a regularized empirical loss with SGD\n",
        "\n",
        ">- https://scikit-learn.org/stable/modules/generated/sklearn.linear_model.SGDRegressor.html#sklearn.linear_model.SGDRegressor\n",
        "class sklearn.linear_model.SGDRegressor(loss='squared_error', *, penalty='l2', alpha=0.0001, l1_ratio=0.15, fit_intercept=True, max_iter=1000, tol=0.001, shuffle=True, verbose=0, epsilon=0.1, random_state=None, learning_rate='invscaling', eta0=0.01, power_t=0.25, early_stopping=False, validation_fraction=0.1, n_iter_no_change=5, warm_start=False, average=False)\n",
        "Linear model fitted by minimizing a regularized empirical loss with SGD.\n",
        "SGD stands for Stochastic Gradient Descent: the gradient of the loss is estimated each sample at a time and the model is updated along the way with a decreasing strength schedule (aka learning rate).\n",
        "The regularizer is a penalty added to the loss function that shrinks model parameters towards the zero vector using either the squared euclidean norm L2 or the absolute norm L1 or a combination of both (Elastic Net). If the parameter update crosses the 0.0 value because of the regularizer, the update is truncated to 0.0 to allow for learning sparse models and achieve online feature selection.\n",
        "This implementation works with data represented as dense numpy arrays of floating point values for the features."
      ],
      "metadata": {
        "id": "d-pbLM-cSuyU"
      }
    },
    {
      "cell_type": "code",
      "execution_count": null,
      "metadata": {
        "colab": {
          "base_uri": "https://localhost:8080/",
          "height": 285
        },
        "id": "hOTLoNwMRH-y",
        "outputId": "f0ea63f2-706d-455a-f7dd-df6457fcb6ed"
      },
      "outputs": [
        {
          "output_type": "execute_result",
          "data": {
            "text/plain": [
              "[<matplotlib.lines.Line2D at 0x7f3cd7d55dd0>]"
            ]
          },
          "metadata": {},
          "execution_count": 5
        },
        {
          "output_type": "display_data",
          "data": {
            "image/png": "[encoded data removed]",
            "text/plain": [
              "<Figure size 432x288 with 1 Axes>"
            ]
          },
          "metadata": {
            "needs_background": "light"
          }
        }
      ],
      "source": [
        "from sklearn.linear_model import LinearRegression\n",
        "import numpy as np\n",
        "import matplotlib.pyplot as plt\n",
        "\n",
        "n_samples, n_features = 10, 5\n",
        "rng = np.random.RandomState(0)\n",
        "y = rng.randn(n_samples)\n",
        "X = rng.randn(n_samples, n_features)\n",
        "\n",
        "lr = LinearRegression()\n",
        "lr.fit(X,y)\n",
        "lr.coef_\n",
        "# Methods:\n",
        "# fit(X,y[,sample_weight]) Fit linear model\n",
        "# get_params([deep]) Get parameters for this estimator.\n",
        "# predict(X)  Predict using the linear model.\n",
        "# score(X, y[, sample_weight]) Return the coefficient of determination of the prediction.\n",
        "# set_params(**params) Set the parameters of the estimator\n",
        "\n",
        "pred_train_lr=lr.predict(X)\n",
        "plt.plot(y-pred_train_lr)"
      ]
    },
    {
      "cell_type": "code",
      "source": [
        "from sklearn.linear_model import Ridge\n",
        "import numpy as np\n",
        "import matplotlib.pyplot as plt\n",
        "\n",
        "n_samples, n_features = 10, 5\n",
        "rng = np.random.RandomState(0)\n",
        "y = rng.randn(n_samples)\n",
        "X = rng.randn(n_samples, n_features)\n",
        "\n",
        "rr = Ridge(alpha=0.1)\n",
        "rr.fit(X,y)\n",
        "pred_train_rr=rr.predict(X)\n",
        "plt.plot(y-pred_train_rr)"
      ],
      "metadata": {
        "colab": {
          "base_uri": "https://localhost:8080/",
          "height": 282
        },
        "id": "0Sa-6ZpMW_pz",
        "outputId": "78966342-c409-4dad-b8de-cdeb674f6a40"
      },
      "execution_count": null,
      "outputs": [
        {
          "output_type": "execute_result",
          "data": {
            "text/plain": [
              "[<matplotlib.lines.Line2D at 0x7f3ccf4e28d0>]"
            ]
          },
          "metadata": {},
          "execution_count": 6
        },
        {
          "output_type": "display_data",
          "data": {
            "image/png": "[encoded data removed]",
            "text/plain": [
              "<Figure size 432x288 with 1 Axes>"
            ]
          },
          "metadata": {
            "needs_background": "light"
          }
        }
      ]
    },
    {
      "cell_type": "markdown",
      "source": [
        "# Implementation using scikit-learn\n",
        "\n",
        ">- API: sklearn.linear_model: Linear Models\n",
        "https://scikit-learn.org/stable/modules/classes.html#module-sklearn.linear_model\n",
        "\n",
        "## Linear classifiers\n",
        "\n",
        "### linear_model.LogisticRegression([penalty, ...]) Logistic Regression (aka logit, MaxEnt) classifier.\n",
        "\n",
        "In the multiclass case, the training algorithm uses the one-vs-rest (OvR) scheme if the ‘multi_class’ option is set to ‘ovr’, and uses the cross-entropy loss if the ‘multi_class’ option is set to ‘multinomial’. (Currently the ‘multinomial’ option is supported only by the ‘lbfgs’, ‘sag’, ‘saga’ and ‘newton-cg’ solvers.)\n",
        "This class implements regularized logistic regression using the ‘liblinear’ library, ‘newton-cg’, ‘sag’, ‘saga’ and ‘lbfgs’ solvers. Note that regularization is applied by default. It can handle both dense and sparse input. Use C-ordered arrays or CSR matrices containing 64-bit floats for optimal performance; any other input format will be converted (and copied).\n",
        "The ‘newton-cg’, ‘sag’, and ‘lbfgs’ solvers support only L2 regularization with primal formulation, or no regularization. The ‘liblinear’ solver supports both L1 and L2 regularization, with a dual formulation only for the L2 penalty. The Elastic-Net regularization is only supported by the ‘saga’ solver.\n",
        "\n",
        "\n",
        "### linear_model.LogisticRegressionCV(*[,Cs,...]) Logistic Regression CV (aka logit, MaxEnt) classifier.\n",
        "\n",
        "\n",
        "## sklearn.linear_model.LogisticRegression\n",
        "\n",
        "Logistic Regression CV (aka logit, MaxEnt) classifier.\n",
        "See glossary entry for cross-validation estimator.\n",
        "This class implements logistic regression using liblinear, newton-cg, sag of lbfgs optimizer. The newton-cg, sag and lbfgs solvers support only L2 regularization with primal formulation. The liblinear solver supports both L1 and L2 regularization, with a dual formulation only for the L2 penalty. Elastic-Net penalty is only supported by the saga solver.\n",
        "For the grid of Cs values and l1_ratios values, the best hyperparameter is selected by the cross-validator StratifiedKFold, but it can be changed using the cv parameter. The ‘newton-cg’, ‘sag’, ‘saga’ and ‘lbfgs’ solvers can warm-start the coefficients (see Glossary).\n",
        "\n",
        "### class sklearn.linear_model.LogisticRegression(panalty='l2', *, dual=False, tol=0.0001, C=1.0, fit_intercept=True, intercept_scaling=1, class_weight=None, random_state=None, solver=lbfgs', max_iter=100, multi_class='auto', verbose=0, warm_start=False, n_jobs=None, l1_ration=None)\n",
        "\n",
        "$C:float, default=1.0$\n",
        "\n",
        "Inverse of regularization strength; must be a positive float. Like in \n",
        "support vector machines, smaller values specify stronger regularization.\n"
      ],
      "metadata": {
        "id": "zp-qlH6OcQzF"
      }
    },
    {
      "cell_type": "code",
      "source": [
        "from sklearn.linear_model import LogisticRegression\n",
        "import numpy as np\n",
        "\n",
        "n_samples, n_features = 10, 5\n",
        "rng = np.random.RandomState(0)\n",
        "y = rng.random_integers(0,1, n_samples)\n",
        "X = rng.randn(n_samples, n_features)\n",
        "\n",
        "logisticR = LogisticRegression()\n",
        "logisticR.fit(X,y)\n",
        "pred = logisticR.predict(X)"
      ],
      "metadata": {
        "colab": {
          "base_uri": "https://localhost:8080/"
        },
        "id": "CQElaGev6DcH",
        "outputId": "e1f644c6-f9a9-47f4-d5b1-8867b98ca14f"
      },
      "execution_count": null,
      "outputs": [
        {
          "output_type": "stream",
          "name": "stderr",
          "text": [
            "/usr/local/lib/python3.7/dist-packages/ipykernel_launcher.py:6: DeprecationWarning: This function is deprecated. Please call randint(0, 1 + 1) instead\n",
            "  \n"
          ]
        },
        {
          "output_type": "execute_result",
          "data": {
            "text/plain": [
              "array([0, 0, 0, 0, 0, 0, 0, 0, 0, 0])"
            ]
          },
          "metadata": {},
          "execution_count": 14
        }
      ]
    },
    {
      "cell_type": "markdown",
      "source": [
        "# API: sklearn.svm: Support Vector Machines\n",
        "https://scikit-learn.org/stable/modules/classes.html#module-sklearn.svm\n",
        "\n",
        "The [sklearn.svm](https://scikit-learn.org/stable/modules/classes.html#module-sklearn.svm) module includes Support Vector Machine algorithms.\n",
        "\n",
        "User guide: See the [Support Vector Machines](https://scikit-learn.org/stable/modules/svm.html#svm) section for further details.\n",
        "\n",
        "## Estimators \n",
        "[svm.LinearSVC](https://scikit-learn.org/stable/modules/generated/sklearn.svm.LinearSVC.html#sklearn.svm.LinearSVC)([penalty,loss,dual,tol,C,...]) Linear Support Vector Classification.\n",
        "\n",
        "[svm.LinearSVR](https://scikit-learn.org/stable/modules/generated/sklearn.svm.LinearSVR.html#sklearn.svm.LinearSVR)(*[,epsilon,tol,C,loss,...]) Linear Support Vector Regression.\n",
        "\n",
        "[svm.NuSVC](https://scikit-learn.org/stable/modules/generated/sklearn.svm.NuSVC.html#sklearn.svm.NuSVC)(*[,nu,kernel,degree,gamma,...])  Nu-Support Vector Classification.\n",
        "\n",
        "[svm.Nu.SVR](https://scikit-learn.org/stable/modules/generated/sklearn.svm.NuSVR.html#sklearn.svm.NuSVR)([,nu,C,kernel,degree,gamma,...])  Nu Support Vector Regression.\n",
        "\n",
        "[svm.OneClassSVM](https://scikit-learn.org/stable/modules/generated/sklearn.svm.OneClassSVM.html#sklearn.svm.OneClassSVM)(*[,kernel,degree,gamma,...])  Unsupervised Outlier Detection.\n",
        "\n",
        "[svm.SVC](https://scikit-learn.org/stable/modules/generated/sklearn.svm.SVC.html#sklearn.svm.SVC)(*[, C, kernel, degree, gamma, ...])   C-Support Vector Classificaton.\n",
        "\n",
        "[svm.SVR](https://scikit-learn.org/stable/modules/generated/sklearn.svm.SVR.html#sklearn.svm.SVR)(*[,kernel,degree,gamma,coef0,...])   Epsilon-Support Vector Regression.\n",
        "\n",
        "[svm.l1_min_c](https://scikit-learn.org/stable/modules/generated/sklearn.svm.l1_min_c.html#sklearn.svm.l1_min_c)(X,y,*[,loss,fit_intercept,...])  Return the lowest bound for C such that for C in (l1_min_C,infinity) the model is guaranteed not to be empty.\n"
      ],
      "metadata": {
        "id": "JRWjgY0xuzj1"
      }
    },
    {
      "cell_type": "code",
      "source": [
        "# Model Training and testing\n",
        "\n",
        "from sklearn import svm \n",
        "import numpy as np\n",
        "\n",
        "n_samples, n_features = 10, 5\n",
        "rng = np.random.RandomState(0)\n",
        "y = rng.random_integers(0,1, n_samples)\n",
        "X = rng.randn(n_samples, n_features)\n",
        "\n",
        "svmC = svm.LinearSVC()\n",
        "# svmC = svm.SVC()\n",
        "svmC.fit(X,y)\n",
        "pred = svmC.predict(X)\n",
        "pred"
      ],
      "metadata": {
        "colab": {
          "base_uri": "https://localhost:8080/"
        },
        "id": "AlZ-IGSr7hqD",
        "outputId": "b7ae904b-fd2f-4b19-ff0a-5926edd41f9c"
      },
      "execution_count": 5,
      "outputs": [
        {
          "output_type": "stream",
          "name": "stderr",
          "text": [
            "/usr/local/lib/python3.7/dist-packages/ipykernel_launcher.py:6: DeprecationWarning: This function is deprecated. Please call randint(0, 1 + 1) instead\n",
            "  \n"
          ]
        },
        {
          "output_type": "execute_result",
          "data": {
            "text/plain": [
              "array([0, 1, 1, 0, 1, 1, 1, 1, 1, 1])"
            ]
          },
          "metadata": {},
          "execution_count": 5
        }
      ]
    },
    {
      "cell_type": "markdown",
      "source": [
        "# API: sklearn.tree.DecisionTreeClassifier\n",
        "https://scikit-learn.org/stable/modules/classes.html#module-sklearn.tree\n",
        "\n",
        "The [sklearn.tree](https://scikit-learn.org/stable/modules/classes.html#module-sklearn.tree) module includes decision tree-based models for classification and regression.\n",
        "\n",
        "User guide: See the Decision Trees section for further details.\n",
        "\n",
        "[tree.DecisionTreeClassifier](https://scikit-learn.org/stable/modules/generated/sklearn.tree.DecisionTreeClassifier.html#sklearn.tree.DecisionTreeClassifier)(*[,criterion,...])  A decision tree classifier.\n",
        "\n",
        "[tree.DecisionTreeRegressor](https://scikit-learn.org/stable/modules/generated/sklearn.tree.DecisionTreeRegressor.html#sklearn.tree.DecisionTreeRegressor)(*[,criterion,...])  A decision tree regressor.\n",
        "\n",
        "[tree.ExtraTreeClassifier](https://scikit-learn.org/stable/modules/generated/sklearn.tree.ExtraTreeClassifier.html#sklearn.tree.ExtraTreeClassifier)(*[,criterion,...]) An extremely randomized tree classifier. \n",
        "\n",
        "[tree.ExtraTreeRegressor](https://scikit-learn.org/stable/modules/generated/sklearn.tree.ExtraTreeRegressor.html#sklearn.tree.ExtraTreeRegressor)(*[,criterion,...])  An extremely randomized tree regressor. \n",
        "\n",
        "[tree.export_graphviz](https://scikit-learn.org/stable/modules/generated/sklearn.tree.export_graphviz.html#sklearn.tree.export_graphviz)(decision_tree[,...])  Export a decision tree in DOT format.\n",
        "\n",
        "tree.export_text(decision_tree,*[,...]) Build a text report showing the rules of a decision tree.\n",
        "\n",
        "## Plotting \n",
        "[tree.plot_tree](https://scikit-learn.org/stable/modules/generated/sklearn.tree.plot_tree.html#sklearn.tree.plot_tree)(decision_tree,*[,...])  Plot a decision tree.\n",
        "\n",
        "## Important Parameters \n",
        "**criterion:** {\"gini\", \"entropy\"},default=\"gini\"\n",
        "\n",
        "The function to measure the quality of a split. Supported criteria are \"gini\" for the Gini impurity and \"entropy\" for the information gain.\n",
        "\n",
        "**max_depth:int,default=None**\n",
        "\n",
        "The maximum depth of the tree. If None, then nodes are expanded until all leaves are pure or until all leaves contain less than min_samples_split samples.\n",
        "\n",
        "**max_features: int, float or {\"auto\",\"sqrt\",\"log2\"},default=None**\n",
        "\n",
        "The number of features to consider when looking for the best split:\n",
        ">- If int, then consider **max_features** features at each split.\n",
        ">- If float, then **max_features** is a fraction and int(max_features * n_features) features are considered at each split.\n",
        ">- If \"auto\", then **max_features=sqrt(n_features)** \n",
        ">- If \"sqrt\", then **max_features=log2(n_features)** \n",
        ">- If None, then **max_features=n_features.** \n"
      ],
      "metadata": {
        "id": "pMs3-ejW0EhT"
      }
    },
    {
      "cell_type": "code",
      "source": [
        "from sklearn import tree\n",
        "import numpy as np\n",
        "\n",
        "n_samples, n_features = 10,5\n",
        "rng = np.random.RandomState(0)\n",
        "y = rng.random_integers(0,1,n_samples)\n",
        "X = rng.randn(n_samples, n_features)\n",
        "\n",
        "dtC = tree.DecisionTreeClassifier()\n",
        "dtC.fit(X,y)\n",
        "pre = dtC.predict(X)\n",
        "pre"
      ],
      "metadata": {
        "id": "rsywYoSp2O9T",
        "outputId": "dfeb91a0-6de3-4ef6-e141-d004286049ee",
        "colab": {
          "base_uri": "https://localhost:8080/"
        }
      },
      "execution_count": 7,
      "outputs": [
        {
          "output_type": "stream",
          "name": "stderr",
          "text": [
            "/usr/local/lib/python3.7/dist-packages/ipykernel_launcher.py:6: DeprecationWarning: This function is deprecated. Please call randint(0, 1 + 1) instead\n",
            "  \n"
          ]
        },
        {
          "output_type": "execute_result",
          "data": {
            "text/plain": [
              "array([0, 1, 1, 0, 1, 1, 1, 1, 1, 1])"
            ]
          },
          "metadata": {},
          "execution_count": 7
        }
      ]
    }
  ]
}