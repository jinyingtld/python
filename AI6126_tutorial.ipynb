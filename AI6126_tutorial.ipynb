{
  "nbformat": 4,
  "nbformat_minor": 0,
  "metadata": {
    "colab": {
      "name": "AI6126_tutorial.ipynb",
      "provenance": [],
      "authorship_tag": "ABX9TyOgiJXZP1sGOmNV3D3JglPG",
      "include_colab_link": true
    },
    "kernelspec": {
      "name": "python3",
      "display_name": "Python 3"
    },
    "language_info": {
      "name": "python"
    }
  },
  "cells": [
    {
      "cell_type": "markdown",
      "metadata": {
        "id": "view-in-github",
        "colab_type": "text"
      },
      "source": [
        "<a href=\"https://colab.research.google.com/github/jinyingtld/python/blob/main/AI6126_tutorial.ipynb\" target=\"_parent\"><img src=\"https://colab.research.google.com/assets/colab-badge.svg\" alt=\"Open In Colab\"/></a>"
      ]
    },
    {
      "cell_type": "code",
      "execution_count": 5,
      "metadata": {
        "id": "0xUx2elRA1Az"
      },
      "outputs": [],
      "source": [
        "import torch\n",
        "import torchvision\n",
        "\n",
        "from torch import nn"
      ]
    },
    {
      "cell_type": "markdown",
      "source": [
        "# Convolutional layer in PyTorch \n",
        "\n",
        "## Conv2d\n",
        "CLASS torch.nn.Conv2d(in_channels, out_channels, kernel_size, stride=1, padding=0,dilation=1, groups=1,bias=True,padding_mode='zeros'\n",
        "\n",
        "Applies a 2D convolution over an input signal composed of several input planes.\n",
        "\n",
        "In the simplest case, the output value of the layer with input size (N, Cin,H,W) and output (N, Cout,Hout,Wout) can be precisely described as:\n",
        "\n",
        ">out($N_{i},C_{out_{j}})=bias(C_{out_{j}}+\\sum^{C_{in} -1}_{k=0}weight(C_{out_{j}},k)*input(N_{i},k)$ \n",
        "\n",
        "where * is the valid 2D ccross-correlation operator, N is a batch size, C denotes a number of channels, H is a height of input planes in pixels, and W is width in pixels.\n",
        "\n",
        "* ***stride*** control the stride for the cross-correlation,a single number or a tuple.\n",
        "* ***padding*** controls the amount of implicit zero-paddings on both sides for padding number of points for each dimension.\n",
        "* ***dilation*** controls the spacing between the kernel points; also known as the a trous algorithm, it is harder to describe, but this link has a nice visualization of what dilation does. \n",
        "* ***groups*** controls the connections between inputs and outputs. in_channels and out_channels must both be divisible by groups. For example, \n",
        "    >- At groups=1, all inputs are convolved to all outputs \n",
        "    >- At groups=2, the operation becomes equivalent to having two conv layers side by side, each seeing half the input channels,and producing half the output channels,and both subsequently concatenated\n",
        "    >- At groups=in_channels, each input channel is convolved with its own set of filters, of size:[$\\frac{out\\\\_channel}{in\\\\_channel}$]\n",
        "\n",
        "The parameters ***kernel_size***,***stride***,***padding***,***dilation**** can either be:\n",
        "    \n",
        "        * a single int - in which case the same value is used for the height and width dimension\n",
        "        * a tuple of two ints - in which case, the first int is used for the height dimension, and the second int for the width dimension\n",
        "            "
      ],
      "metadata": {
        "id": "dLtWQCfQE8L5"
      }
    },
    {
      "cell_type": "code",
      "source": [
        "# ?nn.Conv2d\n",
        "\n",
        "# with square kernels and equal stride\n",
        "m = nn.Conv2d(16, 33, 3, stride=2)\n",
        "# non-square kernels and unequal stride and with padding \n",
        "m = nn.Conv2d(16, 33, (3, 5), stride=(2, 1), padding=(4, 2)) \n",
        "# non-square kernels and unequall stride and with padding and dilation \n",
        "m = nn.Conv2d(16, 33, (3, 5), stride=(2, 1), padding=(4, 2), dilation=(3, 1)) # dilation result will \n",
        "# controls output size\n",
        "input = torch.randn(20, 16, 50, 100)  # 20: N 16:Cin 50:H 100:W\n",
        "print(input.size())\n",
        "output = m(input)\n",
        "print(output.size())"
      ],
      "metadata": {
        "colab": {
          "base_uri": "https://localhost:8080/"
        },
        "id": "34aWtXhCESW7",
        "outputId": "a0393990-e197-4740-8066-d7783016f9cb"
      },
      "execution_count": 19,
      "outputs": [
        {
          "output_type": "stream",
          "name": "stdout",
          "text": [
            "torch.Size([20, 16, 50, 100])\n",
            "torch.Size([20, 33, 28, 100])\n"
          ]
        }
      ]
    },
    {
      "cell_type": "code",
      "source": [
        "# ?torch.randn"
      ],
      "metadata": {
        "id": "yQarvYk5OBEZ"
      },
      "execution_count": 11,
      "outputs": []
    },
    {
      "cell_type": "markdown",
      "source": [
        "# MaxPool2d\n",
        "\n",
        "CLASS torch.nn.MaxPool2d(kernel_size,stride=None,padding=0,dilation=1,return_indices=False,ceil_mode=False)\n",
        "\n",
        "Applies a 2D max pooling over an input signal composed of several input planes.\n",
        "\n",
        "In the samplest case, the output value of the layer with input size (N,C,H,W), output(N,C,Hout,Wout) and kernel_size(kH,kW) can be precisely describbed as:\n",
        ">out($N_{i},C_{out_{j}})=max_{m=0,...,kH-1}max_{n=0,...,kW-1}input(N_{i},C_{j},stride[0]\\\\X\\space h+m,stride[1]\\\\X \\space w+n$\n",
        "\n",
        "If padding is non-zero, then the input is implicitly zero-padded on both sides for padding number of points. dilation controls the spacing between the kernel points. It is harder to describe, but this link has a nice visualization of what dilation does. \n",
        "\n",
        "The parameters kernel_size, stride, padding, dilation can either be:\n",
        "\n",
        "        * a single int - in which case the same value is used for the height and width dimension\n",
        "        * a tuple of two ints - in which case, the first int is used for the height dimension, and the second int for the width dimension"
      ],
      "metadata": {
        "id": "Zp0RmWvbVY4w"
      }
    },
    {
      "cell_type": "code",
      "source": [
        "# pool of square window of size=3, stride=2\n",
        "m = nn.MaxPool2d(3, stride=2)\n",
        "# pool of non-square window\n",
        "m = nn.MaxPool2d((3, 2), stride=(2, 1))\n",
        "input = torch.randn(20, 16, 50, 32)\n",
        "print(input.size())\n",
        "output = m(input)\n",
        "print(output.size())"
      ],
      "metadata": {
        "colab": {
          "base_uri": "https://localhost:8080/"
        },
        "id": "ph5wof1ccqFG",
        "outputId": "f82b43f3-c4cf-4555-9911-754842dfea03"
      },
      "execution_count": 23,
      "outputs": [
        {
          "output_type": "stream",
          "name": "stdout",
          "text": [
            "torch.Size([20, 16, 50, 32])\n",
            "torch.Size([20, 16, 24, 31])\n"
          ]
        }
      ]
    },
    {
      "cell_type": "markdown",
      "source": [
        "# AvgPool2d\n",
        "\n",
        "CLASS torch.nn.AvgPool2d(kernel_size,stride=None,padding=0,ceil_mode=False,count_include_pad=True,divisor_override=None)\n",
        "\n",
        "Applies a 2D average pooling over an input signal composed of several input planes.\n",
        "\n",
        "In the samplest case, the output value of the layer with input size (N,C,H,W), output(N,C,Hout,Wout) and kernel_size(kH,kW) can be precisely describbed as:\n",
        ">out($N_{i},C_{out_{j}})=\\frac{1}{kH * kW}\\sum^{kH-1}_{m=0}\\sum^{kW-1}_{n=0}input(N_{i},C_{j},stride[0]\\\\X\\space h+m,stride[1]\\\\X \\space w+n$\n",
        "\n",
        "If padding is non-zero, then the input is implicitly zero-padded on both sides for padding number of points. \n",
        "\n",
        "The parameters kernel_size, stride, padding, dilation can either be:\n",
        "\n",
        "        * a single int - in which case the same value is used for the height and width dimension\n",
        "        * a tuple of two ints - in which case, the first int is used for the height dimension, and the second int for the width dimension"
      ],
      "metadata": {
        "id": "0MWBZVRGdjao"
      }
    },
    {
      "cell_type": "code",
      "source": [
        "# pool of square window of size=3, stride=2\n",
        "m = nn.AvgPool2d(3, stride=2)\n",
        "# pool of non-square window\n",
        "m = nn.AvgPool2d((3, 2), stride=(2, 1))\n",
        "input = torch.randn(20, 16, 50, 32)\n",
        "print(input.size())\n",
        "output = m(input)\n",
        "print(output.size())"
      ],
      "metadata": {
        "colab": {
          "base_uri": "https://localhost:8080/"
        },
        "id": "c_53bAVAdis6",
        "outputId": "9faabcc8-d0d7-44e3-b69a-43271f7ec896"
      },
      "execution_count": 24,
      "outputs": [
        {
          "output_type": "stream",
          "name": "stdout",
          "text": [
            "torch.Size([20, 16, 50, 32])\n",
            "torch.Size([20, 16, 24, 31])\n"
          ]
        }
      ]
    },
    {
      "cell_type": "markdown",
      "source": [
        "# Linear \n",
        "CLASS torch.nn.Linear(in_features,out_features,bias=True)\n",
        "\n",
        "Applies a linear transformation to the incoming data: $y=xA^{T}+b$\n",
        "\n",
        ">Parameteres\n",
        ">- in_features - \n"
      ],
      "metadata": {
        "id": "d2ZJMepgfIYL"
      }
    }
  ]
}