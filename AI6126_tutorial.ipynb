{
  "nbformat": 4,
  "nbformat_minor": 0,
  "metadata": {
    "colab": {
      "name": "AI6126_tutorial.ipynb",
      "provenance": [],
      "collapsed_sections": [],
      "authorship_tag": "ABX9TyMv2sn5OJ41A7giMBvGi5ZN",
      "include_colab_link": true
    },
    "kernelspec": {
      "name": "python3",
      "display_name": "Python 3"
    },
    "language_info": {
      "name": "python"
    }
  },
  "cells": [
    {
      "cell_type": "markdown",
      "metadata": {
        "id": "view-in-github",
        "colab_type": "text"
      },
      "source": [
        "<a href=\"https://colab.research.google.com/github/jinyingtld/python/blob/main/AI6126_tutorial.ipynb\" target=\"_parent\"><img src=\"https://colab.research.google.com/assets/colab-badge.svg\" alt=\"Open In Colab\"/></a>"
      ]
    },
    {
      "cell_type": "code",
      "execution_count": 5,
      "metadata": {
        "id": "0xUx2elRA1Az"
      },
      "outputs": [],
      "source": [
        "import torch\n",
        "import torchvision\n",
        "\n",
        "from torch import nn"
      ]
    },
    {
      "cell_type": "markdown",
      "source": [
        "# Convolutional layer in PyTorch \n",
        "\n",
        "## Conv2d\n",
        "CLASS torch.nn.Conv2d(in_channels, out_channels, kernel_size, stride=1, padding=0,dilation=1, groups=1,bias=True,padding_mode='zeros'\n",
        "\n",
        "Applies a 2D convolution over an input signal composed of several input planes.\n",
        "\n",
        "In the simplest case, the output value of the layer with input size (N, Cin,H,W) and output (N, Cout,Hout,Wout) can be precisely described as:\n",
        "\n",
        ">out($N_{i},C_{out_{j}})=bias(C_{out_{j}}+\\sum^{C_{in} -1}_{k=0}weight(C_{out_{j}},k)*input(N_{i},k)$ \n",
        "\n",
        "where * is the valid 2D ccross-correlation operator, N is a batch size, C denotes a number of channels, H is a height of input planes in pixels, and W is width in pixels.\n",
        "\n",
        "* ***stride*** control the stride for the cross-correlation,a single number or a tuple.\n",
        "* ***padding*** controls the amount of implicit zero-paddings on both sides for padding number of points for each dimension.\n",
        "* ***dilation*** controls the spacing between the kernel points; also known as the a trous algorithm, it is harder to describe, but this link has a nice visualization of what dilation does. \n",
        "* ***groups*** controls the connections between inputs and outputs. in_channels and out_channels must both be divisible by groups. For example, \n",
        "    >- At groups=1, all inputs are convolved to all outputs \n",
        "    >- At groups=2, the operation becomes equivalent to having two conv layers side by side, each seeing half the input channels,and producing half the output channels,and both subsequently concatenated\n",
        "    >- At groups=in_channels, each input channel is convolved with its own set of filters, of size:[$\\frac{out\\\\_channel}{in\\\\_channel}$]\n",
        "\n",
        "The parameters ***kernel_size***,***stride***,***padding***,***dilation**** can either be:\n",
        "    \n",
        "        * a single int - in which case the same value is used for the height and width dimension\n",
        "        * a tuple of two ints - in which case, the first int is used for the height dimension, and the second int for the width dimension\n",
        "            "
      ],
      "metadata": {
        "id": "dLtWQCfQE8L5"
      }
    },
    {
      "cell_type": "code",
      "source": [
        "# ?nn.Conv2d\n",
        "\n",
        "# with square kernels and equal stride\n",
        "m = nn.Conv2d(16, 33, 3, stride=2)\n",
        "# non-square kernels and unequal stride and with padding \n",
        "m = nn.Conv2d(16, 33, (3, 5), stride=(2, 1), padding=(4, 2)) \n",
        "# non-square kernels and unequall stride and with padding and dilation \n",
        "m = nn.Conv2d(16, 33, (3, 5), stride=(2, 1), padding=(4, 2), dilation=(3, 1)) # dilation result will \n",
        "# controls output size\n",
        "input = torch.randn(20, 16, 50, 100)  # 20: N 16:Cin 50:H 100:W\n",
        "print(input.size())\n",
        "output = m(input)\n",
        "print(output.size())"
      ],
      "metadata": {
        "colab": {
          "base_uri": "https://localhost:8080/"
        },
        "id": "34aWtXhCESW7",
        "outputId": "a0393990-e197-4740-8066-d7783016f9cb"
      },
      "execution_count": 19,
      "outputs": [
        {
          "output_type": "stream",
          "name": "stdout",
          "text": [
            "torch.Size([20, 16, 50, 100])\n",
            "torch.Size([20, 33, 28, 100])\n"
          ]
        }
      ]
    },
    {
      "cell_type": "code",
      "source": [
        "# ?torch.randn"
      ],
      "metadata": {
        "id": "yQarvYk5OBEZ"
      },
      "execution_count": 11,
      "outputs": []
    },
    {
      "cell_type": "markdown",
      "source": [
        "# MaxPool2d\n",
        "\n",
        "CLASS torch.nn.MaxPool2d(kernel_size,stride=None,padding=0,dilation=1,return_indices=False,ceil_mode=False)\n",
        "\n",
        "Applies a 2D max pooling over an input signal composed of several input planes.\n",
        "\n",
        "In the samplest case, the output value of the layer with input size (N,C,H,W), output(N,C,Hout,Wout) and kernel_size(kH,kW) can be precisely describbed as:\n",
        ">out($N_{i},C_{out_{j}})=max_{m=0,...,kH-1}max_{n=0,...,kW-1}input(N_{i},C_{j},stride[0]\\\\X\\space h+m,stride[1]\\\\X \\space w+n$\n",
        "\n",
        "If padding is non-zero, then the input is implicitly zero-padded on both sides for padding number of points. dilation controls the spacing between the kernel points. It is harder to describe, but this link has a nice visualization of what dilation does. \n",
        "\n",
        "The parameters kernel_size, stride, padding, dilation can either be:\n",
        "\n",
        "        * a single int - in which case the same value is used for the height and width dimension\n",
        "        * a tuple of two ints - in which case, the first int is used for the height dimension, and the second int for the width dimension"
      ],
      "metadata": {
        "id": "Zp0RmWvbVY4w"
      }
    },
    {
      "cell_type": "code",
      "source": [
        "# pool of square window of size=3, stride=2\n",
        "m = nn.MaxPool2d(3, stride=2)\n",
        "# pool of non-square window\n",
        "m = nn.MaxPool2d((3, 2), stride=(2, 1))\n",
        "input = torch.randn(20, 16, 50, 32)\n",
        "print(input.size())\n",
        "output = m(input)\n",
        "print(output.size())"
      ],
      "metadata": {
        "colab": {
          "base_uri": "https://localhost:8080/"
        },
        "id": "ph5wof1ccqFG",
        "outputId": "f82b43f3-c4cf-4555-9911-754842dfea03"
      },
      "execution_count": 23,
      "outputs": [
        {
          "output_type": "stream",
          "name": "stdout",
          "text": [
            "torch.Size([20, 16, 50, 32])\n",
            "torch.Size([20, 16, 24, 31])\n"
          ]
        }
      ]
    },
    {
      "cell_type": "markdown",
      "source": [
        "# AvgPool2d\n",
        "\n",
        "CLASS torch.nn.AvgPool2d(kernel_size,stride=None,padding=0,ceil_mode=False,count_include_pad=True,divisor_override=None)\n",
        "\n",
        "Applies a 2D average pooling over an input signal composed of several input planes.\n",
        "\n",
        "In the samplest case, the output value of the layer with input size (N,C,H,W), output(N,C,Hout,Wout) and kernel_size(kH,kW) can be precisely describbed as:\n",
        ">out($N_{i},C_{out_{j}})=\\frac{1}{kH * kW}\\sum^{kH-1}_{m=0}\\sum^{kW-1}_{n=0}input(N_{i},C_{j},stride[0]\\\\X\\space h+m,stride[1]\\\\X \\space w+n$\n",
        "\n",
        "If padding is non-zero, then the input is implicitly zero-padded on both sides for padding number of points. \n",
        "\n",
        "The parameters kernel_size, stride, padding, dilation can either be:\n",
        "\n",
        "        * a single int - in which case the same value is used for the height and width dimension\n",
        "        * a tuple of two ints - in which case, the first int is used for the height dimension, and the second int for the width dimension"
      ],
      "metadata": {
        "id": "0MWBZVRGdjao"
      }
    },
    {
      "cell_type": "code",
      "source": [
        "# pool of square window of size=3, stride=2\n",
        "m = nn.AvgPool2d(3, stride=2)\n",
        "# pool of non-square window\n",
        "m = nn.AvgPool2d((3, 2), stride=(2, 1))\n",
        "input = torch.randn(20, 16, 50, 32)\n",
        "print(input.size())\n",
        "output = m(input)\n",
        "print(output.size())"
      ],
      "metadata": {
        "colab": {
          "base_uri": "https://localhost:8080/"
        },
        "id": "c_53bAVAdis6",
        "outputId": "9faabcc8-d0d7-44e3-b69a-43271f7ec896"
      },
      "execution_count": 24,
      "outputs": [
        {
          "output_type": "stream",
          "name": "stdout",
          "text": [
            "torch.Size([20, 16, 50, 32])\n",
            "torch.Size([20, 16, 24, 31])\n"
          ]
        }
      ]
    },
    {
      "cell_type": "markdown",
      "source": [
        "# Linear \n",
        "CLASS torch.nn.Linear(in_features,out_features,bias=True)\n",
        "\n",
        "Applies a linear transformation to the incoming data: $y=xA^{T}+b$\n",
        "\n",
        ">Parameteres\n",
        ">- in_features - size of each input sample\n",
        ">- out_features - size of each output sample\n",
        ">- bias - If set to False, the layer will not learn an additive bias. Default: True\n",
        "\n",
        ">Shape:\n",
        ">- Input:$(N,*,H_{in})$ where * means any number of additional dimensions and $H_{in}=in\\_features$\n",
        ">- Output:$(N,*,H_{out})$ where all but the last dimension are the same shape as the input and $H_{out}=out\\_features$\n",
        "\n",
        ">Variables\n",
        ">- ***~Linear.weight*** - the learnable weights of the module of shape(out_features, in_features). The values are initialized from $u(-\\sqrt{k},\\sqrt{k})$,where $k = \\frac{1}{in\\_features}$\n",
        "\n",
        ">- ***~Linear.bias*** - the leanable bias of the module of shape(out_features). if bias is True, the values are initialized from $u(-\\sqrt{k},\\sqrt{k})$,where $k = \\frac{1}{in\\_features}$\n"
      ],
      "metadata": {
        "id": "d2ZJMepgfIYL"
      }
    },
    {
      "cell_type": "code",
      "source": [
        "# padding.ipynb\n",
        "# Install PyTorch and Torchvision\n",
        "\n",
        "# !pip install -U torch==1.5.1+cu101 torchvision==0.6.1+cu101 -f https://download.pytorch.org/whl/torch_stable.html\n",
        "\n",
        "torch.__version__\n",
        "\n",
        "import torch\n",
        "import torch.nn as nn\n",
        "import torch.nn.functional as F\n",
        "import torchvision \n",
        "import torchvision.transforms as transforms \n",
        "\n"
      ],
      "metadata": {
        "id": "TWTWo4T6zO8b"
      },
      "execution_count": 29,
      "outputs": []
    },
    {
      "cell_type": "code",
      "source": [
        "m = nn.ZeroPad2d(2)"
      ],
      "metadata": {
        "id": "7AX-aXEI0ain"
      },
      "execution_count": 30,
      "outputs": []
    },
    {
      "cell_type": "code",
      "source": [
        "input = torch.randn(1,1,3,3)"
      ],
      "metadata": {
        "id": "sbyZ9vbH0eZp"
      },
      "execution_count": 31,
      "outputs": []
    },
    {
      "cell_type": "code",
      "source": [
        "input"
      ],
      "metadata": {
        "colab": {
          "base_uri": "https://localhost:8080/"
        },
        "id": "OhQaaWIn0iAv",
        "outputId": "b5b92afe-b414-421f-e74a-1480873a4cf5"
      },
      "execution_count": 32,
      "outputs": [
        {
          "output_type": "execute_result",
          "data": {
            "text/plain": [
              "tensor([[[[-1.2302,  0.2768,  1.7490],\n",
              "          [-0.3340, -0.1988, -0.1093],\n",
              "          [-0.3426, -0.0642, -0.5851]]]])"
            ]
          },
          "metadata": {},
          "execution_count": 32
        }
      ]
    },
    {
      "cell_type": "code",
      "source": [
        "m(input)"
      ],
      "metadata": {
        "colab": {
          "base_uri": "https://localhost:8080/"
        },
        "id": "BMFiTlSK0jHS",
        "outputId": "be99abd4-147a-4ba5-809f-bc05630a5f67"
      },
      "execution_count": 33,
      "outputs": [
        {
          "output_type": "execute_result",
          "data": {
            "text/plain": [
              "tensor([[[[ 0.0000,  0.0000,  0.0000,  0.0000,  0.0000,  0.0000,  0.0000],\n",
              "          [ 0.0000,  0.0000,  0.0000,  0.0000,  0.0000,  0.0000,  0.0000],\n",
              "          [ 0.0000,  0.0000, -1.2302,  0.2768,  1.7490,  0.0000,  0.0000],\n",
              "          [ 0.0000,  0.0000, -0.3340, -0.1988, -0.1093,  0.0000,  0.0000],\n",
              "          [ 0.0000,  0.0000, -0.3426, -0.0642, -0.5851,  0.0000,  0.0000],\n",
              "          [ 0.0000,  0.0000,  0.0000,  0.0000,  0.0000,  0.0000,  0.0000],\n",
              "          [ 0.0000,  0.0000,  0.0000,  0.0000,  0.0000,  0.0000,  0.0000]]]])"
            ]
          },
          "metadata": {},
          "execution_count": 33
        }
      ]
    },
    {
      "cell_type": "markdown",
      "source": [
        "# MNIST with PyTorch \n",
        "In this notebook example, we will walk through how to train a simple CNN to classify MNIST images. \n",
        "\n",
        "We will rely on the following modules,including torch and torchvision."
      ],
      "metadata": {
        "id": "PrDZHB-E1MQg"
      }
    },
    {
      "cell_type": "code",
      "source": [
        "# install dependencies: (use cu101 because colab has CUDA 10.1)\n",
        "# !pip install -U torch==1.5.1+cu101 torchvision==0.6.1+cu101 -f https://download.pytorch.org/whl/torch_stable.html"
      ],
      "metadata": {
        "id": "yZ0VHyNl1fNa"
      },
      "execution_count": null,
      "outputs": []
    },
    {
      "cell_type": "code",
      "source": [
        "import torch\n",
        "import torchvision\n",
        "from torch import nn\n",
        "from torch.utils.data import DataLoader\n",
        "from torchvision import datasets\n",
        "from torchvision import transforms\n",
        "import matplotlib.pyplot as plt \n"
      ],
      "metadata": {
        "id": "TDz44kJu1LK3"
      },
      "execution_count": 36,
      "outputs": []
    },
    {
      "cell_type": "markdown",
      "source": [
        "# 1. Data Loader \n",
        "The first step is to create a data loader.\n",
        "A data loader can be treated as a list (or iterator, technically). Each time it will provide a minibatch of (img, label) pairs."
      ],
      "metadata": {
        "id": "GnZPLZ3x3oyS"
      }
    },
    {
      "cell_type": "code",
      "source": [
        "# Choose a dataset -- MNIST for example\n",
        "train_set = datasets.MNIST(root='./data', train=True,download=True)\n",
        "test_set = datasets.MNIST(root='./data', train=False,download=True)\n",
        "\n",
        "train_set.transform = transform=transforms.Compose([\n",
        "                            transforms.ToTensor(),\n",
        "                            transforms.Normalize((0.1307,),(0.3081,))                    \n",
        "                    ])\n",
        "\n",
        "test_set.transform = transform=transforms.Compose([\n",
        "                            transforms.ToTensor(),\n",
        "                            transforms.Normalize((0.1307,), (0.3081,))                               \n",
        "                    ])\n",
        "\n",
        "# Create a data loader \n",
        "train_loader = DataLoader(train_set,batch_size=64, shuffle=True)\n",
        "test_loader = DataLoader(test_set,batch_size=64, shuffle=False)"
      ],
      "metadata": {
        "id": "gCUki6bT62kR"
      },
      "execution_count": 53,
      "outputs": []
    },
    {
      "cell_type": "code",
      "source": [
        "!ls -l ./data/MNIST/raw\n",
        "# ?transforms.Compose\n",
        "# ??transforms.Normalize"
      ],
      "metadata": {
        "colab": {
          "base_uri": "https://localhost:8080/"
        },
        "id": "CLW1PAE03ll1",
        "outputId": "e80a2ff8-d7f3-41e3-b59c-0a2a9fe292ff"
      },
      "execution_count": 49,
      "outputs": [
        {
          "output_type": "stream",
          "name": "stdout",
          "text": [
            "total 65008\n",
            "-rw-r--r-- 1 root root  7840016 Jan 31 06:58 t10k-images-idx3-ubyte\n",
            "-rw-r--r-- 1 root root  1648877 Jan 31 06:58 t10k-images-idx3-ubyte.gz\n",
            "-rw-r--r-- 1 root root    10008 Jan 31 06:58 t10k-labels-idx1-ubyte\n",
            "-rw-r--r-- 1 root root     4542 Jan 31 06:58 t10k-labels-idx1-ubyte.gz\n",
            "-rw-r--r-- 1 root root 47040016 Jan 31 06:58 train-images-idx3-ubyte\n",
            "-rw-r--r-- 1 root root  9912422 Jan 31 06:58 train-images-idx3-ubyte.gz\n",
            "-rw-r--r-- 1 root root    60008 Jan 31 06:58 train-labels-idx1-ubyte\n",
            "-rw-r--r-- 1 root root    28881 Jan 31 06:58 train-labels-idx1-ubyte.gz\n"
          ]
        }
      ]
    },
    {
      "cell_type": "markdown",
      "source": [
        "Let us show some of the training images, for fun."
      ],
      "metadata": {
        "id": "3Q2zoWSz-pyY"
      }
    },
    {
      "cell_type": "code",
      "source": [
        "def imshow(img, mean=0, std=1):\n",
        "    img = img * std + mean # unnormalize \n",
        "    npimg = img.numpy().transpose(1, 2, 0).squeeze() # c(c, h, w) -> (h, w, c)\n",
        "    plt.imshow(npimg)\n",
        "    plt.show()\n",
        "\n",
        "trainiter = iter(train_loader)\n",
        "img, label = trainiter.next()\n",
        "print(img.shape) # (n,c,h,w)\n",
        "\n",
        "# Visualization \n",
        "img = torchvision.utils.make_grid(img)\n",
        "imshow(img, 0.1307, 0.3081)\n",
        "print('Gt\\t:', ' '.join('%d' % label[j].item() for j in range(len(label))))"
      ],
      "metadata": {
        "colab": {
          "base_uri": "https://localhost:8080/",
          "height": 324
        },
        "id": "EGx_NkfS3h3e",
        "outputId": "22d626f4-fff1-4c0b-f36d-769d6d3d0af1"
      },
      "execution_count": 56,
      "outputs": [
        {
          "output_type": "stream",
          "name": "stdout",
          "text": [
            "torch.Size([64, 1, 28, 28])\n"
          ]
        },
        {
          "output_type": "display_data",
          "data": {
            "image/png": "[encoded data removed]",
            "text/plain": [
              "<Figure size 432x288 with 1 Axes>"
            ]
          },
          "metadata": {
            "needs_background": "light"
          }
        },
        {
          "output_type": "stream",
          "name": "stdout",
          "text": [
            "Gt\t: 7 1 1 2 9 4 5 3 8 5 4 1 9 2 3 3 9 3 1 0 3 1 1 6 0 1 3 7 7 0 6 7 2 7 0 2 2 9 1 1 9 7 8 7 9 5 7 6 0 4 9 6 1 9 5 2 8 8 3 2 8 2 1 0\n"
          ]
        }
      ]
    },
    {
      "cell_type": "code",
      "source": [
        "# To check a single random image\n",
        "\n",
        "trainiter = iter(train_loader)\n",
        "img, label = trainiter.next()\n",
        "plt.imshow(img[0].reshape(28,28), cmap=\"gray\")"
      ],
      "metadata": {
        "colab": {
          "base_uri": "https://localhost:8080/",
          "height": 282
        },
        "id": "zb8Gm26c-hfe",
        "outputId": "f3262ec0-fc67-49da-8f63-43fefa07e4fa"
      },
      "execution_count": 59,
      "outputs": [
        {
          "output_type": "execute_result",
          "data": {
            "text/plain": [
              "<matplotlib.image.AxesImage at 0x7f5b0a247d10>"
            ]
          },
          "metadata": {},
          "execution_count": 59
        },
        {
          "output_type": "display_data",
          "data": {
            "image/png": "[encoded data removed]",
            "text/plain": [
              "<Figure size 432x288 with 1 Axes>"
            ]
          },
          "metadata": {
            "needs_background": "light"
          }
        }
      ]
    },
    {
      "cell_type": "markdown",
      "source": [
        "# 2. Model \n",
        "The second step is to define our model.\n",
        "\n",
        "We will use a simple CNN with conv(5X5) -> relu -> pool(2x2) -> conv(5X5) -> relu -> pool(2x2) ->fc(200) -> relu -> fc(10).\n",
        "\n",
        "In PyTorch, a model is defined by a subclass of nn.Module. It has two methods: \n",
        ">- \\__init__:constructor. Create layers here. Note that we don't define the connections between layers in this function.\n",
        ">- forward(x): forward function. Receives an input variable x. Returns a output variable. Note that we actually connect the layers here dynamically.\n",
        "\n",
        "We no longer need to implement the backward function. The computational graph will be built implicitly based on the forward operations, and the gradients can be automatically computed. \n"
      ],
      "metadata": {
        "id": "HJjrVG_uBH9V"
      }
    },
    {
      "cell_type": "code",
      "source": [
        "class SimpleCNN(nn.Module):\n",
        "    def __init__(self):\n",
        "        super(SimpleCNN, self).__init__() # Call parent class's constructor \n",
        "        self.conv1 = nn.Conv2d(1, 10, 5, 1) # (in_channel, out_channel,kenel_size,stride)\n",
        "        self.conv2 = nn.Conv2d(10, 20, 5, 1) # (in_channel, out_channel,kenel_size,stride)\n",
        "        self.pool = nn.MaxPool2d(2) # kernel_size=2\n",
        "        self.fc1 = nn.Linear(4*4*20, 200) # in_features, out_features\n",
        "        self.fc2 = nn.Linear(200, 10)\n",
        "        self.relu = nn.ReLU()\n",
        "    \n",
        "    def forward(self, x):\n",
        "        x = self.conv1(x) # Hout=(28-5)/1 +1 = 24, Hout X Wout = 24 * 24 Cout=10\n",
        "        x = self.relu(x)\n",
        "        x = self.pool(x) # (24-2)/2 + 1 = 12 , Hout*Wout = 12*12 Cout=10\n",
        "        x = self.conv2(x) # (12-5)/1 + 1 = 8  Hout*Wout = 8*8 Cout=20\n",
        "        x = self.relu(x)\n",
        "        x = self.pool(x) # (8-2)/2 + 1 = 4 , Hout*Wout = 4*4 Cout=20\n",
        "        x = x.view(-1, 4*4*20) # Flatten the data\n",
        "        x = self.relu(self.fc1(x))\n",
        "        x = self.fc2(x)\n",
        "        return x\n",
        "    \n",
        "model  = SimpleCNN()"
      ],
      "metadata": {
        "id": "L3mT12_LAW9u"
      },
      "execution_count": 60,
      "outputs": []
    },
    {
      "cell_type": "markdown",
      "source": [
        "You can double check your model specification. "
      ],
      "metadata": {
        "id": "PBTBgxqvHhlq"
      }
    },
    {
      "cell_type": "code",
      "source": [
        "# print(model)\n",
        "\n"
      ],
      "metadata": {
        "colab": {
          "base_uri": "https://localhost:8080/"
        },
        "id": "XTZ0b1f_AXAz",
        "outputId": "737f0e14-f36f-4574-9fd6-250d937cc88d"
      },
      "execution_count": 62,
      "outputs": [
        {
          "output_type": "stream",
          "name": "stdout",
          "text": [
            "SimpleCNN(\n",
            "  (conv1): Conv2d(1, 10, kernel_size=(5, 5), stride=(1, 1))\n",
            "  (conv2): Conv2d(10, 20, kernel_size=(5, 5), stride=(1, 1))\n",
            "  (pool): MaxPool2d(kernel_size=2, stride=2, padding=0, dilation=1, ceil_mode=False)\n",
            "  (fc1): Linear(in_features=320, out_features=200, bias=True)\n",
            "  (fc2): Linear(in_features=200, out_features=10, bias=True)\n",
            "  (relu): ReLU()\n",
            ")\n"
          ]
        }
      ]
    },
    {
      "cell_type": "markdown",
      "source": [
        "Let us test with random inputs."
      ],
      "metadata": {
        "id": "6OBC9iLfH3b5"
      }
    },
    {
      "cell_type": "code",
      "source": [
        "x = torch.rand([64, 1, 28, 28])\n",
        "x.shape"
      ],
      "metadata": {
        "colab": {
          "base_uri": "https://localhost:8080/"
        },
        "id": "g8nvHdJsHxBL",
        "outputId": "02b7c708-1692-4ba5-ca44-ca87560a876f"
      },
      "execution_count": 66,
      "outputs": [
        {
          "output_type": "execute_result",
          "data": {
            "text/plain": [
              "torch.Size([64, 1, 28, 28])"
            ]
          },
          "metadata": {},
          "execution_count": 66
        }
      ]
    },
    {
      "cell_type": "code",
      "source": [
        "y = model(x)\n",
        "print(y.shape)"
      ],
      "metadata": {
        "colab": {
          "base_uri": "https://localhost:8080/"
        },
        "id": "kJ9XTrYDH_rZ",
        "outputId": "d2e1efe8-885b-464e-9529-7dc0b3e5e560"
      },
      "execution_count": 65,
      "outputs": [
        {
          "output_type": "stream",
          "name": "stdout",
          "text": [
            "torch.Size([64, 10])\n"
          ]
        }
      ]
    },
    {
      "cell_type": "markdown",
      "source": [
        "# 3. Loss and Optimizer \n",
        "The third step is to define the loss function and the optimization algorithm. let's use a Classification Cross-Entropy loss and SGD with momentum."
      ],
      "metadata": {
        "id": "Np9yCWnpOLAm"
      }
    },
    {
      "cell_type": "code",
      "source": [
        ""
      ],
      "metadata": {
        "id": "0wDPe8L5IF1J"
      },
      "execution_count": 67,
      "outputs": []
    },
    {
      "cell_type": "code",
      "source": [
        ""
      ],
      "metadata": {
        "id": "6SFocXbZIBup"
      },
      "execution_count": null,
      "outputs": []
    }
  ]
}