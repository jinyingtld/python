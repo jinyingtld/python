{
  "nbformat": 4,
  "nbformat_minor": 0,
  "metadata": {
    "colab": {
      "name": "AI6126_tutorial.ipynb",
      "provenance": [],
      "collapsed_sections": [],
      "authorship_tag": "ABX9TyMT72hJvsDmT5t30nq5PBi/",
      "include_colab_link": true
    },
    "kernelspec": {
      "name": "python3",
      "display_name": "Python 3"
    },
    "language_info": {
      "name": "python"
    },
    "accelerator": "GPU",
    "widgets": {
      "application/vnd.jupyter.widget-state+json": {
        "2c7a25e044cb41009a038f85476587a1": {
          "model_module": "@jupyter-widgets/controls",
          "model_name": "HBoxModel",
          "model_module_version": "1.5.0",
          "state": {
            "_view_name": "HBoxView",
            "_dom_classes": [],
            "_model_name": "HBoxModel",
            "_view_module": "@jupyter-widgets/controls",
            "_model_module_version": "1.5.0",
            "_view_count": null,
            "_view_module_version": "1.5.0",
            "box_style": "",
            "layout": "IPY_MODEL_0ff8e191a81c40809900fdd2d4ec4708",
            "_model_module": "@jupyter-widgets/controls",
            "children": [
              "IPY_MODEL_eb9a1a89763447ce855f8761116529c3",
              "IPY_MODEL_73bf5c6cc9a246e4900e6a15359cb0cc",
              "IPY_MODEL_c5e8f3a0cc594f6b889cb9cdee20836d"
            ]
          }
        },
        "0ff8e191a81c40809900fdd2d4ec4708": {
          "model_module": "@jupyter-widgets/base",
          "model_name": "LayoutModel",
          "model_module_version": "1.2.0",
          "state": {
            "_view_name": "LayoutView",
            "grid_template_rows": null,
            "right": null,
            "justify_content": null,
            "_view_module": "@jupyter-widgets/base",
            "overflow": null,
            "_model_module_version": "1.2.0",
            "_view_count": null,
            "flex_flow": null,
            "width": null,
            "min_width": null,
            "border": null,
            "align_items": null,
            "bottom": null,
            "_model_module": "@jupyter-widgets/base",
            "top": null,
            "grid_column": null,
            "overflow_y": null,
            "overflow_x": null,
            "grid_auto_flow": null,
            "grid_area": null,
            "grid_template_columns": null,
            "flex": null,
            "_model_name": "LayoutModel",
            "justify_items": null,
            "grid_row": null,
            "max_height": null,
            "align_content": null,
            "visibility": null,
            "align_self": null,
            "height": null,
            "min_height": null,
            "padding": null,
            "grid_auto_rows": null,
            "grid_gap": null,
            "max_width": null,
            "order": null,
            "_view_module_version": "1.2.0",
            "grid_template_areas": null,
            "object_position": null,
            "object_fit": null,
            "grid_auto_columns": null,
            "margin": null,
            "display": null,
            "left": null
          }
        },
        "eb9a1a89763447ce855f8761116529c3": {
          "model_module": "@jupyter-widgets/controls",
          "model_name": "HTMLModel",
          "model_module_version": "1.5.0",
          "state": {
            "_view_name": "HTMLView",
            "style": "IPY_MODEL_fffeef2daaa64c53a426e1cf943dbb3d",
            "_dom_classes": [],
            "description": "",
            "_model_name": "HTMLModel",
            "placeholder": "​",
            "_view_module": "@jupyter-widgets/controls",
            "_model_module_version": "1.5.0",
            "value": "",
            "_view_count": null,
            "_view_module_version": "1.5.0",
            "description_tooltip": null,
            "_model_module": "@jupyter-widgets/controls",
            "layout": "IPY_MODEL_6ae7a6f281aa4ffc878d764a77c39fe7"
          }
        },
        "73bf5c6cc9a246e4900e6a15359cb0cc": {
          "model_module": "@jupyter-widgets/controls",
          "model_name": "FloatProgressModel",
          "model_module_version": "1.5.0",
          "state": {
            "_view_name": "ProgressView",
            "style": "IPY_MODEL_404bb0f2aa8e4ab89536fa55c9fb1de0",
            "_dom_classes": [],
            "description": "",
            "_model_name": "FloatProgressModel",
            "bar_style": "success",
            "max": 9912422,
            "_view_module": "@jupyter-widgets/controls",
            "_model_module_version": "1.5.0",
            "value": 9912422,
            "_view_count": null,
            "_view_module_version": "1.5.0",
            "orientation": "horizontal",
            "min": 0,
            "description_tooltip": null,
            "_model_module": "@jupyter-widgets/controls",
            "layout": "IPY_MODEL_136e60ee44a945c3931979dcb0063770"
          }
        },
        "c5e8f3a0cc594f6b889cb9cdee20836d": {
          "model_module": "@jupyter-widgets/controls",
          "model_name": "HTMLModel",
          "model_module_version": "1.5.0",
          "state": {
            "_view_name": "HTMLView",
            "style": "IPY_MODEL_49e7375b64824aa89a06424dd883d02e",
            "_dom_classes": [],
            "description": "",
            "_model_name": "HTMLModel",
            "placeholder": "​",
            "_view_module": "@jupyter-widgets/controls",
            "_model_module_version": "1.5.0",
            "value": " 9913344/? [00:00&lt;00:00, 70818219.10it/s]",
            "_view_count": null,
            "_view_module_version": "1.5.0",
            "description_tooltip": null,
            "_model_module": "@jupyter-widgets/controls",
            "layout": "IPY_MODEL_b9f2ea0a9fb44210b73abce2713ada4b"
          }
        },
        "fffeef2daaa64c53a426e1cf943dbb3d": {
          "model_module": "@jupyter-widgets/controls",
          "model_name": "DescriptionStyleModel",
          "model_module_version": "1.5.0",
          "state": {
            "_view_name": "StyleView",
            "_model_name": "DescriptionStyleModel",
            "description_width": "",
            "_view_module": "@jupyter-widgets/base",
            "_model_module_version": "1.5.0",
            "_view_count": null,
            "_view_module_version": "1.2.0",
            "_model_module": "@jupyter-widgets/controls"
          }
        },
        "6ae7a6f281aa4ffc878d764a77c39fe7": {
          "model_module": "@jupyter-widgets/base",
          "model_name": "LayoutModel",
          "model_module_version": "1.2.0",
          "state": {
            "_view_name": "LayoutView",
            "grid_template_rows": null,
            "right": null,
            "justify_content": null,
            "_view_module": "@jupyter-widgets/base",
            "overflow": null,
            "_model_module_version": "1.2.0",
            "_view_count": null,
            "flex_flow": null,
            "width": null,
            "min_width": null,
            "border": null,
            "align_items": null,
            "bottom": null,
            "_model_module": "@jupyter-widgets/base",
            "top": null,
            "grid_column": null,
            "overflow_y": null,
            "overflow_x": null,
            "grid_auto_flow": null,
            "grid_area": null,
            "grid_template_columns": null,
            "flex": null,
            "_model_name": "LayoutModel",
            "justify_items": null,
            "grid_row": null,
            "max_height": null,
            "align_content": null,
            "visibility": null,
            "align_self": null,
            "height": null,
            "min_height": null,
            "padding": null,
            "grid_auto_rows": null,
            "grid_gap": null,
            "max_width": null,
            "order": null,
            "_view_module_version": "1.2.0",
            "grid_template_areas": null,
            "object_position": null,
            "object_fit": null,
            "grid_auto_columns": null,
            "margin": null,
            "display": null,
            "left": null
          }
        },
        "404bb0f2aa8e4ab89536fa55c9fb1de0": {
          "model_module": "@jupyter-widgets/controls",
          "model_name": "ProgressStyleModel",
          "model_module_version": "1.5.0",
          "state": {
            "_view_name": "StyleView",
            "_model_name": "ProgressStyleModel",
            "description_width": "",
            "_view_module": "@jupyter-widgets/base",
            "_model_module_version": "1.5.0",
            "_view_count": null,
            "_view_module_version": "1.2.0",
            "bar_color": null,
            "_model_module": "@jupyter-widgets/controls"
          }
        },
        "136e60ee44a945c3931979dcb0063770": {
          "model_module": "@jupyter-widgets/base",
          "model_name": "LayoutModel",
          "model_module_version": "1.2.0",
          "state": {
            "_view_name": "LayoutView",
            "grid_template_rows": null,
            "right": null,
            "justify_content": null,
            "_view_module": "@jupyter-widgets/base",
            "overflow": null,
            "_model_module_version": "1.2.0",
            "_view_count": null,
            "flex_flow": null,
            "width": null,
            "min_width": null,
            "border": null,
            "align_items": null,
            "bottom": null,
            "_model_module": "@jupyter-widgets/base",
            "top": null,
            "grid_column": null,
            "overflow_y": null,
            "overflow_x": null,
            "grid_auto_flow": null,
            "grid_area": null,
            "grid_template_columns": null,
            "flex": null,
            "_model_name": "LayoutModel",
            "justify_items": null,
            "grid_row": null,
            "max_height": null,
            "align_content": null,
            "visibility": null,
            "align_self": null,
            "height": null,
            "min_height": null,
            "padding": null,
            "grid_auto_rows": null,
            "grid_gap": null,
            "max_width": null,
            "order": null,
            "_view_module_version": "1.2.0",
            "grid_template_areas": null,
            "object_position": null,
            "object_fit": null,
            "grid_auto_columns": null,
            "margin": null,
            "display": null,
            "left": null
          }
        },
        "49e7375b64824aa89a06424dd883d02e": {
          "model_module": "@jupyter-widgets/controls",
          "model_name": "DescriptionStyleModel",
          "model_module_version": "1.5.0",
          "state": {
            "_view_name": "StyleView",
            "_model_name": "DescriptionStyleModel",
            "description_width": "",
            "_view_module": "@jupyter-widgets/base",
            "_model_module_version": "1.5.0",
            "_view_count": null,
            "_view_module_version": "1.2.0",
            "_model_module": "@jupyter-widgets/controls"
          }
        },
        "b9f2ea0a9fb44210b73abce2713ada4b": {
          "model_module": "@jupyter-widgets/base",
          "model_name": "LayoutModel",
          "model_module_version": "1.2.0",
          "state": {
            "_view_name": "LayoutView",
            "grid_template_rows": null,
            "right": null,
            "justify_content": null,
            "_view_module": "@jupyter-widgets/base",
            "overflow": null,
            "_model_module_version": "1.2.0",
            "_view_count": null,
            "flex_flow": null,
            "width": null,
            "min_width": null,
            "border": null,
            "align_items": null,
            "bottom": null,
            "_model_module": "@jupyter-widgets/base",
            "top": null,
            "grid_column": null,
            "overflow_y": null,
            "overflow_x": null,
            "grid_auto_flow": null,
            "grid_area": null,
            "grid_template_columns": null,
            "flex": null,
            "_model_name": "LayoutModel",
            "justify_items": null,
            "grid_row": null,
            "max_height": null,
            "align_content": null,
            "visibility": null,
            "align_self": null,
            "height": null,
            "min_height": null,
            "padding": null,
            "grid_auto_rows": null,
            "grid_gap": null,
            "max_width": null,
            "order": null,
            "_view_module_version": "1.2.0",
            "grid_template_areas": null,
            "object_position": null,
            "object_fit": null,
            "grid_auto_columns": null,
            "margin": null,
            "display": null,
            "left": null
          }
        },
        "9fe5d2a07db0458cb407e5c10f35f147": {
          "model_module": "@jupyter-widgets/controls",
          "model_name": "HBoxModel",
          "model_module_version": "1.5.0",
          "state": {
            "_view_name": "HBoxView",
            "_dom_classes": [],
            "_model_name": "HBoxModel",
            "_view_module": "@jupyter-widgets/controls",
            "_model_module_version": "1.5.0",
            "_view_count": null,
            "_view_module_version": "1.5.0",
            "box_style": "",
            "layout": "IPY_MODEL_214082c56a8a49578af764f07c6951f1",
            "_model_module": "@jupyter-widgets/controls",
            "children": [
              "IPY_MODEL_a673761141d24683897dcf02b3df4a69",
              "IPY_MODEL_ad9bbf1030a14597b3ff382d96d08c52",
              "IPY_MODEL_d8a4db0bc2f7439d8a1d618beb992404"
            ]
          }
        },
        "214082c56a8a49578af764f07c6951f1": {
          "model_module": "@jupyter-widgets/base",
          "model_name": "LayoutModel",
          "model_module_version": "1.2.0",
          "state": {
            "_view_name": "LayoutView",
            "grid_template_rows": null,
            "right": null,
            "justify_content": null,
            "_view_module": "@jupyter-widgets/base",
            "overflow": null,
            "_model_module_version": "1.2.0",
            "_view_count": null,
            "flex_flow": null,
            "width": null,
            "min_width": null,
            "border": null,
            "align_items": null,
            "bottom": null,
            "_model_module": "@jupyter-widgets/base",
            "top": null,
            "grid_column": null,
            "overflow_y": null,
            "overflow_x": null,
            "grid_auto_flow": null,
            "grid_area": null,
            "grid_template_columns": null,
            "flex": null,
            "_model_name": "LayoutModel",
            "justify_items": null,
            "grid_row": null,
            "max_height": null,
            "align_content": null,
            "visibility": null,
            "align_self": null,
            "height": null,
            "min_height": null,
            "padding": null,
            "grid_auto_rows": null,
            "grid_gap": null,
            "max_width": null,
            "order": null,
            "_view_module_version": "1.2.0",
            "grid_template_areas": null,
            "object_position": null,
            "object_fit": null,
            "grid_auto_columns": null,
            "margin": null,
            "display": null,
            "left": null
          }
        },
        "a673761141d24683897dcf02b3df4a69": {
          "model_module": "@jupyter-widgets/controls",
          "model_name": "HTMLModel",
          "model_module_version": "1.5.0",
          "state": {
            "_view_name": "HTMLView",
            "style": "IPY_MODEL_90199b6c469a4ec88ba5fe61e4e8863a",
            "_dom_classes": [],
            "description": "",
            "_model_name": "HTMLModel",
            "placeholder": "​",
            "_view_module": "@jupyter-widgets/controls",
            "_model_module_version": "1.5.0",
            "value": "",
            "_view_count": null,
            "_view_module_version": "1.5.0",
            "description_tooltip": null,
            "_model_module": "@jupyter-widgets/controls",
            "layout": "IPY_MODEL_7be3b7c4170943218ed5f08b2d8767c2"
          }
        },
        "ad9bbf1030a14597b3ff382d96d08c52": {
          "model_module": "@jupyter-widgets/controls",
          "model_name": "FloatProgressModel",
          "model_module_version": "1.5.0",
          "state": {
            "_view_name": "ProgressView",
            "style": "IPY_MODEL_39726788dc7a4861b763a0eaf4f045a4",
            "_dom_classes": [],
            "description": "",
            "_model_name": "FloatProgressModel",
            "bar_style": "success",
            "max": 28881,
            "_view_module": "@jupyter-widgets/controls",
            "_model_module_version": "1.5.0",
            "value": 28881,
            "_view_count": null,
            "_view_module_version": "1.5.0",
            "orientation": "horizontal",
            "min": 0,
            "description_tooltip": null,
            "_model_module": "@jupyter-widgets/controls",
            "layout": "IPY_MODEL_7b173041e9b94f1291765e3f3b600243"
          }
        },
        "d8a4db0bc2f7439d8a1d618beb992404": {
          "model_module": "@jupyter-widgets/controls",
          "model_name": "HTMLModel",
          "model_module_version": "1.5.0",
          "state": {
            "_view_name": "HTMLView",
            "style": "IPY_MODEL_11fea5bdbc6844769e52a2cc554bd77b",
            "_dom_classes": [],
            "description": "",
            "_model_name": "HTMLModel",
            "placeholder": "​",
            "_view_module": "@jupyter-widgets/controls",
            "_model_module_version": "1.5.0",
            "value": " 29696/? [00:00&lt;00:00, 894258.06it/s]",
            "_view_count": null,
            "_view_module_version": "1.5.0",
            "description_tooltip": null,
            "_model_module": "@jupyter-widgets/controls",
            "layout": "IPY_MODEL_23e9cf7f57684855b60d2dcfcf552ed1"
          }
        },
        "90199b6c469a4ec88ba5fe61e4e8863a": {
          "model_module": "@jupyter-widgets/controls",
          "model_name": "DescriptionStyleModel",
          "model_module_version": "1.5.0",
          "state": {
            "_view_name": "StyleView",
            "_model_name": "DescriptionStyleModel",
            "description_width": "",
            "_view_module": "@jupyter-widgets/base",
            "_model_module_version": "1.5.0",
            "_view_count": null,
            "_view_module_version": "1.2.0",
            "_model_module": "@jupyter-widgets/controls"
          }
        },
        "7be3b7c4170943218ed5f08b2d8767c2": {
          "model_module": "@jupyter-widgets/base",
          "model_name": "LayoutModel",
          "model_module_version": "1.2.0",
          "state": {
            "_view_name": "LayoutView",
            "grid_template_rows": null,
            "right": null,
            "justify_content": null,
            "_view_module": "@jupyter-widgets/base",
            "overflow": null,
            "_model_module_version": "1.2.0",
            "_view_count": null,
            "flex_flow": null,
            "width": null,
            "min_width": null,
            "border": null,
            "align_items": null,
            "bottom": null,
            "_model_module": "@jupyter-widgets/base",
            "top": null,
            "grid_column": null,
            "overflow_y": null,
            "overflow_x": null,
            "grid_auto_flow": null,
            "grid_area": null,
            "grid_template_columns": null,
            "flex": null,
            "_model_name": "LayoutModel",
            "justify_items": null,
            "grid_row": null,
            "max_height": null,
            "align_content": null,
            "visibility": null,
            "align_self": null,
            "height": null,
            "min_height": null,
            "padding": null,
            "grid_auto_rows": null,
            "grid_gap": null,
            "max_width": null,
            "order": null,
            "_view_module_version": "1.2.0",
            "grid_template_areas": null,
            "object_position": null,
            "object_fit": null,
            "grid_auto_columns": null,
            "margin": null,
            "display": null,
            "left": null
          }
        },
        "39726788dc7a4861b763a0eaf4f045a4": {
          "model_module": "@jupyter-widgets/controls",
          "model_name": "ProgressStyleModel",
          "model_module_version": "1.5.0",
          "state": {
            "_view_name": "StyleView",
            "_model_name": "ProgressStyleModel",
            "description_width": "",
            "_view_module": "@jupyter-widgets/base",
            "_model_module_version": "1.5.0",
            "_view_count": null,
            "_view_module_version": "1.2.0",
            "bar_color": null,
            "_model_module": "@jupyter-widgets/controls"
          }
        },
        "7b173041e9b94f1291765e3f3b600243": {
          "model_module": "@jupyter-widgets/base",
          "model_name": "LayoutModel",
          "model_module_version": "1.2.0",
          "state": {
            "_view_name": "LayoutView",
            "grid_template_rows": null,
            "right": null,
            "justify_content": null,
            "_view_module": "@jupyter-widgets/base",
            "overflow": null,
            "_model_module_version": "1.2.0",
            "_view_count": null,
            "flex_flow": null,
            "width": null,
            "min_width": null,
            "border": null,
            "align_items": null,
            "bottom": null,
            "_model_module": "@jupyter-widgets/base",
            "top": null,
            "grid_column": null,
            "overflow_y": null,
            "overflow_x": null,
            "grid_auto_flow": null,
            "grid_area": null,
            "grid_template_columns": null,
            "flex": null,
            "_model_name": "LayoutModel",
            "justify_items": null,
            "grid_row": null,
            "max_height": null,
            "align_content": null,
            "visibility": null,
            "align_self": null,
            "height": null,
            "min_height": null,
            "padding": null,
            "grid_auto_rows": null,
            "grid_gap": null,
            "max_width": null,
            "order": null,
            "_view_module_version": "1.2.0",
            "grid_template_areas": null,
            "object_position": null,
            "object_fit": null,
            "grid_auto_columns": null,
            "margin": null,
            "display": null,
            "left": null
          }
        },
        "11fea5bdbc6844769e52a2cc554bd77b": {
          "model_module": "@jupyter-widgets/controls",
          "model_name": "DescriptionStyleModel",
          "model_module_version": "1.5.0",
          "state": {
            "_view_name": "StyleView",
            "_model_name": "DescriptionStyleModel",
            "description_width": "",
            "_view_module": "@jupyter-widgets/base",
            "_model_module_version": "1.5.0",
            "_view_count": null,
            "_view_module_version": "1.2.0",
            "_model_module": "@jupyter-widgets/controls"
          }
        },
        "23e9cf7f57684855b60d2dcfcf552ed1": {
          "model_module": "@jupyter-widgets/base",
          "model_name": "LayoutModel",
          "model_module_version": "1.2.0",
          "state": {
            "_view_name": "LayoutView",
            "grid_template_rows": null,
            "right": null,
            "justify_content": null,
            "_view_module": "@jupyter-widgets/base",
            "overflow": null,
            "_model_module_version": "1.2.0",
            "_view_count": null,
            "flex_flow": null,
            "width": null,
            "min_width": null,
            "border": null,
            "align_items": null,
            "bottom": null,
            "_model_module": "@jupyter-widgets/base",
            "top": null,
            "grid_column": null,
            "overflow_y": null,
            "overflow_x": null,
            "grid_auto_flow": null,
            "grid_area": null,
            "grid_template_columns": null,
            "flex": null,
            "_model_name": "LayoutModel",
            "justify_items": null,
            "grid_row": null,
            "max_height": null,
            "align_content": null,
            "visibility": null,
            "align_self": null,
            "height": null,
            "min_height": null,
            "padding": null,
            "grid_auto_rows": null,
            "grid_gap": null,
            "max_width": null,
            "order": null,
            "_view_module_version": "1.2.0",
            "grid_template_areas": null,
            "object_position": null,
            "object_fit": null,
            "grid_auto_columns": null,
            "margin": null,
            "display": null,
            "left": null
          }
        },
        "aca21f3f3255472c8ed101f208551dab": {
          "model_module": "@jupyter-widgets/controls",
          "model_name": "HBoxModel",
          "model_module_version": "1.5.0",
          "state": {
            "_view_name": "HBoxView",
            "_dom_classes": [],
            "_model_name": "HBoxModel",
            "_view_module": "@jupyter-widgets/controls",
            "_model_module_version": "1.5.0",
            "_view_count": null,
            "_view_module_version": "1.5.0",
            "box_style": "",
            "layout": "IPY_MODEL_a98462f6ca23479d9c134552aafeae4b",
            "_model_module": "@jupyter-widgets/controls",
            "children": [
              "IPY_MODEL_649a1c72360942fa86788565e4c5914a",
              "IPY_MODEL_e2fd438f540d477091c7e742c704f37e",
              "IPY_MODEL_1fdeec1b41c44c828bf42e1dd2b4424a"
            ]
          }
        },
        "a98462f6ca23479d9c134552aafeae4b": {
          "model_module": "@jupyter-widgets/base",
          "model_name": "LayoutModel",
          "model_module_version": "1.2.0",
          "state": {
            "_view_name": "LayoutView",
            "grid_template_rows": null,
            "right": null,
            "justify_content": null,
            "_view_module": "@jupyter-widgets/base",
            "overflow": null,
            "_model_module_version": "1.2.0",
            "_view_count": null,
            "flex_flow": null,
            "width": null,
            "min_width": null,
            "border": null,
            "align_items": null,
            "bottom": null,
            "_model_module": "@jupyter-widgets/base",
            "top": null,
            "grid_column": null,
            "overflow_y": null,
            "overflow_x": null,
            "grid_auto_flow": null,
            "grid_area": null,
            "grid_template_columns": null,
            "flex": null,
            "_model_name": "LayoutModel",
            "justify_items": null,
            "grid_row": null,
            "max_height": null,
            "align_content": null,
            "visibility": null,
            "align_self": null,
            "height": null,
            "min_height": null,
            "padding": null,
            "grid_auto_rows": null,
            "grid_gap": null,
            "max_width": null,
            "order": null,
            "_view_module_version": "1.2.0",
            "grid_template_areas": null,
            "object_position": null,
            "object_fit": null,
            "grid_auto_columns": null,
            "margin": null,
            "display": null,
            "left": null
          }
        },
        "649a1c72360942fa86788565e4c5914a": {
          "model_module": "@jupyter-widgets/controls",
          "model_name": "HTMLModel",
          "model_module_version": "1.5.0",
          "state": {
            "_view_name": "HTMLView",
            "style": "IPY_MODEL_0fbeb115cb8047acbf3adc10aac9e466",
            "_dom_classes": [],
            "description": "",
            "_model_name": "HTMLModel",
            "placeholder": "​",
            "_view_module": "@jupyter-widgets/controls",
            "_model_module_version": "1.5.0",
            "value": "",
            "_view_count": null,
            "_view_module_version": "1.5.0",
            "description_tooltip": null,
            "_model_module": "@jupyter-widgets/controls",
            "layout": "IPY_MODEL_c6599887802b4d5fb11d8a18d8471611"
          }
        },
        "e2fd438f540d477091c7e742c704f37e": {
          "model_module": "@jupyter-widgets/controls",
          "model_name": "FloatProgressModel",
          "model_module_version": "1.5.0",
          "state": {
            "_view_name": "ProgressView",
            "style": "IPY_MODEL_6699e560e6f64b8cb7801ec34b12ed7e",
            "_dom_classes": [],
            "description": "",
            "_model_name": "FloatProgressModel",
            "bar_style": "success",
            "max": 1648877,
            "_view_module": "@jupyter-widgets/controls",
            "_model_module_version": "1.5.0",
            "value": 1648877,
            "_view_count": null,
            "_view_module_version": "1.5.0",
            "orientation": "horizontal",
            "min": 0,
            "description_tooltip": null,
            "_model_module": "@jupyter-widgets/controls",
            "layout": "IPY_MODEL_2ea5912ef72443229fe73244c7c49c14"
          }
        },
        "1fdeec1b41c44c828bf42e1dd2b4424a": {
          "model_module": "@jupyter-widgets/controls",
          "model_name": "HTMLModel",
          "model_module_version": "1.5.0",
          "state": {
            "_view_name": "HTMLView",
            "style": "IPY_MODEL_98b901c41f1b4138b6a19ff7a62cc996",
            "_dom_classes": [],
            "description": "",
            "_model_name": "HTMLModel",
            "placeholder": "​",
            "_view_module": "@jupyter-widgets/controls",
            "_model_module_version": "1.5.0",
            "value": " 1649664/? [00:00&lt;00:00, 25592988.16it/s]",
            "_view_count": null,
            "_view_module_version": "1.5.0",
            "description_tooltip": null,
            "_model_module": "@jupyter-widgets/controls",
            "layout": "IPY_MODEL_fd23509d6a6a438baf80144595a2cbe3"
          }
        },
        "0fbeb115cb8047acbf3adc10aac9e466": {
          "model_module": "@jupyter-widgets/controls",
          "model_name": "DescriptionStyleModel",
          "model_module_version": "1.5.0",
          "state": {
            "_view_name": "StyleView",
            "_model_name": "DescriptionStyleModel",
            "description_width": "",
            "_view_module": "@jupyter-widgets/base",
            "_model_module_version": "1.5.0",
            "_view_count": null,
            "_view_module_version": "1.2.0",
            "_model_module": "@jupyter-widgets/controls"
          }
        },
        "c6599887802b4d5fb11d8a18d8471611": {
          "model_module": "@jupyter-widgets/base",
          "model_name": "LayoutModel",
          "model_module_version": "1.2.0",
          "state": {
            "_view_name": "LayoutView",
            "grid_template_rows": null,
            "right": null,
            "justify_content": null,
            "_view_module": "@jupyter-widgets/base",
            "overflow": null,
            "_model_module_version": "1.2.0",
            "_view_count": null,
            "flex_flow": null,
            "width": null,
            "min_width": null,
            "border": null,
            "align_items": null,
            "bottom": null,
            "_model_module": "@jupyter-widgets/base",
            "top": null,
            "grid_column": null,
            "overflow_y": null,
            "overflow_x": null,
            "grid_auto_flow": null,
            "grid_area": null,
            "grid_template_columns": null,
            "flex": null,
            "_model_name": "LayoutModel",
            "justify_items": null,
            "grid_row": null,
            "max_height": null,
            "align_content": null,
            "visibility": null,
            "align_self": null,
            "height": null,
            "min_height": null,
            "padding": null,
            "grid_auto_rows": null,
            "grid_gap": null,
            "max_width": null,
            "order": null,
            "_view_module_version": "1.2.0",
            "grid_template_areas": null,
            "object_position": null,
            "object_fit": null,
            "grid_auto_columns": null,
            "margin": null,
            "display": null,
            "left": null
          }
        },
        "6699e560e6f64b8cb7801ec34b12ed7e": {
          "model_module": "@jupyter-widgets/controls",
          "model_name": "ProgressStyleModel",
          "model_module_version": "1.5.0",
          "state": {
            "_view_name": "StyleView",
            "_model_name": "ProgressStyleModel",
            "description_width": "",
            "_view_module": "@jupyter-widgets/base",
            "_model_module_version": "1.5.0",
            "_view_count": null,
            "_view_module_version": "1.2.0",
            "bar_color": null,
            "_model_module": "@jupyter-widgets/controls"
          }
        },
        "2ea5912ef72443229fe73244c7c49c14": {
          "model_module": "@jupyter-widgets/base",
          "model_name": "LayoutModel",
          "model_module_version": "1.2.0",
          "state": {
            "_view_name": "LayoutView",
            "grid_template_rows": null,
            "right": null,
            "justify_content": null,
            "_view_module": "@jupyter-widgets/base",
            "overflow": null,
            "_model_module_version": "1.2.0",
            "_view_count": null,
            "flex_flow": null,
            "width": null,
            "min_width": null,
            "border": null,
            "align_items": null,
            "bottom": null,
            "_model_module": "@jupyter-widgets/base",
            "top": null,
            "grid_column": null,
            "overflow_y": null,
            "overflow_x": null,
            "grid_auto_flow": null,
            "grid_area": null,
            "grid_template_columns": null,
            "flex": null,
            "_model_name": "LayoutModel",
            "justify_items": null,
            "grid_row": null,
            "max_height": null,
            "align_content": null,
            "visibility": null,
            "align_self": null,
            "height": null,
            "min_height": null,
            "padding": null,
            "grid_auto_rows": null,
            "grid_gap": null,
            "max_width": null,
            "order": null,
            "_view_module_version": "1.2.0",
            "grid_template_areas": null,
            "object_position": null,
            "object_fit": null,
            "grid_auto_columns": null,
            "margin": null,
            "display": null,
            "left": null
          }
        },
        "98b901c41f1b4138b6a19ff7a62cc996": {
          "model_module": "@jupyter-widgets/controls",
          "model_name": "DescriptionStyleModel",
          "model_module_version": "1.5.0",
          "state": {
            "_view_name": "StyleView",
            "_model_name": "DescriptionStyleModel",
            "description_width": "",
            "_view_module": "@jupyter-widgets/base",
            "_model_module_version": "1.5.0",
            "_view_count": null,
            "_view_module_version": "1.2.0",
            "_model_module": "@jupyter-widgets/controls"
          }
        },
        "fd23509d6a6a438baf80144595a2cbe3": {
          "model_module": "@jupyter-widgets/base",
          "model_name": "LayoutModel",
          "model_module_version": "1.2.0",
          "state": {
            "_view_name": "LayoutView",
            "grid_template_rows": null,
            "right": null,
            "justify_content": null,
            "_view_module": "@jupyter-widgets/base",
            "overflow": null,
            "_model_module_version": "1.2.0",
            "_view_count": null,
            "flex_flow": null,
            "width": null,
            "min_width": null,
            "border": null,
            "align_items": null,
            "bottom": null,
            "_model_module": "@jupyter-widgets/base",
            "top": null,
            "grid_column": null,
            "overflow_y": null,
            "overflow_x": null,
            "grid_auto_flow": null,
            "grid_area": null,
            "grid_template_columns": null,
            "flex": null,
            "_model_name": "LayoutModel",
            "justify_items": null,
            "grid_row": null,
            "max_height": null,
            "align_content": null,
            "visibility": null,
            "align_self": null,
            "height": null,
            "min_height": null,
            "padding": null,
            "grid_auto_rows": null,
            "grid_gap": null,
            "max_width": null,
            "order": null,
            "_view_module_version": "1.2.0",
            "grid_template_areas": null,
            "object_position": null,
            "object_fit": null,
            "grid_auto_columns": null,
            "margin": null,
            "display": null,
            "left": null
          }
        },
        "69e651261baa4e20b7ab8462f80ed9ac": {
          "model_module": "@jupyter-widgets/controls",
          "model_name": "HBoxModel",
          "model_module_version": "1.5.0",
          "state": {
            "_view_name": "HBoxView",
            "_dom_classes": [],
            "_model_name": "HBoxModel",
            "_view_module": "@jupyter-widgets/controls",
            "_model_module_version": "1.5.0",
            "_view_count": null,
            "_view_module_version": "1.5.0",
            "box_style": "",
            "layout": "IPY_MODEL_a27675c2c6a347fd8488c2aadabac163",
            "_model_module": "@jupyter-widgets/controls",
            "children": [
              "IPY_MODEL_ca03cbfa6fad4bd89eedf72a55e076a1",
              "IPY_MODEL_01fd42977ff54c048a0ab4c7a90df985",
              "IPY_MODEL_1d67656f7db34fbe89811e1212d15fe9"
            ]
          }
        },
        "a27675c2c6a347fd8488c2aadabac163": {
          "model_module": "@jupyter-widgets/base",
          "model_name": "LayoutModel",
          "model_module_version": "1.2.0",
          "state": {
            "_view_name": "LayoutView",
            "grid_template_rows": null,
            "right": null,
            "justify_content": null,
            "_view_module": "@jupyter-widgets/base",
            "overflow": null,
            "_model_module_version": "1.2.0",
            "_view_count": null,
            "flex_flow": null,
            "width": null,
            "min_width": null,
            "border": null,
            "align_items": null,
            "bottom": null,
            "_model_module": "@jupyter-widgets/base",
            "top": null,
            "grid_column": null,
            "overflow_y": null,
            "overflow_x": null,
            "grid_auto_flow": null,
            "grid_area": null,
            "grid_template_columns": null,
            "flex": null,
            "_model_name": "LayoutModel",
            "justify_items": null,
            "grid_row": null,
            "max_height": null,
            "align_content": null,
            "visibility": null,
            "align_self": null,
            "height": null,
            "min_height": null,
            "padding": null,
            "grid_auto_rows": null,
            "grid_gap": null,
            "max_width": null,
            "order": null,
            "_view_module_version": "1.2.0",
            "grid_template_areas": null,
            "object_position": null,
            "object_fit": null,
            "grid_auto_columns": null,
            "margin": null,
            "display": null,
            "left": null
          }
        },
        "ca03cbfa6fad4bd89eedf72a55e076a1": {
          "model_module": "@jupyter-widgets/controls",
          "model_name": "HTMLModel",
          "model_module_version": "1.5.0",
          "state": {
            "_view_name": "HTMLView",
            "style": "IPY_MODEL_c4c3fd7f3e2d49efbf9592c6d66b5d93",
            "_dom_classes": [],
            "description": "",
            "_model_name": "HTMLModel",
            "placeholder": "​",
            "_view_module": "@jupyter-widgets/controls",
            "_model_module_version": "1.5.0",
            "value": "",
            "_view_count": null,
            "_view_module_version": "1.5.0",
            "description_tooltip": null,
            "_model_module": "@jupyter-widgets/controls",
            "layout": "IPY_MODEL_8b8cf2963f634ad9a3af374112cf6726"
          }
        },
        "01fd42977ff54c048a0ab4c7a90df985": {
          "model_module": "@jupyter-widgets/controls",
          "model_name": "FloatProgressModel",
          "model_module_version": "1.5.0",
          "state": {
            "_view_name": "ProgressView",
            "style": "IPY_MODEL_eb4fb980911149189d235ca912c64755",
            "_dom_classes": [],
            "description": "",
            "_model_name": "FloatProgressModel",
            "bar_style": "success",
            "max": 4542,
            "_view_module": "@jupyter-widgets/controls",
            "_model_module_version": "1.5.0",
            "value": 4542,
            "_view_count": null,
            "_view_module_version": "1.5.0",
            "orientation": "horizontal",
            "min": 0,
            "description_tooltip": null,
            "_model_module": "@jupyter-widgets/controls",
            "layout": "IPY_MODEL_421ddd9601fb48c5a2daff21ebfa3892"
          }
        },
        "1d67656f7db34fbe89811e1212d15fe9": {
          "model_module": "@jupyter-widgets/controls",
          "model_name": "HTMLModel",
          "model_module_version": "1.5.0",
          "state": {
            "_view_name": "HTMLView",
            "style": "IPY_MODEL_41188b163813440992dbfe7a5656e94d",
            "_dom_classes": [],
            "description": "",
            "_model_name": "HTMLModel",
            "placeholder": "​",
            "_view_module": "@jupyter-widgets/controls",
            "_model_module_version": "1.5.0",
            "value": " 5120/? [00:00&lt;00:00, 182464.86it/s]",
            "_view_count": null,
            "_view_module_version": "1.5.0",
            "description_tooltip": null,
            "_model_module": "@jupyter-widgets/controls",
            "layout": "IPY_MODEL_20ba4273d6614d6f8adad768c8c0c2c3"
          }
        },
        "c4c3fd7f3e2d49efbf9592c6d66b5d93": {
          "model_module": "@jupyter-widgets/controls",
          "model_name": "DescriptionStyleModel",
          "model_module_version": "1.5.0",
          "state": {
            "_view_name": "StyleView",
            "_model_name": "DescriptionStyleModel",
            "description_width": "",
            "_view_module": "@jupyter-widgets/base",
            "_model_module_version": "1.5.0",
            "_view_count": null,
            "_view_module_version": "1.2.0",
            "_model_module": "@jupyter-widgets/controls"
          }
        },
        "8b8cf2963f634ad9a3af374112cf6726": {
          "model_module": "@jupyter-widgets/base",
          "model_name": "LayoutModel",
          "model_module_version": "1.2.0",
          "state": {
            "_view_name": "LayoutView",
            "grid_template_rows": null,
            "right": null,
            "justify_content": null,
            "_view_module": "@jupyter-widgets/base",
            "overflow": null,
            "_model_module_version": "1.2.0",
            "_view_count": null,
            "flex_flow": null,
            "width": null,
            "min_width": null,
            "border": null,
            "align_items": null,
            "bottom": null,
            "_model_module": "@jupyter-widgets/base",
            "top": null,
            "grid_column": null,
            "overflow_y": null,
            "overflow_x": null,
            "grid_auto_flow": null,
            "grid_area": null,
            "grid_template_columns": null,
            "flex": null,
            "_model_name": "LayoutModel",
            "justify_items": null,
            "grid_row": null,
            "max_height": null,
            "align_content": null,
            "visibility": null,
            "align_self": null,
            "height": null,
            "min_height": null,
            "padding": null,
            "grid_auto_rows": null,
            "grid_gap": null,
            "max_width": null,
            "order": null,
            "_view_module_version": "1.2.0",
            "grid_template_areas": null,
            "object_position": null,
            "object_fit": null,
            "grid_auto_columns": null,
            "margin": null,
            "display": null,
            "left": null
          }
        },
        "eb4fb980911149189d235ca912c64755": {
          "model_module": "@jupyter-widgets/controls",
          "model_name": "ProgressStyleModel",
          "model_module_version": "1.5.0",
          "state": {
            "_view_name": "StyleView",
            "_model_name": "ProgressStyleModel",
            "description_width": "",
            "_view_module": "@jupyter-widgets/base",
            "_model_module_version": "1.5.0",
            "_view_count": null,
            "_view_module_version": "1.2.0",
            "bar_color": null,
            "_model_module": "@jupyter-widgets/controls"
          }
        },
        "421ddd9601fb48c5a2daff21ebfa3892": {
          "model_module": "@jupyter-widgets/base",
          "model_name": "LayoutModel",
          "model_module_version": "1.2.0",
          "state": {
            "_view_name": "LayoutView",
            "grid_template_rows": null,
            "right": null,
            "justify_content": null,
            "_view_module": "@jupyter-widgets/base",
            "overflow": null,
            "_model_module_version": "1.2.0",
            "_view_count": null,
            "flex_flow": null,
            "width": null,
            "min_width": null,
            "border": null,
            "align_items": null,
            "bottom": null,
            "_model_module": "@jupyter-widgets/base",
            "top": null,
            "grid_column": null,
            "overflow_y": null,
            "overflow_x": null,
            "grid_auto_flow": null,
            "grid_area": null,
            "grid_template_columns": null,
            "flex": null,
            "_model_name": "LayoutModel",
            "justify_items": null,
            "grid_row": null,
            "max_height": null,
            "align_content": null,
            "visibility": null,
            "align_self": null,
            "height": null,
            "min_height": null,
            "padding": null,
            "grid_auto_rows": null,
            "grid_gap": null,
            "max_width": null,
            "order": null,
            "_view_module_version": "1.2.0",
            "grid_template_areas": null,
            "object_position": null,
            "object_fit": null,
            "grid_auto_columns": null,
            "margin": null,
            "display": null,
            "left": null
          }
        },
        "41188b163813440992dbfe7a5656e94d": {
          "model_module": "@jupyter-widgets/controls",
          "model_name": "DescriptionStyleModel",
          "model_module_version": "1.5.0",
          "state": {
            "_view_name": "StyleView",
            "_model_name": "DescriptionStyleModel",
            "description_width": "",
            "_view_module": "@jupyter-widgets/base",
            "_model_module_version": "1.5.0",
            "_view_count": null,
            "_view_module_version": "1.2.0",
            "_model_module": "@jupyter-widgets/controls"
          }
        },
        "20ba4273d6614d6f8adad768c8c0c2c3": {
          "model_module": "@jupyter-widgets/base",
          "model_name": "LayoutModel",
          "model_module_version": "1.2.0",
          "state": {
            "_view_name": "LayoutView",
            "grid_template_rows": null,
            "right": null,
            "justify_content": null,
            "_view_module": "@jupyter-widgets/base",
            "overflow": null,
            "_model_module_version": "1.2.0",
            "_view_count": null,
            "flex_flow": null,
            "width": null,
            "min_width": null,
            "border": null,
            "align_items": null,
            "bottom": null,
            "_model_module": "@jupyter-widgets/base",
            "top": null,
            "grid_column": null,
            "overflow_y": null,
            "overflow_x": null,
            "grid_auto_flow": null,
            "grid_area": null,
            "grid_template_columns": null,
            "flex": null,
            "_model_name": "LayoutModel",
            "justify_items": null,
            "grid_row": null,
            "max_height": null,
            "align_content": null,
            "visibility": null,
            "align_self": null,
            "height": null,
            "min_height": null,
            "padding": null,
            "grid_auto_rows": null,
            "grid_gap": null,
            "max_width": null,
            "order": null,
            "_view_module_version": "1.2.0",
            "grid_template_areas": null,
            "object_position": null,
            "object_fit": null,
            "grid_auto_columns": null,
            "margin": null,
            "display": null,
            "left": null
          }
        }
      }
    }
  },
  "cells": [
    {
      "cell_type": "markdown",
      "metadata": {
        "id": "view-in-github",
        "colab_type": "text"
      },
      "source": [
        "<a href=\"https://colab.research.google.com/github/jinyingtld/python/blob/main/AI6126_tutorial.ipynb\" target=\"_parent\"><img src=\"https://colab.research.google.com/assets/colab-badge.svg\" alt=\"Open In Colab\"/></a>"
      ]
    },
    {
      "cell_type": "code",
      "execution_count": null,
      "metadata": {
        "id": "0xUx2elRA1Az"
      },
      "outputs": [],
      "source": [
        "import torch\n",
        "import torchvision\n",
        "\n",
        "from torch import nn\n"
      ]
    },
    {
      "cell_type": "markdown",
      "source": [
        "# Convolutional layer in PyTorch \n",
        "\n",
        "## Conv2d\n",
        "CLASS torch.nn.Conv2d(in_channels, out_channels, kernel_size, stride=1, padding=0,dilation=1, groups=1,bias=True,padding_mode='zeros'\n",
        "\n",
        "Applies a 2D convolution over an input signal composed of several input planes.\n",
        "\n",
        "In the simplest case, the output value of the layer with input size (N, Cin,H,W) and output (N, Cout,Hout,Wout) can be precisely described as:\n",
        "\n",
        ">out($N_{i},C_{out_{j}})=bias(C_{out_{j}})+\\sum^{C_{in} -1}_{k=0}weight(C_{out_{j}},k)*input(N_{i},k)$ \n",
        "\n",
        "where * is the valid 2D ccross-correlation operator, N is a batch size, C denotes a number of channels, H is a height of input planes in pixels, and W is width in pixels.\n",
        "\n",
        "* ***stride*** control the stride for the cross-correlation,a single number or a tuple.\n",
        "* ***padding*** controls the amount of implicit zero-paddings on both sides for padding number of points for each dimension.\n",
        "* ***dilation*** controls the spacing between the kernel points; also known as the a trous algorithm, it is harder to describe, but this link has a nice visualization of what dilation does. \n",
        "* ***groups*** controls the connections between inputs and outputs. in_channels and out_channels must both be divisible by groups. For example, \n",
        "    >- At groups=1, all inputs are convolved to all outputs \n",
        "    >- At groups=2, the operation becomes equivalent to having two conv layers side by side, each seeing half the input channels,and producing half the output channels,and both subsequently concatenated\n",
        "    >- At groups=in_channels, each input channel is convolved with its own set of filters, of size:[$\\frac{out\\\\_channel}{in\\\\_channel}$]\n",
        "\n",
        "The parameters ***kernel_size***,***stride***,***padding***,***dilation**** can either be:\n",
        "    \n",
        "        * a single int - in which case the same value is used for the height and width dimension\n",
        "        * a tuple of two ints - in which case, the first int is used for the height dimension, and the second int for the width dimension\n",
        "            "
      ],
      "metadata": {
        "id": "dLtWQCfQE8L5"
      }
    },
    {
      "cell_type": "code",
      "source": [
        "# ?nn.Conv2d\n",
        "# https://pytorch.org/docs/stable/generated/torch.nn.Conv2d.html#torch.nn.Conv2d\n",
        "# dilation: kernel(FXF=3x3 ): 如果dilation=(3,1) kernel是每隔3列,每隔1行\n",
        "#  1 (2) (2) (2) 3  (4) (4) (4)   5 ......\n",
        "# (2)..........\n",
        "#  3 () () ()    3   () () ()     3........\n",
        "# (4) .........\n",
        "#  5 () () ()    5   () () ()     5........\n",
        "# https://github.com/vdumoulin/conv_arithmetic/blob/master/README.md \n",
        "\n",
        "# https://pytorch.org/docs/stable/generated/torch.nn.Conv2d.html#torch.nn.Conv2d\n",
        "# groups controls the connections between inputs and outputs. in_channels and out_channels must both be divisible by groups. For example,\n",
        "# At groups=1, all inputs are convolved to all outputs.\n",
        "# At groups=2, the operation becomes equivalent to having two conv layers side by side, each seeing half the input channels and producing half the output channels, and both subsequently concatenated.\n",
        "# At groups= in_channels, each input channel is convolved with its own set of filters (of size $\\frac{\\text{out\\_channels}}{\\text{in\\_channels}} \n",
        "# in_channels\n",
        "# out_channels )$.\n",
        "\n",
        "# https://pytorch.org/docs/stable/generated/torch.randn.html#torch.randn\n",
        "\n",
        "# with square kernels and equal stride\n",
        "m = nn.Conv2d(16, 33, 3, stride=2)\n",
        "# non-square kernels and unequal stride and with padding \n",
        "m = nn.Conv2d(16, 33, (3, 5), stride=(2, 1), padding=(4, 2)) \n",
        "# non-square kernels and unequall stride and with padding and dilation \n",
        "m = nn.Conv2d(16, 33, (3, 5), stride=(2, 1), padding=(4, 2), dilation=(3, 1)) # dilation result will \n",
        "# controls output size\n",
        "input = torch.randn(20, 16, 50, 100)  # 20: N 16:Cin 50:H 100:W\n",
        "print(input.size())\n",
        "output = m(input)\n",
        "print(output.size())"
      ],
      "metadata": {
        "id": "34aWtXhCESW7"
      },
      "execution_count": null,
      "outputs": []
    },
    {
      "cell_type": "code",
      "source": [
        "# ?torch.randn"
      ],
      "metadata": {
        "id": "yQarvYk5OBEZ"
      },
      "execution_count": null,
      "outputs": []
    },
    {
      "cell_type": "markdown",
      "source": [
        "# MaxPool2d\n",
        "\n",
        "CLASS torch.nn.MaxPool2d(kernel_size,stride=None,padding=0,dilation=1,return_indices=False,ceil_mode=False)\n",
        "\n",
        "Applies a 2D max pooling over an input signal composed of several input planes.\n",
        "\n",
        "In the samplest case, the output value of the layer with input size (N,C,H,W), output(N,C,Hout,Wout) and kernel_size(kH,kW) can be precisely describbed as:\n",
        ">out($N_{i},C_{out_{j}})=max_{m=0,...,kH-1}max_{n=0,...,kW-1}input(N_{i},C_{j},stride[0]\\\\*\\space h+m,stride[1]\\\\* \\space w+n$\n",
        "\n",
        "If padding is non-zero, then the input is implicitly zero-padded on both sides for padding number of points. dilation controls the spacing between the kernel points. It is harder to describe, but this link has a nice visualization of what dilation does. \n",
        "\n",
        "The parameters kernel_size, stride, padding, dilation can either be:\n",
        "\n",
        "        * a single int - in which case the same value is used for the height and width dimension\n",
        "        * a tuple of two ints - in which case, the first int is used for the height dimension, and the second int for the width dimension"
      ],
      "metadata": {
        "id": "Zp0RmWvbVY4w"
      }
    },
    {
      "cell_type": "code",
      "source": [
        "# https://pytorch.org/docs/stable/generated/torch.nn.MaxPool2d.html#torch.nn.MaxPool2d\n",
        "\n",
        "# pool of square window of size=3, stride=2\n",
        "m = nn.MaxPool2d(3, stride=2)\n",
        "# pool of non-square window\n",
        "m = nn.MaxPool2d((3, 2), stride=(2, 1))\n",
        "input = torch.randn(20, 16, 50, 32)\n",
        "print(input.size())\n",
        "output = m(input)\n",
        "print(output.size())"
      ],
      "metadata": {
        "colab": {
          "base_uri": "https://localhost:8080/"
        },
        "id": "ph5wof1ccqFG",
        "outputId": "f82b43f3-c4cf-4555-9911-754842dfea03"
      },
      "execution_count": null,
      "outputs": [
        {
          "output_type": "stream",
          "name": "stdout",
          "text": [
            "torch.Size([20, 16, 50, 32])\n",
            "torch.Size([20, 16, 24, 31])\n"
          ]
        }
      ]
    },
    {
      "cell_type": "markdown",
      "source": [
        "# AvgPool2d\n",
        "\n",
        "CLASS torch.nn.AvgPool2d(kernel_size,stride=None,padding=0,ceil_mode=False,count_include_pad=True,divisor_override=None)\n",
        "\n",
        "Applies a 2D average pooling over an input signal composed of several input planes.\n",
        "\n",
        "In the samplest case, the output value of the layer with input size (N,C,H,W), output(N,C,Hout,Wout) and kernel_size(kH,kW) can be precisely describbed as:\n",
        ">out($N_{i},C_{out_{j}})=\\frac{1}{kH * kW}\\sum^{kH-1}_{m=0}\\sum^{kW-1}_{n=0}input(N_{i},C_{j},stride[0]\\\\*\\space h+m,stride[1]\\\\* \\space w+n$\n",
        "\n",
        "If padding is non-zero, then the input is implicitly zero-padded on both sides for padding number of points. \n",
        "\n",
        "The parameters kernel_size, stride, padding, dilation can either be:\n",
        "\n",
        "        * a single int - in which case the same value is used for the height and width dimension\n",
        "        * a tuple of two ints - in which case, the first int is used for the height dimension, and the second int for the width dimension"
      ],
      "metadata": {
        "id": "0MWBZVRGdjao"
      }
    },
    {
      "cell_type": "code",
      "source": [
        "# https://pytorch.org/docs/stable/generated/torch.nn.AvgPool2d.html#torch.nn.AvgPool2d\n",
        "\n",
        "# pool of square window of size=3, stride=2\n",
        "m = nn.AvgPool2d(3, stride=2)\n",
        "# pool of non-square window\n",
        "m = nn.AvgPool2d((3, 2), stride=(2, 1))\n",
        "input = torch.randn(20, 16, 50, 32)\n",
        "print(input.size())\n",
        "output = m(input)\n",
        "print(output.size())"
      ],
      "metadata": {
        "colab": {
          "base_uri": "https://localhost:8080/"
        },
        "id": "c_53bAVAdis6",
        "outputId": "9faabcc8-d0d7-44e3-b69a-43271f7ec896"
      },
      "execution_count": null,
      "outputs": [
        {
          "output_type": "stream",
          "name": "stdout",
          "text": [
            "torch.Size([20, 16, 50, 32])\n",
            "torch.Size([20, 16, 24, 31])\n"
          ]
        }
      ]
    },
    {
      "cell_type": "markdown",
      "source": [
        "# Linear \n",
        "CLASS torch.nn.Linear(in_features,out_features,bias=True)\n",
        "\n",
        "Applies a linear transformation to the incoming data: $y=xA^{T}+b$\n",
        "\n",
        ">Parameteres\n",
        ">- in_features - size of each input sample\n",
        ">- out_features - size of each output sample\n",
        ">- bias - If set to False, the layer will not learn an additive bias. Default: True\n",
        "\n",
        ">Shape:\n",
        ">- Input:$(*,H_{in})$ where * means any number of additional dimensions and $H_{in}=in\\_features$\n",
        ">- Output:$(*,H_{out})$ where all but the last dimension are the same shape as the input and $H_{out}=out\\_features$\n",
        "\n",
        ">Variables\n",
        ">- ***~Linear.weight*** - the learnable weights of the module of shape(out_features, in_features). The values are initialized from $u(-\\sqrt{k},\\sqrt{k})$,where $k = \\frac{1}{in\\_features}$\n",
        "\n",
        ">- ***~Linear.bias*** - the leanable bias of the module of shape(out_features). if bias is True, the values are initialized from $u(-\\sqrt{k},\\sqrt{k})$,where $k = \\frac{1}{in\\_features}$\n"
      ],
      "metadata": {
        "id": "d2ZJMepgfIYL"
      }
    },
    {
      "cell_type": "code",
      "source": [
        "m = nn.Linear(20, 30)\n",
        "input = torch.randn(128, 20)\n",
        "output = m(input)\n",
        "print(output.size())\n",
        "torch.Size([128, 30])"
      ],
      "metadata": {
        "id": "lXV2rmGFBf10"
      },
      "execution_count": null,
      "outputs": []
    },
    {
      "cell_type": "code",
      "source": [
        "# padding.ipynb\n",
        "# Install PyTorch and Torchvision\n",
        "\n",
        "# !pip install -U torch==1.5.1+cu101 torchvision==0.6.1+cu101 -f https://download.pytorch.org/whl/torch_stable.html\n",
        "\n",
        "torch.__version__\n",
        "\n",
        "import torch\n",
        "import torch.nn as nn\n",
        "import torch.nn.functional as F\n",
        "import torchvision \n",
        "import torchvision.transforms as transforms \n",
        "\n"
      ],
      "metadata": {
        "id": "TWTWo4T6zO8b"
      },
      "execution_count": null,
      "outputs": []
    },
    {
      "cell_type": "code",
      "source": [
        "m = nn.ZeroPad2d(2)"
      ],
      "metadata": {
        "id": "7AX-aXEI0ain"
      },
      "execution_count": null,
      "outputs": []
    },
    {
      "cell_type": "code",
      "source": [
        "input = torch.randn(1,1,3,3)"
      ],
      "metadata": {
        "id": "sbyZ9vbH0eZp"
      },
      "execution_count": null,
      "outputs": []
    },
    {
      "cell_type": "code",
      "source": [
        "input"
      ],
      "metadata": {
        "colab": {
          "base_uri": "https://localhost:8080/"
        },
        "id": "OhQaaWIn0iAv",
        "outputId": "b5b92afe-b414-421f-e74a-1480873a4cf5"
      },
      "execution_count": null,
      "outputs": [
        {
          "output_type": "execute_result",
          "data": {
            "text/plain": [
              "tensor([[[[-1.2302,  0.2768,  1.7490],\n",
              "          [-0.3340, -0.1988, -0.1093],\n",
              "          [-0.3426, -0.0642, -0.5851]]]])"
            ]
          },
          "metadata": {},
          "execution_count": 32
        }
      ]
    },
    {
      "cell_type": "code",
      "source": [
        "m(input)"
      ],
      "metadata": {
        "colab": {
          "base_uri": "https://localhost:8080/"
        },
        "id": "BMFiTlSK0jHS",
        "outputId": "be99abd4-147a-4ba5-809f-bc05630a5f67"
      },
      "execution_count": null,
      "outputs": [
        {
          "output_type": "execute_result",
          "data": {
            "text/plain": [
              "tensor([[[[ 0.0000,  0.0000,  0.0000,  0.0000,  0.0000,  0.0000,  0.0000],\n",
              "          [ 0.0000,  0.0000,  0.0000,  0.0000,  0.0000,  0.0000,  0.0000],\n",
              "          [ 0.0000,  0.0000, -1.2302,  0.2768,  1.7490,  0.0000,  0.0000],\n",
              "          [ 0.0000,  0.0000, -0.3340, -0.1988, -0.1093,  0.0000,  0.0000],\n",
              "          [ 0.0000,  0.0000, -0.3426, -0.0642, -0.5851,  0.0000,  0.0000],\n",
              "          [ 0.0000,  0.0000,  0.0000,  0.0000,  0.0000,  0.0000,  0.0000],\n",
              "          [ 0.0000,  0.0000,  0.0000,  0.0000,  0.0000,  0.0000,  0.0000]]]])"
            ]
          },
          "metadata": {},
          "execution_count": 33
        }
      ]
    },
    {
      "cell_type": "markdown",
      "source": [
        "# Tutorial 1\n",
        "# MNIST with PyTorch \n",
        "In this notebook example, we will walk through how to train a simple CNN to classify MNIST images. \n",
        "\n",
        "We will rely on the following modules,including torch and torchvision."
      ],
      "metadata": {
        "id": "PrDZHB-E1MQg"
      }
    },
    {
      "cell_type": "code",
      "source": [
        "# install dependencies: (use cu101 because colab has CUDA 10.1)\n",
        "# !pip install -U torch==1.5.1+cu101 torchvision==0.6.1+cu101 -f https://download.pytorch.org/whl/torch_stable.html"
      ],
      "metadata": {
        "id": "yZ0VHyNl1fNa"
      },
      "execution_count": null,
      "outputs": []
    },
    {
      "cell_type": "code",
      "source": [
        "import torch\n",
        "import torchvision\n",
        "from torch import nn\n",
        "from torch.utils.data import DataLoader\n",
        "from torchvision import datasets\n",
        "from torchvision import transforms\n",
        "import matplotlib.pyplot as plt \n"
      ],
      "metadata": {
        "id": "TDz44kJu1LK3"
      },
      "execution_count": null,
      "outputs": []
    },
    {
      "cell_type": "code",
      "source": [
        "torch.__version__"
      ],
      "metadata": {
        "colab": {
          "base_uri": "https://localhost:8080/",
          "height": 35
        },
        "id": "vJAyswcCDlg0",
        "outputId": "c2e18fb8-06fe-4f91-b1a9-46ed72f963e2"
      },
      "execution_count": null,
      "outputs": [
        {
          "output_type": "execute_result",
          "data": {
            "application/vnd.google.colaboratory.intrinsic+json": {
              "type": "string"
            },
            "text/plain": [
              "'1.10.0+cu111'"
            ]
          },
          "metadata": {},
          "execution_count": 8
        }
      ]
    },
    {
      "cell_type": "markdown",
      "source": [
        "# 1. Data Loader \n",
        "The first step is to create a data loader.\n",
        "A data loader can be treated as a list (or iterator, technically). Each time it will provide a minibatch of (img, label) pairs."
      ],
      "metadata": {
        "id": "GnZPLZ3x3oyS"
      }
    },
    {
      "cell_type": "code",
      "source": [
        "# Choose a dataset -- MNIST for example\n",
        "train_set = datasets.MNIST(root='./data', train=True,download=True)\n",
        "test_set = datasets.MNIST(root='./data', train=False,download=True)\n",
        "\n",
        "train_set.transform = transform=transforms.Compose([\n",
        "                            transforms.ToTensor(),\n",
        "                            transforms.Normalize((0.1307,),(0.3081,)) # minus mean:0.1307(pixel value of mean) , divided by standard deviation of pixel value: 0.3081\n",
        "                    ])\n",
        "\n",
        "test_set.transform = transform=transforms.Compose([\n",
        "                            transforms.ToTensor(),\n",
        "                            transforms.Normalize((0.1307,), (0.3081,))                               \n",
        "                    ])\n",
        "\n",
        "# Create a data loader #batch_size=64 mean each batch got 64 samples\n",
        "train_loader = DataLoader(train_set,batch_size=64, shuffle=True)\n",
        "test_loader = DataLoader(test_set,batch_size=64, shuffle=False)"
      ],
      "metadata": {
        "id": "gCUki6bT62kR",
        "colab": {
          "base_uri": "https://localhost:8080/",
          "height": 422,
          "referenced_widgets": [
            "2c7a25e044cb41009a038f85476587a1",
            "0ff8e191a81c40809900fdd2d4ec4708",
            "eb9a1a89763447ce855f8761116529c3",
            "73bf5c6cc9a246e4900e6a15359cb0cc",
            "c5e8f3a0cc594f6b889cb9cdee20836d",
            "fffeef2daaa64c53a426e1cf943dbb3d",
            "6ae7a6f281aa4ffc878d764a77c39fe7",
            "404bb0f2aa8e4ab89536fa55c9fb1de0",
            "136e60ee44a945c3931979dcb0063770",
            "49e7375b64824aa89a06424dd883d02e",
            "b9f2ea0a9fb44210b73abce2713ada4b",
            "9fe5d2a07db0458cb407e5c10f35f147",
            "214082c56a8a49578af764f07c6951f1",
            "a673761141d24683897dcf02b3df4a69",
            "ad9bbf1030a14597b3ff382d96d08c52",
            "d8a4db0bc2f7439d8a1d618beb992404",
            "90199b6c469a4ec88ba5fe61e4e8863a",
            "7be3b7c4170943218ed5f08b2d8767c2",
            "39726788dc7a4861b763a0eaf4f045a4",
            "7b173041e9b94f1291765e3f3b600243",
            "11fea5bdbc6844769e52a2cc554bd77b",
            "23e9cf7f57684855b60d2dcfcf552ed1",
            "aca21f3f3255472c8ed101f208551dab",
            "a98462f6ca23479d9c134552aafeae4b",
            "649a1c72360942fa86788565e4c5914a",
            "e2fd438f540d477091c7e742c704f37e",
            "1fdeec1b41c44c828bf42e1dd2b4424a",
            "0fbeb115cb8047acbf3adc10aac9e466",
            "c6599887802b4d5fb11d8a18d8471611",
            "6699e560e6f64b8cb7801ec34b12ed7e",
            "2ea5912ef72443229fe73244c7c49c14",
            "98b901c41f1b4138b6a19ff7a62cc996",
            "fd23509d6a6a438baf80144595a2cbe3",
            "69e651261baa4e20b7ab8462f80ed9ac",
            "a27675c2c6a347fd8488c2aadabac163",
            "ca03cbfa6fad4bd89eedf72a55e076a1",
            "01fd42977ff54c048a0ab4c7a90df985",
            "1d67656f7db34fbe89811e1212d15fe9",
            "c4c3fd7f3e2d49efbf9592c6d66b5d93",
            "8b8cf2963f634ad9a3af374112cf6726",
            "eb4fb980911149189d235ca912c64755",
            "421ddd9601fb48c5a2daff21ebfa3892",
            "41188b163813440992dbfe7a5656e94d",
            "20ba4273d6614d6f8adad768c8c0c2c3"
          ]
        },
        "outputId": "049b307e-41b8-41a7-fd21-f693120e9722"
      },
      "execution_count": null,
      "outputs": [
        {
          "output_type": "stream",
          "name": "stdout",
          "text": [
            "Downloading http://yann.lecun.com/exdb/mnist/train-images-idx3-ubyte.gz\n",
            "Downloading http://yann.lecun.com/exdb/mnist/train-images-idx3-ubyte.gz to ./data/MNIST/raw/train-images-idx3-ubyte.gz\n"
          ]
        },
        {
          "output_type": "display_data",
          "data": {
            "application/vnd.jupyter.widget-view+json": {
              "model_id": "2c7a25e044cb41009a038f85476587a1",
              "version_minor": 0,
              "version_major": 2
            },
            "text/plain": [
              "  0%|          | 0/9912422 [00:00<?, ?it/s]"
            ]
          },
          "metadata": {}
        },
        {
          "output_type": "stream",
          "name": "stdout",
          "text": [
            "Extracting ./data/MNIST/raw/train-images-idx3-ubyte.gz to ./data/MNIST/raw\n",
            "\n",
            "Downloading http://yann.lecun.com/exdb/mnist/train-labels-idx1-ubyte.gz\n",
            "Downloading http://yann.lecun.com/exdb/mnist/train-labels-idx1-ubyte.gz to ./data/MNIST/raw/train-labels-idx1-ubyte.gz\n"
          ]
        },
        {
          "output_type": "display_data",
          "data": {
            "application/vnd.jupyter.widget-view+json": {
              "model_id": "9fe5d2a07db0458cb407e5c10f35f147",
              "version_minor": 0,
              "version_major": 2
            },
            "text/plain": [
              "  0%|          | 0/28881 [00:00<?, ?it/s]"
            ]
          },
          "metadata": {}
        },
        {
          "output_type": "stream",
          "name": "stdout",
          "text": [
            "Extracting ./data/MNIST/raw/train-labels-idx1-ubyte.gz to ./data/MNIST/raw\n",
            "\n",
            "Downloading http://yann.lecun.com/exdb/mnist/t10k-images-idx3-ubyte.gz\n",
            "Downloading http://yann.lecun.com/exdb/mnist/t10k-images-idx3-ubyte.gz to ./data/MNIST/raw/t10k-images-idx3-ubyte.gz\n"
          ]
        },
        {
          "output_type": "display_data",
          "data": {
            "application/vnd.jupyter.widget-view+json": {
              "model_id": "aca21f3f3255472c8ed101f208551dab",
              "version_minor": 0,
              "version_major": 2
            },
            "text/plain": [
              "  0%|          | 0/1648877 [00:00<?, ?it/s]"
            ]
          },
          "metadata": {}
        },
        {
          "output_type": "stream",
          "name": "stdout",
          "text": [
            "Extracting ./data/MNIST/raw/t10k-images-idx3-ubyte.gz to ./data/MNIST/raw\n",
            "\n",
            "Downloading http://yann.lecun.com/exdb/mnist/t10k-labels-idx1-ubyte.gz\n",
            "Downloading http://yann.lecun.com/exdb/mnist/t10k-labels-idx1-ubyte.gz to ./data/MNIST/raw/t10k-labels-idx1-ubyte.gz\n"
          ]
        },
        {
          "output_type": "display_data",
          "data": {
            "application/vnd.jupyter.widget-view+json": {
              "model_id": "69e651261baa4e20b7ab8462f80ed9ac",
              "version_minor": 0,
              "version_major": 2
            },
            "text/plain": [
              "  0%|          | 0/4542 [00:00<?, ?it/s]"
            ]
          },
          "metadata": {}
        },
        {
          "output_type": "stream",
          "name": "stdout",
          "text": [
            "Extracting ./data/MNIST/raw/t10k-labels-idx1-ubyte.gz to ./data/MNIST/raw\n",
            "\n"
          ]
        }
      ]
    },
    {
      "cell_type": "code",
      "source": [
        "!ls -l ./data/MNIST/raw\n",
        "# ?transforms.Compose\n",
        "# ??transforms.Normalize"
      ],
      "metadata": {
        "colab": {
          "base_uri": "https://localhost:8080/"
        },
        "id": "CLW1PAE03ll1",
        "outputId": "f5e52fc9-7f31-490a-e3fa-2f31d666e2e7"
      },
      "execution_count": null,
      "outputs": [
        {
          "output_type": "stream",
          "name": "stdout",
          "text": [
            "total 65008\n",
            "-rw-r--r-- 1 root root  7840016 Feb  6 03:43 t10k-images-idx3-ubyte\n",
            "-rw-r--r-- 1 root root  1648877 Feb  6 03:43 t10k-images-idx3-ubyte.gz\n",
            "-rw-r--r-- 1 root root    10008 Feb  6 03:43 t10k-labels-idx1-ubyte\n",
            "-rw-r--r-- 1 root root     4542 Feb  6 03:43 t10k-labels-idx1-ubyte.gz\n",
            "-rw-r--r-- 1 root root 47040016 Feb  6 03:43 train-images-idx3-ubyte\n",
            "-rw-r--r-- 1 root root  9912422 Feb  6 03:43 train-images-idx3-ubyte.gz\n",
            "-rw-r--r-- 1 root root    60008 Feb  6 03:43 train-labels-idx1-ubyte\n",
            "-rw-r--r-- 1 root root    28881 Feb  6 03:43 train-labels-idx1-ubyte.gz\n"
          ]
        }
      ]
    },
    {
      "cell_type": "markdown",
      "source": [
        "Let us show some of the training images, for fun."
      ],
      "metadata": {
        "id": "3Q2zoWSz-pyY"
      }
    },
    {
      "cell_type": "code",
      "source": [
        "def imshow(img, mean=0, std=1):\n",
        "    img = img * std + mean # unnormalize \n",
        "    npimg = img.numpy().transpose(1, 2, 0).squeeze() # c(c, h, w) -> (h, w, c) 转成matplt格式(height,width,channel)\n",
        "    plt.imshow(npimg)\n",
        "    plt.show()\n",
        "\n",
        "trainiter = iter(train_loader) # get iterator object\n",
        "img, label = trainiter.next() # iterate iterator object by next()\n",
        "print(img.shape) # (n,c,h,w)\n",
        "\n",
        "# Visualization \n",
        "img = torchvision.utils.make_grid(img)\n",
        "imshow(img, 0.1307, 0.3081)\n",
        "print('Gt\\t:', ' '.join('%d' % label[j].item() for j in range(len(label))))"
      ],
      "metadata": {
        "colab": {
          "base_uri": "https://localhost:8080/",
          "height": 303
        },
        "id": "EGx_NkfS3h3e",
        "outputId": "00f51c6b-773e-4223-b166-4df25c41a23b"
      },
      "execution_count": null,
      "outputs": [
        {
          "output_type": "stream",
          "name": "stdout",
          "text": [
            "torch.Size([64, 1, 28, 28])\n"
          ]
        },
        {
          "output_type": "display_data",
          "data": {
            "image/png": "[encoded data removed]",
            "text/plain": [
              "<Figure size 432x288 with 1 Axes>"
            ]
          },
          "metadata": {
            "needs_background": "light"
          }
        },
        {
          "output_type": "stream",
          "name": "stdout",
          "text": [
            "Gt\t: 9 3 4 3 6 3 3 2 0 9 4 2 8 8 8 9 6 1 5 2 7 8 9 7 1 0 6 9 0 3 8 1 0 5 1 2 5 8 0 3 1 3 2 2 7 3 7 8 3 5 7 2 6 5 9 9 4 1 3 8 6 0 6 2\n"
          ]
        }
      ]
    },
    {
      "cell_type": "code",
      "source": [
        "# To check a single random image\n",
        "\n",
        "trainiter = iter(train_loader)\n",
        "img, label = trainiter.next()\n",
        "plt.imshow(img[0].reshape(28,28), cmap=\"gray\")"
      ],
      "metadata": {
        "colab": {
          "base_uri": "https://localhost:8080/",
          "height": 282
        },
        "id": "zb8Gm26c-hfe",
        "outputId": "7bf0f6bb-3596-4d16-a797-ea70194822ed"
      },
      "execution_count": null,
      "outputs": [
        {
          "output_type": "execute_result",
          "data": {
            "text/plain": [
              "<matplotlib.image.AxesImage at 0x7f514ea238d0>"
            ]
          },
          "metadata": {},
          "execution_count": 6
        },
        {
          "output_type": "display_data",
          "data": {
            "image/png": "[encoded data removed]",
            "text/plain": [
              "<Figure size 432x288 with 1 Axes>"
            ]
          },
          "metadata": {
            "needs_background": "light"
          }
        }
      ]
    },
    {
      "cell_type": "markdown",
      "source": [
        "# 2. Model \n",
        "The second step is to define our model.\n",
        "\n",
        "We will use a simple CNN with conv(5X5) -> relu -> pool(2x2) -> conv(5X5) -> relu -> pool(2x2) ->fc(200) -> relu -> fc(10).\n",
        "\n",
        "In PyTorch, a model is defined by a subclass of nn.Module. It has two methods: \n",
        ">- \\__init__:constructor. Create layers here. Note that we don't define the connections between layers in this function.\n",
        ">- forward(x): forward function. Receives an input variable x. Returns a output variable. Note that we actually connect the layers here dynamically.\n",
        "\n",
        "We no longer need to implement the backward function. The computational graph will be built implicitly based on the forward operations, and the gradients can be automatically computed. \n"
      ],
      "metadata": {
        "id": "HJjrVG_uBH9V"
      }
    },
    {
      "cell_type": "code",
      "source": [
        "class SimpleCNN(nn.Module):\n",
        "    def __init__(self):\n",
        "        super(SimpleCNN, self).__init__() # Call parent class's constructor \n",
        "        self.conv1 = nn.Conv2d(1, 10, 5, 1) # (in_channel, out_channel,kernel_size,stride) # only 1 input channel, we output 10 filters(feature maps) so output dimension will be 10\n",
        "        self.conv2 = nn.Conv2d(10, 20, 5, 1) # (in_channel, out_channel,kenel_size,stride) # here input becomes 10 feature maps output will be 20 filters(feature maps)\n",
        "        self.pool = nn.MaxPool2d(2) # kernel_size=2\n",
        "        self.fc1 = nn.Linear(4*4*20, 200) # in_features, out_features\n",
        "        self.fc2 = nn.Linear(200, 10)\n",
        "        self.relu = nn.ReLU()\n",
        "    \n",
        "    def forward(self, x):\n",
        "        x = self.conv1(x) # Hout=(28-5)/1 +1 = 24, Hout X Wout = 24 * 24 Cout=10\n",
        "        x = self.relu(x)\n",
        "        x = self.pool(x) # (24-2)/2 + 1 = 12 , Hout*Wout = 12*12 Cout=10\n",
        "        x = self.conv2(x) # (12-5)/1 + 1 = 8  Hout*Wout = 8*8 Cout=20\n",
        "        x = self.relu(x)\n",
        "        x = self.pool(x) # (8-2)/2 + 1 = 4 , Hout*Wout = 4*4 Cout=20\n",
        "        x = x.view(-1, 4*4*20) # Flatten the data\n",
        "        x = self.relu(self.fc1(x))\n",
        "        x = self.fc2(x)\n",
        "        return x\n",
        "    \n",
        "model  = SimpleCNN()"
      ],
      "metadata": {
        "id": "L3mT12_LAW9u"
      },
      "execution_count": null,
      "outputs": []
    },
    {
      "cell_type": "markdown",
      "source": [
        "You can double check your model specification. "
      ],
      "metadata": {
        "id": "PBTBgxqvHhlq"
      }
    },
    {
      "cell_type": "code",
      "source": [
        "print(model)\n",
        "\n"
      ],
      "metadata": {
        "colab": {
          "base_uri": "https://localhost:8080/"
        },
        "id": "XTZ0b1f_AXAz",
        "outputId": "8be9a12d-ff7a-4038-d418-23cb8175ab74"
      },
      "execution_count": null,
      "outputs": [
        {
          "output_type": "stream",
          "name": "stdout",
          "text": [
            "SimpleCNN(\n",
            "  (conv1): Conv2d(1, 10, kernel_size=(5, 5), stride=(1, 1))\n",
            "  (conv2): Conv2d(10, 20, kernel_size=(5, 5), stride=(1, 1))\n",
            "  (pool): MaxPool2d(kernel_size=2, stride=2, padding=0, dilation=1, ceil_mode=False)\n",
            "  (fc1): Linear(in_features=320, out_features=200, bias=True)\n",
            "  (fc2): Linear(in_features=200, out_features=10, bias=True)\n",
            "  (relu): ReLU()\n",
            ")\n"
          ]
        }
      ]
    },
    {
      "cell_type": "markdown",
      "source": [
        "Let us test with random inputs."
      ],
      "metadata": {
        "id": "6OBC9iLfH3b5"
      }
    },
    {
      "cell_type": "code",
      "source": [
        "x = torch.rand([64, 1, 28, 28])\n",
        "x.shape"
      ],
      "metadata": {
        "colab": {
          "base_uri": "https://localhost:8080/"
        },
        "id": "g8nvHdJsHxBL",
        "outputId": "66e28fa5-fff0-41db-b15c-6a081c8cffef"
      },
      "execution_count": null,
      "outputs": [
        {
          "output_type": "execute_result",
          "data": {
            "text/plain": [
              "torch.Size([64, 1, 28, 28])"
            ]
          },
          "metadata": {},
          "execution_count": 9
        }
      ]
    },
    {
      "cell_type": "code",
      "source": [
        "y = model(x)\n",
        "print(y.shape)"
      ],
      "metadata": {
        "colab": {
          "base_uri": "https://localhost:8080/"
        },
        "id": "kJ9XTrYDH_rZ",
        "outputId": "377a2665-47ee-48bf-bbb4-5878e6180bb7"
      },
      "execution_count": null,
      "outputs": [
        {
          "output_type": "stream",
          "name": "stdout",
          "text": [
            "torch.Size([64, 10])\n"
          ]
        }
      ]
    },
    {
      "cell_type": "markdown",
      "source": [
        "# 3. Loss and Optimizer \n",
        "The third step is to define the loss function and the optimization algorithm. let's use a Classification Cross-Entropy loss and SGD with momentum.\n"
      ],
      "metadata": {
        "id": "Np9yCWnpOLAm"
      }
    },
    {
      "cell_type": "code",
      "source": [
        "criterion = nn.CrossEntropyLoss()\n",
        "optimizer = torch.optim.SGD(model.parameters(), 0.01, momentum=0.9, weight_decay=5e-4)"
      ],
      "metadata": {
        "id": "0wDPe8L5IF1J"
      },
      "execution_count": null,
      "outputs": []
    },
    {
      "cell_type": "code",
      "source": [
        "# ?torch.optim.SGD"
      ],
      "metadata": {
        "id": "6SFocXbZIBup"
      },
      "execution_count": null,
      "outputs": []
    },
    {
      "cell_type": "markdown",
      "source": [
        "# 4. Training \n",
        "The next step is to start the training process."
      ],
      "metadata": {
        "id": "7trnmPzgarUJ"
      }
    },
    {
      "cell_type": "code",
      "source": [
        "def train(epoch):\n",
        "    model.train() # Set the model to be in training mode \n",
        "\n",
        "    for batch_index, (inputs, targets) in enumerate(train_loader):\n",
        "        # Forward\n",
        "        outputs = model(inputs)\n",
        "        loss = criterion(outputs, targets)\n",
        "        # batch数量:len(train_loader) = 938 每个batch有64个样本 total样本数:64*937=59968 另外第938个batch有32个样本\n",
        "        if batch_index % 100 == 0 or batch_index == len(train_loader) - 1: \n",
        "            print('epoch {} batch {}/{} loss {:.3f}'.format(\n",
        "                epoch, batch_index, len(train_loader)-1, loss.item()))\n",
        "        \n",
        "        # Backward \n",
        "        optimizer.zero_grad() # Set gradients to zero\n",
        "        loss.backward() # From the loss we compute the new gradients\n",
        "        optimizer.step() # Update the parameters/weights\n"
      ],
      "metadata": {
        "id": "BleRVs0GXxHH"
      },
      "execution_count": null,
      "outputs": []
    },
    {
      "cell_type": "markdown",
      "source": [
        "'zero_grad' is to clear previous gradients. We need to set the gradients to zero before starting to do backpropagation because PyTorch accumulates the gradients on subsequent backward passes.\n",
        "\n",
        "Now let us train the network for 1 pass over the training dataset, and check if the network has learned anything at all. "
      ],
      "metadata": {
        "id": "sHhXwdgcd6Iw"
      }
    },
    {
      "cell_type": "code",
      "source": [
        "train(0)"
      ],
      "metadata": {
        "colab": {
          "base_uri": "https://localhost:8080/"
        },
        "id": "N4hwjk4kXxJ6",
        "outputId": "0f66d035-e938-440c-b6f4-93c92e0eb132"
      },
      "execution_count": null,
      "outputs": [
        {
          "output_type": "stream",
          "name": "stdout",
          "text": [
            "epoch 0 batch 0/937 loss 2.289\n",
            "epoch 0 batch 100/937 loss 0.293\n",
            "epoch 0 batch 200/937 loss 0.164\n",
            "epoch 0 batch 300/937 loss 0.101\n",
            "epoch 0 batch 400/937 loss 0.197\n",
            "epoch 0 batch 500/937 loss 0.163\n",
            "epoch 0 batch 600/937 loss 0.138\n",
            "epoch 0 batch 700/937 loss 0.061\n",
            "epoch 0 batch 800/937 loss 0.074\n",
            "epoch 0 batch 900/937 loss 0.057\n",
            "epoch 0 batch 937/937 loss 0.013\n"
          ]
        }
      ]
    },
    {
      "cell_type": "markdown",
      "source": [
        "# 5. Plotting Training Curve \n",
        "\n",
        "How do we know when to stop training? How do we know that learning rate and what batch sizes are appropriate? Those are very important and practical questions to answer when training a neural network. We answer those questions by plotting a training curve.\n",
        "\n",
        "A ***training curve*** is a chart that shows:\n",
        "\n",
        ">1. The iterations or epochs on the x-axis\n",
        ">1. The loss or accuracy on the y-axis\n",
        "\n",
        "The idea is to track how the loss or accuracy changes as training progresses.\n",
        "\n",
        "Let's redefine the training process.\n"
      ],
      "metadata": {
        "id": "Vhh0J8y1jMdB"
      }
    },
    {
      "cell_type": "code",
      "source": [
        "def train(epoch):\n",
        "    # model.train()的作用是启用 Batch Normalization 和 Dropout。\n",
        "    model.train() # Set the model to be in training mode \n",
        "\n",
        "    iters = [] # save the iteration counts here for plotting\n",
        "    losses = [] # save the avg loss here for plotting\n",
        "\n",
        "    for batch_index, (inputs, targets) in enumerate(train_loader):\n",
        "        # Forward\n",
        "        outputs = model(inputs)\n",
        "        loss = criterion(outputs, targets)\n",
        "        # batch数量:len(train_loader) = 938 每个batch有64个样本 total样本数:64*937=59968 另外第938个batch有32个样本\n",
        "        if batch_index % 100 == 0 or batch_index == len(train_loader) - 1: \n",
        "            print('epoch {} batch {}/{} loss {:.3f}'.format(\n",
        "                epoch, batch_index, len(train_loader)-1, loss.item()))\n",
        "        \n",
        "        # Backward \n",
        "        optimizer.zero_grad() # Set gradients to zero\n",
        "        loss.backward() # From the loss we compute the new gradients\n",
        "        optimizer.step() # Update the parameters/weights\n",
        "\n",
        "        # Save the current training information\n",
        "        iters.append(batch_index)\n",
        "        losses.append(float(loss))\n",
        "    \n",
        "    # Plotting \n",
        "    plt.plot(iters, losses)\n",
        "    plt.title(\"Training Curve\")\n",
        "    plt.xlabel(\"Iterations\")\n",
        "    plt.ylabel(\"Loss\")\n",
        "    plt.show()\n"
      ],
      "metadata": {
        "id": "gky253ksfWMw"
      },
      "execution_count": null,
      "outputs": []
    },
    {
      "cell_type": "markdown",
      "source": [
        "Let's try the training again for 1 epoch."
      ],
      "metadata": {
        "id": "uZZMNBqsleA9"
      }
    },
    {
      "cell_type": "code",
      "source": [
        "model = SimpleCNN()\n",
        "\n",
        "criterion = nn.CrossEntropyLoss()\n",
        "\n",
        "optimizer = torch.optim.SGD(model.parameters(), 0.01, momentum=0.9, weight_decay=5e-4)\n",
        "\n",
        "train(0)"
      ],
      "metadata": {
        "colab": {
          "base_uri": "https://localhost:8080/",
          "height": 485
        },
        "id": "ykEOe0XQljgC",
        "outputId": "ce86481d-d3bc-46bd-de43-888d373d33cf"
      },
      "execution_count": null,
      "outputs": [
        {
          "output_type": "stream",
          "name": "stdout",
          "text": [
            "epoch 0 batch 0/937 loss 2.312\n",
            "epoch 0 batch 100/937 loss 0.259\n",
            "epoch 0 batch 200/937 loss 0.158\n",
            "epoch 0 batch 300/937 loss 0.315\n",
            "epoch 0 batch 400/937 loss 0.162\n",
            "epoch 0 batch 500/937 loss 0.131\n",
            "epoch 0 batch 600/937 loss 0.040\n",
            "epoch 0 batch 700/937 loss 0.048\n",
            "epoch 0 batch 800/937 loss 0.156\n",
            "epoch 0 batch 900/937 loss 0.033\n",
            "epoch 0 batch 937/937 loss 0.026\n"
          ]
        },
        {
          "output_type": "display_data",
          "data": {
            "image/png": "[encoded data removed]",
            "text/plain": [
              "<Figure size 432x288 with 1 Axes>"
            ]
          },
          "metadata": {
            "needs_background": "light"
          }
        }
      ]
    },
    {
      "cell_type": "markdown",
      "source": [
        "The first thing that you might notice is that the loss is a bit noisy. Some people choose to plot a running average of the loss to remove some of the noise.\n",
        "\n",
        "You can try how the training curve changes aas we change the batch size and the learning rate.\n"
      ],
      "metadata": {
        "id": "3VqeGAXBmJyv"
      }
    },
    {
      "cell_type": "markdown",
      "source": [
        "# 6. Visualizing Filters \n",
        "\n",
        "In this section, we will look into the practical aspects and code for visualizing filters. \n",
        "\n",
        "We first create a model_weights list to save the weights of all the convolutional layers.\n",
        "\n",
        "Next, we are getting all the model children as list and sorting them in the model_children list. This will allow us to easily access hidden layers."
      ],
      "metadata": {
        "id": "Z5L-0AeYmqlm"
      }
    },
    {
      "cell_type": "code",
      "source": [
        "model_weights = [] # We will save the conv layer weights in this list \n",
        "\n",
        "# Get all the model children as list\n",
        "model_children = list(model.children())"
      ],
      "metadata": {
        "id": "d71LBmRhnwQc"
      },
      "execution_count": null,
      "outputs": []
    },
    {
      "cell_type": "code",
      "source": [
        "model_children"
      ],
      "metadata": {
        "colab": {
          "base_uri": "https://localhost:8080/"
        },
        "id": "ne2N2U4WlcQX",
        "outputId": "5045706c-f9c2-498c-faa4-668cfcf16cef"
      },
      "execution_count": null,
      "outputs": [
        {
          "output_type": "execute_result",
          "data": {
            "text/plain": [
              "[Conv2d(1, 10, kernel_size=(5, 5), stride=(1, 1)),\n",
              " Conv2d(10, 20, kernel_size=(5, 5), stride=(1, 1)),\n",
              " MaxPool2d(kernel_size=2, stride=2, padding=0, dilation=1, ceil_mode=False),\n",
              " Linear(in_features=320, out_features=200, bias=True),\n",
              " Linear(in_features=200, out_features=10, bias=True),\n",
              " ReLU()]"
            ]
          },
          "metadata": {},
          "execution_count": 17
        }
      ]
    },
    {
      "cell_type": "markdown",
      "source": [
        "We will have to traverse through all these nestings to retrieve the convolutional layers and their weights.\n",
        "\n",
        "The following code shows how to retrieve all the convolutional layers and their weights."
      ],
      "metadata": {
        "id": "vH13rZOIoK2d"
      }
    },
    {
      "cell_type": "code",
      "source": [
        "# Counter to keep count of the conv layers\n",
        "counter = 0\n",
        "\n",
        "# Append all the conv layers and their respective weights to the list\n",
        "for i in range(len(model_children)):\n",
        "    if type(model_children[i]) == nn.Conv2d:\n",
        "        counter += 1\n",
        "        model_weights.append(model_children[i].weight)\n",
        "\n",
        "print(f\"Total convolutional layers: {counter}\")"
      ],
      "metadata": {
        "colab": {
          "base_uri": "https://localhost:8080/"
        },
        "id": "OxzlKzUKoe5L",
        "outputId": "bea167e6-50cc-45e0-c6c2-6d3f66864134"
      },
      "execution_count": null,
      "outputs": [
        {
          "output_type": "stream",
          "name": "stdout",
          "text": [
            "Total convolutional layers: 2\n"
          ]
        }
      ]
    },
    {
      "cell_type": "code",
      "source": [
        "model_children[0].weight"
      ],
      "metadata": {
        "colab": {
          "base_uri": "https://localhost:8080/"
        },
        "id": "djEK5qrqoJ_m",
        "outputId": "69abb75d-9368-4427-f8ae-ae0a4611bfbc"
      },
      "execution_count": null,
      "outputs": [
        {
          "output_type": "execute_result",
          "data": {
            "text/plain": [
              "<function Parameter.count_nonzero>"
            ]
          },
          "metadata": {},
          "execution_count": 94
        }
      ]
    },
    {
      "cell_type": "markdown",
      "source": [
        "For the sake of simplicity, we will only visualize the filters of the first convolutional layer."
      ],
      "metadata": {
        "id": "0klUHvukrU58"
      }
    },
    {
      "cell_type": "code",
      "source": [
        "# Visualize the first conv layer filters\n",
        "plt.figure(figsize=(10, 10))\n",
        "for i, filter in enumerate(model_weights[0]):\n",
        "    plt.subplot(6, 6, i+1) # (6, 6) because in conv1 we have 5x5 filters and total of 10 (C_out)\n",
        "    plt.imshow(filter[0, :, :].detach(), cmap='gray')\n",
        "    plt.axis('off')\n",
        "    plt.savefig('filter.png')\n",
        "    \n",
        "plt.show()\n",
        "\n",
        "# !ls"
      ],
      "metadata": {
        "colab": {
          "base_uri": "https://localhost:8080/",
          "height": 218
        },
        "id": "dqS7xqQJriTv",
        "outputId": "118793c5-5af7-4695-8132-fc4c7bd8526e"
      },
      "execution_count": null,
      "outputs": [
        {
          "output_type": "display_data",
          "data": {
            "image/png": "[encoded data removed]",
            "text/plain": [
              "<Figure size 720x720 with 10 Axes>"
            ]
          },
          "metadata": {
            "needs_background": "light"
          }
        },
        {
          "output_type": "stream",
          "name": "stdout",
          "text": [
            "data  filter.png  sample_data\n"
          ]
        }
      ]
    },
    {
      "cell_type": "code",
      "source": [
        "# ?filter.detach\n",
        "# Returns a new Tensor, detached from the current graph."
      ],
      "metadata": {
        "id": "hW3Daa_otw9S"
      },
      "execution_count": null,
      "outputs": []
    },
    {
      "cell_type": "markdown",
      "source": [
        "# 7. Testing \n",
        "Let's define the test and visualize functions now."
      ],
      "metadata": {
        "id": "UnkHCLamuXm4"
      }
    },
    {
      "cell_type": "code",
      "source": [
        "def test():\n",
        "    # model.eval()的作用是不启用 Batch Normalization 和 Dropout。\n",
        "    model.eval()\n",
        "    test_loss = 0\n",
        "    correct = 0\n",
        "    with torch.no_grad():\n",
        "        for inputs, targets in test_loader:\n",
        "            outputs = model(inputs)\n",
        "            test_loss += criterion(outputs, targets).item() * inputs.size(0) # Sum up batch loss\n",
        "            preds = outputs.max(1, keepdim=True)[1] # Get the index of the max probability\n",
        "            correct += preds.eq(targets.view_as(preds)).sum().item()\n",
        "\n",
        "    test_loss /= len(test_loader.dataset)\n",
        "    print('\\nTest set: Average loss: {:.4f}, Accuracy: {}/{} ({:.2f}%)\\n'.format(\n",
        "        test_loss, correct, len(test_loader.dataset),\n",
        "        100. * correct / len(test_loader.dataset)))\n",
        "    \n",
        "def visualize():\n",
        "    model.eval()\n",
        "    testiter = iter(test_loader)\n",
        "    inputs, targets = testiter.next()\n",
        "\n",
        "    with torch.no_grad():\n",
        "        outputs = model(inputs)\n",
        "        preds = outputs.max(1, keepdim=True)[1]  # 取预测概率最大的index的值为预测的数字值\n",
        "        print(preds.shape)\n",
        "    \n",
        "    img = torchvision.utils.make_grid(inputs)\n",
        "    imshow(img, 0.1307, 0.3081)\n",
        "    print('GT\\t:', ' '.join('%d' % targets[j].item() for j in range(len(targets))))\n",
        "    print('Pred\\t:', ' '.join('%d' % preds[j].item() for j in range(len(targets))))\n"
      ],
      "metadata": {
        "id": "Wc5B6QTStuXf"
      },
      "execution_count": null,
      "outputs": []
    },
    {
      "cell_type": "markdown",
      "source": [
        "Let's do the test and visualize the results on the model that we have just trained for 1 epoch."
      ],
      "metadata": {
        "id": "U4YxG5KIzrSF"
      }
    },
    {
      "cell_type": "code",
      "source": [
        "test()\n",
        "visualize()"
      ],
      "metadata": {
        "colab": {
          "base_uri": "https://localhost:8080/",
          "height": 373
        },
        "id": "HzNqUN1nzzCt",
        "outputId": "61630a16-8cdf-4299-a96a-5b6771c64ad1"
      },
      "execution_count": null,
      "outputs": [
        {
          "output_type": "stream",
          "name": "stdout",
          "text": [
            "\n",
            "Test set: Average loss: 0.0569, Accuracy: 9818/10000 (98.18%)\n",
            "\n",
            "torch.Size([64, 1])\n"
          ]
        },
        {
          "output_type": "display_data",
          "data": {
            "image/png": "[encoded data removed]",
            "text/plain": [
              "<Figure size 432x288 with 1 Axes>"
            ]
          },
          "metadata": {
            "needs_background": "light"
          }
        },
        {
          "output_type": "stream",
          "name": "stdout",
          "text": [
            "GT\t: 7 2 1 0 4 1 4 9 5 9 0 6 9 0 1 5 9 7 3 4 9 6 6 5 4 0 7 4 0 1 3 1 3 4 7 2 7 1 2 1 1 7 4 2 3 5 1 2 4 4 6 3 5 5 6 0 4 1 9 5 7 8 9 3\n",
            "Pred\t: 7 2 1 0 4 1 4 9 5 9 0 6 9 0 1 5 9 7 3 4 9 6 6 5 4 0 7 4 0 1 3 1 3 4 7 2 7 1 2 1 1 7 4 2 3 5 1 2 4 4 6 3 5 5 6 0 4 1 9 5 7 8 9 3\n"
          ]
        }
      ]
    },
    {
      "cell_type": "markdown",
      "source": [
        "It seems pretty good! Let us try more epochs."
      ],
      "metadata": {
        "id": "ewUOvszs0B66"
      }
    },
    {
      "cell_type": "code",
      "source": [
        "for epoch in range(1, 4):\n",
        "    train(epoch)\n",
        "    test()\n",
        "\n",
        "visualize()"
      ],
      "metadata": {
        "colab": {
          "base_uri": "https://localhost:8080/",
          "height": 1000
        },
        "id": "jkePgRT40JDF",
        "outputId": "5ecf2309-22cd-4b48-a537-c390fe3d7456"
      },
      "execution_count": null,
      "outputs": [
        {
          "output_type": "stream",
          "name": "stdout",
          "text": [
            "epoch 1 batch 0/937 loss 0.097\n",
            "epoch 1 batch 100/937 loss 0.042\n",
            "epoch 1 batch 200/937 loss 0.017\n",
            "epoch 1 batch 300/937 loss 0.064\n",
            "epoch 1 batch 400/937 loss 0.093\n",
            "epoch 1 batch 500/937 loss 0.061\n",
            "epoch 1 batch 600/937 loss 0.023\n",
            "epoch 1 batch 700/937 loss 0.233\n",
            "epoch 1 batch 800/937 loss 0.010\n",
            "epoch 1 batch 900/937 loss 0.035\n",
            "epoch 1 batch 937/937 loss 0.038\n"
          ]
        },
        {
          "output_type": "display_data",
          "data": {
            "image/png": "[encoded data removed]",
            "text/plain": [
              "<Figure size 432x288 with 1 Axes>"
            ]
          },
          "metadata": {
            "needs_background": "light"
          }
        },
        {
          "output_type": "stream",
          "name": "stdout",
          "text": [
            "\n",
            "Test set: Average loss: 0.0485, Accuracy: 9838/10000 (98.38%)\n",
            "\n",
            "epoch 2 batch 0/937 loss 0.038\n",
            "epoch 2 batch 100/937 loss 0.027\n",
            "epoch 2 batch 200/937 loss 0.043\n",
            "epoch 2 batch 300/937 loss 0.005\n",
            "epoch 2 batch 400/937 loss 0.029\n",
            "epoch 2 batch 500/937 loss 0.007\n",
            "epoch 2 batch 600/937 loss 0.005\n",
            "epoch 2 batch 700/937 loss 0.024\n",
            "epoch 2 batch 800/937 loss 0.027\n",
            "epoch 2 batch 900/937 loss 0.117\n",
            "epoch 2 batch 937/937 loss 0.053\n"
          ]
        },
        {
          "output_type": "display_data",
          "data": {
            "image/png": "[encoded data removed]",
            "text/plain": [
              "<Figure size 432x288 with 1 Axes>"
            ]
          },
          "metadata": {
            "needs_background": "light"
          }
        },
        {
          "output_type": "stream",
          "name": "stdout",
          "text": [
            "\n",
            "Test set: Average loss: 0.0534, Accuracy: 9816/10000 (98.16%)\n",
            "\n",
            "epoch 3 batch 0/937 loss 0.062\n",
            "epoch 3 batch 100/937 loss 0.066\n",
            "epoch 3 batch 200/937 loss 0.010\n",
            "epoch 3 batch 300/937 loss 0.032\n",
            "epoch 3 batch 400/937 loss 0.084\n",
            "epoch 3 batch 500/937 loss 0.003\n",
            "epoch 3 batch 600/937 loss 0.002\n",
            "epoch 3 batch 700/937 loss 0.011\n",
            "epoch 3 batch 800/937 loss 0.027\n",
            "epoch 3 batch 900/937 loss 0.058\n",
            "epoch 3 batch 937/937 loss 0.024\n"
          ]
        },
        {
          "output_type": "display_data",
          "data": {
            "image/png": "[encoded data removed]",
            "text/plain": [
              "<Figure size 432x288 with 1 Axes>"
            ]
          },
          "metadata": {
            "needs_background": "light"
          }
        },
        {
          "output_type": "stream",
          "name": "stdout",
          "text": [
            "\n",
            "Test set: Average loss: 0.0383, Accuracy: 9870/10000 (98.70%)\n",
            "\n",
            "torch.Size([64, 1])\n"
          ]
        },
        {
          "output_type": "display_data",
          "data": {
            "image/png": "[encoded data removed]",
            "text/plain": [
              "<Figure size 432x288 with 1 Axes>"
            ]
          },
          "metadata": {
            "needs_background": "light"
          }
        },
        {
          "output_type": "stream",
          "name": "stdout",
          "text": [
            "GT\t: 7 2 1 0 4 1 4 9 5 9 0 6 9 0 1 5 9 7 3 4 9 6 6 5 4 0 7 4 0 1 3 1 3 4 7 2 7 1 2 1 1 7 4 2 3 5 1 2 4 4 6 3 5 5 6 0 4 1 9 5 7 8 9 3\n",
            "Pred\t: 7 2 1 0 4 1 4 9 5 9 0 6 9 0 1 5 9 7 3 4 9 6 6 5 4 0 7 4 0 1 3 1 3 4 7 2 7 1 2 1 1 7 4 2 3 5 1 2 4 4 6 3 5 5 6 0 4 1 9 5 7 8 5 3\n"
          ]
        }
      ]
    },
    {
      "cell_type": "markdown",
      "source": [
        "# 8. Checkpointing \n",
        "\n",
        "Normally, we will train our nueral network for not just one epoch, but many.  Neural network training typically takes a long time, sometimes days, weeks, or even months. Our training code should therefore be robust to interruptions. That is, we should write our training code so that we can save and re-load weights.\n",
        "\n",
        "It is good to checkpoint training progress by saving the neural network parameter values and training curve data to disk, once every few epochs. The frequency of checkpointing depends on many factors, but I recommend checkpointing every 10-30 minutes for large projects, and every few minutes for smaller ones.\n",
        "\n",
        "Another advantage of checkpointing is that we now have one extra hyper-parameter we can tune for free: the epoch number! You may not wish to choose neural network parameter values at the end of training, and might opt to choose the parameter values at a different epoch of training.\n",
        "\n",
        "One reason you might opt to do so is to prevent over-fitting. If your training loss is decreasing (as training progresses), but your validation loss stays the same, then your network is beginning to learn idiosyncrasies of the training set that do not generalize. Most often, we choose the earliest epoch with the lowest validation loss or error.\n",
        "\n",
        "aving and loading a model in PyTorch is very easy and straight forward. It’s as simple as this:"
      ],
      "metadata": {
        "id": "wufmIhlo0rmB"
      }
    },
    {
      "cell_type": "code",
      "source": [
        "chekpoint = {'model_state_dict' : model.state_dict(),\n",
        "             'optimizer_state_dict' : optimizer.state_dict()}\n",
        "\n",
        "torch.save(chekpoint, 'checkpoint.pth')"
      ],
      "metadata": {
        "id": "mdFioHXbw_0w"
      },
      "execution_count": null,
      "outputs": []
    },
    {
      "cell_type": "code",
      "source": [
        "!ls"
      ],
      "metadata": {
        "colab": {
          "base_uri": "https://localhost:8080/"
        },
        "id": "xi1jPG5wjR23",
        "outputId": "c268b929-1792-4cf0-f13e-3efb28c85d69"
      },
      "execution_count": null,
      "outputs": [
        {
          "output_type": "stream",
          "name": "stdout",
          "text": [
            "checkpoint.pth\tdata  filter.png  sample_data\n"
          ]
        }
      ]
    },
    {
      "cell_type": "markdown",
      "source": [
        "Loading is as simple as saving \n",
        ">1. Reconstruct the model from the structure saved in the checkpoint.\n",
        ">1. Load the state dict to the model.\n",
        ">3. Use model.eval() to freeze the parameters and enter evaluation model if you are loading the model for interference. If you wish to resuming training, call model.train() to ensure these layers are in train mode."
      ],
      "metadata": {
        "id": "uw-0rDfD2Das"
      }
    },
    {
      "cell_type": "code",
      "source": [
        "model = SimpleCNN()\n",
        "optimizer = torch.optim.SGD(model.parameters(), 0.01, momentum=0.9, weight_decay=5e-4)\n",
        "\n",
        "checkpoint = torch.load('checkpoint.pth')\n",
        "model.load_state_dict(checkpoint['model_state_dict'])\n",
        "optimizer.load_state_dict(checkpoint['optimizer_state_dict'])\n",
        "\n",
        "model.eval()\n",
        "\n",
        "test()"
      ],
      "metadata": {
        "colab": {
          "base_uri": "https://localhost:8080/"
        },
        "id": "wpBevUsT2tF2",
        "outputId": "e6a4650c-4a2b-4085-f427-b597af9fedf0"
      },
      "execution_count": null,
      "outputs": [
        {
          "output_type": "stream",
          "name": "stdout",
          "text": [
            "\n",
            "Test set: Average loss: 2.2991, Accuracy: 901/10000 (9.01%)\n",
            "\n"
          ]
        }
      ]
    },
    {
      "cell_type": "markdown",
      "source": [
        "# 9. What's Next?\n",
        "We have sketched a simple framework for training CNNs. There are a few more functions yet to be completed.\n",
        "\n",
        "    * Adjust the learning rate and batch size and observe the training curve\n",
        "    * Plot a chart for the accuracy\n",
        "    * Average the loss during each epoch when plotting a chart\n",
        "    * Consider data augmentations\n",
        "\n",
        "Please check the official Tutorials and Examples on for more details.\n",
        "https://pytorch.org/tutorials/\n",
        "\n",
        "https://github.com/pytorch/examples"
      ],
      "metadata": {
        "id": "myYh2u3h3jWL"
      }
    },
    {
      "cell_type": "markdown",
      "source": [
        "# Tutorial 2\n",
        "# Object Detection \n",
        "In this tutorial, you will learn:\n",
        ">- the basic structure of Faster R-CNN\n",
        ">- to perform inference with a MMDetection detector.\n",
        ">- to train a new detector with a new dataset\n",
        "\n",
        "Let's start!\n"
      ],
      "metadata": {
        "id": "-uXW4BrcXCQs"
      }
    },
    {
      "cell_type": "markdown",
      "source": [
        "# Install MMDetection"
      ],
      "metadata": {
        "id": "Zg-13LQJl3tO"
      }
    },
    {
      "cell_type": "code",
      "source": [
        "# Check nvcc version\n",
        "!nvcc -V\n",
        "# Check GCC version\n",
        "!gcc --version"
      ],
      "metadata": {
        "colab": {
          "base_uri": "https://localhost:8080/"
        },
        "id": "x63FqC4Ol78n",
        "outputId": "8c01dd11-aea4-4664-9a98-853b8dd98a13"
      },
      "execution_count": 17,
      "outputs": [
        {
          "output_type": "stream",
          "name": "stdout",
          "text": [
            "nvcc: NVIDIA (R) Cuda compiler driver\n",
            "Copyright (c) 2005-2020 NVIDIA Corporation\n",
            "Built on Mon_Oct_12_20:09:46_PDT_2020\n",
            "Cuda compilation tools, release 11.1, V11.1.105\n",
            "Build cuda_11.1.TC455_06.29190527_0\n",
            "gcc (Ubuntu 7.5.0-3ubuntu1~18.04) 7.5.0\n",
            "Copyright (C) 2017 Free Software Foundation, Inc.\n",
            "This is free software; see the source for copying conditions.  There is NO\n",
            "warranty; not even for MERCHANTABILITY or FITNESS FOR A PARTICULAR PURPOSE.\n",
            "\n"
          ]
        }
      ]
    },
    {
      "cell_type": "code",
      "source": [
        "# install dependencies: (use cu101 because colab has CUDA 10.1)\n",
        "!pip install -U torch==1.5.1+cu101 torchvision==0.6.1+cu101 -f https://download.pytorch.org/whl/torch_stable.html\n",
        "\n",
        "# install mmcv-fulll thus we could use CUDA operators\n",
        "!pip install mmcv-full\n",
        "\n",
        "# Install mmdetection\n",
        "!rm -rf mmdetection\n",
        "!git clone https://github.com/open-mmlab/mmdetection.git \n",
        "%cd mmdetection\n",
        "\n",
        "!pip install -e .\n",
        "\n",
        "# To resolve the version conflicts of PILLOW, we reinstall PILLOW==7.0.0\n",
        "!pip install PILLOW==7.0.0"
      ],
      "metadata": {
        "colab": {
          "base_uri": "https://localhost:8080/"
        },
        "id": "x35ctis2XB3b",
        "outputId": "e22638e2-2bb8-4999-c418-621a219af7d7"
      },
      "execution_count": 18,
      "outputs": [
        {
          "output_type": "stream",
          "name": "stdout",
          "text": [
            "Requirement already satisfied: mmcv-full in /usr/local/lib/python3.7/dist-packages (1.4.4)\n",
            "Requirement already satisfied: pyyaml in /usr/local/lib/python3.7/dist-packages (from mmcv-full) (3.13)\n",
            "Requirement already satisfied: yapf in /usr/local/lib/python3.7/dist-packages (from mmcv-full) (0.32.0)\n",
            "Requirement already satisfied: packaging in /usr/local/lib/python3.7/dist-packages (from mmcv-full) (21.3)\n",
            "Requirement already satisfied: Pillow in /usr/local/lib/python3.7/dist-packages (from mmcv-full) (7.0.0)\n",
            "Requirement already satisfied: addict in /usr/local/lib/python3.7/dist-packages (from mmcv-full) (2.4.0)\n",
            "Requirement already satisfied: numpy in /usr/local/lib/python3.7/dist-packages (from mmcv-full) (1.19.5)\n",
            "Requirement already satisfied: pyparsing!=3.0.5,>=2.0.2 in /usr/local/lib/python3.7/dist-packages (from packaging->mmcv-full) (3.0.7)\n",
            "Cloning into 'mmdetection'...\n",
            "remote: Enumerating objects: 22938, done.\u001b[K\n",
            "remote: Total 22938 (delta 0), reused 0 (delta 0), pack-reused 22938\u001b[K\n",
            "Receiving objects: 100% (22938/22938), 25.74 MiB | 33.75 MiB/s, done.\n",
            "Resolving deltas: 100% (16083/16083), done.\n",
            "/content/mmdetection/mmdetection\n",
            "Obtaining file:///content/mmdetection/mmdetection\n",
            "Requirement already satisfied: matplotlib in /usr/local/lib/python3.7/dist-packages (from mmdet==2.20.0) (3.2.2)\n",
            "Requirement already satisfied: numpy in /usr/local/lib/python3.7/dist-packages (from mmdet==2.20.0) (1.19.5)\n",
            "Requirement already satisfied: pycocotools in /usr/local/lib/python3.7/dist-packages (from mmdet==2.20.0) (2.0.4)\n",
            "Requirement already satisfied: six in /usr/local/lib/python3.7/dist-packages (from mmdet==2.20.0) (1.15.0)\n",
            "Requirement already satisfied: terminaltables in /usr/local/lib/python3.7/dist-packages (from mmdet==2.20.0) (3.1.10)\n",
            "Requirement already satisfied: python-dateutil>=2.1 in /usr/local/lib/python3.7/dist-packages (from matplotlib->mmdet==2.20.0) (2.8.2)\n",
            "Requirement already satisfied: pyparsing!=2.0.4,!=2.1.2,!=2.1.6,>=2.0.1 in /usr/local/lib/python3.7/dist-packages (from matplotlib->mmdet==2.20.0) (3.0.7)\n",
            "Requirement already satisfied: cycler>=0.10 in /usr/local/lib/python3.7/dist-packages (from matplotlib->mmdet==2.20.0) (0.11.0)\n",
            "Requirement already satisfied: kiwisolver>=1.0.1 in /usr/local/lib/python3.7/dist-packages (from matplotlib->mmdet==2.20.0) (1.3.2)\n",
            "Installing collected packages: mmdet\n",
            "  Attempting uninstall: mmdet\n",
            "    Found existing installation: mmdet 2.20.0\n",
            "    Can't uninstall 'mmdet'. No files were found to uninstall.\n",
            "  Running setup.py develop for mmdet\n",
            "Successfully installed mmdet-2.20.0\n"
          ]
        }
      ]
    },
    {
      "cell_type": "code",
      "source": [
        "from mmcv import collect_env\n",
        "collect_env"
      ],
      "metadata": {
        "colab": {
          "base_uri": "https://localhost:8080/"
        },
        "id": "-mkHxyU7nvDp",
        "outputId": "72237eba-c58d-4e4b-c264-b64302b75f82"
      },
      "execution_count": 19,
      "outputs": [
        {
          "output_type": "execute_result",
          "data": {
            "text/plain": [
              "<function mmcv.utils.env.collect_env>"
            ]
          },
          "metadata": {},
          "execution_count": 19
        }
      ]
    },
    {
      "cell_type": "code",
      "source": [
        "# Check Pytorch installation\n",
        "import torch, torchvision\n",
        "print(torch.__version__,torch.cuda.is_available())\n",
        "\n",
        "# Check MMDetection installation\n",
        "import mmdet\n",
        "print(mmdet.__version__)\n",
        "\n",
        "# Check mmcv installation\n",
        "from mmcv.ops import get_compiling_cuda_version, get_compiler_version\n",
        "print(get_compiling_cuda_version())\n",
        "print(get_compiler_version())"
      ],
      "metadata": {
        "colab": {
          "base_uri": "https://localhost:8080/"
        },
        "id": "TvvOK7XinvOM",
        "outputId": "41c5ac2a-aed2-4d60-f697-373fa46fa442"
      },
      "execution_count": 20,
      "outputs": [
        {
          "output_type": "stream",
          "name": "stdout",
          "text": [
            "1.5.1+cu101 True\n",
            "2.20.0\n",
            "11.1\n",
            "GCC 7.5\n"
          ]
        }
      ]
    },
    {
      "cell_type": "markdown",
      "source": [
        "# Perform Inference with An MMDet detector"
      ],
      "metadata": {
        "id": "QzQy2VnL1eZN"
      }
    },
    {
      "cell_type": "markdown",
      "source": [
        "## A two-stage detector\n",
        "In this tutorial, we use Faster R-CNN, a simple two-stage detector as an example. \n",
        "The high-level architecture of Faster R-CNN is shown in the following picture. More details can be found in the [paper](https://arxiv.org/abs/1506.01497)\n",
        "\n",
        "![faster rcnn](https://pic1.zhimg.com/80/v2-c0172be282021a1029f7b72b51079ffe_1440w.jpg)\n",
        "\n",
        "![mmdet](https://pic2.zhimg.com/v2-e49ebcf931b5cf424ed311338f9ff35d_b.jpg)\n",
        "\n",
        "Briefly, it uses a convolutional neural network (CNN) as backbone to extract features from an image. Then, it uses a region proposal network (RPN) to predict proposals, i.e., potential objects. After that, it uses a feature extractor to crop features for the region of interests (RoI), and uses a RoI Head to perform classification and bounding box prediction."
      ],
      "metadata": {
        "id": "9b5J0Lbr1uaN"
      }
    },
    {
      "cell_type": "code",
      "source": [
        "# We download the pre-trained checkpoints for inference and finetuning.\n",
        "# https://mmdetection.readthedocs.io/en/latest/tutorials/finetune.html\n",
        "!mkdir checkpoints\n",
        "!wget -c https://open-mmlab.s3.ap-northeast-2.amazonaws.com/mmdetection/v2.0/faster_rcnn/faster_rcnn_r50_caffe_fpn_mstrain_3x_coco/faster_rcnn_r50_caffe_fpn_mstrain_3x_coco_bbox_mAP-0.398_20200504_163323-30042637.pth \\\n",
        "      -O checkpoints/faster_rcnn_r50_caffe_fpn_mstrain_3x_coco_bbox_mAP-0.398_20200504_163323-30042637.pth"
      ],
      "metadata": {
        "colab": {
          "base_uri": "https://localhost:8080/"
        },
        "id": "2_6idVyd1jUB",
        "outputId": "f0f0391d-f117-4753-a5c8-0255ec7db155"
      },
      "execution_count": 2,
      "outputs": [
        {
          "output_type": "stream",
          "name": "stdout",
          "text": [
            "--2022-02-06 07:35:19--  https://open-mmlab.s3.ap-northeast-2.amazonaws.com/mmdetection/v2.0/faster_rcnn/faster_rcnn_r50_caffe_fpn_mstrain_3x_coco/faster_rcnn_r50_caffe_fpn_mstrain_3x_coco_bbox_mAP-0.398_20200504_163323-30042637.pth\n",
            "Resolving open-mmlab.s3.ap-northeast-2.amazonaws.com (open-mmlab.s3.ap-northeast-2.amazonaws.com)... 52.219.144.94\n",
            "Connecting to open-mmlab.s3.ap-northeast-2.amazonaws.com (open-mmlab.s3.ap-northeast-2.amazonaws.com)|52.219.144.94|:443... connected.\n",
            "HTTP request sent, awaiting response... 403 Forbidden\n",
            "2022-02-06 07:35:20 ERROR 403: Forbidden.\n",
            "\n"
          ]
        }
      ]
    },
    {
      "cell_type": "code",
      "source": [
        "import mmcv \n",
        "from mmcv.runner import load_checkpoint\n",
        "\n",
        "from mmdet.apis import inference_detector, show_result_pyplot\n",
        "from mmdet.models import build_detector\n",
        "\n",
        "# Choose to use a config and initialize the detector\n",
        "config = 'configs/faster_rcnn/faster_rcnn_r50_caffe_fpn_mstrain_3x_coco.py'\n",
        "# Setup a checkpoint file to load\n",
        "checkpoint = 'checkpoints/faster_rcnn_r50_caffe_fpn_mstrain_3x_coco_bbox_mAP-0.398_20200504_163323-30042637.pth'\n",
        "\n",
        "# Set the device to be used for evaluation\n",
        "device='cuda:0'\n",
        "\n",
        "# Load the config \n",
        "config = mmcv.Config.fromefile(config)\n",
        "# Set pretrained to be None since we do not need pretrained model here\n",
        "config.model.pretrained = None\n",
        "\n",
        "# Initialize the detector\n",
        "model = build_detector(config.model, test_cfg=config.test_cfg)\n",
        "\n",
        "# Load checkpoint \n",
        "checkpoint = load_checkpoint(model, checkpoint, map_location=device)\n",
        "\n",
        "# Set the classes of models for inference\n",
        "model.CLASSES = checkpoint['meta']['CLASSES']\n",
        "\n",
        "# We need to set the model's cfg for inference \n",
        "model.cfg = config\n",
        "\n",
        "# Convert the model to GPU\n",
        "model.to(device)\n",
        "# Convert the model into evaluation mode \n",
        "model.eval()\n"
      ],
      "metadata": {
        "id": "ro0cxRXnnvRM"
      },
      "execution_count": null,
      "outputs": []
    },
    {
      "cell_type": "markdown",
      "source": [
        "From the printed model, we will find that the model does consist of the components that we described earlier. It uses ResNet as its CNN backbone, and has a RPN head and RoI Head. In addition, the model has a neural network module, named neck, directly after the CNN backborn. It is a [feature pyramid network (FPN)](https://arxiv.org/abs/1612.03144) for enhancing the multi-scale features.\n",
        "\n",
        "## Inference the detector \n",
        "Since the model is successfully created and loaded, let's see how good it is. We use the high-level API`inference_detector` implemented in the MMDetection. This API is created to ease the inference process. The details of the codes can be found [here](https://github.com/open-mmlab/mmdetection/blob/master/mmdet/apis/inference.py#L15)."
      ],
      "metadata": {
        "id": "ZpFXlvFZ-QJB"
      }
    },
    {
      "cell_type": "code",
      "source": [
        "# Use the detector to do inference \n",
        "img = 'demo/demo.jpg'\n",
        "result = inference_detector(model, img)\n"
      ],
      "metadata": {
        "id": "kjHlSabcnvTW"
      },
      "execution_count": null,
      "outputs": []
    },
    {
      "cell_type": "code",
      "source": [
        "# Let's plot the result \n",
        "show_result_pyplot(model, img, result, score_thr=0.3)"
      ],
      "metadata": {
        "id": "5qYWWPtQH8Wd"
      },
      "execution_count": null,
      "outputs": []
    },
    {
      "cell_type": "markdown",
      "source": [
        "# Train A Detector on A Customized Dataset\n",
        "To train a new detector, there are usually three things to do:\n",
        "1. Support a new dataset \n",
        "2. Modify the config \n",
        "3. Train a new detector \n",
        "\n",
        "## Support a new dataset \n",
        "There are three ways to support a new dataset in MMDetection:\n",
        "\n",
        "1. Recognize the datset into a COCO format. \n",
        "2. Reorganize the dataset into a middle format\n",
        "3. Implement a new dataset. \n",
        "\n",
        "We recommend the first two methods, as they are usually easier than the third one.\n",
        "In this tutorial, we give an example that converts the data into the formats of existing datasets, e.g. COCO, VOC, etc. Other methods and more advanced usages can be found in the [doc](https://mmdetection.readthedocs.io/en/latest/tutorials/new_dataset.html#).\n",
        "\n",
        "First, let's download a tiny dataset obtained from [KITTI](http://www.cvlibs.net/datasets/kitti/eval_object.php?obj_benchmark=3d). We select the first 75 images and their annotations from the 3D object detection dataset (it is the same dataset as the 2D object detection dataset but with 3D annotations). We convert the original images from PNG to JPEG format with 80% quality to reduce the size of the dataset."
      ],
      "metadata": {
        "id": "ZTlDpfcCIJ7m"
      }
    },
    {
      "cell_type": "code",
      "source": [
        "# download, decompress the data\n",
        "!wget https://open-mmlab.s3.ap-northeast-2.amazonaws.com/mmdetection/data/kitti_tiny.zip\n",
        "!unzip kitti_tiny.zip > /dev/null"
      ],
      "metadata": {
        "id": "KdUlOC2eIEsE"
      },
      "execution_count": null,
      "outputs": []
    },
    {
      "cell_type": "code",
      "source": [
        "# Check the directory structure of the tiny data \n",
        "\n",
        "# Install tree first \n",
        "!apt-get -q install tree\n",
        "!tree kitti_tiny"
      ],
      "metadata": {
        "id": "T8yy1PGNIEzU"
      },
      "execution_count": null,
      "outputs": []
    },
    {
      "cell_type": "code",
      "source": [
        "# Let's take a look at the dataset image \n",
        "import mmcv \n",
        "import matplotlib.pyplot as plt \n",
        "\n",
        "img = mmcv.imread('kitti_tiny/training/image_2/000073.jpeg')\n",
        "plt.figure(figsize=(15, 10))\n",
        "plt.imshow(mmcv.bgr2rgb(img))\n",
        "plt.show()"
      ],
      "metadata": {
        "id": "GgoP-Q7dIE2k"
      },
      "execution_count": null,
      "outputs": []
    },
    {
      "cell_type": "markdown",
      "source": [
        "After downloading the data, we need to implement a function to convert the KITTI annotation format into the middle format. In this tutorial, we choose to convert them in **`load_annotations`** function in a newly implemented **`KittiTinyDataset`**.\n",
        "\n",
        "Let's take a loot at the annotation txt file."
      ],
      "metadata": {
        "id": "Ke1JuPYnIKFe"
      }
    },
    {
      "cell_type": "code",
      "source": [
        "# Check the label of a single image \n",
        "!cat kitti_tiny/training/label_2/000000.txt"
      ],
      "metadata": {
        "id": "a6chq7jMLM3F"
      },
      "execution_count": null,
      "outputs": []
    },
    {
      "cell_type": "markdown",
      "source": [
        "According to the KITTI's documentation, the first column indicates the class of the object, and the 5th to 8th columns indicate the bboxes. We need to read annotations of each image and convert them into middle format that MMDetection can accept, as follows:\n",
        "\n",
        "```python\n",
        "[\n",
        "    {\n",
        "        'filename':'a.jpg',\n",
        "        'width': 1280,\n",
        "        'height': 720,\n",
        "        'ann': {\n",
        "            'bboxes': <np.ndarray> (n, 4) in (x1, y1, x2, y2) order,\n",
        "            'labels': <np.ndarray> (n, ),\n",
        "            'bboxes_ignore': <np.ndarray> (k, 4), (optional field)\n",
        "            'labels_ignore': <np.ndarray> (k, 4) (optional field)\n",
        "        }\n",
        "    },\n",
        "    ...\n",
        "]\n",
        "```"
      ],
      "metadata": {
        "id": "xsm2lUApLZa9"
      }
    },
    {
      "cell_type": "code",
      "source": [
        ""
      ],
      "metadata": {
        "id": "H7HAwEreLl9Z"
      },
      "execution_count": null,
      "outputs": []
    }
  ]
}