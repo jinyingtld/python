{
  "nbformat": 4,
  "nbformat_minor": 0,
  "metadata": {
    "colab": {
      "name": "Numpy_Usage(1).ipynb",
      "provenance": [],
      "collapsed_sections": [],
      "include_colab_link": true
    },
    "kernelspec": {
      "name": "python3",
      "display_name": "Python 3"
    },
    "language_info": {
      "name": "python"
    }
  },
  "cells": [
    {
      "cell_type": "markdown",
      "metadata": {
        "id": "view-in-github",
        "colab_type": "text"
      },
      "source": [
        "<a href=\"https://colab.research.google.com/github/jinyingtld/python/blob/main/Numpy_Usage(1).ipynb\" target=\"_parent\"><img src=\"https://colab.research.google.com/assets/colab-badge.svg\" alt=\"Open In Colab\"/></a>"
      ]
    },
    {
      "cell_type": "markdown",
      "metadata": {
        "id": "_ALAeBKo7Got"
      },
      "source": [
        "#Creation of Arrays#"
      ]
    },
    {
      "cell_type": "code",
      "metadata": {
        "id": "SHyh2rlT8Cp7"
      },
      "source": [
        "import numpy as np\n",
        "def print_np_details(arr, name):\n",
        "  print('array ', name)\n",
        "  print(arr)\n",
        "  print('python type = ', arr.astype)\n",
        "  print(\"numpy data type = \", arr.dtype)\n",
        "  print(\"shape = \", arr.shape)"
      ],
      "execution_count": null,
      "outputs": []
    },
    {
      "cell_type": "code",
      "metadata": {
        "colab": {
          "base_uri": "https://localhost:8080/"
        },
        "id": "jE2Dkjg920H5",
        "outputId": "c750d5ca-5b50-4d95-cee3-a23fc9c16162"
      },
      "source": [
        "#import numpy as np\n",
        "a1D = np.array([1, 2, 3, 4]) # this creates a numpy.ndarray object from a Python list\n",
        "print_np_details(a1D, \"a1D\")\n",
        "\n"
      ],
      "execution_count": null,
      "outputs": [
        {
          "output_type": "stream",
          "text": [
            "array  a1D\n",
            "[1 2 3 4]\n",
            "python type =  <built-in method astype of numpy.ndarray object at 0x7f4ad11d1d00>\n",
            "numpy data type =  int64\n",
            "shape =  (4,)\n"
          ],
          "name": "stdout"
        }
      ]
    },
    {
      "cell_type": "code",
      "metadata": {
        "colab": {
          "base_uri": "https://localhost:8080/"
        },
        "id": "h_znn5TJ8rQd",
        "outputId": "cbcb40be-ca8f-483f-a4a2-a432112a4331"
      },
      "source": [
        "# this creates a 2d array\n",
        "a2D = np.array([[1, 2, 3, 4], [5, 6, 7, 8]]) \n",
        "print_np_details(a2D, \"a2D\")"
      ],
      "execution_count": null,
      "outputs": [
        {
          "output_type": "stream",
          "text": [
            "array  a2D\n",
            "[[1 2 3 4]\n",
            " [5 6 7 8]]\n",
            "python type =  <built-in method astype of numpy.ndarray object at 0x7f4acef64710>\n",
            "numpy data type =  int64\n",
            "shape =  (2, 4)\n"
          ],
          "name": "stdout"
        }
      ]
    },
    {
      "cell_type": "code",
      "metadata": {
        "colab": {
          "base_uri": "https://localhost:8080/"
        },
        "id": "8cKErYlw7YNk",
        "outputId": "f50194cb-351f-4196-8fa9-bbc196669194"
      },
      "source": [
        "#specify the type of the array\n",
        "a = np.array([127, 128, 129], dtype=np.int8) \n",
        "# 8-bit integer represents value from -128 to 127\n",
        "print_np_details(a, \"a\")"
      ],
      "execution_count": null,
      "outputs": [
        {
          "output_type": "stream",
          "text": [
            "array  a\n",
            "[ 127 -128 -127]\n",
            "python type =  <built-in method astype of numpy.ndarray object at 0x7f4acef69ad0>\n",
            "numpy data type =  int8\n",
            "shape =  (3,)\n"
          ],
          "name": "stdout"
        }
      ]
    },
    {
      "cell_type": "code",
      "metadata": {
        "colab": {
          "base_uri": "https://localhost:8080/"
        },
        "id": "wad5Kg_k91WM",
        "outputId": "25a19ff1-1632-4db5-bb95-3283b13ba6ad"
      },
      "source": [
        "#setting the data type to unsigned int\n",
        "a = np.array([127, 128, 129, 256], dtype=np.uint8) \n",
        "# 8-bit unsigned integer represents value from 0 to 255\n",
        "print_np_details(a, \"a\")"
      ],
      "execution_count": null,
      "outputs": [
        {
          "output_type": "stream",
          "text": [
            "array  a\n",
            "[127 128 129   0]\n",
            "python type =  <built-in method astype of numpy.ndarray object at 0x7f4acef693a0>\n",
            "numpy data type =  uint8\n",
            "shape =  (4,)\n"
          ],
          "name": "stdout"
        }
      ]
    },
    {
      "cell_type": "code",
      "metadata": {
        "colab": {
          "base_uri": "https://localhost:8080/"
        },
        "id": "dKXafIh7_PXP",
        "outputId": "141b7060-d791-4915-ca30-8c53a44e7672"
      },
      "source": [
        "#setting the data type to 16-bit int\n",
        "a = np.array([127, 128, 129, 255], dtype=np.int16) \n",
        "print_np_details(a, \"a\")\n",
        "\n",
        "#setting the data type to 32-bit float\n",
        "b = np.array([127, 128, 129, 255], dtype=np.float32) \n",
        "print_np_details(b, \"b\")"
      ],
      "execution_count": null,
      "outputs": [
        {
          "output_type": "stream",
          "text": [
            "array  a\n",
            "[127 128 129 255]\n",
            "python type =  <built-in method astype of numpy.ndarray object at 0x7fe374ba8580>\n",
            "numpy data type =  int16\n",
            "shape =  (4,)\n",
            "array  b\n",
            "[127. 128. 129. 255.]\n",
            "python type =  <built-in method astype of numpy.ndarray object at 0x7fe374c299e0>\n",
            "numpy data type =  float32\n",
            "shape =  (4,)\n"
          ],
          "name": "stdout"
        }
      ]
    },
    {
      "cell_type": "code",
      "metadata": {
        "colab": {
          "base_uri": "https://localhost:8080/"
        },
        "id": "Bn4a1KrUAyia",
        "outputId": "15deafc5-91a1-4745-8daf-565c240a6bc2"
      },
      "source": [
        "#zero matrix\n",
        "a = np.zeros((2, 3))\n",
        "print_np_details(a, \"a\")\n",
        "\n",
        "b = np.zeros((2, 3), dtype=np.int16)\n",
        "print_np_details(b, \"b\")"
      ],
      "execution_count": null,
      "outputs": [
        {
          "output_type": "stream",
          "text": [
            "array  a\n",
            "[[0. 0. 0.]\n",
            " [0. 0. 0.]]\n",
            "python type =  <built-in method astype of numpy.ndarray object at 0x7f4acef79ee0>\n",
            "numpy data type =  float64\n",
            "shape =  (2, 3)\n",
            "array  b\n",
            "[[0 0 0]\n",
            " [0 0 0]]\n",
            "python type =  <built-in method astype of numpy.ndarray object at 0x7f4acef817b0>\n",
            "numpy data type =  int16\n",
            "shape =  (2, 3)\n"
          ],
          "name": "stdout"
        }
      ]
    },
    {
      "cell_type": "code",
      "metadata": {
        "colab": {
          "base_uri": "https://localhost:8080/"
        },
        "id": "_z4j92ewBPF7",
        "outputId": "d8c3d899-44ad-4aeb-f997-667860cb188c"
      },
      "source": [
        "# one matrix\n",
        "a = np.ones((3, 5))\n",
        "print(a)\n",
        "\n",
        "# identity matrix\n",
        "a = np.eye(4)\n",
        "print(a)"
      ],
      "execution_count": null,
      "outputs": [
        {
          "output_type": "stream",
          "text": [
            "[[1. 1. 1. 1. 1.]\n",
            " [1. 1. 1. 1. 1.]\n",
            " [1. 1. 1. 1. 1.]]\n",
            "[[1. 0. 0. 0.]\n",
            " [0. 1. 0. 0.]\n",
            " [0. 0. 1. 0.]\n",
            " [0. 0. 0. 1.]]\n"
          ],
          "name": "stdout"
        }
      ]
    },
    {
      "cell_type": "markdown",
      "metadata": {
        "id": "mC00GNxoFSH0"
      },
      "source": [
        "#Slicing Arrays#"
      ]
    },
    {
      "cell_type": "code",
      "metadata": {
        "colab": {
          "base_uri": "https://localhost:8080/"
        },
        "id": "_kIwUlNGFQdD",
        "outputId": "86e64df8-67b1-4798-ce1b-640ad6872abf"
      },
      "source": [
        "a = np.array([[1, 2, 3], [3, 4, 6.7], [5, 9.0, 5]])\n",
        "print(a)\n",
        "print(\"selecting the first row\")\n",
        "print(a[0, :])  # zero-based indexing\n",
        "print(\"selecting the second column\")\n",
        "print(a[:, 1])\n",
        "print(\"selecting the second and the third columns\")\n",
        "print(a[:, 1:3])\n",
        "print(\"selecting the second and the third rows and the 3rd column\")\n",
        "print(a[1:3, 2])\n",
        "print(\"selecting the entry a_{2, 3}\")\n",
        "print(a[1, 2])"
      ],
      "execution_count": null,
      "outputs": [
        {
          "output_type": "stream",
          "text": [
            "[[1.  2.  3. ]\n",
            " [3.  4.  6.7]\n",
            " [5.  9.  5. ]]\n",
            "selecting the first row\n",
            "[1. 2. 3.]\n",
            "selecting the second column\n",
            "[2. 4. 9.]\n",
            "selecting the second and the third columns\n",
            "[[2.  3. ]\n",
            " [4.  6.7]\n",
            " [9.  5. ]]\n",
            "selecting the second and the third rows and the 3rd column\n",
            "[6.7 5. ]\n",
            "selecting the entry a_{2, 3}\n",
            "6.7\n"
          ],
          "name": "stdout"
        }
      ]
    },
    {
      "cell_type": "code",
      "metadata": {
        "colab": {
          "base_uri": "https://localhost:8080/"
        },
        "id": "7zJ_oBTkoh_A",
        "outputId": "c34ea86c-a4b8-4037-e938-227ffe193dce"
      },
      "source": [
        "a = np.array([[1, 2, 3], [3, 4, 6.7], [5, 9.0, 5]])\n",
        "print(a)\n",
        "print(\"assigning values to the second and the third rows and the 3rd column\")\n",
        "a[1:3, 2] = np.array([0.1, 0.2])\n",
        "print(a)\n",
        "\n",
        "print(\"assigning values to the first row\")\n",
        "a[0, :] = np.array([100, 200, 300])\n",
        "print(a)"
      ],
      "execution_count": null,
      "outputs": [
        {
          "output_type": "stream",
          "text": [
            "[[1.  2.  3. ]\n",
            " [3.  4.  6.7]\n",
            " [5.  9.  5. ]]\n",
            "assigning values to the first and the second rows and the 3rd row\n",
            "[[1.  2.  3. ]\n",
            " [3.  4.  0.1]\n",
            " [5.  9.  0.2]]\n",
            "assigning values to the first row\n",
            "[[1.e+02 2.e+02 3.e+02]\n",
            " [3.e+00 4.e+00 1.e-01]\n",
            " [5.e+00 9.e+00 2.e-01]]\n"
          ],
          "name": "stdout"
        }
      ]
    },
    {
      "cell_type": "code",
      "metadata": {
        "colab": {
          "base_uri": "https://localhost:8080/"
        },
        "id": "TF9JPOLEnPJ2",
        "outputId": "38fb96bd-268c-4d31-d121-3ad29eec6089"
      },
      "source": [
        "a = np.array([[1, 2, 3], [3, 4, 6.7], [5, 9.0, 5]])\n",
        "print('selecting the diagonal')\n",
        "print(np.diagonal(a))\n",
        "\n",
        "print('selecting the diagonal from the first and second row')\n",
        "print(np.diagonal(a[0:2, :]))\n",
        "\n",
        "print('assign a new diagonal to a')\n",
        "np.fill_diagonal(a, np.array([-4, -5, -6]))\n",
        "print(a)"
      ],
      "execution_count": null,
      "outputs": [
        {
          "output_type": "stream",
          "text": [
            "selecting the diagonal\n",
            "[1. 4. 5.]\n",
            "selecting the diagonal from the first and second row\n",
            "[1. 4.]\n",
            "assign a new diagonal to a\n",
            "[[-4.   2.   3. ]\n",
            " [ 3.  -5.   6.7]\n",
            " [ 5.   9.  -6. ]]\n"
          ],
          "name": "stdout"
        }
      ]
    },
    {
      "cell_type": "markdown",
      "metadata": {
        "id": "kE88JzE_F-4T"
      },
      "source": [
        "# Element-wise Operations"
      ]
    },
    {
      "cell_type": "code",
      "metadata": {
        "colab": {
          "base_uri": "https://localhost:8080/"
        },
        "id": "PeQ1L7DoGCJm",
        "outputId": "8ba2b3ea-d948-4d21-9f66-b5574ff30e20"
      },
      "source": [
        "a = np.array([1, 2, 3, 4])\n",
        "b = np.array([2, 6, 9, 12])\n",
        "print(\"element-wise addition\")\n",
        "print(a+0.2)\n",
        "print(\"element-wise multiplication\")\n",
        "print(a*2)\n",
        "print(\"element-wise division\")\n",
        "print(a/3)\n",
        "\n",
        "print(\"element-wise addition\")\n",
        "print(a+b)\n",
        "print(\"element-wise division\")\n",
        "print(a/b)"
      ],
      "execution_count": null,
      "outputs": [
        {
          "output_type": "stream",
          "text": [
            "element-wise addition\n",
            "[1.2 2.2 3.2 4.2]\n",
            "element-wise multiplication\n",
            "[2 4 6 8]\n",
            "element-wise division\n",
            "[0.33333333 0.66666667 1.         1.33333333]\n",
            "element-wise addition\n",
            "[ 3  8 12 16]\n",
            "element-wise division\n",
            "[0.5        0.33333333 0.33333333 0.33333333]\n"
          ],
          "name": "stdout"
        }
      ]
    },
    {
      "cell_type": "markdown",
      "metadata": {
        "id": "MtExvSsrbWJ2"
      },
      "source": [
        "# Broadcasting"
      ]
    },
    {
      "cell_type": "code",
      "metadata": {
        "colab": {
          "base_uri": "https://localhost:8080/"
        },
        "id": "XnzG5yWobViH",
        "outputId": "eacb4142-ab83-4402-d519-c2d6726120c8"
      },
      "source": [
        "A = np.array([1, 2, 3])\n",
        "B = np.array([[2, 3, 4], [5, 6, 7], [9, 10, 11]])\n",
        "print(A.shape)\n",
        "print(B.shape)\n",
        "\n",
        "A+B"
      ],
      "execution_count": null,
      "outputs": [
        {
          "output_type": "stream",
          "text": [
            "(3,)\n",
            "(3, 3)\n"
          ],
          "name": "stdout"
        },
        {
          "output_type": "execute_result",
          "data": {
            "text/plain": [
              "array([[ 3,  5,  7],\n",
              "       [ 6,  8, 10],\n",
              "       [10, 12, 14]])"
            ]
          },
          "metadata": {},
          "execution_count": 13
        }
      ]
    },
    {
      "cell_type": "markdown",
      "metadata": {
        "id": "oOnLT6iSGl0I"
      },
      "source": [
        "#Linear Algrebra Operations#"
      ]
    },
    {
      "cell_type": "code",
      "metadata": {
        "colab": {
          "base_uri": "https://localhost:8080/"
        },
        "id": "aUHbUYsEGkoZ",
        "outputId": "1acbe62b-a165-4991-81fc-edb5970e67ef"
      },
      "source": [
        "# inner product\n",
        "a = np.array([1, 2, 3, 4])\n",
        "b = np.array([1/2, 1/16, 9, 12])\n",
        "print('inner product')\n",
        "print(a.dot(b))\n",
        "\n",
        "# matrix-vector multiplication\n",
        "A = np.array([[1, 1/2, 1/3], [3, 0.4, 6.7], [5, 9.0, 5]])\n",
        "x = np.array([2, 1.3, 4.8])\n",
        "print('matrix-vector product')\n",
        "print(A.dot(x))\n",
        "\n",
        "# linear combination of columns\n",
        "y = x[0] * A[:, 0] + x[1] * A[:, 1] + x[2] * A[:, 2]\n",
        "print('linear combination of columns')\n",
        "print(y)"
      ],
      "execution_count": null,
      "outputs": [
        {
          "output_type": "stream",
          "text": [
            "inner product\n",
            "75.625\n",
            "matrix-vector product\n",
            "[ 4.25 38.68 45.7 ]\n",
            "linear combination of columns\n",
            "[ 4.25 38.68 45.7 ]\n"
          ],
          "name": "stdout"
        }
      ]
    },
    {
      "cell_type": "code",
      "metadata": {
        "colab": {
          "base_uri": "https://localhost:8080/",
          "height": 506
        },
        "id": "_NvO4SSnsQiI",
        "outputId": "3068c8fb-a131-4227-b083-fcf8ff5cddda"
      },
      "source": [
        "from numpy.linalg import inv\n",
        "import timeit\n",
        "from matplotlib import pyplot as plt\n",
        "\n",
        "dim = [10, 100, 200, 500, 750, 1000]\n",
        "lst = []\n",
        "for i in range(len(dim)):\n",
        "  print(str(dim[i])+ ' dimensions')\n",
        "  stmt = 'import numpy; A = numpy.random.rand(' + str(dim[i]) + ',' + str(dim[i])+ ')'\n",
        "  t = timeit.timeit('numpy.linalg.inv(A)', setup=stmt, number=100)\n",
        "  print(t)\n",
        "  lst.append(t)\n",
        "\n",
        "plt.plot(dim, lst, 'bo-')"
      ],
      "execution_count": null,
      "outputs": [
        {
          "output_type": "stream",
          "text": [
            "10 dimensions\n",
            "0.008922871999857307\n",
            "100 dimensions\n",
            "0.06350838499997735\n",
            "200 dimensions\n",
            "0.34247632300002806\n",
            "500 dimensions\n",
            "2.9655059510000683\n",
            "750 dimensions\n",
            "7.9320383230001426\n",
            "1000 dimensions\n",
            "14.471567112000002\n"
          ],
          "name": "stdout"
        },
        {
          "output_type": "execute_result",
          "data": {
            "text/plain": [
              "[<matplotlib.lines.Line2D at 0x7f4aceeeaf50>]"
            ]
          },
          "metadata": {},
          "execution_count": 15
        },
        {
          "output_type": "display_data",
          "data": {
            "image/png": "[encoded data removed]",
            "text/plain": [
              "<Figure size 432x288 with 1 Axes>"
            ]
          },
          "metadata": {
            "needs_background": "light"
          }
        }
      ]
    },
    {
      "cell_type": "markdown",
      "metadata": {
        "id": "aXWSh-4SxRty"
      },
      "source": [
        "From 750 to 1000 dimensions, n grows by 33% but the computational time doubles!"
      ]
    },
    {
      "cell_type": "code",
      "metadata": {
        "id": "t0gzrqWuxn-Y"
      },
      "source": [
        ""
      ],
      "execution_count": null,
      "outputs": []
    },
    {
      "cell_type": "markdown",
      "metadata": {
        "id": "GCrp9t6K0f2b"
      },
      "source": [
        "## SVD Decomposition"
      ]
    },
    {
      "cell_type": "code",
      "metadata": {
        "colab": {
          "base_uri": "https://localhost:8080/"
        },
        "id": "5z8-b4fm05sK",
        "outputId": "0a01730e-58b0-4dbf-ee4b-898a3f198c8b"
      },
      "source": [
        "A = np.array([[1, 2, 3, 6], [-10, 3, 4, 6.7], [5, 9.0, 11, 5]])\n",
        "U,S,V = np.linalg.svd(A)\n",
        "print('U')\n",
        "print(U)\n",
        "print('S')\n",
        "print(S)\n",
        "print('V^T')\n",
        "print(V)\n",
        "\n"
      ],
      "execution_count": null,
      "outputs": [
        {
          "output_type": "stream",
          "text": [
            "U\n",
            "[[-0.34765699  0.02897907 -0.93717385]\n",
            " [-0.42696242  0.88498534  0.18575264]\n",
            " [-0.83476806 -0.46471622  0.29529837]]\n",
            "S\n",
            "[17.76772036 11.95197597  3.65354395]\n",
            "V^T\n",
            "[[-0.01417588 -0.53406479 -0.67162636 -0.51331461]\n",
            " [-0.93243623 -0.12295304 -0.12424722  0.31624018]\n",
            " [-0.36080268  0.36693017  0.32291141 -0.79429963]\n",
            " [ 0.01353329  0.75167786 -0.65514036  0.07475534]]\n"
          ],
          "name": "stdout"
        }
      ]
    },
    {
      "cell_type": "code",
      "metadata": {
        "colab": {
          "base_uri": "https://localhost:8080/"
        },
        "id": "MsbB7ovS1oie",
        "outputId": "6489031e-78d2-404a-d376-9085dbe80f83"
      },
      "source": [
        "print('verify that U is orthogonal')\n",
        "print(U.T.dot(U))\n",
        "\n",
        "print('verify that V is orthogonal')\n",
        "print(V.T.dot(V))"
      ],
      "execution_count": null,
      "outputs": [
        {
          "output_type": "stream",
          "text": [
            "verify that U is orthogonal\n",
            "[[ 1.00000000e+00  1.34820161e-16  2.41621815e-16]\n",
            " [ 1.34820161e-16  1.00000000e+00 -3.03855480e-18]\n",
            " [ 2.41621815e-16 -3.03855480e-18  1.00000000e+00]]\n",
            "verify that V is orthogonal\n",
            "[[ 1.00000000e+00 -2.62495061e-16 -7.90829782e-17  3.32781480e-16]\n",
            " [-2.62495061e-16  1.00000000e+00  8.05880780e-17 -4.31114281e-17]\n",
            " [-7.90829782e-17  8.05880780e-17  1.00000000e+00 -2.45317589e-17]\n",
            " [ 3.32781480e-16 -4.31114281e-17 -2.45317589e-17  1.00000000e+00]]\n"
          ],
          "name": "stdout"
        }
      ]
    },
    {
      "cell_type": "code",
      "metadata": {
        "colab": {
          "base_uri": "https://localhost:8080/"
        },
        "id": "VVlGuXly1xHX",
        "outputId": "87a4b5f5-312c-44a4-cc35-bee9bd948919"
      },
      "source": [
        "import math\n",
        "#what happens when we remove the largest singular value?\n",
        "s1 = S.copy()\n",
        "s1[0]=0 # set the largest singular value to zero\n",
        "S1 = np.diag(s1)\n",
        "S1 = np.hstack([S1, np.zeros((3, 1))]) # make a 3-by-4 diagonal matrix, with the last column being 0\n",
        "print(S1)\n",
        "A1 = U.dot(S1).dot(V)\n",
        "error = pow(np.linalg.norm(A), 2) - pow(np.linalg.norm(A1), 2) # np.linalg.norm(A) is known as the Frobenius norm of A\n",
        "error = math.sqrt(error)\n",
        "print(error) # error in matrix Frobenius norm\n",
        "\n",
        "\n",
        "s1 = S.copy()\n",
        "s1[2]=0 # set the smallest singular value to zero\n",
        "S1 = np.diag(s1)\n",
        "S1 = np.hstack([S1, np.zeros((3, 1))]) # make a 3-by-4 diagonal matrix, with the last column being 0\n",
        "print(S1)\n",
        "A1 = U.dot(S1).dot(V)\n",
        "error = pow(np.linalg.norm(A), 2) - pow(np.linalg.norm(A1), 2) # np.linalg.norm(A) is known as the Frobenius norm of A\n",
        "error = math.sqrt(error)\n",
        "print(error) # error in matrix Frobenius norm\n"
      ],
      "execution_count": null,
      "outputs": [
        {
          "output_type": "stream",
          "text": [
            "[[ 0.          0.          0.          0.        ]\n",
            " [ 0.         11.95197597  0.          0.        ]\n",
            " [ 0.          0.          3.65354395  0.        ]]\n",
            "17.76772036486764\n",
            "[[17.76772036  0.          0.          0.        ]\n",
            " [ 0.         11.95197597  0.          0.        ]\n",
            " [ 0.          0.          0.          0.        ]]\n",
            "3.653543946201815\n"
          ],
          "name": "stdout"
        }
      ]
    },
    {
      "cell_type": "markdown",
      "metadata": {
        "id": "9A-AGsV78ADv"
      },
      "source": [
        "Is this a coincidence? Of course not!\n",
        "\n",
        "The Frobenius norm of matrix $A$ is defined as $\\|A\\|_{F} = \\sqrt{\\sum_i \\sum_j A_{ij}^2}$\n",
        "\n",
        "Denote the singular values by $\\sigma_1, \\sigma_2,\\ldots, \\sigma_k$, we have $\\sum \\sigma_i^2 = \\|A\\|_{F}^2$. That is, the sum of squared singular values equals the squared Frobenius norm. \n",
        "\n",
        "Thus, removing a singular value has the effect of reducing the Frobenius norm by that amount. "
      ]
    },
    {
      "cell_type": "markdown",
      "metadata": {
        "id": "N8bKhtahZaAv"
      },
      "source": [
        "## Eigendecomposition"
      ]
    },
    {
      "cell_type": "code",
      "metadata": {
        "colab": {
          "base_uri": "https://localhost:8080/"
        },
        "id": "rS10sAiPZnAN",
        "outputId": "7dc0ccd3-7135-470a-ff40-648d9a5bf597"
      },
      "source": [
        "# create an orthogonal matrix\n",
        "from scipy.stats import ortho_group\n",
        "U = ortho_group.rvs(dim=5)\n",
        "U.dot(U.T)\n"
      ],
      "execution_count": null,
      "outputs": [
        {
          "output_type": "execute_result",
          "data": {
            "text/plain": [
              "array([[ 1.00000000e+00,  2.23285125e-16,  1.75160341e-16,\n",
              "        -8.64002270e-17, -1.05981432e-16],\n",
              "       [ 2.23285125e-16,  1.00000000e+00,  6.52589594e-17,\n",
              "         1.23226868e-17,  7.16580263e-17],\n",
              "       [ 1.75160341e-16,  6.52589594e-17,  1.00000000e+00,\n",
              "         1.02898088e-16, -1.26038070e-16],\n",
              "       [-8.64002270e-17,  1.23226868e-17,  1.02898088e-16,\n",
              "         1.00000000e+00,  4.50442902e-17],\n",
              "       [-1.05981432e-16,  7.16580263e-17, -1.26038070e-16,\n",
              "         4.50442902e-17,  1.00000000e+00]])"
            ]
          },
          "metadata": {
            "tags": []
          },
          "execution_count": 16
        }
      ]
    },
    {
      "cell_type": "code",
      "metadata": {
        "colab": {
          "base_uri": "https://localhost:8080/"
        },
        "id": "UYfD6kIfafmU",
        "outputId": "58617a4d-46bc-405f-c4af-9a9e3b28c63e"
      },
      "source": [
        "# create a symmetric positive definite matrix\n",
        "S = np.diag([1.0, 0.5, 0.72, 1.22, 0.93])\n",
        "A = U.dot(S).dot(U.T)\n",
        "A"
      ],
      "execution_count": null,
      "outputs": [
        {
          "output_type": "execute_result",
          "data": {
            "text/plain": [
              "array([[ 9.02303049e-01, -9.24514566e-02, -9.90577110e-03,\n",
              "         9.31901489e-02,  3.27943554e-03],\n",
              "       [-9.24514566e-02,  5.65656777e-01, -1.37540676e-01,\n",
              "         8.61549136e-03,  4.99845451e-04],\n",
              "       [-9.90577110e-03, -1.37540676e-01,  9.81049846e-01,\n",
              "         2.46463177e-02, -1.07023006e-01],\n",
              "       [ 9.31901489e-02,  8.61549136e-03,  2.46463177e-02,\n",
              "         9.56881529e-01, -2.03969501e-01],\n",
              "       [ 3.27943554e-03,  4.99845451e-04, -1.07023006e-01,\n",
              "        -2.03969501e-01,  9.64108798e-01]])"
            ]
          },
          "metadata": {
            "tags": []
          },
          "execution_count": 17
        }
      ]
    },
    {
      "cell_type": "code",
      "metadata": {
        "colab": {
          "base_uri": "https://localhost:8080/"
        },
        "id": "9tNG7hI5an7f",
        "outputId": "93ddec2c-65cf-48fb-d9d2-e4e96cca6c6d"
      },
      "source": [
        "# verify positive definiteness\n",
        "for i in range(10):\n",
        "  v = np.random.rand(5)\n",
        "  print(v.T.dot(A).dot(v))"
      ],
      "execution_count": null,
      "outputs": [
        {
          "output_type": "stream",
          "text": [
            "1.206750338785579\n",
            "1.3458087527265172\n",
            "0.6260472510212733\n",
            "1.4800756584483434\n",
            "1.8436566398341807\n",
            "2.059123557600145\n",
            "1.1269083839191485\n",
            "0.5702356735364964\n",
            "0.7100416156256601\n",
            "0.4198192980173085\n"
          ],
          "name": "stdout"
        }
      ]
    },
    {
      "cell_type": "code",
      "metadata": {
        "colab": {
          "base_uri": "https://localhost:8080/"
        },
        "id": "sE9mXLwZa4XS",
        "outputId": "3a2f32ef-41c7-4c7d-84d8-ee12ca06248e"
      },
      "source": [
        "# perform eigendecomposition\n",
        "\n",
        "np.linalg.eig(A)"
      ],
      "execution_count": null,
      "outputs": [
        {
          "output_type": "execute_result",
          "data": {
            "text/plain": [
              "(array([0.5 , 1.22, 0.72, 0.93, 1.  ]),\n",
              " array([[-0.23504857, -0.18857836,  0.3167473 , -0.84350081, -0.31203831],\n",
              "        [-0.92761413,  0.10448348, -0.03957458,  0.29453136, -0.2007495 ],\n",
              "        [-0.2808156 , -0.40586779, -0.21211177, -0.21260858,  0.81622308],\n",
              "        [ 0.06576486, -0.60524751, -0.65865707,  0.03277726, -0.44096139],\n",
              "        [-0.03319311,  0.64997553, -0.64752178, -0.39431067,  0.04080033]]))"
            ]
          },
          "metadata": {
            "tags": []
          },
          "execution_count": 22
        }
      ]
    }
  ]
}